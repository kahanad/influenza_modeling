{
 "cells": [
  {
   "cell_type": "code",
   "execution_count": 1,
   "metadata": {
    "ExecuteTime": {
     "end_time": "2018-01-08T14:54:15.543996Z",
     "start_time": "2018-01-08T14:54:15.537003Z"
    }
   },
   "outputs": [],
   "source": [
    "import pandas as pd\n",
    "import numpy as np\n",
    "import nafot\n",
    "import os\n",
    "from tqdm import tqdm_notebook\n",
    "import multiprocessing as mp\n",
    "import time\n",
    "import datetime"
   ]
  },
  {
   "cell_type": "code",
   "execution_count": null,
   "metadata": {},
   "outputs": [],
   "source": []
  },
  {
   "cell_type": "markdown",
   "metadata": {},
   "source": [
    "### Get the sample files list"
   ]
  },
  {
   "cell_type": "code",
   "execution_count": 2,
   "metadata": {
    "ExecuteTime": {
     "end_time": "2018-01-08T15:01:23.773612Z",
     "start_time": "2018-01-08T15:01:23.707597Z"
    }
   },
   "outputs": [],
   "source": [
    "file = pd.read_csv('../data/samples/new samples/with stat area/sample_00with_stat.csv')"
   ]
  },
  {
   "cell_type": "code",
   "execution_count": 18,
   "metadata": {},
   "outputs": [],
   "source": [
    "file.drop('Unnamed: 0', axis=1, inplace=True)"
   ]
  },
  {
   "cell_type": "code",
   "execution_count": 45,
   "metadata": {},
   "outputs": [],
   "source": [
    "# Remove records without stat area\n",
    "file.dropna(inplace=True)"
   ]
  },
  {
   "cell_type": "code",
   "execution_count": 54,
   "metadata": {},
   "outputs": [
    {
     "data": {
      "text/plain": [
       "['.ipynb_checkpoints',\n",
       " 'fix files index.ipynb',\n",
       " 'sample_00with_stat.csv',\n",
       " 'sample_01with_stat.csv',\n",
       " 'sample_02with_stat.csv',\n",
       " 'sample_03with_stat.csv',\n",
       " 'sample_04with_stat.csv',\n",
       " 'sample_05with_stat.csv',\n",
       " 'sample_06with_stat.csv',\n",
       " 'sample_07with_stat.csv',\n",
       " 'sample_08with_stat.csv',\n",
       " 'sample_09with_stat.csv',\n",
       " 'sample_10with_stat.csv',\n",
       " 'sample_11with_stat.csv',\n",
       " 'sample_12with_stat.csv',\n",
       " 'sample_13with_stat.csv']"
      ]
     },
     "execution_count": 54,
     "metadata": {},
     "output_type": "execute_result"
    }
   ],
   "source": [
    "os.listdir('../data/samples/new samples/with stat area')"
   ]
  },
  {
   "cell_type": "code",
   "execution_count": null,
   "metadata": {},
   "outputs": [],
   "source": [
    "# Get the file names\n",
    "sample_files_names = os.listdir('../data/samples/new samples/with stat area')\n",
    "\n",
    "for file_name in tqdm_notebook(sample_files_names, 'files'):\n",
    "    "
   ]
  },
  {
   "cell_type": "code",
   "execution_count": null,
   "metadata": {},
   "outputs": [],
   "source": [
    "%%time\n",
    "# Create a pool of 24 processes\n",
    "pool = mp.Pool(24)\n",
    "\n",
    "# Get the file names\n",
    "# sample_files_names = os.listdir('../data/samples/new samples/with stat area')\n",
    "\n",
    "# for file_name in tqdm_notebook(sample_files_names[0:2], 'files'):\n",
    "    \n",
    "# Get the list of the unique imsi\n",
    "imsi_list = file.imsi.unique()\n",
    "\n",
    "# Devide the imsi list into 24 equal-sized chunks \n",
    "imsi_chunks = np.split(imsi_list, np.arange(0,len(imsi_list), int(len(imsi_list)/24)+1))[1:]\n",
    "\n",
    "# Create data frames of the data by imsi in the chunks\n",
    "imsi_data = [file[file.imsi.isin(chunk)] for chunk in imsi_chunks]\n",
    "\n",
    "# start time\n",
    "start_time = time.time() \n",
    "\n",
    "# creating func for multiprocess\n",
    "func_list = []\n",
    "for data in imsi_data:\n",
    "#     f = pool.apply_async(nafot.get_home_stat_area, [data, False])\n",
    "    f = pool.apply_async(get_home_data_and_visit_matrix, [data])\n",
    "    func_list.append(f)\n",
    "\n",
    "# end time\n",
    "end_time = time.time()\n",
    "# run time\n",
    "run_time = (end_time - start_time)\n",
    "# print(f'{file_name}: functions created. run time:{str(datetime.timedelta(seconds=run_time))}')\n",
    "\n",
    "# Process chunks in parallel\n",
    "# start time\n",
    "start_time = time.time() \n",
    "# print(f'{file_name} start time: {time.ctime()}')\n",
    "\n",
    "dfs_home =  []\n",
    "final_visit_mat_raw = np.zeros((data.shape))\n",
    "for f in func_list:\n",
    "    # processing\n",
    "    home_data, visit_matrix_raw = f.get()\n",
    "    # update\n",
    "    dfs_home.append(home_data)\n",
    "    final_visit_mat_raw += visit_matrix_raw\n",
    "\n",
    "# end time\n",
    "end_time = time.time()\n",
    "# Getting thr run time\n",
    "run_time = (end_time - start_time)   \n",
    "# print(f'{file_name}: Process completed. Processing time: {str(datetime.timedelta(seconds=run_time))}')\n",
    "\n",
    "# Concat chunks\n",
    "final_df = pd.concat(dfs)\n",
    "# print(f'{file_name}: chunks concatenated. final_df shape: {final_df.shape}')\n",
    "# final_df.to_csv(f'../data/samples/new samples/home area/{file_name[:-4]}home_area.csv', index=False)"
   ]
  },
  {
   "cell_type": "code",
   "execution_count": 53,
   "metadata": {},
   "outputs": [
    {
     "name": "stdout",
     "output_type": "stream",
     "text": [
      "Wall time: 12min 33s\n"
     ]
    }
   ],
   "source": [
    "%%time\n",
    "a = nafot.get_home_stat_area(file, path=False)"
   ]
  },
  {
   "cell_type": "code",
   "execution_count": 56,
   "metadata": {},
   "outputs": [
    {
     "data": {
      "text/plain": [
       "(8056, 2)"
      ]
     },
     "execution_count": 56,
     "metadata": {},
     "output_type": "execute_result"
    }
   ],
   "source": [
    "a[a.home_stat_area != 'NotDetermined'].shape"
   ]
  },
  {
   "cell_type": "code",
   "execution_count": 60,
   "metadata": {},
   "outputs": [],
   "source": [
    "aa = a[a.imsi.isin(imsi_data[0].imsi)]"
   ]
  },
  {
   "cell_type": "code",
   "execution_count": 61,
   "metadata": {},
   "outputs": [
    {
     "name": "stdout",
     "output_type": "stream",
     "text": [
      "Wall time: 54 s\n"
     ]
    }
   ],
   "source": [
    "%%time\n",
    "b = nafot.calculate_visit_matrix(imsi_data[0], aa)"
   ]
  },
  {
   "cell_type": "code",
   "execution_count": 64,
   "metadata": {},
   "outputs": [
    {
     "name": "stdout",
     "output_type": "stream",
     "text": [
      "Wall time: 1min 5s\n"
     ]
    }
   ],
   "source": [
    "%%time\n",
    "c,d = get_home_data_and_visit_matrix(imsi_data[0])"
   ]
  },
  {
   "cell_type": "code",
   "execution_count": 62,
   "metadata": {},
   "outputs": [],
   "source": [
    "def get_home_data_and_visit_matrix(loc_data):\n",
    "    home_data = nafot.get_home_stat_area(loc_data, False)\n",
    "    visit_matrix_raw = nafot.calculate_visit_matrix(loc_data, home_data)\n",
    "    \n",
    "    return home_data, visit_matrix_raw"
   ]
  },
  {
   "cell_type": "code",
   "execution_count": null,
   "metadata": {},
   "outputs": [
    {
     "data": {
      "application/vnd.jupyter.widget-view+json": {
       "model_id": "1e717b3e70de4051a7b94b2916be34e6",
       "version_major": 2,
       "version_minor": 0
      },
      "text/plain": [
       "A Jupyter Widget"
      ]
     },
     "metadata": {},
     "output_type": "display_data"
    },
    {
     "name": "stdout",
     "output_type": "stream",
     "text": [
      "sample_12.csv: functions created. run time:0:03:53.043694\n",
      "sample_12.csv start time: Sun Jan  7 09:38:14 2018\n",
      "sample_12.csv: Process completed. Processing time: 15:55:45.863239\n",
      "sample_12.csv: chunks concatenated. final_df shape: (149986027, 7)\n",
      "sample_13.csv: functions created. run time:0:03:48.274868\n",
      "sample_13.csv start time: Mon Jan  8 01:56:16 2018\n"
     ]
    }
   ],
   "source": [
    "sample_files_names = os.listdir('../data/samples/new samples/')\n",
    "\n",
    "# Create a pool of 24 processes\n",
    "pool = mp.Pool(24)\n",
    "\n",
    "for file_name in tqdm_notebook(sample_files_names[0:2], 'files'):\n",
    "    \n",
    "    # read the file in chunks\n",
    "    reader = pd.read_csv(f'../data/samples/new samples/{file_name}', chunksize=6500000)\n",
    "    \n",
    "    # start time\n",
    "    start_time = time.time() \n",
    "    \n",
    "    # creating func for multiprocess\n",
    "    func_list = []\n",
    "    for data in reader:\n",
    "        f = pool.apply_async(nafot.add_stat_area_column, [data, False])\n",
    "        func_list.append(f)\n",
    "    \n",
    "    # end time\n",
    "    end_time = time.time()\n",
    "    # run time\n",
    "    run_time = (end_time - start_time)\n",
    "    print(f'{file_name}: functions created. run time:{str(datetime.timedelta(seconds=run_time))}')\n",
    "    \n",
    "    # Process chunks in parallel\n",
    "    # start time\n",
    "    start_time = time.time() \n",
    "    print(f'{file_name} start time: {time.ctime()}')\n",
    "   \n",
    "    dfs = []\n",
    "    for f in func_list:\n",
    "        # processing\n",
    "        dfs.append(f.get())\n",
    "    \n",
    "    # end time\n",
    "    end_time = time.time()\n",
    "    # Getting thr run time\n",
    "    run_time = (end_time - start_time)   \n",
    "    print(f'{file_name}: Process completed. Processing time: {str(datetime.timedelta(seconds=run_time))}')\n",
    "\n",
    "    # Concat chunks\n",
    "    final_df = pd.concat(dfs)\n",
    "    print(f'{file_name}: chunks concatenated. final_df shape: {final_df.shape}')\n",
    "    final_df.to_csv(f'../data/samples/new samples/with stat area/{file_name[:-4]}with_stat.csv', index=False)"
   ]
  }
 ],
 "metadata": {
  "kernelspec": {
   "display_name": "Python 3",
   "language": "python",
   "name": "python3"
  },
  "language_info": {
   "codemirror_mode": {
    "name": "ipython",
    "version": 3
   },
   "file_extension": ".py",
   "mimetype": "text/x-python",
   "name": "python",
   "nbconvert_exporter": "python",
   "pygments_lexer": "ipython3",
   "version": "3.6.5"
  },
  "toc": {
   "nav_menu": {},
   "number_sections": true,
   "sideBar": true,
   "skip_h1_title": false,
   "toc_cell": false,
   "toc_position": {},
   "toc_section_display": "block",
   "toc_window_display": false
  },
  "varInspector": {
   "cols": {
    "lenName": 16,
    "lenType": 16,
    "lenVar": 40
   },
   "kernels_config": {
    "python": {
     "delete_cmd_postfix": "",
     "delete_cmd_prefix": "del ",
     "library": "var_list.py",
     "varRefreshCmd": "print(var_dic_list())"
    },
    "r": {
     "delete_cmd_postfix": ") ",
     "delete_cmd_prefix": "rm(",
     "library": "var_list.r",
     "varRefreshCmd": "cat(var_dic_list()) "
    }
   },
   "types_to_exclude": [
    "module",
    "function",
    "builtin_function_or_method",
    "instance",
    "_Feature"
   ],
   "window_display": false
  }
 },
 "nbformat": 4,
 "nbformat_minor": 2
}
