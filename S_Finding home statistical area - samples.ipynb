{
 "cells": [
  {
   "cell_type": "markdown",
   "metadata": {},
   "source": [
    "# Finding home statistical area - samples"
   ]
  },
  {
   "cell_type": "code",
   "execution_count": 2,
   "metadata": {
    "ExecuteTime": {
     "end_time": "2018-01-07T10:55:09.251672Z",
     "start_time": "2018-01-07T10:54:23.583697Z"
    }
   },
   "outputs": [],
   "source": [
    "import geopandas as gp\n",
    "import pandas as pd\n",
    "import numpy as np\n",
    "from matplotlib import pyplot as plt\n",
    "from shapely.geometry import Point\n",
    "import nafot\n",
    "import time\n",
    "import random\n",
    "%matplotlib inline"
   ]
  },
  {
   "cell_type": "markdown",
   "metadata": {},
   "source": [
    "#### Get the statistical area GeoDataFrame"
   ]
  },
  {
   "cell_type": "code",
   "execution_count": 1,
   "metadata": {
    "ExecuteTime": {
     "end_time": "2018-01-07T10:54:21.967485Z",
     "start_time": "2018-01-07T10:54:21.874527Z"
    }
   },
   "outputs": [
    {
     "ename": "NameError",
     "evalue": "name 'nafot' is not defined",
     "output_type": "error",
     "traceback": [
      "\u001b[1;31m---------------------------------------------------------------------------\u001b[0m",
      "\u001b[1;31mNameError\u001b[0m                                 Traceback (most recent call last)",
      "\u001b[1;32m<ipython-input-1-4f608469968d>\u001b[0m in \u001b[0;36m<module>\u001b[1;34m()\u001b[0m\n\u001b[1;32m----> 1\u001b[1;33m \u001b[0mgdf\u001b[0m \u001b[1;33m=\u001b[0m \u001b[0mnafot\u001b[0m\u001b[1;33m.\u001b[0m\u001b[0mgdf\u001b[0m\u001b[1;33m.\u001b[0m\u001b[0mcopy\u001b[0m\u001b[1;33m(\u001b[0m\u001b[1;33m)\u001b[0m\u001b[1;33m\u001b[0m\u001b[0m\n\u001b[0m",
      "\u001b[1;31mNameError\u001b[0m: name 'nafot' is not defined"
     ]
    }
   ],
   "source": [
    "gdf = nafot.gdf.copy()"
   ]
  },
  {
   "cell_type": "markdown",
   "metadata": {},
   "source": [
    "#### Loading location data"
   ]
  },
  {
   "cell_type": "code",
   "execution_count": 3,
   "metadata": {
    "collapsed": true
   },
   "outputs": [],
   "source": [
    "loc_data = pd.read_csv(r'C:\\Users\\user\\Documents\\דרופבוקס\\Data - cellular db\\with stat area\\sample2_100M_with_stat.csv')\n",
    "\n",
    "# Remove records without stat area\n",
    "loc_data.dropna(inplace=True)"
   ]
  },
  {
   "cell_type": "code",
   "execution_count": 4,
   "metadata": {},
   "outputs": [
    {
     "data": {
      "text/plain": [
       "(92832600, 7)"
      ]
     },
     "execution_count": 4,
     "metadata": {},
     "output_type": "execute_result"
    }
   ],
   "source": [
    "loc_data[~loc_data.stat_area_id.isnull()].shape"
   ]
  },
  {
   "cell_type": "markdown",
   "metadata": {},
   "source": [
    "Getting only calls at night - 18:00 - 08:00"
   ]
  },
  {
   "cell_type": "code",
   "execution_count": 5,
   "metadata": {
    "collapsed": true
   },
   "outputs": [],
   "source": [
    "#defining night hours - 18:00 - 08:00 by half hour index\n",
    "night_hours = list(range(16+1))\n",
    "night_hours.extend(list(range(36,47+1)))\n",
    "\n",
    "night_data = loc_data[loc_data['halfhouridx'].isin(night_hours)]"
   ]
  },
  {
   "cell_type": "markdown",
   "metadata": {},
   "source": [
    "Getting the most visited statistical areas"
   ]
  },
  {
   "cell_type": "code",
   "execution_count": 6,
   "metadata": {
    "collapsed": true
   },
   "outputs": [],
   "source": [
    "imsi_list = list(pd.unique(night_data['imsi']))\n",
    "stat_areas_list = pd.unique(night_data['stat_area_id'])\n",
    "\n",
    "# Creating a dict to save n, x1, x2 for each imsi - key: imsi, value:\n",
    "# ((n, x1, x2), (first stat aarea name, second stat area name))\n",
    "poll_dist = {}\n",
    "\n",
    "for curr_imsi in imsi_list:\n",
    "    # creating a histogram of calls from each stat_area\n",
    "    stat_areas_count = {stat_area_id : 0 for stat_area_id in stat_areas_list}\n",
    "       \n",
    "    # creating a df of the relevant imsi\n",
    "    imsi_data = night_data[night_data['imsi'] == curr_imsi]\n",
    "    \n",
    "    for stat_area in imsi_data['stat_area_id']:\n",
    "        stat_areas_count[stat_area] += 1\n",
    "    \n",
    "    # getting the number of calls at night\n",
    "    n = len(imsi_data.index)\n",
    "    \n",
    "    #Removing imsi with less then 50 calls at night\n",
    "    if n > 50:\n",
    "        # getting the stat_area with largest number of calls\n",
    "        first_stat_area_name = max(stat_areas_count, key = stat_areas_count.get)\n",
    "        first_stat_area = (first_stat_area_name, stat_areas_count.pop(first_stat_area_name))\n",
    "\n",
    "        # getting the stat_area with second largest number of calls\n",
    "        second_stat_area_name = max(stat_areas_count, key = stat_areas_count.get)\n",
    "        second_stat_area = (second_stat_area_name, stat_areas_count.pop(second_stat_area_name))\n",
    "\n",
    "        # getting the number of calls in the first and second stat_area.\n",
    "        x1 = first_stat_area[1]\n",
    "        x2 = second_stat_area[1]\n",
    "\n",
    "        # Saving n, x1 and x2 for each imsi\n",
    "        poll_dist[curr_imsi] = ((n, x1, x2), (first_stat_area[0], second_stat_area[0]))"
   ]
  },
  {
   "cell_type": "markdown",
   "metadata": {},
   "source": [
    "Running a simulation for each imsi to find the cutoff and decide a home stat area"
   ]
  },
  {
   "cell_type": "code",
   "execution_count": 47,
   "metadata": {
    "collapsed": true
   },
   "outputs": [],
   "source": [
    "# Creating a dict to save the home stat area\n",
    "home_stat_area = {}\n",
    "\n",
    "# Defining a threshold and significance level (in precents) \n",
    "significance = 25 # %\n",
    "\n",
    "for curr_imsi in poll_dist:\n",
    "    # creating a list for the proportions differences\n",
    "    diffs = []\n",
    "    \n",
    "    # getting the estimated values\n",
    "    n, x1, x2 = poll_dist[curr_imsi][0]\n",
    "    diff = x1-x2\n",
    "    # p - the avarage of p1 and p2\n",
    "    p = (x1 + x2)/(2*n)\n",
    "    \n",
    "    # The simulation\n",
    "    for i in range(100):\n",
    "        X = np.random.multinomial(n, [p, p, 1 - 2*p])\n",
    "        diffs.append(X[0] - X[1])\n",
    "        \n",
    "    # The cutoffs are the 2.5 and 97.5 percentiles \n",
    "    upper_cutoff = np.percentile(diffs, 100 - significance/2)\n",
    "    lower_cutoff = np.percentile(diffs, significance/2)\n",
    "    \n",
    "    # if the difference between x1 and x2 in the data is higher than the upper cutoff\n",
    "    # then the first stat_area is the home stat area\n",
    "    if diff > upper_cutoff:\n",
    "        home_stat_area[curr_imsi] = poll_dist[curr_imsi][1][0]\n",
    "    \n",
    "    # if the difference between x1 and x2 in the data is lower than the lower cutoff\n",
    "    # then the second stat_area is the home stat area\n",
    "    elif diff < lower_cutoff:\n",
    "        home_stat_area[curr_imsi] = poll_dist[curr_imsi][1][1]\n",
    "    \n",
    "    # if the difference between x1 and x2 in the data is between the lower and uppper cutoffs\n",
    "    # then we cannot detrmaine a home stat area \n",
    "    else:\n",
    "        home_stat_area[curr_imsi] = 'NotDetermined'"
   ]
  },
  {
   "cell_type": "markdown",
   "metadata": {},
   "source": [
    "Saving the data about home stat_area"
   ]
  },
  {
   "cell_type": "code",
   "execution_count": 48,
   "metadata": {
    "collapsed": true
   },
   "outputs": [],
   "source": [
    "home_stat_area_data = pd.DataFrame(list(home_stat_area.items()), columns = ['imsi', 'home_stat_area']).set_index('imsi')"
   ]
  },
  {
   "cell_type": "code",
   "execution_count": 49,
   "metadata": {},
   "outputs": [
    {
     "data": {
      "text/plain": [
       "home_stat_area    5621\n",
       "dtype: int64"
      ]
     },
     "execution_count": 49,
     "metadata": {},
     "output_type": "execute_result"
    }
   ],
   "source": [
    "home_stat_area_data[home_stat_area_data['home_stat_area'] != 'NotDetermined'].count()"
   ]
  },
  {
   "cell_type": "code",
   "execution_count": 50,
   "metadata": {
    "collapsed": true
   },
   "outputs": [],
   "source": [
    "home_stat_area_data.to_csv('./home_stat_area_data_sample2_100M.csv')"
   ]
  },
  {
   "cell_type": "markdown",
   "metadata": {},
   "source": [
    "Only calls at active hours"
   ]
  },
  {
   "cell_type": "code",
   "execution_count": 26,
   "metadata": {
    "collapsed": true
   },
   "outputs": [],
   "source": [
    "active_hours = list(range(12,47+1))\n",
    "\n",
    "active_hours_data = loc_data[loc_data['halfhouridx'].isin(active_hours)]"
   ]
  },
  {
   "cell_type": "markdown",
   "metadata": {},
   "source": [
    "Creating the meeting matrix"
   ]
  },
  {
   "cell_type": "code",
   "execution_count": 27,
   "metadata": {
    "collapsed": true
   },
   "outputs": [],
   "source": [
    "# Get a list of the stat_area's ids\n",
    "stat_ids = list(gdf.index.values)\n",
    "\n",
    "#Creating the meeting matrix\n",
    "matrix_A = np.zeros((len(stat_ids), len(stat_ids)), dtype = float)\n",
    "\n",
    "for i, curr_stat in enumerate(stat_ids):\n",
    "    #get all the imsi which thier home stat_area is the current stat_area\n",
    "    home_imsi = home_stat_area_data[home_stat_area_data['home_stat_area'] == curr_stat].index\n",
    "    \n",
    "    for curr_imsi in home_imsi:\n",
    "        # creating a histogram of calls from each stat_area\n",
    "        stat_area_count = {stat_area_id : 0 for stat_area_id in stat_ids}\n",
    "        \n",
    "        # creating a DF of the relevant imsi\n",
    "        imsi_data = active_hours_data[active_hours_data['imsi'] == curr_imsi]\n",
    "    \n",
    "        for stat_area_id in imsi_data['stat_area_id']:\n",
    "            stat_area_count[stat_area_id] += 1\n",
    "            \n",
    "        # getting the number of calls\n",
    "        n = len(imsi_data.index)\n",
    "        # if there are no calls on active hours\n",
    "        if n == 0:\n",
    "            continue\n",
    "    \n",
    "        for visiting_stat_area in stat_area_count:\n",
    "            # row: i - the current home stat_area\n",
    "            # column: the visiting stat_area\n",
    "            # value: adding the propotion of calls from visiting stat_area for current imsi \n",
    "            matrix_A[i, stat_ids.index(visiting_stat_area)] += (stat_area_count[visiting_stat_area] / n)"
   ]
  },
  {
   "cell_type": "code",
   "execution_count": 7,
   "metadata": {},
   "outputs": [
    {
     "ename": "NameError",
     "evalue": "name 'matrix_A' is not defined",
     "output_type": "error",
     "traceback": [
      "\u001b[0;31m---------------------------------------------------------------------------\u001b[0m",
      "\u001b[0;31mNameError\u001b[0m                                 Traceback (most recent call last)",
      "\u001b[0;32m<ipython-input-7-d179f4b60ab8>\u001b[0m in \u001b[0;36m<module>\u001b[0;34m()\u001b[0m\n\u001b[0;32m----> 1\u001b[0;31m \u001b[0mmatrix_A\u001b[0m\u001b[1;33m.\u001b[0m\u001b[0mshape\u001b[0m\u001b[1;33m\u001b[0m\u001b[0m\n\u001b[0m",
      "\u001b[0;31mNameError\u001b[0m: name 'matrix_A' is not defined"
     ]
    }
   ],
   "source": [
    "matrix_A.shape"
   ]
  },
  {
   "cell_type": "code",
   "execution_count": 29,
   "metadata": {},
   "outputs": [
    {
     "data": {
      "text/plain": [
       "1608"
      ]
     },
     "execution_count": 29,
     "metadata": {},
     "output_type": "execute_result"
    }
   ],
   "source": [
    "relevant_imsi = home_stat_area_data[home_stat_area_data['home_stat_area'] != 'NotDetermined'].index.values\n",
    "pd.unique(loc_data[(loc_data.imsi.isin(relevant_imsi))].stat_area_id).size"
   ]
  },
  {
   "cell_type": "code",
   "execution_count": 31,
   "metadata": {
    "collapsed": true
   },
   "outputs": [],
   "source": [
    "np.save('../data/matrix/sample1_raw_mat', matrix_A)"
   ]
  },
  {
   "cell_type": "markdown",
   "metadata": {},
   "source": [
    "Normalizing the meeting matrix"
   ]
  },
  {
   "cell_type": "code",
   "execution_count": 6,
   "metadata": {},
   "outputs": [
    {
     "ename": "NameError",
     "evalue": "name 'matrix_A' is not defined",
     "output_type": "error",
     "traceback": [
      "\u001b[0;31m---------------------------------------------------------------------------\u001b[0m",
      "\u001b[0;31mNameError\u001b[0m                                 Traceback (most recent call last)",
      "\u001b[0;32m<ipython-input-6-c6bc9e195bd1>\u001b[0m in \u001b[0;36m<module>\u001b[0;34m()\u001b[0m\n\u001b[1;32m      1\u001b[0m \u001b[1;31m# Normalizing the meeting matrix by deviding each row by it's sum (the number of residents)\u001b[0m\u001b[1;33m\u001b[0m\u001b[1;33m\u001b[0m\u001b[0m\n\u001b[0;32m----> 2\u001b[0;31m \u001b[0mmatrix_B\u001b[0m \u001b[1;33m=\u001b[0m \u001b[0mmatrix_A\u001b[0m\u001b[1;33m.\u001b[0m\u001b[0mcopy\u001b[0m\u001b[1;33m(\u001b[0m\u001b[1;33m)\u001b[0m\u001b[1;33m\u001b[0m\u001b[0m\n\u001b[0m\u001b[1;32m      3\u001b[0m \u001b[1;32mfor\u001b[0m \u001b[0mi\u001b[0m \u001b[1;32min\u001b[0m \u001b[0mrange\u001b[0m\u001b[1;33m(\u001b[0m\u001b[0mmatrix_B\u001b[0m\u001b[1;33m.\u001b[0m\u001b[0mshape\u001b[0m\u001b[1;33m[\u001b[0m\u001b[1;36m0\u001b[0m\u001b[1;33m]\u001b[0m\u001b[1;33m)\u001b[0m\u001b[1;33m:\u001b[0m\u001b[1;33m\u001b[0m\u001b[0m\n\u001b[1;32m      4\u001b[0m     \u001b[1;32mif\u001b[0m \u001b[0mmatrix_B\u001b[0m\u001b[1;33m[\u001b[0m\u001b[0mi\u001b[0m\u001b[1;33m]\u001b[0m\u001b[1;33m.\u001b[0m\u001b[0msum\u001b[0m\u001b[1;33m(\u001b[0m\u001b[1;33m)\u001b[0m \u001b[1;33m>\u001b[0m \u001b[1;36m0\u001b[0m\u001b[1;33m:\u001b[0m\u001b[1;33m\u001b[0m\u001b[0m\n\u001b[1;32m      5\u001b[0m         \u001b[0mmatrix_B\u001b[0m\u001b[1;33m[\u001b[0m\u001b[0mi\u001b[0m\u001b[1;33m]\u001b[0m \u001b[1;33m=\u001b[0m \u001b[0mmatrix_B\u001b[0m\u001b[1;33m[\u001b[0m\u001b[0mi\u001b[0m\u001b[1;33m]\u001b[0m \u001b[1;33m/\u001b[0m \u001b[1;33m(\u001b[0m\u001b[0mmatrix_B\u001b[0m\u001b[1;33m[\u001b[0m\u001b[0mi\u001b[0m\u001b[1;33m]\u001b[0m\u001b[1;33m.\u001b[0m\u001b[0msum\u001b[0m\u001b[1;33m(\u001b[0m\u001b[1;33m)\u001b[0m\u001b[1;33m)\u001b[0m\u001b[1;33m\u001b[0m\u001b[0m\n",
      "\u001b[0;31mNameError\u001b[0m: name 'matrix_A' is not defined"
     ]
    }
   ],
   "source": [
    "# Normalizing the meeting matrix by deviding each row by it's sum (the number of residents)\n",
    "matrix_B = matrix_A.copy()\n",
    "for i in range(matrix_B.shape[0]):\n",
    "    if matrix_B[i].sum() > 0:\n",
    "        matrix_B[i] = matrix_B[i] / (matrix_B[i].sum())\n",
    "\n",
    "# Creating a DF of the meetings\n",
    "# meeting_data = pd.DataFrame(normalized_meeting_matrix, index = stat_ids, columns = stat_ids)\n",
    "# meeting_data"
   ]
  },
  {
   "cell_type": "markdown",
   "metadata": {},
   "source": [
    "Checking the rows sum - suppose to be 1"
   ]
  },
  {
   "cell_type": "code",
   "execution_count": 39,
   "metadata": {},
   "outputs": [
    {
     "name": "stdout",
     "output_type": "stream",
     "text": [
      "6156.0\n"
     ]
    }
   ],
   "source": [
    "total_sum = 0\n",
    "for i, stat_area in enumerate(stat_ids):\n",
    "#     print ('{} : {}'.format(stat_area,sum(normalized_meeting_matrix[i])))\n",
    "    total_sum += sum(meeting_matrix[i])\n",
    "print (total_sum)"
   ]
  },
  {
   "cell_type": "markdown",
   "metadata": {},
   "source": [
    "### Creating the meeting probabilities maxtrix"
   ]
  },
  {
   "cell_type": "code",
   "execution_count": 49,
   "metadata": {},
   "outputs": [
    {
     "name": "stdout",
     "output_type": "stream",
     "text": [
      "Number of stat areas without population data (not home stat area): 771\n",
      "Number of stat areas without population data (home stat area): 173\n"
     ]
    }
   ],
   "source": [
    "no_pop = 0\n",
    "no_pop2 = 0\n",
    "\n",
    "# Multiply each row by the population of the stat_area\n",
    "matrix_C = matrix_B.copy()\n",
    "\n",
    "for i in range(matrix_C.shape[0]):\n",
    "    # Get the stat_area population (the data is in thousands)\n",
    "    stat_area_pop = gdf.iloc[i].pop_thou * 1000\n",
    "    \n",
    "    if np.isnan(stat_area_pop):\n",
    "        stat_area_pop = 0\n",
    "        no_pop+=1 \n",
    "        if matrix_C[i].sum() > 0:\n",
    "            no_pop2+=1\n",
    "    else:\n",
    "        # Multiply the row by the relevant population\n",
    "        matrix_C[i] *= stat_area_pop\n",
    "\n",
    "print ('Number of stat areas without population data (not home stat area): {}'.format(no_pop))\n",
    "print ('Number of stat areas without population data (home stat area): {}'.format(no_pop2))"
   ]
  },
  {
   "cell_type": "code",
   "execution_count": 50,
   "metadata": {
    "collapsed": true
   },
   "outputs": [],
   "source": [
    "matrix_D = matrix_C.copy()\n",
    "\n",
    "# Normlize each column (sum of 1)\n",
    "for i in range(matrix_C.shape[1]):\n",
    "    if matrix_D[:,i].sum() > 0:\n",
    "        matrix_D[:,i] = matrix_D[:,i] / (matrix_D[:,i].sum())"
   ]
  },
  {
   "cell_type": "code",
   "execution_count": 179,
   "metadata": {
    "collapsed": true
   },
   "outputs": [],
   "source": [
    "#OLD\n",
    "meeting_probs = np.zeros((len(stat_ids), len(stat_ids)), dtype = float)\n",
    "\n",
    "for i in range(meeting_probs.shape[0]):\n",
    "    for j in range(meeting_probs.shape[1]):\n",
    "        meeting_probs[i,j] = np.dot(meeting_matrix2[i], meeting_matrix2[j])"
   ]
  },
  {
   "cell_type": "code",
   "execution_count": 85,
   "metadata": {
    "collapsed": true
   },
   "outputs": [],
   "source": [
    "from tqdm import tqdm_notebook as tqdm"
   ]
  },
  {
   "cell_type": "code",
   "execution_count": 94,
   "metadata": {
    "scrolled": true
   },
   "outputs": [
    {
     "name": "stdout",
     "output_type": "stream",
     "text": [
      "\n",
      "\n"
     ]
    }
   ],
   "source": [
    "meeting_matrix_P = np.zeros((len(stat_ids), len(stat_ids)), dtype = float)\n",
    "\n",
    "for i in tqdm(range(meeting_matrix_P.shape[0])):\n",
    "    for j in range(meeting_matrix_P.shape[1]):\n",
    "        meeting_matrix_P[i,j] = np.sum(matrix_B[i]*matrix_B[j]*matrix_D[j])\n",
    "\n",
    "#         for k in range(len(stat_ids)):\n",
    "#             meeting_matrix_P[i,j] += (matrix_B[i,k]*matrix_B[j,k]*matrix_D[j,k])"
   ]
  },
  {
   "cell_type": "code",
   "execution_count": 96,
   "metadata": {
    "collapsed": true
   },
   "outputs": [],
   "source": [
    "meeting_matrix_P1 = meeting_matrix_P.copy()"
   ]
  },
  {
   "cell_type": "code",
   "execution_count": null,
   "metadata": {},
   "outputs": [
    {
     "name": "stderr",
     "output_type": "stream",
     "text": [
      "\n"
     ]
    }
   ],
   "source": [
    "meeting_matrix_P2 = np.zeros((len(stat_ids), len(stat_ids)), dtype = float)\n",
    "\n",
    "for i in tqdm(range(meeting_matrix_P.shape[0])):\n",
    "    for j in range(meeting_matrix_P.shape[1]):\n",
    "        for k in range(len(stat_ids)):\n",
    "            meeting_matrix_P2[i,j] += (matrix_B[i,k]*matrix_B[j,k]*matrix_D[j,k])"
   ]
  },
  {
   "cell_type": "code",
   "execution_count": 88,
   "metadata": {
    "collapsed": true
   },
   "outputs": [],
   "source": [
    "a = np.array([[1,2,3], [3,4,5],[7,8,9]])\n",
    "b = a.copy()\n",
    "b *= 2"
   ]
  },
  {
   "cell_type": "code",
   "execution_count": 89,
   "metadata": {},
   "outputs": [
    {
     "data": {
      "text/plain": [
       "array([[1, 2, 3],\n",
       "       [3, 4, 5],\n",
       "       [7, 8, 9]])"
      ]
     },
     "execution_count": 89,
     "metadata": {},
     "output_type": "execute_result"
    }
   ],
   "source": [
    "a"
   ]
  },
  {
   "cell_type": "code",
   "execution_count": 90,
   "metadata": {},
   "outputs": [
    {
     "data": {
      "text/plain": [
       "array([[ 2,  4,  6],\n",
       "       [ 6,  8, 10],\n",
       "       [14, 16, 18]])"
      ]
     },
     "execution_count": 90,
     "metadata": {},
     "output_type": "execute_result"
    }
   ],
   "source": [
    "b"
   ]
  },
  {
   "cell_type": "code",
   "execution_count": 92,
   "metadata": {},
   "outputs": [
    {
     "data": {
      "text/plain": [
       "128"
      ]
     },
     "execution_count": 92,
     "metadata": {},
     "output_type": "execute_result"
    }
   ],
   "source": [
    "np.sum(a[0]*b[0]*a[1])"
   ]
  },
  {
   "cell_type": "code",
   "execution_count": 93,
   "metadata": {},
   "outputs": [
    {
     "ename": "SyntaxError",
     "evalue": "unexpected EOF while parsing (<ipython-input-93-a45ec2eb1754>, line 4)",
     "output_type": "error",
     "traceback": [
      "\u001b[0;36m  File \u001b[0;32m\"<ipython-input-93-a45ec2eb1754>\"\u001b[0;36m, line \u001b[0;32m4\u001b[0m\n\u001b[0;31m    \u001b[0m\n\u001b[0m    ^\u001b[0m\n\u001b[0;31mSyntaxError\u001b[0m\u001b[0;31m:\u001b[0m unexpected EOF while parsing\n"
     ]
    }
   ],
   "source": [
    "c = np.zeros((3,3))\n",
    "for i in range(3):\n",
    "    for j in range(3):\n",
    "        "
   ]
  },
  {
   "cell_type": "markdown",
   "metadata": {},
   "source": [
    "Saving the meeting matrix for later"
   ]
  },
  {
   "cell_type": "code",
   "execution_count": 14,
   "metadata": {
    "collapsed": true
   },
   "outputs": [],
   "source": [
    "np.save('../data/matrix/matrix222', meeting_matrix)"
   ]
  },
  {
   "cell_type": "markdown",
   "metadata": {},
   "source": [
    "# OLD"
   ]
  },
  {
   "cell_type": "markdown",
   "metadata": {},
   "source": [
    "#### Runnig time measurement"
   ]
  },
  {
   "cell_type": "code",
   "execution_count": null,
   "metadata": {
    "collapsed": true
   },
   "outputs": [],
   "source": [
    "# Getting the start time\n",
    "start_time = time.time() \n",
    "print('Strat time: ' + time.ctime())"
   ]
  },
  {
   "cell_type": "code",
   "execution_count": null,
   "metadata": {
    "collapsed": true,
    "scrolled": true
   },
   "outputs": [],
   "source": [
    "# Getting the end time\n",
    "end_time = time.time() \n",
    "\n",
    "# Getting thr run time in hours\n",
    "run_time = (end_time - start_time) / 3600\n",
    "\n",
    "# Getting the minutes and seconds\n",
    "hours = int(run_time)\n",
    "minutes = int((run_time - hours) * 60)\n",
    "seconds  = int((((run_time - hours) * 60) - minutes)*60)\n",
    "\n",
    "print('End time: ' + time.ctime())\n",
    "print('Run time: ' + str(hours) + ' hours ' + str(minutes) + ' minutes ' + str(seconds) + ' seconds')"
   ]
  }
 ],
 "metadata": {
  "anaconda-cloud": {},
  "kernelspec": {
   "display_name": "python 3",
   "language": "python",
   "name": "python3"
  },
  "language_info": {
   "codemirror_mode": {
    "name": "ipython",
    "version": 3
   },
   "file_extension": ".py",
   "mimetype": "text/x-python",
   "name": "python",
   "nbconvert_exporter": "python",
   "pygments_lexer": "ipython3",
   "version": "3.6.3"
  },
  "toc": {
   "nav_menu": {},
   "number_sections": true,
   "sideBar": true,
   "skip_h1_title": false,
   "toc_cell": false,
   "toc_position": {},
   "toc_section_display": "block",
   "toc_window_display": false
  },
  "varInspector": {
   "cols": {
    "lenName": 16,
    "lenType": 16,
    "lenVar": 40
   },
   "kernels_config": {
    "python": {
     "delete_cmd_postfix": "",
     "delete_cmd_prefix": "del ",
     "library": "var_list.py",
     "varRefreshCmd": "print(var_dic_list())"
    },
    "r": {
     "delete_cmd_postfix": ") ",
     "delete_cmd_prefix": "rm(",
     "library": "var_list.r",
     "varRefreshCmd": "cat(var_dic_list()) "
    }
   },
   "types_to_exclude": [
    "module",
    "function",
    "builtin_function_or_method",
    "instance",
    "_Feature"
   ],
   "window_display": false
  }
 },
 "nbformat": 4,
 "nbformat_minor": 1
}
