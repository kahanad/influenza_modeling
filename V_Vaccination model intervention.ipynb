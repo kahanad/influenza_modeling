{
 "cells": [
  {
   "cell_type": "markdown",
   "metadata": {},
   "source": [
    "# Vaccination model - Intervention"
   ]
  },
  {
   "cell_type": "code",
   "execution_count": 1,
   "metadata": {
    "ExecuteTime": {
     "end_time": "2018-08-27T07:55:04.509218Z",
     "start_time": "2018-08-27T07:55:02.846218Z"
    }
   },
   "outputs": [],
   "source": [
    "import numpy as np\n",
    "import pandas as pd\n",
    "from matplotlib import pyplot as plt\n",
    "import model\n",
    "import pickle\n",
    "import itertools\n",
    "import networkx as nx\n",
    "import geopandas as gp\n",
    "from tqdm import tqdm, tqdm_notebook\n",
    "%matplotlib inline"
   ]
  },
  {
   "cell_type": "markdown",
   "metadata": {},
   "source": [
    "### Prepare data and network"
   ]
  },
  {
   "cell_type": "code",
   "execution_count": 2,
   "metadata": {
    "ExecuteTime": {
     "end_time": "2018-08-27T07:56:18.187930Z",
     "start_time": "2018-08-27T07:55:06.861218Z"
    }
   },
   "outputs": [],
   "source": [
    "prep_data = model.data_and_network_prep()"
   ]
  },
  {
   "cell_type": "code",
   "execution_count": 3,
   "metadata": {},
   "outputs": [],
   "source": [
    "# Create data for the fit\n",
    "data_for_fit = model.create_data_for_fit(prep_data)"
   ]
  },
  {
   "cell_type": "markdown",
   "metadata": {},
   "source": [
    "## Grid Search"
   ]
  },
  {
   "cell_type": "markdown",
   "metadata": {},
   "source": [
    "#### Load results"
   ]
  },
  {
   "cell_type": "code",
   "execution_count": 4,
   "metadata": {},
   "outputs": [],
   "source": [
    "with open('L:/Dor/Data/vaccination_model/grid_search_5_res.pickle', 'rb') as pickle_in:\n",
    "    grid_search_res_1 = pickle.load(pickle_in)\n",
    "    \n",
    "with open('L:/Dor/Data/vaccination_model/grid_search_6_res.pickle', 'rb') as pickle_in:\n",
    "    grid_search_res_2 = pickle.load(pickle_in)\n",
    "    \n",
    "grid_search_res = grid_search_res_1 + grid_search_res_2"
   ]
  },
  {
   "cell_type": "markdown",
   "metadata": {},
   "source": [
    "#### Get best parametrs according to each likelihhood function"
   ]
  },
  {
   "cell_type": "code",
   "execution_count": 5,
   "metadata": {},
   "outputs": [
    {
     "name": "stdout",
     "output_type": "stream",
     "text": [
      "Max likelihood: -9,563\n",
      "{'parameters': {'beta_2': 0.018256229669662005, 'delta': 0.3023799800470099, 'gamma': 0.1722076679492849, 'I_0_size': 0.0004}, 'log_likelihood': -14651.78454284373, 'log_likelihood_age': 204850.32093978545, 'log_likelihood_subdist': 32733.471959804305, 'mse_by_age': 17572.497704821068, 'mse_by_subdist': 3795.177506448156}\n",
      "\n",
      "\n",
      "Max likelihood by age: 204,850\n",
      "{'parameters': {'beta_2': 0.018256229669662005, 'delta': 0.3023799800470099, 'gamma': 0.1722076679492849, 'I_0_size': 0.0004}, 'log_likelihood': -14651.78454284373, 'log_likelihood_age': 204850.32093978545, 'log_likelihood_subdist': 32733.471959804305, 'mse_by_age': 17572.497704821068, 'mse_by_subdist': 3795.177506448156}\n",
      "\n",
      "\n",
      "Max likelihood by subdist: 36,129\n",
      "{'parameters': {'beta_2': 0.016863165243777217, 'delta': 0.278572631507307, 'gamma': 0.19172052098205442, 'I_0_size': 0.001}, 'log_likelihood': -9563.146711506553, 'log_likelihood_age': 197267.18472100564, 'log_likelihood_subdist': 36129.114564781725, 'mse_by_age': 48082.38864520336, 'mse_by_subdist': 926.5220196860498}\n",
      "\n",
      "\n",
      "Min MSE by age: 8,928\n",
      "{'parameters': {'beta_2': 0.020703533279573846, 'delta': 0.29700681736447554, 'gamma': 0.1701976298009263, 'I_0_size': 0.0002}, 'log_likelihood': -22041.95340834176, 'log_likelihood_age': 200373.1032973281, 'log_likelihood_subdist': 26908.572707271127, 'mse_by_age': 8928.070566879662, 'mse_by_subdist': 9956.696992244913}\n",
      "\n",
      "\n",
      "Min MSE by subdist: 737\n",
      "{'parameters': {'beta_2': 0.019491566193506643, 'delta': 0.23814943004854955, 'gamma': 0.23326473435457035, 'I_0_size': 0.001}, 'log_likelihood': -13686.798616842227, 'log_likelihood_age': 189845.42241992665, 'log_likelihood_subdist': 34333.926131361084, 'mse_by_age': 54766.449483043485, 'mse_by_subdist': 737.6229847559108}\n",
      "\n",
      "\n"
     ]
    }
   ],
   "source": [
    "# Max likelihood \n",
    "liklihood = max(grid_search_res, key=lambda x: x['log_likelihood'])\n",
    "\n",
    "# Max likelihood age\n",
    "liklihood_age = max(grid_search_res, key=lambda x: x['log_likelihood_age'])\n",
    "\n",
    "# Max likelihood subdist\n",
    "liklihood_subdist = max(grid_search_res, key=lambda x: x['log_likelihood_subdist'])\n",
    "\n",
    "# Min MSE age\n",
    "mse_age = min(grid_search_res, key=lambda x: x['mse_by_age'])\n",
    "\n",
    "# Min MSE subdsit\n",
    "mse_subdist = min(grid_search_res, key=lambda x: x['mse_by_subdist'])\n",
    "\n",
    "print(f\"Max likelihood: {int(liklihood['log_likelihood']):,d}\")\n",
    "print(liklihood_age)\n",
    "print('\\n')\n",
    "\n",
    "print(f\"Max likelihood by age: {int(liklihood_age['log_likelihood_age']):,d}\")\n",
    "print(liklihood_age)\n",
    "print('\\n')\n",
    "\n",
    "print(f\"Max likelihood by subdist: {int(liklihood_subdist['log_likelihood_subdist']):,d}\")\n",
    "print(liklihood_subdist)\n",
    "print('\\n')\n",
    "\n",
    "print(f\"Min MSE by age: {int(mse_age['mse_by_age']):,d}\")\n",
    "print(mse_age)\n",
    "print('\\n')\n",
    "\n",
    "print(f\"Min MSE by subdist: {int(mse_subdist['mse_by_subdist']):,d}\")\n",
    "print(mse_subdist)\n",
    "print('\\n')"
   ]
  },
  {
   "cell_type": "markdown",
   "metadata": {},
   "source": [
    "## Intervention"
   ]
  },
  {
   "cell_type": "code",
   "execution_count": 6,
   "metadata": {},
   "outputs": [],
   "source": [
    "# run_model = model.run_model\n",
    "\n",
    "# def calc_model_vaccination_coverage_intervention(intervention_nodes, parameters, prep_data, num_of_simulations):\n",
    "#     # Initialize a list for the infection rates\n",
    "#     vacc_coverage_list = []\n",
    "    \n",
    "#     # Run the model num_of_simulations times\n",
    "#     for i in range(num_of_simulations):\n",
    "#         # Run model\n",
    "#         model_results = run_model(parameters, prep_data, initial_I=intervention_nodes)\n",
    "\n",
    "#         # Calculate infection rate and add to the list\n",
    "#         vacc_coverage = len(model_results['R'][-1].union(model_results['I'][-1])) / model_results['N']\n",
    "#         vacc_coverage_list.append(vacc_coverage)\n",
    "        \n",
    "#     # Get median realization\n",
    "#     med = np.argsort(np.array(vacc_coverage_list))[len(vacc_coverage_list) // 2]\n",
    "\n",
    "#     return vacc_coverage_list[med]"
   ]
  },
  {
   "cell_type": "code",
   "execution_count": 7,
   "metadata": {},
   "outputs": [],
   "source": [
    "run_model = model.run_model\n",
    "\n",
    "def calc_model_vaccination_coverage_intervention(intervention_nodes, parameters, prep_data, data_for_fit, num_of_simulations):\n",
    "    # Initialize a list for the infection rates\n",
    "    vacc_coverage_list = []\n",
    "    \n",
    "    # Run the model num_of_simulations times\n",
    "    for i in range(num_of_simulations):\n",
    "        # Run model\n",
    "        model_results = run_model(parameters, prep_data, initial_I=intervention_nodes)\n",
    "\n",
    "        # Calculate infection rate and add to the list\n",
    "        vacc_coverage = model.get_vaccination_coverage_by_age(model_results, data_for_fit, prep_data).model\n",
    "        vacc_coverage_list.append(vacc_coverage)\n",
    "        \n",
    "    # Get median realization by total vaccination coverage\n",
    "    total_vacc_coverage_list = list(map(lambda x: x['total'], vacc_coverage_list))\n",
    "    med = np.argsort(np.array(total_vacc_coverage_list))[len(vacc_coverage_list) // 2]\n",
    "\n",
    "    return vacc_coverage_list[med]"
   ]
  },
  {
   "cell_type": "code",
   "execution_count": 8,
   "metadata": {},
   "outputs": [],
   "source": [
    "# Number of simulations\n",
    "m = 20\n",
    "\n",
    "intervention_percent = 0.1\n",
    "intervention_size = int(round(prep_data['network'].number_of_nodes()*intervention_percent))\n",
    "\n",
    "# parametes = liklihood['parameters']\n",
    "# parameters = liklihood_age['parameters']\n",
    "parameters = liklihood_subdist['parameters']\n",
    "parameters['beta'] = parameters['beta_2']"
   ]
  },
  {
   "cell_type": "markdown",
   "metadata": {},
   "source": [
    "### No intervention"
   ]
  },
  {
   "cell_type": "code",
   "execution_count": 9,
   "metadata": {},
   "outputs": [],
   "source": [
    "vacc_coverage_no_inter = calc_model_vaccination_coverage_intervention(set(), parameters, prep_data,\n",
    "                                                                      data_for_fit, num_of_simulations=m)"
   ]
  },
  {
   "cell_type": "code",
   "execution_count": 10,
   "metadata": {},
   "outputs": [
    {
     "name": "stdout",
     "output_type": "stream",
     "text": [
      "Vaccination coverage: 20.00%\n"
     ]
    }
   ],
   "source": [
    "print(f'Vaccination coverage: {vacc_coverage_no_inter[\"total\"]*100:.2f}%')"
   ]
  },
  {
   "cell_type": "markdown",
   "metadata": {},
   "source": [
    "### Random intervention"
   ]
  },
  {
   "cell_type": "code",
   "execution_count": 11,
   "metadata": {},
   "outputs": [],
   "source": [
    "# Choose ranmdom nodes to infect\n",
    "initial_I_random = set(np.random.choice(list(prep_data['network'].nodes), replace=False, size=intervention_size))\n",
    "vacc_coverage_random = calc_model_vaccination_coverage_intervention(initial_I_random, parameters, prep_data, data_for_fit,\n",
    "                                                                    num_of_simulations=m)"
   ]
  },
  {
   "cell_type": "code",
   "execution_count": 12,
   "metadata": {},
   "outputs": [
    {
     "name": "stdout",
     "output_type": "stream",
     "text": [
      "Random intervention:\n",
      "Vaccination coverage: 34.47%\n",
      "Vaccination coverage increase: 14.47%\n",
      "Vaccination coverage effective increase: 4.47%\n"
     ]
    }
   ],
   "source": [
    "print('Random intervention:')\n",
    "print(f'Vaccination coverage: {vacc_coverage_random[\"total\"]*100:.2f}%')\n",
    "print(f'Vaccination coverage increase: {(vacc_coverage_random[\"total\"]-vacc_coverage_no_inter[\"total\"])*100:.2f}%')\n",
    "print(f'Vaccination coverage effective increase: {(vacc_coverage_random[\"total\"]-vacc_coverage_no_inter[\"total\"]-intervention_percent)*100:.2f}%')"
   ]
  },
  {
   "cell_type": "markdown",
   "metadata": {},
   "source": [
    "### Centrality-based intervention"
   ]
  },
  {
   "cell_type": "markdown",
   "metadata": {},
   "source": [
    "### Area-based centrality"
   ]
  },
  {
   "cell_type": "markdown",
   "metadata": {},
   "source": [
    "#### Areas PageRank"
   ]
  },
  {
   "cell_type": "code",
   "execution_count": 39,
   "metadata": {},
   "outputs": [],
   "source": [
    "# Load nodes by area and age\n",
    "with open(model.nodes_by_area_age_dict_path, 'rb') as pickle_in:\n",
    "    nodes_by_area_age = pickle.load(pickle_in)"
   ]
  },
  {
   "cell_type": "code",
   "execution_count": 71,
   "metadata": {},
   "outputs": [],
   "source": [
    "# Load page ranks\n",
    "# with open(model.pagerank_by_area_age_path, 'rb') as pickle_in:\n",
    "# with open('../../Data/vaccination_data/pagerank_by_area_age_thresh.pickle', 'rb') as pickle_in:\n",
    "with open('../../Data/vaccination_data/pagerank_by_area_age_net.pickle', 'rb') as pickle_in:\n",
    "    pageranks = pickle.load(pickle_in)\n",
    "    \n",
    "# Sort areas and age groups by page rank (descending)\n",
    "areas_age_by_rank_with_rank = sorted(list(pageranks.items()), key=lambda x: x[1], reverse=True)\n",
    "areas_age_by_rank = list(map(lambda x: x[0], areas_age_by_rank_with_rank))\n",
    "\n",
    "# Load nodes by area and age\n",
    "with open(model.nodes_by_area_age_dict_path, 'rb') as pickle_in:\n",
    "    nodes_by_area_age = pickle.load(pickle_in)\n",
    "    \n",
    "# Fliter irrelevant areas\n",
    "areas_age_by_rank = list(filter(lambda x: x in nodes_by_area_age, areas_age_by_rank))\n",
    "areas_age_by_rank_with_rank = list(filter(lambda x: x[0] in nodes_by_area_age, areas_age_by_rank_with_rank))\n",
    "\n",
    "    \n",
    "# Create a list of nodes by PageRank\n",
    "nodes_by_rank = []\n",
    "for (area, age) in areas_age_by_rank:\n",
    "    nodes_by_rank += list(nodes_by_area_age[(area, age)])\n",
    "    \n",
    "# Get nodes to vaccinate\n",
    "initial_I_center_areas_PR = set(nodes_by_rank[:intervention_size])"
   ]
  },
  {
   "cell_type": "code",
   "execution_count": 72,
   "metadata": {},
   "outputs": [],
   "source": [
    "vacc_coverage_areas_PR = calc_model_vaccination_coverage_intervention(initial_I_center_areas_PR, parameters, prep_data,\n",
    "                                                                      data_for_fit, num_of_simulations=3)"
   ]
  },
  {
   "cell_type": "code",
   "execution_count": 73,
   "metadata": {},
   "outputs": [
    {
     "name": "stdout",
     "output_type": "stream",
     "text": [
      "By areas PageRank:\n",
      "Vaccination coverage: 31.57%\n",
      "Vaccination coverage increase: 11.57%\n",
      "Vaccination coverage effective increase: 1.57%\n"
     ]
    }
   ],
   "source": [
    "print('By areas PageRank:')\n",
    "print(f'Vaccination coverage: {vacc_coverage_areas_PR[\"total\"]*100:.2f}%')\n",
    "print(f'Vaccination coverage increase: {(vacc_coverage_areas_PR[\"total\"]-vacc_coverage_no_inter[\"total\"])*100:.2f}%')\n",
    "print(f'Vaccination coverage effective increase: {(vacc_coverage_areas_PR[\"total\"]-vacc_coverage_no_inter[\"total\"]-intervention_percent)*100:.2f}%')"
   ]
  },
  {
   "cell_type": "markdown",
   "metadata": {},
   "source": [
    "#### By area eigenvector centrality"
   ]
  },
  {
   "cell_type": "code",
   "execution_count": 17,
   "metadata": {},
   "outputs": [],
   "source": [
    "# Load area EV centrality\n",
    "with open('../../Data/vaccination_data/eigenvector_by_area_age.pickle', 'rb') as pickle_in:\n",
    "    EV_centrality = pickle.load(pickle_in)\n",
    "    \n",
    "# Sort areas and age groups by page rank (descending)\n",
    "areas_age_by_EV_with_rank = sorted(list(EV_centrality.items()), key=lambda x: x[1], reverse=True)\n",
    "areas_age_by_EV = list(map(lambda x: x[0], areas_age_by_rank_with_rank))\n",
    "\n",
    "# Load nodes by area and age\n",
    "with open(model.nodes_by_area_age_dict_path, 'rb') as pickle_in:\n",
    "    nodes_by_area_age = pickle.load(pickle_in)\n",
    "    \n",
    "# Fliter irrelevant areas\n",
    "areas_age_by_EV = list(filter(lambda x: x in nodes_by_area_age, areas_age_by_EV))\n",
    "areas_age_by_EV_with_rank = list(filter(lambda x: x[0] in nodes_by_area_age, areas_age_by_EV_with_rank))\n",
    "\n",
    "    \n",
    "# Create a list of nodes by PageRank\n",
    "nodes_by_EV = []\n",
    "for (area, age) in areas_age_by_rank:\n",
    "    nodes_by_EV += list(nodes_by_area_age[(area, age)])\n",
    "    \n",
    "# Get nodes to vaccinate\n",
    "initial_I_center_areas_EV = set(nodes_by_rank[:intervention_size])"
   ]
  },
  {
   "cell_type": "code",
   "execution_count": 18,
   "metadata": {},
   "outputs": [],
   "source": [
    "vacc_coverage_areas_EV = calc_model_vaccination_coverage_intervention(initial_I_center_areas_EV, parameters, prep_data,\n",
    "                                                                      data_for_fit, num_of_simulations=m)"
   ]
  },
  {
   "cell_type": "code",
   "execution_count": 19,
   "metadata": {},
   "outputs": [
    {
     "name": "stdout",
     "output_type": "stream",
     "text": [
      "By areas EV:\n",
      "Vaccination coverage: 31.08%\n",
      "Vaccination coverage increase: 11.08%\n",
      "Vaccination coverage effective increase: 1.08%\n"
     ]
    }
   ],
   "source": [
    "print('By areas EV:')\n",
    "print(f'Vaccination coverage: {vacc_coverage_areas_PR[\"total\"]*100:.2f}%')\n",
    "print(f'Vaccination coverage increase: {(vacc_coverage_areas_PR[\"total\"]-vacc_coverage_no_inter[\"total\"])*100:.2f}%')\n",
    "print(f'Vaccination coverage effective increase: {(vacc_coverage_areas_PR[\"total\"]-vacc_coverage_no_inter[\"total\"]-intervention_percent)*100:.2f}%')"
   ]
  },
  {
   "cell_type": "markdown",
   "metadata": {},
   "source": [
    "#### Subgraphs areas PageRank (by subdist and age)"
   ]
  },
  {
   "cell_type": "code",
   "execution_count": 20,
   "metadata": {},
   "outputs": [],
   "source": [
    "# Load page ranks - for each subdist separately\n",
    "with open('../../Data/vaccination_data/sub_graphs_areas_pageranks.pickle', 'rb') as pickle_in:\n",
    "    sub_graphs_areas_pageranks = pickle.load(pickle_in)\n",
    "\n",
    "    # Load nodes by area and age\n",
    "with open(model.nodes_by_area_age_dict_path, 'rb') as pickle_in:\n",
    "    nodes_by_area_age = pickle.load(pickle_in)\n",
    "    \n",
    "# Caculate population proportion by subdist and age\n",
    "population_by_subdist = prep_data['population_by_clinic_age'].reset_index().groupby(['subdist', 'age']).sum()[['network_population']]\n",
    "population_by_subdist['pop_prop'] = population_by_subdist.network_population / population_by_subdist.network_population.sum()\n",
    "\n",
    "# Initialize a set for the nodes to vaccinate\n",
    "subgraph_area_PR_nodes = set()\n",
    "\n",
    "# Go over subdist and age and choose top nodes by subgraph PageRank\n",
    "for subdist, age in prep_data['relevant_subdists_age']:\n",
    "    # Sort nodes groups by page rank (descending)\n",
    "    areas_by_subgraph_area_PR_with_rank = sorted(list(sub_graphs_areas_pageranks[(subdist, age)].items()), key=lambda x: x[1], reverse=True)\n",
    "    areas_by_areas_subgraph_PR = list(map(lambda x: x[0], areas_by_subgraph_area_PR_with_rank))\n",
    "    # Create a list of nodes by PageRank for current subdist and age\n",
    "    nodes_by_rank = []\n",
    "    for (area, age) in areas_by_areas_subgraph_PR:\n",
    "        nodes_by_rank += list(nodes_by_area_age[(area, age)])\n",
    "    # The number of nodes to vaccionate is according to the population proportion\n",
    "    num_of_nodes = int(population_by_subdist.loc[(subdist, age)].pop_prop * intervention_size)\n",
    "    # Get nodes to vaccinate in current subdist and age\n",
    "    nodes_to_vacc_subdist = set(nodes_by_rank[:num_of_nodes])\n",
    "    # Add to the set of nodes to vaccinate\n",
    "    subgraph_area_PR_nodes = subgraph_area_PR_nodes.union(nodes_to_vacc_subdist)"
   ]
  },
  {
   "cell_type": "code",
   "execution_count": 21,
   "metadata": {},
   "outputs": [],
   "source": [
    "vacc_coverage_subgraph_area_PR = calc_model_vaccination_coverage_intervention(subgraph_area_PR_nodes, parameters, prep_data,\n",
    "                                                                      data_for_fit, num_of_simulations=m)"
   ]
  },
  {
   "cell_type": "code",
   "execution_count": 22,
   "metadata": {},
   "outputs": [
    {
     "name": "stdout",
     "output_type": "stream",
     "text": [
      "By areas subgraph PageRank:\n",
      "Vaccination coverage: 32.82%\n",
      "Vaccination coverage increase: 12.81%\n",
      "Vaccination coverage effective increase: 2.81%\n"
     ]
    }
   ],
   "source": [
    "print('By areas subgraph PageRank:')\n",
    "print(f'Vaccination coverage: {vacc_coverage_subgraph_area_PR[\"total\"]*100:.2f}%')\n",
    "print(f'Vaccination coverage increase: {(vacc_coverage_subgraph_area_PR[\"total\"]-vacc_coverage_no_inter[\"total\"])*100:.2f}%')\n",
    "print(f'Vaccination coverage effective increase: {(vacc_coverage_subgraph_area_PR[\"total\"]-vacc_coverage_no_inter[\"total\"]-intervention_percent)*100:.2f}%')"
   ]
  },
  {
   "cell_type": "markdown",
   "metadata": {},
   "source": [
    "### Node-based centrality"
   ]
  },
  {
   "cell_type": "markdown",
   "metadata": {},
   "source": [
    "#### Nodes PageRank"
   ]
  },
  {
   "cell_type": "code",
   "execution_count": 43,
   "metadata": {},
   "outputs": [],
   "source": [
    "# Load page ranks\n",
    "with open('../../Data/vaccination_data/pagerank_by_node.pickle', 'rb') as pickle_in:\n",
    "    pageranks_by_node = pickle.load(pickle_in)\n",
    "    \n",
    "# Sort areas and age groups by page rank (descending)\n",
    "nodes_by_rank_with_rank = sorted(list(pageranks_by_node.items()), key=lambda x: x[1], reverse=True)\n",
    "nodes_by_nodes_pagerank = list(map(lambda x: x[0], nodes_by_rank_with_rank))\n",
    "\n",
    "# Get nodes to vaccinate\n",
    "initial_I_center_nodes_PR = set(nodes_by_nodes_pagerank[:intervention_size])"
   ]
  },
  {
   "cell_type": "code",
   "execution_count": 69,
   "metadata": {},
   "outputs": [],
   "source": [
    "vacc_coverage_nodes_PR = calc_model_vaccination_coverage_intervention(initial_I_center_nodes_PR, parameters, prep_data,\n",
    "                                                                      data_for_fit, num_of_simulations=m)"
   ]
  },
  {
   "cell_type": "code",
   "execution_count": 70,
   "metadata": {},
   "outputs": [
    {
     "name": "stdout",
     "output_type": "stream",
     "text": [
      "By nodes PageRank:\n",
      "Vaccination coverage: 34.57%\n",
      "Vaccination coverage increase: 14.57%\n",
      "Vaccination coverage effective increase: 4.57%\n"
     ]
    }
   ],
   "source": [
    "print('By nodes PageRank:')\n",
    "print(f'Vaccination coverage: {vacc_coverage_nodes_PR[\"total\"]*100:.2f}%')\n",
    "print(f'Vaccination coverage increase: {(vacc_coverage_nodes_PR[\"total\"]-vacc_coverage_no_inter[\"total\"])*100:.2f}%')\n",
    "print(f'Vaccination coverage effective increase: {(vacc_coverage_nodes_PR[\"total\"]-vacc_coverage_no_inter[\"total\"]-intervention_percent)*100:.2f}%')"
   ]
  },
  {
   "cell_type": "markdown",
   "metadata": {},
   "source": [
    "#### Nodes degree"
   ]
  },
  {
   "cell_type": "code",
   "execution_count": 26,
   "metadata": {},
   "outputs": [],
   "source": [
    "# Sort nodes by degree (descending)\n",
    "nodes_by_dgree_with_dgree = sorted(list(dict(prep_data['network'].degree).items()), key=lambda x: x[1], reverse=True)\n",
    "nodes_by_dgree = list(map(lambda x: x[0], nodes_by_dgree_with_dgree))\n",
    "\n",
    "# Get nodes to vaccinate\n",
    "initial_I_nodes_degree = set(nodes_by_dgree[:intervention_size])"
   ]
  },
  {
   "cell_type": "code",
   "execution_count": 27,
   "metadata": {},
   "outputs": [],
   "source": [
    "vacc_coverage_nodes_degree = calc_model_vaccination_coverage_intervention(initial_I_nodes_degree, parameters, prep_data,\n",
    "                                                                      data_for_fit, num_of_simulations=m)"
   ]
  },
  {
   "cell_type": "code",
   "execution_count": 28,
   "metadata": {},
   "outputs": [
    {
     "name": "stdout",
     "output_type": "stream",
     "text": [
      "By nodes degree:\n",
      "Vaccination coverage: 34.75%\n",
      "Vaccination coverage increase: 14.75%\n",
      "Vaccination coverage effective increase: 4.75%\n"
     ]
    }
   ],
   "source": [
    "print('By nodes degree:')\n",
    "print(f'Vaccination coverage: {vacc_coverage_nodes_degree[\"total\"]*100:.2f}%')\n",
    "print(f'Vaccination coverage increase: {(vacc_coverage_nodes_degree[\"total\"]-vacc_coverage_no_inter[\"total\"])*100:.2f}%')\n",
    "print(f'Vaccination coverage effective increase: {(vacc_coverage_nodes_degree[\"total\"]-vacc_coverage_no_inter[\"total\"]-intervention_percent)*100:.2f}%')"
   ]
  },
  {
   "cell_type": "markdown",
   "metadata": {},
   "source": [
    "#### By node eigenvector centrality"
   ]
  },
  {
   "cell_type": "code",
   "execution_count": 29,
   "metadata": {},
   "outputs": [],
   "source": [
    "# Load page ranks\n",
    "with open('../../Data/vaccination_data/eigenvector_by_node_dict.pickle', 'rb') as pickle_in:\n",
    "    EV_by_node = pickle.load(pickle_in)\n",
    "    \n",
    "# Sort areas and age groups by EV(descending)\n",
    "nodes_by_EV_with_rank = sorted(list(EV_by_node.items()), key=lambda x: x[1], reverse=True)\n",
    "nodes_by_nodes_EV = list(map(lambda x: x[0], nodes_by_EV_with_rank))\n",
    "\n",
    "# Get nodes to vaccinate\n",
    "initial_I_center_nodes_EV = set(nodes_by_nodes_EV[:intervention_size])"
   ]
  },
  {
   "cell_type": "code",
   "execution_count": 30,
   "metadata": {},
   "outputs": [],
   "source": [
    "vacc_coverage_nodes_EV = calc_model_vaccination_coverage_intervention(initial_I_center_nodes_EV, parameters, prep_data,\n",
    "                                                                      data_for_fit, num_of_simulations=m)"
   ]
  },
  {
   "cell_type": "code",
   "execution_count": 31,
   "metadata": {},
   "outputs": [
    {
     "name": "stdout",
     "output_type": "stream",
     "text": [
      "By nodes PageRank:\n",
      "Vaccination coverage: 32.57%\n",
      "Vaccination coverage increase: 12.56%\n",
      "Vaccination coverage effective increase: 2.56%\n"
     ]
    }
   ],
   "source": [
    "print('By nodes PageRank:')\n",
    "print(f'Vaccination coverage: {vacc_coverage_nodes_EV[\"total\"]*100:.2f}%')\n",
    "print(f'Vaccination coverage increase: {(vacc_coverage_nodes_EV[\"total\"]-vacc_coverage_no_inter[\"total\"])*100:.2f}%')\n",
    "print(f'Vaccination coverage effective increase: {(vacc_coverage_nodes_EV[\"total\"]-vacc_coverage_no_inter[\"total\"]-intervention_percent)*100:.2f}%')"
   ]
  },
  {
   "cell_type": "markdown",
   "metadata": {},
   "source": [
    "#### Subgraphs nodes PageRank (by subdist and age)"
   ]
  },
  {
   "cell_type": "code",
   "execution_count": 32,
   "metadata": {},
   "outputs": [],
   "source": [
    "# Load page ranks - for each subdist separately\n",
    "with open('../../Data/vaccination_data/sub_graphs_pageranks.pickle', 'rb') as pickle_in:\n",
    "    sub_graphs_pageranks = pickle.load(pickle_in)\n",
    "\n",
    "# Caculate population proportion by subdist and age\n",
    "population_by_subdist = prep_data['population_by_clinic_age'].reset_index().groupby(['subdist', 'age']).sum()[['network_population']]\n",
    "population_by_subdist['pop_prop'] = population_by_subdist.network_population / population_by_subdist.network_population.sum()\n",
    "\n",
    "# Initialize a set for the nodes to vaccinate\n",
    "subgraph_PR_nodes = set()\n",
    "\n",
    "# Go over subdist and age and choose top nodes by subgraph PageRank\n",
    "for subdist, age in prep_data['relevant_subdists_age']:\n",
    "    # Sort nodes groups by page rank (descending)\n",
    "    nodes_by_subgraph_PR_with_rank = sorted(list(sub_graphs_pageranks[(subdist, age)].items()), key=lambda x: x[1], reverse=True)\n",
    "    nodes_by_nodes_subgraph_PR = list(map(lambda x: x[0], nodes_by_subgraph_PR_with_rank))\n",
    "    # The number of nodes to vaccionate is according to the population proportion\n",
    "    num_of_nodes = int(population_by_subdist.loc[(subdist, age)].pop_prop * intervention_size)\n",
    "    # Get nodes to vaccinate in current subdist and age\n",
    "    nodes_to_vacc_subdist = set(nodes_by_nodes_subgraph_PR[:num_of_nodes])\n",
    "    # Add to the set of nodes to vaccinate\n",
    "    subgraph_PR_nodes = subgraph_PR_nodes.union(nodes_to_vacc_subdist)"
   ]
  },
  {
   "cell_type": "code",
   "execution_count": 33,
   "metadata": {},
   "outputs": [],
   "source": [
    "vacc_coverage_nodes_subgraph_PR = calc_model_vaccination_coverage_intervention(subgraph_PR_nodes, parameters, prep_data,\n",
    "                                                                      data_for_fit, num_of_simulations=m)"
   ]
  },
  {
   "cell_type": "code",
   "execution_count": 34,
   "metadata": {},
   "outputs": [
    {
     "name": "stdout",
     "output_type": "stream",
     "text": [
      "By nodes PageRank:\n",
      "Vaccination coverage: 34.21%\n",
      "Vaccination coverage increase: 14.21%\n",
      "Vaccination coverage effective increase: 4.21%\n"
     ]
    }
   ],
   "source": [
    "print('By nodes PageRank:')\n",
    "print(f'Vaccination coverage: {vacc_coverage_nodes_subgraph_PR[\"total\"]*100:.2f}%')\n",
    "print(f'Vaccination coverage increase: {(vacc_coverage_nodes_subgraph_PR[\"total\"]-vacc_coverage_no_inter[\"total\"])*100:.2f}%')\n",
    "print(f'Vaccination coverage effective increase: {(vacc_coverage_nodes_subgraph_PR[\"total\"]-vacc_coverage_no_inter[\"total\"]-intervention_percent)*100:.2f}%')"
   ]
  },
  {
   "cell_type": "markdown",
   "metadata": {},
   "source": [
    "## Intervention summary"
   ]
  },
  {
   "cell_type": "code",
   "execution_count": 35,
   "metadata": {},
   "outputs": [],
   "source": [
    "intervention_vacc_coverage_list = [vacc_coverage_no_inter, vacc_coverage_random, vacc_coverage_areas_PR,\n",
    "                                   vacc_coverage_areas_EV, vacc_coverage_subgraph_area_PR, vacc_coverage_nodes_PR,\n",
    "                                   vacc_coverage_nodes_EV, vacc_coverage_nodes_degree, vacc_coverage_nodes_subgraph_PR]\n",
    "\n",
    "intervention_vacc_coverage_dict = {'no intervention': vacc_coverage_no_inter, 'random': vacc_coverage_random,\n",
    "                                   'areas\\nPageRank': vacc_coverage_areas_PR, 'areas EV': vacc_coverage_areas_EV,\n",
    "                                   'areas subgraph\\nPageRank': vacc_coverage_subgraph_area_PR,\n",
    "                                   'nodes\\nPageRank': vacc_coverage_nodes_PR, 'nodes EV': vacc_coverage_nodes_EV,\n",
    "                                   'nodes\\ndegree': vacc_coverage_nodes_degree, 'nodes subgraph\\nPageRank': vacc_coverage_nodes_subgraph_PR}\n",
    "\n",
    "\n",
    "names = ['no intervention', 'random', 'areas\\nPageRank', 'areas EV','areas subgraph\\nPageRank',\n",
    "         'nodes\\nPageRank', 'nodes EV', 'nodes\\ndegree', 'nodes subgraph\\nPageRank']\n",
    "\n",
    "# intervention_vacc_coverage = pd.DataFrame(index=pd.Index(['children', 'adults', 'total'], name='age'))\n",
    "# for i, res in enumerate(intervention_vacc_coverage_list):\n",
    "#     intervention_vacc_coverage[names[i]] = intervention_vacc_coverage_list[i]\n",
    "    \n",
    "intervention_vacc_coverage = pd.DataFrame(index=pd.Index(['children', 'adults', 'total'], name='age'))\n",
    "for name, coverage in intervention_vacc_coverage_dict.items():\n",
    "    intervention_vacc_coverage[name] = coverage"
   ]
  },
  {
   "cell_type": "code",
   "execution_count": 36,
   "metadata": {},
   "outputs": [
    {
     "data": {
      "image/png": "[encoded data removed]",
      "text/plain": [
       "<Figure size 1080x504 with 1 Axes>"
      ]
     },
     "metadata": {},
     "output_type": "display_data"
    },
    {
     "data": {
      "image/png": "[encoded data removed]",
      "text/plain": [
       "<Figure size 1080x504 with 1 Axes>"
      ]
     },
     "metadata": {},
     "output_type": "display_data"
    },
    {
     "data": {
      "text/html": [
       "<div>\n",
       "<style scoped>\n",
       "    .dataframe tbody tr th:only-of-type {\n",
       "        vertical-align: middle;\n",
       "    }\n",
       "\n",
       "    .dataframe tbody tr th {\n",
       "        vertical-align: top;\n",
       "    }\n",
       "\n",
       "    .dataframe thead th {\n",
       "        text-align: right;\n",
       "    }\n",
       "</style>\n",
       "<table border=\"1\" class=\"dataframe\">\n",
       "  <thead>\n",
       "    <tr style=\"text-align: right;\">\n",
       "      <th></th>\n",
       "      <th>no intervention</th>\n",
       "      <th>random</th>\n",
       "      <th>areas\n",
       "PageRank</th>\n",
       "      <th>areas EV</th>\n",
       "      <th>areas subgraph\n",
       "PageRank</th>\n",
       "      <th>nodes\n",
       "PageRank</th>\n",
       "      <th>nodes EV</th>\n",
       "      <th>nodes\n",
       "degree</th>\n",
       "      <th>nodes subgraph\n",
       "PageRank</th>\n",
       "    </tr>\n",
       "    <tr>\n",
       "      <th>age</th>\n",
       "      <th></th>\n",
       "      <th></th>\n",
       "      <th></th>\n",
       "      <th></th>\n",
       "      <th></th>\n",
       "      <th></th>\n",
       "      <th></th>\n",
       "      <th></th>\n",
       "      <th></th>\n",
       "    </tr>\n",
       "  </thead>\n",
       "  <tbody>\n",
       "    <tr>\n",
       "      <th>children</th>\n",
       "      <td>0.101632</td>\n",
       "      <td>0.233124</td>\n",
       "      <td>0.196652</td>\n",
       "      <td>0.199614</td>\n",
       "      <td>0.222620</td>\n",
       "      <td>0.267564</td>\n",
       "      <td>0.283889</td>\n",
       "      <td>0.274108</td>\n",
       "      <td>0.226064</td>\n",
       "    </tr>\n",
       "    <tr>\n",
       "      <th>adults</th>\n",
       "      <td>0.241057</td>\n",
       "      <td>0.391216</td>\n",
       "      <td>0.358432</td>\n",
       "      <td>0.356535</td>\n",
       "      <td>0.372181</td>\n",
       "      <td>0.378373</td>\n",
       "      <td>0.343088</td>\n",
       "      <td>0.378171</td>\n",
       "      <td>0.390541</td>\n",
       "    </tr>\n",
       "    <tr>\n",
       "      <th>total</th>\n",
       "      <td>0.200016</td>\n",
       "      <td>0.344681</td>\n",
       "      <td>0.310811</td>\n",
       "      <td>0.310344</td>\n",
       "      <td>0.328156</td>\n",
       "      <td>0.345755</td>\n",
       "      <td>0.325662</td>\n",
       "      <td>0.347540</td>\n",
       "      <td>0.342126</td>\n",
       "    </tr>\n",
       "  </tbody>\n",
       "</table>\n",
       "</div>"
      ],
      "text/plain": [
       "          no intervention    random  areas\\nPageRank  areas EV  \\\n",
       "age                                                              \n",
       "children         0.101632  0.233124         0.196652  0.199614   \n",
       "adults           0.241057  0.391216         0.358432  0.356535   \n",
       "total            0.200016  0.344681         0.310811  0.310344   \n",
       "\n",
       "          areas subgraph\\nPageRank  nodes\\nPageRank  nodes EV  nodes\\ndegree  \\\n",
       "age                                                                            \n",
       "children                  0.222620         0.267564  0.283889       0.274108   \n",
       "adults                    0.372181         0.378373  0.343088       0.378171   \n",
       "total                     0.328156         0.345755  0.325662       0.347540   \n",
       "\n",
       "          nodes subgraph\\nPageRank  \n",
       "age                                 \n",
       "children                  0.226064  \n",
       "adults                    0.390541  \n",
       "total                     0.342126  "
      ]
     },
     "execution_count": 36,
     "metadata": {},
     "output_type": "execute_result"
    }
   ],
   "source": [
    "# Get only total\n",
    "intervention_total_vacc_coverage = intervention_vacc_coverage.iloc[2,1:]\n",
    "\n",
    "# Plot\n",
    "intervention_total_vacc_coverage.T.plot.bar(figsize=(15, 7))\n",
    "plt.title('Total Vaccination Coverage - Intervention', size=20)\n",
    "plt.xlabel('', size=15)\n",
    "plt.ylabel('vaccination coverage', size=15)\n",
    "plt.xticks(np.arange(8), intervention_total_vacc_coverage.T.index, rotation='horizontal', size=14)\n",
    "# plt.legend(fontsize=15)\n",
    "\n",
    "# Total infection rate no intervention\n",
    "no_inter_line = plt.hlines(intervention_vacc_coverage.loc['total', 'no intervention'], -0.5, 8,\n",
    "           linestyle ='--', linewidth=3, color='black', label='no intervention')\n",
    "\n",
    "direct_increase = plt.hlines(intervention_vacc_coverage.loc['total', 'no intervention'] + intervention_percent, -0.5, 8,\n",
    "           linestyle ='dotted', linewidth=3, color='black', label='direct intervention')\n",
    "\n",
    "plt.ylim([0, intervention_total_vacc_coverage.max()*1.2])\n",
    "plt.legend([no_inter_line, direct_increase], ['no intervention', 'direct intervention'], fontsize=15)\n",
    "\n",
    "\n",
    "plt.show()\n",
    "\n",
    "\n",
    "# Plot infection rates by age\n",
    "intervention_vacc_coverage.T.plot.bar(figsize=(15, 7))\n",
    "plt.title('Vaccination Coverage by Age - Intervention', size=20)\n",
    "plt.xlabel('', size=15)\n",
    "plt.ylabel('Infection rate', size=15)\n",
    "plt.xticks(np.arange(9), intervention_vacc_coverage.T.index, rotation='horizontal', size=14)\n",
    "plt.legend(fontsize=15)\n",
    "plt.show()\n",
    "\n",
    "intervention_vacc_coverage"
   ]
  },
  {
   "cell_type": "markdown",
   "metadata": {},
   "source": [
    "#### Marginal addition"
   ]
  },
  {
   "cell_type": "code",
   "execution_count": 37,
   "metadata": {},
   "outputs": [
    {
     "data": {
      "image/png": "[encoded data removed]",
      "text/plain": [
       "<Figure size 1080x504 with 1 Axes>"
      ]
     },
     "metadata": {},
     "output_type": "display_data"
    }
   ],
   "source": [
    "# Get only total\n",
    "intervention_total_vacc_coverage_additional = intervention_vacc_coverage.iloc[2,1:]\n",
    "intervention_total_vacc_coverage_additional -= intervention_vacc_coverage.loc['total', 'no intervention'] + intervention_percent\n",
    "\n",
    "# Plot\n",
    "intervention_total_vacc_coverage_additional.T.plot.bar(figsize=(15, 7))\n",
    "plt.title('Total Vaccination Coverage - Intervention - Marginal contribution', size=20)\n",
    "plt.xlabel('', size=15)\n",
    "plt.ylabel('vaccination coverage', size=15)\n",
    "plt.xticks(np.arange(8), intervention_total_vacc_coverage_additional.T.index, rotation='horizontal', size=14)\n",
    "# plt.legend(fontsize=15)\n",
    "\n",
    "plt.ylim([0, intervention_total_vacc_coverage_additional.max()*1.2])\n",
    "# plt.legend([no_inter_line, direct_increase], ['no intervention', 'direct intervention'], fontsize=15)\n",
    "\n",
    "\n",
    "plt.show()\n"
   ]
  },
  {
   "cell_type": "code",
   "execution_count": 38,
   "metadata": {},
   "outputs": [
    {
     "data": {
      "text/plain": [
       "random                      0.044665\n",
       "areas\\nPageRank             0.010795\n",
       "areas EV                    0.010328\n",
       "areas subgraph\\nPageRank    0.028140\n",
       "nodes\\nPageRank             0.045739\n",
       "nodes EV                    0.025646\n",
       "nodes\\ndegree               0.047523\n",
       "nodes subgraph\\nPageRank    0.042110\n",
       "Name: total, dtype: float64"
      ]
     },
     "execution_count": 38,
     "metadata": {},
     "output_type": "execute_result"
    }
   ],
   "source": [
    "intervention_total_vacc_coverage_additional"
   ]
  },
  {
   "cell_type": "code",
   "execution_count": null,
   "metadata": {},
   "outputs": [],
   "source": []
  },
  {
   "cell_type": "markdown",
   "metadata": {},
   "source": [
    "### Our approach"
   ]
  },
  {
   "cell_type": "code",
   "execution_count": 40,
   "metadata": {},
   "outputs": [],
   "source": [
    "def get_nodes_to_vaccinate(node_ranks, iteration_percent, intervention_percent, parameters, prep_data):\n",
    "    # Create a deep copy\n",
    "    node_ranks = [[x[0], x[1].copy()] for x in node_ranks]\n",
    "    \n",
    "    # Calculate intervention size\n",
    "    intervention_size = int(round(prep_data['network'].number_of_nodes()*intervention_percent))\n",
    "    \n",
    "    # Initialize a list for the chosen nodes for the intervention\n",
    "    vaccinated_nodes = []\n",
    "\n",
    "    # Number of infected contacts\n",
    "    infected_contacts = dict.fromkeys(prep_data['network'].nodes, 0)\n",
    "\n",
    "    # n iterations\n",
    "    # for i in tqdm_notebook(range(21)):\n",
    "    while len(vaccinated_nodes) < intervention_size:\n",
    "        # Calculte top number to choose from (top intervention percent out of ramaining nodes)\n",
    "        top_number = int(len(node_ranks)*intervention_percent)\n",
    "        # Calculate number to choose\n",
    "        chosen_number = int(top_number*iteration_percent)\n",
    "\n",
    "        # Choose q percent out of the top intervention_percent randomly\n",
    "        chosen_nodes_idx = np.random.choice(range(top_number), size=chosen_number, replace=False)\n",
    "        chosen_nodes = list(np.array(node_ranks)[chosen_nodes_idx])\n",
    "\n",
    "        # Add to the vaccinated nodes list\n",
    "        vaccinated_nodes.extend(list(map(lambda x: x[0], chosen_nodes)))\n",
    "\n",
    "        # Remove from nodes ranks list\n",
    "        for node in chosen_nodes:\n",
    "            node_ranks.remove(list(node))\n",
    "\n",
    "        # Update number of infected contacts\n",
    "        for node, _ in chosen_nodes:\n",
    "            for contact in prep_data['network'][node]:\n",
    "                infected_contacts[contact] += 1\n",
    "\n",
    "        # Update weights\n",
    "        for node, value_dict in node_ranks:\n",
    "            value_dict['weight'] = 1 - (1 - parameters['beta_2'])**(infected_contacts[node]) if infected_contacts[node]>0 else 1\n",
    "\n",
    "        # Resort rank list by PR*weight\n",
    "        node_ranks = sorted(node_ranks, key=lambda x: x[1]['rank']*x[1]['weight'], reverse=True)\n",
    "\n",
    "    vaccinated_nodes = vaccinated_nodes[:intervention_size]\n",
    "\n",
    "    return set(vaccinated_nodes)"
   ]
  },
  {
   "cell_type": "markdown",
   "metadata": {},
   "source": [
    "#### By area PageRank"
   ]
  },
  {
   "cell_type": "code",
   "execution_count": 44,
   "metadata": {},
   "outputs": [],
   "source": [
    "# Load area page ranks\n",
    "with open(model.pagerank_by_area_age_path, 'rb') as pickle_in:\n",
    "    pageranks = pickle.load(pickle_in)\n",
    "\n",
    "# Create a list with all nodes, their PR (according to area and age) and weight (initialized to 1)\n",
    "nodes_ranks = []\n",
    "for (area, age), nodes in nodes_by_area_age.items():\n",
    "    for node in nodes:\n",
    "        nodes_ranks.append([node, {'rank': pageranks[(area, age)], 'weight': 1}])\n",
    "\n",
    "# Sort list by PR*weight descending\n",
    "nodes_by_area_pageranks = sorted(nodes_ranks, key=lambda x: x[1]['rank']*x[1]['weight'], reverse=True)"
   ]
  },
  {
   "cell_type": "code",
   "execution_count": 45,
   "metadata": {},
   "outputs": [],
   "source": [
    "# Iteration percents to check\n",
    "iteration_percents = [0.001, 0.005 ,0.01, 0.02, 0.05, 0.1, 0.2, 0.3, 0.5]\n",
    "\n",
    "# Get the initial nodes to vaccinate for each iteration percent\n",
    "initial_I_area_pagerank_list =\\\n",
    "                [get_nodes_to_vaccinate(nodes_by_area_pageranks, percent, intervention_percent, parameters, prep_data) \n",
    "                 for percent in iteration_percents]\n",
    "\n",
    "# Get infection rate for each iteration percent\n",
    "area_pagerank_infection_rates = [model.calc_model_infection_rate_intervention(initial_I, parameters, prep_data, 5)\n",
    "                                 for initial_I in initial_I_area_pagerank_list]"
   ]
  },
  {
   "cell_type": "code",
   "execution_count": 91,
   "metadata": {},
   "outputs": [
    {
     "data": {
      "image/png": "[encoded data removed]",
      "text/plain": [
       "<Figure size 432x288 with 1 Axes>"
      ]
     },
     "metadata": {},
     "output_type": "display_data"
    }
   ],
   "source": [
    "plt.semilogx(iteration_percents, area_pagerank_infection_rates)\n",
    "plt.ylim([0.18, 0.32])\n",
    "plt.xticks(np.logspace(-3, 1, 3))\n",
    "plt.show()"
   ]
  },
  {
   "cell_type": "code",
   "execution_count": 64,
   "metadata": {},
   "outputs": [
    {
     "data": {
      "text/plain": [
       "[0.2658299710062651,\n",
       " 0.26277853247095556,\n",
       " 0.26010218770908944,\n",
       " 0.26757365016929907,\n",
       " 0.26250481539303744,\n",
       " 0.26497840676385315,\n",
       " 0.2671782810567507,\n",
       " 0.256645242391679,\n",
       " 0.2508566330771882]"
      ]
     },
     "execution_count": 64,
     "metadata": {},
     "output_type": "execute_result"
    }
   ],
   "source": [
    "area_pagerank_infection_rates"
   ]
  },
  {
   "cell_type": "markdown",
   "metadata": {},
   "source": [
    "#### By node PageRank"
   ]
  },
  {
   "cell_type": "code",
   "execution_count": 46,
   "metadata": {},
   "outputs": [],
   "source": [
    "# Load page ranks\n",
    "with open('../../Data/vaccination_data/pagerank_by_node.pickle', 'rb') as pickle_in:\n",
    "    pageranks_by_node = pickle.load(pickle_in)\n",
    "    \n",
    "# Create a list with all nodes, their PR (according to area and age) and weight (initialized to 1)\n",
    "nodes_ranks = []\n",
    "for (area, age), nodes in nodes_by_area_age.items():\n",
    "    for node in nodes:\n",
    "        nodes_ranks.append([node, {'rank': pageranks_by_node[node], 'weight': 1}])\n",
    "\n",
    "# Sort list by PR*weight descending\n",
    "nodes_by_pageranks = sorted(nodes_ranks, key=lambda x: x[1]['rank']*x[1]['weight'], reverse=True)"
   ]
  },
  {
   "cell_type": "code",
   "execution_count": 47,
   "metadata": {},
   "outputs": [],
   "source": [
    "# Iteration percents to check\n",
    "iteration_percents = [0.001, 0.005 ,0.01, 0.02, 0.05, 0.1, 0.2, 0.3, 0.5]\n",
    "\n",
    "# Get the initial nodes to vaccinate for each iteration percent\n",
    "initial_I_node_pagerank_list =\\\n",
    "                [get_nodes_to_vaccinate(nodes_by_pageranks, percent, intervention_percent, parameters, prep_data) \n",
    "                 for percent in iteration_percents]\n",
    "\n",
    "# Get infection rate for each iteration percent\n",
    "node_pagerank_infection_rates = [model.calc_model_infection_rate_intervention(initial_I, parameters, prep_data, 5)\n",
    "                                for initial_I in initial_I_node_pagerank_list]"
   ]
  },
  {
   "cell_type": "code",
   "execution_count": 90,
   "metadata": {},
   "outputs": [
    {
     "data": {
      "image/png": "[encoded data removed]",
      "text/plain": [
       "<Figure size 432x288 with 1 Axes>"
      ]
     },
     "metadata": {},
     "output_type": "display_data"
    }
   ],
   "source": [
    "plt.semilogx(iteration_percents, node_pagerank_infection_rates)\n",
    "plt.ylim([0.18, 0.32])\n",
    "plt.xticks(np.logspace(-3, 1, 3))\n",
    "plt.show()"
   ]
  },
  {
   "cell_type": "code",
   "execution_count": 92,
   "metadata": {},
   "outputs": [
    {
     "data": {
      "text/plain": [
       "[0.28786926461345064,\n",
       " 0.288011191987186,\n",
       " 0.2901401025932159,\n",
       " 0.28777802558747795,\n",
       " 0.28713935240566896,\n",
       " 0.2903327183147138,\n",
       " 0.2882950467346566,\n",
       " 0.2907787757750248,\n",
       " 0.2936375985888364]"
      ]
     },
     "execution_count": 92,
     "metadata": {},
     "output_type": "execute_result"
    }
   ],
   "source": [
    "node_pagerank_infection_rates"
   ]
  },
  {
   "cell_type": "markdown",
   "metadata": {},
   "source": [
    "#### By area eigenvector centrality"
   ]
  },
  {
   "cell_type": "code",
   "execution_count": 49,
   "metadata": {},
   "outputs": [
    {
     "ename": "NameError",
     "evalue": "name 'get_nodes_to_vaccinate' is not defined",
     "output_type": "error",
     "traceback": [
      "\u001b[1;31m---------------------------------------------------------------------------\u001b[0m",
      "\u001b[1;31mNameError\u001b[0m                                 Traceback (most recent call last)",
      "\u001b[1;32m<ipython-input-49-0f829f3815f8>\u001b[0m in \u001b[0;36m<module>\u001b[1;34m()\u001b[0m\n\u001b[0;32m     12\u001b[0m \u001b[0mnodes_by_area_EV\u001b[0m \u001b[1;33m=\u001b[0m \u001b[0msorted\u001b[0m\u001b[1;33m(\u001b[0m\u001b[0mnodes_EV\u001b[0m\u001b[1;33m,\u001b[0m \u001b[0mkey\u001b[0m\u001b[1;33m=\u001b[0m\u001b[1;32mlambda\u001b[0m \u001b[0mx\u001b[0m\u001b[1;33m:\u001b[0m \u001b[0mx\u001b[0m\u001b[1;33m[\u001b[0m\u001b[1;36m1\u001b[0m\u001b[1;33m]\u001b[0m\u001b[1;33m[\u001b[0m\u001b[1;34m'rank'\u001b[0m\u001b[1;33m]\u001b[0m\u001b[1;33m*\u001b[0m\u001b[0mx\u001b[0m\u001b[1;33m[\u001b[0m\u001b[1;36m1\u001b[0m\u001b[1;33m]\u001b[0m\u001b[1;33m[\u001b[0m\u001b[1;34m'weight'\u001b[0m\u001b[1;33m]\u001b[0m\u001b[1;33m,\u001b[0m \u001b[0mreverse\u001b[0m\u001b[1;33m=\u001b[0m\u001b[1;32mTrue\u001b[0m\u001b[1;33m)\u001b[0m\u001b[1;33m\u001b[0m\u001b[0m\n\u001b[0;32m     13\u001b[0m \u001b[1;33m\u001b[0m\u001b[0m\n\u001b[1;32m---> 14\u001b[1;33m \u001b[0minitial_I_area_EV\u001b[0m \u001b[1;33m=\u001b[0m \u001b[0mget_nodes_to_vaccinate\u001b[0m\u001b[1;33m(\u001b[0m\u001b[0mnodes_by_area_EV\u001b[0m\u001b[1;33m,\u001b[0m \u001b[1;36m0.2\u001b[0m\u001b[1;33m,\u001b[0m \u001b[0mintervention_percent\u001b[0m\u001b[1;33m,\u001b[0m \u001b[0mparameters\u001b[0m\u001b[1;33m,\u001b[0m \u001b[0mprep_data\u001b[0m\u001b[1;33m)\u001b[0m\u001b[1;33m\u001b[0m\u001b[0m\n\u001b[0m",
      "\u001b[1;31mNameError\u001b[0m: name 'get_nodes_to_vaccinate' is not defined"
     ]
    }
   ],
   "source": [
    "# Load area EV centrality\n",
    "with open('../../Data/vaccination_data/eigenvector_by_area_age.pickle', 'rb') as pickle_in:\n",
    "    EV_centrality = pickle.load(pickle_in)\n",
    "\n",
    "# Create a list with all nodes, their EV centrality (according to area and age) and weight (initialized to 1)\n",
    "nodes_EV = []\n",
    "for (area, age), nodes in nodes_by_area_age.items():\n",
    "    for node in nodes:\n",
    "        nodes_EV.append([node, {'rank': EV_centrality[(area, age)], 'weight': 1}])\n",
    "\n",
    "# Sort list by EV*weight descending\n",
    "nodes_by_area_EV = sorted(nodes_EV, key=lambda x: x[1]['rank']*x[1]['weight'], reverse=True)\n",
    "\n",
    "initial_I_area_EV = get_nodes_to_vaccinate(nodes_by_area_EV, 0.2, intervention_percent, parameters, prep_data)"
   ]
  },
  {
   "cell_type": "code",
   "execution_count": 121,
   "metadata": {},
   "outputs": [],
   "source": []
  },
  {
   "cell_type": "code",
   "execution_count": 122,
   "metadata": {},
   "outputs": [],
   "source": [
    "mod_res_area_EV = model.run_model(parameters, prep_data, initial_I=initial_I_area_EV)"
   ]
  },
  {
   "cell_type": "code",
   "execution_count": 123,
   "metadata": {},
   "outputs": [
    {
     "data": {
      "text/plain": [
       "0.2650189574420632"
      ]
     },
     "execution_count": 123,
     "metadata": {},
     "output_type": "execute_result"
    }
   ],
   "source": [
    "total_vaccinated_nodes = mod_res_area_EV['R'][-1].union(mod_res_area_EV['I'][-1])\n",
    "len(total_vaccinated_nodes) / mod_res_area_EV['N']"
   ]
  },
  {
   "cell_type": "markdown",
   "metadata": {},
   "source": [
    "#### By node eigenvector centrality"
   ]
  },
  {
   "cell_type": "code",
   "execution_count": 103,
   "metadata": {},
   "outputs": [],
   "source": [
    "# Load page ranks\n",
    "with open('../../Data/vaccination_data/eigenvector_by_node_dict.pickle', 'rb') as pickle_in:\n",
    "    EV_by_node = pickle.load(pickle_in)\n",
    "    \n",
    "# Create a list with all nodes, their PR (according to area and age) and weight (initialized to 1)\n",
    "nodes_ranks = []\n",
    "for (area, age), nodes in nodes_by_area_age.items():\n",
    "    for node in nodes:\n",
    "        nodes_ranks.append([node, {'rank': EV_by_node[node], 'weight': 1}])\n",
    "\n",
    "# Sort list by EV*weight descending\n",
    "nodes_by_EV = sorted(nodes_ranks, key=lambda x: x[1]['rank']*x[1]['weight'], reverse=True)"
   ]
  },
  {
   "cell_type": "code",
   "execution_count": 104,
   "metadata": {},
   "outputs": [],
   "source": [
    "initial_I_node_EV = get_nodes_to_vaccinate(nodes_by_EV, 0.2, intervention_percent, parameters, prep_data)"
   ]
  },
  {
   "cell_type": "code",
   "execution_count": 108,
   "metadata": {},
   "outputs": [],
   "source": [
    "mod_res_node_EV = model.run_model(parameters, prep_data, initial_I=initial_I_node_EV)"
   ]
  },
  {
   "cell_type": "code",
   "execution_count": 109,
   "metadata": {},
   "outputs": [
    {
     "data": {
      "text/plain": [
       "0.27723484925285374"
      ]
     },
     "execution_count": 109,
     "metadata": {},
     "output_type": "execute_result"
    }
   ],
   "source": [
    "vaccinated_nodes = mod_res_node_EV['R'][-1].union(mod_res_node_EV['I'][-1])\n",
    "len(vaccinated_nodes) / mod_res_node_EV['N']"
   ]
  },
  {
   "cell_type": "markdown",
   "metadata": {},
   "source": [
    "### For each subdist spearately"
   ]
  },
  {
   "cell_type": "markdown",
   "metadata": {},
   "source": [
    "Page Rank by areas"
   ]
  },
  {
   "cell_type": "code",
   "execution_count": null,
   "metadata": {},
   "outputs": [],
   "source": [
    "sub_graphs_areas_pageranks_merged"
   ]
  },
  {
   "cell_type": "code",
   "execution_count": 127,
   "metadata": {},
   "outputs": [],
   "source": [
    "with open('../../Data/vaccination_data/sub_graphs_areas_pageranks.pickle', 'rb') as pickle_in:\n",
    "    sub_graphs_areas_pageranks = pickle.load(pickle_in)\n",
    "    \n",
    "sub_graphs_areas_pageranks_merged = {}\n",
    "for d in sub_graphs_areas_pageranks.values():\n",
    "    sub_graphs_areas_pageranks_merged.update(d)\n",
    "        \n",
    "\n",
    "# Create a list with all nodes, their EV centrality (according to area and age) and weight (initialized to 1)\n",
    "nodes_subgraphs_pagerank = []\n",
    "for (area, age), nodes in nodes_by_area_age.items():\n",
    "    for node in nodes:\n",
    "        nodes_subgraphs_pagerank.append([node, {'rank': sub_graphs_areas_pageranks_merged[(area, age)], 'weight': 1}])\n",
    "\n",
    "# Sort list by EV*weight descending\n",
    "nodes_by_area_subgraphs_pagerank = sorted(nodes_subgraphs_pagerank, key=lambda x: x[1]['rank']*x[1]['weight'], reverse=True)"
   ]
  },
  {
   "cell_type": "code",
   "execution_count": 128,
   "metadata": {},
   "outputs": [],
   "source": [
    "initial_I_area_subgraphs_pagerank = get_nodes_to_vaccinate(nodes_by_area_subgraphs_pagerank, 0.2, intervention_percent, parameters, prep_data)"
   ]
  },
  {
   "cell_type": "code",
   "execution_count": 129,
   "metadata": {},
   "outputs": [],
   "source": [
    "mod_res_area_subgraphs_pagerank = model.run_model(parameters, prep_data, initial_I=initial_I_area_subgraphs_pagerank)"
   ]
  },
  {
   "cell_type": "code",
   "execution_count": 131,
   "metadata": {},
   "outputs": [
    {
     "data": {
      "text/plain": [
       "0.26813122199468786"
      ]
     },
     "execution_count": 131,
     "metadata": {},
     "output_type": "execute_result"
    }
   ],
   "source": [
    "total_vaccinated_nodes = mod_res_area_subgraphs_pagerank['R'][-1].union(mod_res_area_subgraphs_pagerank['I'][-1])\n",
    "len(total_vaccinated_nodes) / mod_res_area_subgraphs_pagerank['N']"
   ]
  },
  {
   "cell_type": "code",
   "execution_count": null,
   "metadata": {},
   "outputs": [],
   "source": []
  },
  {
   "cell_type": "code",
   "execution_count": null,
   "metadata": {},
   "outputs": [],
   "source": []
  },
  {
   "cell_type": "markdown",
   "metadata": {},
   "source": [
    "Page rank by nodes"
   ]
  },
  {
   "cell_type": "code",
   "execution_count": null,
   "metadata": {},
   "outputs": [],
   "source": []
  },
  {
   "cell_type": "code",
   "execution_count": null,
   "metadata": {},
   "outputs": [],
   "source": []
  },
  {
   "cell_type": "code",
   "execution_count": 60,
   "metadata": {},
   "outputs": [],
   "source": [
    "from itertools import product\n",
    "\n",
    "def plot_vacc_coverage(model_results, prep_data, homogenous=False):\n",
    "    if not homogenous:\n",
    "        # Get model coverage by clinic and age\n",
    "        model_coverage = get_vacc_coverage_by_clinic(model_results, prep_data)\n",
    "        model_coverage = pd.DataFrame(pd.Series(model_coverage), columns=['model_coverage'])\n",
    "        model_coverage['clinic_code'] = model_coverage.index.map(lambda x: x[0])\n",
    "        model_coverage['age'] = model_coverage.index.map(lambda x: x[1])\n",
    "        model_coverage.set_index(['clinic_code', 'age'], inplace=True)\n",
    "\n",
    "        # Get vaccination coverage_data and merge with model data\n",
    "        data_coverage = pd.read_pickle(vaccination_coverage_with_age_path)\n",
    "        data_coverage = data_coverage.merge(model_coverage, left_index=True, right_index=True)\n",
    "\n",
    "        # Group by subdist and calculate mean\n",
    "        vacc_prop_gb_subdist = data_coverage.reset_index().groupby(['subdist', 'age']).mean()[\n",
    "            ['data_coverage', 'model_coverage']]\n",
    "\n",
    "    # If homogenous model\n",
    "    else:\n",
    "        # Get vaccination coverage_data\n",
    "        data_coverage = pd.read_pickle(model.vaccination_coverage_with_age_path)\n",
    "\n",
    "        # Group by subdist and calculate mean\n",
    "        vacc_prop_gb_subdist = data_coverage.reset_index().groupby(['subdist', 'age']).mean()[['data_coverage']]\n",
    "\n",
    "        # Only relevant subdists\n",
    "        vacc_prop_gb_subdist = vacc_prop_gb_subdist.loc[product(prep_data['relevant_subdists'], [0, 1])]\n",
    "\n",
    "        # model coverage - same coverage for all subdist (only by age)\n",
    "        vacc_prop_gb_subdist['model_coverage'] =\\\n",
    "            np.tile(((model_results['R'][-1] + model_results['I'][-1]) / model_results['N']),7)\n",
    "\n",
    "    # Plot\n",
    "    vacc_prop_gb_subdist.plot.bar(figsize=(15, 7))\n",
    "    plt.title('Vaccination Coverage by Subdistrict', size=20)\n",
    "    plt.xlabel('\\nSubdistrict', size=15)\n",
    "    plt.ylabel('Vaccination coverage', size=15)\n",
    "    plt.xticks(np.arange(14), vacc_prop_gb_subdist.index, rotation='horizontal', size=14)\n",
    "    plt.legend(fontsize=15, labels=['data', 'model'], loc=(1.01, 0.87))\n",
    "    plt.show()\n",
    "\n",
    "    return vacc_prop_gb_subdist"
   ]
  },
  {
   "cell_type": "code",
   "execution_count": 59,
   "metadata": {},
   "outputs": [
    {
     "data": {
      "text/plain": [
       "array([1, 2, 1, 2])"
      ]
     },
     "execution_count": 59,
     "metadata": {},
     "output_type": "execute_result"
    }
   ],
   "source": [
    "c = np.array([1,2])\n",
    "np.tile(c, 2)"
   ]
  },
  {
   "cell_type": "code",
   "execution_count": 57,
   "metadata": {},
   "outputs": [
    {
     "data": {
      "text/plain": [
       "array([3475.311618523877, 27361.623329213802], dtype=object)"
      ]
     },
     "execution_count": 57,
     "metadata": {},
     "output_type": "execute_result"
    }
   ],
   "source": [
    "model_results_homo['R'][-1]"
   ]
  },
  {
   "cell_type": "code",
   "execution_count": 49,
   "metadata": {},
   "outputs": [
    {
     "data": {
      "text/plain": [
       "array([29005, 69606])"
      ]
     },
     "execution_count": 49,
     "metadata": {},
     "output_type": "execute_result"
    }
   ],
   "source": [
    "model_results_homo['N']"
   ]
  },
  {
   "cell_type": "code",
   "execution_count": 30,
   "metadata": {},
   "outputs": [
    {
     "data": {
      "text/plain": [
       "array([0.0001003849965372952, 0.0001003849965372952,\n",
       "       0.0001003849965372952, 0.0001003849965372952,\n",
       "       0.0001003849965372952, 0.0001003849965372952,\n",
       "       0.0001003849965372952, 0.2522522136392305, 0.2522522136392305,\n",
       "       0.2522522136392305, 0.2522522136392305, 0.2522522136392305,\n",
       "       0.2522522136392305, 0.2522522136392305], dtype=object)"
      ]
     },
     "execution_count": 30,
     "metadata": {},
     "output_type": "execute_result"
    }
   ],
   "source": [
    "((model_results_homo['R'][-1] + model_results_homo['I'][-1]) / model_results_homo['N']).repeat(7)"
   ]
  },
  {
   "cell_type": "code",
   "execution_count": 61,
   "metadata": {},
   "outputs": [
    {
     "data": {
      "image/png": "[encoded data removed]",
      "text/plain": [
       "<Figure size 1080x504 with 1 Axes>"
      ]
     },
     "metadata": {},
     "output_type": "display_data"
    },
    {
     "data": {
      "text/html": [
       "<div>\n",
       "<style scoped>\n",
       "    .dataframe tbody tr th:only-of-type {\n",
       "        vertical-align: middle;\n",
       "    }\n",
       "\n",
       "    .dataframe tbody tr th {\n",
       "        vertical-align: top;\n",
       "    }\n",
       "\n",
       "    .dataframe thead th {\n",
       "        text-align: right;\n",
       "    }\n",
       "</style>\n",
       "<table border=\"1\" class=\"dataframe\">\n",
       "  <thead>\n",
       "    <tr style=\"text-align: right;\">\n",
       "      <th></th>\n",
       "      <th></th>\n",
       "      <th>data_coverage</th>\n",
       "      <th>model_coverage</th>\n",
       "    </tr>\n",
       "    <tr>\n",
       "      <th>subdist</th>\n",
       "      <th>age</th>\n",
       "      <th></th>\n",
       "      <th></th>\n",
       "    </tr>\n",
       "  </thead>\n",
       "  <tbody>\n",
       "    <tr>\n",
       "      <th rowspan=\"2\" valign=\"top\">61.0</th>\n",
       "      <th>0</th>\n",
       "      <td>0.078189</td>\n",
       "      <td>0.119822</td>\n",
       "    </tr>\n",
       "    <tr>\n",
       "      <th>1</th>\n",
       "      <td>0.174540</td>\n",
       "      <td>0.393105</td>\n",
       "    </tr>\n",
       "    <tr>\n",
       "      <th rowspan=\"2\" valign=\"top\">44.0</th>\n",
       "      <th>0</th>\n",
       "      <td>0.095571</td>\n",
       "      <td>0.119822</td>\n",
       "    </tr>\n",
       "    <tr>\n",
       "      <th>1</th>\n",
       "      <td>0.199205</td>\n",
       "      <td>0.393105</td>\n",
       "    </tr>\n",
       "    <tr>\n",
       "      <th rowspan=\"2\" valign=\"top\">43.0</th>\n",
       "      <th>0</th>\n",
       "      <td>0.092293</td>\n",
       "      <td>0.119822</td>\n",
       "    </tr>\n",
       "    <tr>\n",
       "      <th>1</th>\n",
       "      <td>0.179640</td>\n",
       "      <td>0.393105</td>\n",
       "    </tr>\n",
       "    <tr>\n",
       "      <th rowspan=\"2\" valign=\"top\">42.0</th>\n",
       "      <th>0</th>\n",
       "      <td>0.093594</td>\n",
       "      <td>0.119822</td>\n",
       "    </tr>\n",
       "    <tr>\n",
       "      <th>1</th>\n",
       "      <td>0.190379</td>\n",
       "      <td>0.393105</td>\n",
       "    </tr>\n",
       "    <tr>\n",
       "      <th rowspan=\"2\" valign=\"top\">11.0</th>\n",
       "      <th>0</th>\n",
       "      <td>0.070085</td>\n",
       "      <td>0.119822</td>\n",
       "    </tr>\n",
       "    <tr>\n",
       "      <th>1</th>\n",
       "      <td>0.148466</td>\n",
       "      <td>0.393105</td>\n",
       "    </tr>\n",
       "    <tr>\n",
       "      <th rowspan=\"2\" valign=\"top\">51.0</th>\n",
       "      <th>0</th>\n",
       "      <td>0.076140</td>\n",
       "      <td>0.119822</td>\n",
       "    </tr>\n",
       "    <tr>\n",
       "      <th>1</th>\n",
       "      <td>0.201007</td>\n",
       "      <td>0.393105</td>\n",
       "    </tr>\n",
       "    <tr>\n",
       "      <th rowspan=\"2\" valign=\"top\">77.0</th>\n",
       "      <th>0</th>\n",
       "      <td>0.094221</td>\n",
       "      <td>0.119822</td>\n",
       "    </tr>\n",
       "    <tr>\n",
       "      <th>1</th>\n",
       "      <td>0.171344</td>\n",
       "      <td>0.393105</td>\n",
       "    </tr>\n",
       "  </tbody>\n",
       "</table>\n",
       "</div>"
      ],
      "text/plain": [
       "             data_coverage model_coverage\n",
       "subdist age                              \n",
       "61.0    0         0.078189       0.119822\n",
       "        1         0.174540       0.393105\n",
       "44.0    0         0.095571       0.119822\n",
       "        1         0.199205       0.393105\n",
       "43.0    0         0.092293       0.119822\n",
       "        1         0.179640       0.393105\n",
       "42.0    0         0.093594       0.119822\n",
       "        1         0.190379       0.393105\n",
       "11.0    0         0.070085       0.119822\n",
       "        1         0.148466       0.393105\n",
       "51.0    0         0.076140       0.119822\n",
       "        1         0.201007       0.393105\n",
       "77.0    0         0.094221       0.119822\n",
       "        1         0.171344       0.393105"
      ]
     },
     "execution_count": 61,
     "metadata": {},
     "output_type": "execute_result"
    }
   ],
   "source": [
    "plot_vacc_coverage(model_results_homo, prep_data, homogenous=True)"
   ]
  },
  {
   "cell_type": "markdown",
   "metadata": {},
   "source": [
    "# OLD"
   ]
  }
 ],
 "metadata": {
  "kernelspec": {
   "display_name": "Python 3",
   "language": "python",
   "name": "python3"
  },
  "language_info": {
   "codemirror_mode": {
    "name": "ipython",
    "version": 3
   },
   "file_extension": ".py",
   "mimetype": "text/x-python",
   "name": "python",
   "nbconvert_exporter": "python",
   "pygments_lexer": "ipython3",
   "version": "3.6.5"
  }
 },
 "nbformat": 4,
 "nbformat_minor": 2
}
