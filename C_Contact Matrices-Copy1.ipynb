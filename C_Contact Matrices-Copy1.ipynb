{
 "cells": [
  {
   "cell_type": "markdown",
   "metadata": {},
   "source": [
    "#  Meeting Matrices"
   ]
  },
  {
   "cell_type": "code",
   "execution_count": 1,
   "metadata": {
    "ExecuteTime": {
     "end_time": "2018-08-22T07:30:00.037513Z",
     "start_time": "2018-08-22T07:29:35.313340Z"
    }
   },
   "outputs": [
    {
     "ename": "ModuleNotFoundError",
     "evalue": "No module named 'impala'",
     "output_type": "error",
     "traceback": [
      "\u001b[1;31m---------------------------------------------------------------------------\u001b[0m",
      "\u001b[1;31mModuleNotFoundError\u001b[0m                       Traceback (most recent call last)",
      "\u001b[1;32m<ipython-input-1-adfd1a043d78>\u001b[0m in \u001b[0;36m<module>\u001b[1;34m()\u001b[0m\n\u001b[0;32m      4\u001b[0m \u001b[1;32mfrom\u001b[0m \u001b[0mmatplotlib\u001b[0m \u001b[1;32mimport\u001b[0m \u001b[0mpyplot\u001b[0m \u001b[1;32mas\u001b[0m \u001b[0mplt\u001b[0m\u001b[1;33m\u001b[0m\u001b[0m\n\u001b[0;32m      5\u001b[0m \u001b[0mget_ipython\u001b[0m\u001b[1;33m(\u001b[0m\u001b[1;33m)\u001b[0m\u001b[1;33m.\u001b[0m\u001b[0mrun_line_magic\u001b[0m\u001b[1;33m(\u001b[0m\u001b[1;34m'matplotlib'\u001b[0m\u001b[1;33m,\u001b[0m \u001b[1;34m'inline'\u001b[0m\u001b[1;33m)\u001b[0m\u001b[1;33m\u001b[0m\u001b[0m\n\u001b[1;32m----> 6\u001b[1;33m \u001b[1;32mimport\u001b[0m \u001b[0mnafot\u001b[0m\u001b[1;33m\u001b[0m\u001b[0m\n\u001b[0m\u001b[0;32m      7\u001b[0m \u001b[1;32mfrom\u001b[0m \u001b[0mtqdm\u001b[0m \u001b[1;32mimport\u001b[0m \u001b[0mtqdm\u001b[0m\u001b[1;33m,\u001b[0m \u001b[0mtqdm_notebook\u001b[0m\u001b[1;33m\u001b[0m\u001b[0m\n\u001b[0;32m      8\u001b[0m \u001b[1;32mimport\u001b[0m \u001b[0mpickle\u001b[0m\u001b[1;33m\u001b[0m\u001b[0m\n",
      "\u001b[1;32mD:\\LEMA Shared Folder\\Dor\\Cellular-Database\\Notebooks\\nafot\\__init__.py\u001b[0m in \u001b[0;36m<module>\u001b[1;34m()\u001b[0m\n\u001b[0;32m      1\u001b[0m \u001b[1;32mimport\u001b[0m \u001b[0mpandas\u001b[0m \u001b[1;32mas\u001b[0m \u001b[0mpd\u001b[0m\u001b[1;33m\u001b[0m\u001b[0m\n\u001b[1;32m----> 2\u001b[1;33m \u001b[1;32mfrom\u001b[0m \u001b[0mimpala\u001b[0m\u001b[1;33m.\u001b[0m\u001b[0mdbapi\u001b[0m \u001b[1;32mimport\u001b[0m \u001b[0mconnect\u001b[0m\u001b[1;33m\u001b[0m\u001b[0m\n\u001b[0m\u001b[0;32m      3\u001b[0m \u001b[1;31m# from .borders import *\u001b[0m\u001b[1;33m\u001b[0m\u001b[1;33m\u001b[0m\u001b[0m\n\u001b[0;32m      4\u001b[0m \u001b[1;32mfrom\u001b[0m \u001b[1;33m.\u001b[0m\u001b[0mcoordinates_conversion\u001b[0m \u001b[1;32mimport\u001b[0m \u001b[1;33m*\u001b[0m\u001b[1;33m\u001b[0m\u001b[0m\n\u001b[0;32m      5\u001b[0m \u001b[1;31m# from .samples import *\u001b[0m\u001b[1;33m\u001b[0m\u001b[1;33m\u001b[0m\u001b[0m\n",
      "\u001b[1;31mModuleNotFoundError\u001b[0m: No module named 'impala'"
     ]
    }
   ],
   "source": [
    "import pandas as pd\n",
    "import numpy as np\n",
    "import seaborn as sns\n",
    "from matplotlib import pyplot as plt\n",
    "%matplotlib inline\n",
    "import nafot\n",
    "from tqdm import tqdm, tqdm_notebook\n",
    "import pickle\n",
    "plt.style.use('ggplot')"
   ]
  },
  {
   "cell_type": "markdown",
   "metadata": {},
   "source": [
    "## Load raw matrix"
   ]
  },
  {
   "cell_type": "code",
   "execution_count": 5,
   "metadata": {
    "ExecuteTime": {
     "end_time": "2018-08-22T07:30:00.050511Z",
     "start_time": "2018-08-22T07:30:00.040512Z"
    }
   },
   "outputs": [],
   "source": [
    "gdf = nafot.gdf.copy()"
   ]
  },
  {
   "cell_type": "code",
   "execution_count": 6,
   "metadata": {
    "ExecuteTime": {
     "end_time": "2018-08-22T07:31:13.114230Z",
     "start_time": "2018-08-22T07:31:13.055232Z"
    }
   },
   "outputs": [],
   "source": [
    "#### Matrix A ####\n",
    "gdf = nafot.gdf.copy()\n",
    "matrix_A = np.load('../data/matrix/visit_matrix_raw_all.npy')\n",
    "\n",
    "# Save to a dataframe\n",
    "area = 'stat_area'\n",
    "areas_ids = np.array(gdf.index.values)\n",
    "matrix_A_df = pd.DataFrame(matrix_A, index=areas_ids, columns=areas_ids)"
   ]
  },
  {
   "cell_type": "markdown",
   "metadata": {},
   "source": [
    "## Statistical area level"
   ]
  },
  {
   "cell_type": "markdown",
   "metadata": {},
   "source": [
    "### Population size - by stat area"
   ]
  },
  {
   "cell_type": "code",
   "execution_count": 4,
   "metadata": {
    "ExecuteTime": {
     "end_time": "2018-04-08T10:28:14.268284Z",
     "start_time": "2018-04-08T10:28:11.026965Z"
    }
   },
   "outputs": [
    {
     "name": "stdout",
     "output_type": "stream",
     "text": [
      "Number of areas with population > 0: 1502 (out of 3070)\n",
      "\n",
      "\tAreas with population < 5: 243 areas, 482 users (0.30%)    (1259 areas remaining)\n",
      "\tAreas with population < 10: 336 areas, 1,110 users (0.69%)    (1166 areas remaining)\n",
      "\tAreas with population < 20: 448 areas, 2,771 users (1.71%)    (1054 areas remaining)\n",
      "\tAreas with population < 30: 538 areas, 4,982 users (3.08%)    (964 areas remaining)\n",
      "\tAreas with population < 50: 688 areas, 10,972 users (6.79%)    (814 areas remaining)\n"
     ]
    },
    {
     "data": {
      "image/png": "[encoded data removed]",
      "text/plain": [
       "<matplotlib.figure.Figure at 0x193e16bd198>"
      ]
     },
     "metadata": {},
     "output_type": "display_data"
    }
   ],
   "source": [
    "population_sizes = matrix_A_df.sum(1)[matrix_A_df.sum(1) > 0]\n",
    "print(f'Number of areas with population > 0: {population_sizes.size} (out of {matrix_A_df.index.size})\\n')\n",
    "for i in [5,10,20,30,50]:\n",
    "    curr_pop = population_sizes[population_sizes<i]\n",
    "    print(f'\\tAreas with population < {i}: {curr_pop.size} areas, {int(curr_pop.sum()):,d} users ({curr_pop.sum()/(matrix_A_df.sum(1).sum())*100:.2f}%)\\\n",
    "    ({population_sizes.size - curr_pop.size} areas remaining)')\n",
    "\n",
    "# Plot popoulation sizes\n",
    "pd.DataFrame(population_sizes).plot.hist(bins=1502)\n",
    "plt.xlim([0,400])\n",
    "plt.show()"
   ]
  },
  {
   "cell_type": "markdown",
   "metadata": {},
   "source": [
    "### Removing irrelevant areas"
   ]
  },
  {
   "cell_type": "code",
   "execution_count": 2,
   "metadata": {
    "ExecuteTime": {
     "end_time": "2018-04-08T10:28:14.726017Z",
     "start_time": "2018-04-08T10:28:14.658003Z"
    }
   },
   "outputs": [],
   "source": [
    "# Get the list of irrelevant stat ares (from Hasharon, Be'er Sheva and Hadera subdistricts)\n",
    "subdist_stat_area_hierarchy = nafot.get_hierarchical_list('subdistrict')\n",
    "irrelevant_areas = np.array([], dtype='int64')\n",
    "for subdist in [32,41,62]:\n",
    "    irrelevant_areas = np.append(irrelevant_areas, subdist_stat_area_hierarchy[subdist])\n",
    "    \n",
    "# Remove those areas from the raw matrix\n",
    "matrix_A_df.loc[irrelevant_areas] = 0\n",
    "matrix_A_df.loc[:,irrelevant_areas] = 0"
   ]
  },
  {
   "cell_type": "markdown",
   "metadata": {},
   "source": [
    "### Population size - by stat area - after removing irrelevant areas"
   ]
  },
  {
   "cell_type": "code",
   "execution_count": 6,
   "metadata": {
    "ExecuteTime": {
     "end_time": "2018-04-08T10:28:18.428083Z",
     "start_time": "2018-04-08T10:28:15.232083Z"
    }
   },
   "outputs": [
    {
     "name": "stdout",
     "output_type": "stream",
     "text": [
      "Number of areas with population > 0: 1411 (out of 3070) ; population: 159,693 users\n",
      "\n",
      "\tAreas with population < 5: 217 areas, 477 users (0.30%)    (1194 areas remaining)\n",
      "\tAreas with population < 10: 290 areas, 1,017 users (0.64%)    (1121 areas remaining)\n",
      "\tAreas with population < 20: 390 areas, 2,577 users (1.61%)    (1021 areas remaining)\n",
      "\tAreas with population < 30: 466 areas, 4,510 users (2.82%)    (945 areas remaining)\n",
      "\tAreas with population < 50: 606 areas, 10,202 users (6.39%)    (805 areas remaining)\n"
     ]
    },
    {
     "data": {
      "image/png": "[encoded data removed]",
      "text/plain": [
       "<matplotlib.figure.Figure at 0x193f81569e8>"
      ]
     },
     "metadata": {},
     "output_type": "display_data"
    }
   ],
   "source": [
    "population_sizes = matrix_A_df.sum(1)[matrix_A_df.sum(1) > 0]\n",
    "print(f'Number of areas with population > 0: {population_sizes.size} (out of {matrix_A_df.index.size}) ; \\\n",
    "population: {int(population_sizes.sum()):,d} users\\n')\n",
    "for i in [5,10,20,30,50]:\n",
    "    curr_pop = population_sizes[population_sizes<i]\n",
    "    print(f'\\tAreas with population < {i}: {curr_pop.size} areas, {int(curr_pop.sum()):,d} users ({curr_pop.sum()/(matrix_A_df.sum(1).sum())*100:.2f}%)\\\n",
    "    ({population_sizes.size - curr_pop.size} areas remaining)')\n",
    "\n",
    "# Plot popoulation sizes\n",
    "pd.DataFrame(population_sizes).plot.hist(bins=1411)\n",
    "plt.xlim([0,400])\n",
    "plt.show()"
   ]
  },
  {
   "cell_type": "markdown",
   "metadata": {},
   "source": [
    "### Calculate the contact matrix"
   ]
  },
  {
   "cell_type": "code",
   "execution_count": null,
   "metadata": {
    "ExecuteTime": {
     "end_time": "2018-04-08T10:27:23.393404Z",
     "start_time": "2018-04-08T10:27:15.783Z"
    }
   },
   "outputs": [],
   "source": [
    "contact_matrix_stat_area_df = nafot.visits_to_contact_matrix(matrix_A, 'stat_area')\n",
    "\n",
    "# Save the final matrix\n",
    "# contact_matrix_stat_area_df.to_csv('../data/matrix/contact_matrix_final_sample.csv')"
   ]
  },
  {
   "cell_type": "markdown",
   "metadata": {},
   "source": [
    "### Final matrix - Creating Heatmap"
   ]
  },
  {
   "cell_type": "markdown",
   "metadata": {},
   "source": [
    "#### Log Transforamtion"
   ]
  },
  {
   "cell_type": "code",
   "execution_count": 7,
   "metadata": {
    "ExecuteTime": {
     "end_time": "2018-04-08T10:28:19.103039Z",
     "start_time": "2018-04-08T10:28:18.837929Z"
    }
   },
   "outputs": [
    {
     "ename": "NameError",
     "evalue": "name 'contact_matrix_stat_area_df' is not defined",
     "output_type": "error",
     "traceback": [
      "\u001b[1;31m---------------------------------------------------------------------------\u001b[0m",
      "\u001b[1;31mNameError\u001b[0m                                 Traceback (most recent call last)",
      "\u001b[1;32m<ipython-input-7-0a83c1909be3>\u001b[0m in \u001b[0;36m<module>\u001b[1;34m()\u001b[0m\n\u001b[1;32m----> 1\u001b[1;33m \u001b[0mmeeting_mat_log_df\u001b[0m \u001b[1;33m=\u001b[0m \u001b[0mcontact_matrix_stat_area_df\u001b[0m\u001b[1;33m.\u001b[0m\u001b[0mapplymap\u001b[0m\u001b[1;33m(\u001b[0m\u001b[1;32mlambda\u001b[0m \u001b[0mx\u001b[0m\u001b[1;33m:\u001b[0m \u001b[0mnp\u001b[0m\u001b[1;33m.\u001b[0m\u001b[0mlog\u001b[0m\u001b[1;33m(\u001b[0m\u001b[1;36m25\u001b[0m\u001b[1;33m*\u001b[0m\u001b[0mx\u001b[0m\u001b[1;33m)\u001b[0m\u001b[1;33m)\u001b[0m\u001b[1;33m\u001b[0m\u001b[0m\n\u001b[0m",
      "\u001b[1;31mNameError\u001b[0m: name 'contact_matrix_stat_area_df' is not defined"
     ]
    }
   ],
   "source": [
    "meeting_mat_log_df = contact_matrix_stat_area_df.applymap(lambda x: np.log(25*x))"
   ]
  },
  {
   "cell_type": "code",
   "execution_count": 8,
   "metadata": {
    "ExecuteTime": {
     "end_time": "2017-12-09T09:15:39.460191Z",
     "start_time": "2017-12-09T09:14:57.568881Z"
    },
    "scrolled": false
   },
   "outputs": [],
   "source": [
    "# fig, ax = plt.subplots(figsize=(180,140))\n",
    "# ax.set_title(\"Contact Heat Map\")\n",
    "# heat = sns.heatmap(meeting_mat_log_df, ax=ax, cmap='YlOrRd', robust = True)\n",
    "\n",
    "# # Color bar\n",
    "# cb = fig.axes[1]\n",
    "# ticks = np.array([0.15,0.30,0.45,0.60,0.75]) \n",
    "# cb.set_yticklabels(ticks)\n",
    "\n",
    "# plt.savefig('../img/contact_heatmap_log_final_sample.png', bbox_inches=\"tight\")\n",
    "# plt.show()"
   ]
  },
  {
   "cell_type": "markdown",
   "metadata": {},
   "source": [
    "## Yeshuv level"
   ]
  },
  {
   "cell_type": "markdown",
   "metadata": {},
   "source": [
    "### Aggregate by yeshuv"
   ]
  },
  {
   "cell_type": "code",
   "execution_count": 7,
   "metadata": {
    "ExecuteTime": {
     "end_time": "2018-08-22T07:33:23.999331Z",
     "start_time": "2018-08-22T07:31:22.271322Z"
    }
   },
   "outputs": [
    {
     "name": "stderr",
     "output_type": "stream",
     "text": [
      "Columns: 100%|█████████████████████████████████████████████████████████████████████| 1235/1235 [00:13<00:00, 88.85it/s]\n",
      "Rows: 100%|████████████████████████████████████████████████████████████████████████| 1235/1235 [00:58<00:00, 21.13it/s]\n"
     ]
    }
   ],
   "source": [
    "# Get relevant level codes and names\n",
    "area_level = 'yeshuv'\n",
    "hierarchical_list = nafot.get_hierarchical_list(area_level)\n",
    "\n",
    "# Get codes column names in gdf\n",
    "code_col_names = {'district': 'DistrictCode', 'subdistrict': 'SubDistrictCode', 'yeshuv': 'SEMEL_YISH'}\n",
    "\n",
    "if area_level != 'stat_area':\n",
    "    # If the level is not stat area, add the relevant level to the location data\n",
    "    area_col = code_col_names[area_level] \n",
    "\n",
    "# Get a list of the area's ids\n",
    "areas_ids = pd.unique(gdf[area_col])\n",
    "\n",
    "# Remove NaN\n",
    "areas_ids = np.array(areas_ids[~np.isnan(areas_ids)])\n",
    "\n",
    "# Aggregate the columns\n",
    "matrix_A_agg_cols_df = pd.DataFrame(index=matrix_A_df.index, columns=areas_ids)\n",
    "for agg_area_id in tqdm(areas_ids, 'Columns'):\n",
    "    matrix_A_agg_cols_df[agg_area_id] = matrix_A_df[hierarchical_list[agg_area_id]].sum(axis=1)\n",
    "    \n",
    "# Aggregate the rows\n",
    "matrix_A_yeshuv_df = pd.DataFrame(index=areas_ids, columns=areas_ids)\n",
    "for agg_area_id in tqdm(areas_ids, 'Rows'):\n",
    "    matrix_A_yeshuv_df.loc[agg_area_id] = matrix_A_agg_cols_df.loc[hierarchical_list[agg_area_id]].sum()"
   ]
  },
  {
   "cell_type": "code",
   "execution_count": 8,
   "metadata": {
    "ExecuteTime": {
     "end_time": "2018-08-22T07:33:57.545666Z",
     "start_time": "2018-08-22T07:33:57.364442Z"
    }
   },
   "outputs": [
    {
     "data": {
      "text/plain": [
       "7          38.0\n",
       "10          5.0\n",
       "11         19.0\n",
       "13          0.0\n",
       "15         26.0\n",
       "16         12.0\n",
       "18         60.0\n",
       "21          0.0\n",
       "22         38.0\n",
       "23          2.0\n",
       "24         23.0\n",
       "26          0.0\n",
       "27          1.0\n",
       "28        228.0\n",
       "29          0.0\n",
       "31          0.0\n",
       "32         33.0\n",
       "33          0.0\n",
       "35          0.0\n",
       "36          7.0\n",
       "37         45.0\n",
       "39         12.0\n",
       "41          0.0\n",
       "43          0.0\n",
       "44         12.0\n",
       "46          0.0\n",
       "47          0.0\n",
       "48          0.0\n",
       "49          0.0\n",
       "52          1.0\n",
       "          ...  \n",
       "10014       0.0\n",
       "10015       0.0\n",
       "10016       1.0\n",
       "10018       4.0\n",
       "10020     320.0\n",
       "10025    2057.0\n",
       "10026    2936.0\n",
       "10029     147.0\n",
       "10030     100.0\n",
       "10031       9.0\n",
       "10032       1.0\n",
       "10033     491.0\n",
       "10034     249.0\n",
       "10035     391.0\n",
       "10036      48.0\n",
       "10037      38.0\n",
       "10038       2.0\n",
       "10039       4.0\n",
       "10040     446.0\n",
       "10041      35.0\n",
       "10042      33.0\n",
       "10048       0.0\n",
       "10050     527.0\n",
       "10051       0.0\n",
       "10052       0.0\n",
       "10053       0.0\n",
       "10054       0.0\n",
       "10055       0.0\n",
       "10056       0.0\n",
       "10071       0.0\n",
       "Length: 1235, dtype: float64"
      ]
     },
     "execution_count": 8,
     "metadata": {},
     "output_type": "execute_result"
    }
   ],
   "source": [
    "matrix_A_yeshuv_df.sum(1)"
   ]
  },
  {
   "cell_type": "markdown",
   "metadata": {},
   "source": [
    "### Population size - by stat yeshuv"
   ]
  },
  {
   "cell_type": "code",
   "execution_count": 10,
   "metadata": {
    "ExecuteTime": {
     "end_time": "2017-12-11T17:27:11.383496Z",
     "start_time": "2017-12-11T17:27:09.259775Z"
    }
   },
   "outputs": [
    {
     "name": "stdout",
     "output_type": "stream",
     "text": [
      "Number of areas with population > 0: 368 (out of 1235)\n",
      "\n",
      "\tAreas with population < 5: 55 areas, 119 users (0.07%)    (313 areas remaining)\n",
      "\tAreas with population < 10: 78 areas, 296 users (0.19%)    (290 areas remaining)\n",
      "\tAreas with population < 20: 128 areas, 1,070 users (0.67%)    (240 areas remaining)\n",
      "\tAreas with population < 30: 159 areas, 1,865 users (1.17%)    (209 areas remaining)\n",
      "\tAreas with population < 50: 214 areas, 3,979 users (2.49%)    (154 areas remaining)\n",
      "\tAreas with population < 100: 270 areas, 8,075 users (5.06%)    (98 areas remaining)\n"
     ]
    },
    {
     "data": {
      "image/png": "[encoded data removed]",
      "text/plain": [
       "<matplotlib.figure.Figure at 0x12a90e94dd8>"
      ]
     },
     "metadata": {},
     "output_type": "display_data"
    }
   ],
   "source": [
    "population_sizes_yeshuv = matrix_A_yeshuv_df.sum(1)[matrix_A_yeshuv_df.sum(1) > 0]\n",
    "print(f'Number of areas with population > 0: {population_sizes_yeshuv.size} (out of {matrix_A_yeshuv_df.index.size})\\n')\n",
    "for i in [5,10,20,30,50,100]:\n",
    "    curr_pop = population_sizes_yeshuv[population_sizes_yeshuv<i]\n",
    "    print(f'\\tAreas with population < {i}: {curr_pop.size} areas, {int(curr_pop.sum()):,d} users ({curr_pop.sum()/(matrix_A_df.sum(1).sum())*100:.2f}%)\\\n",
    "    ({population_sizes_yeshuv.size - curr_pop.size} areas remaining)')\n",
    "\n",
    "# Plot popoulation sizes\n",
    "pd.DataFrame(population_sizes_yeshuv).plot.hist(bins=432)\n",
    "plt.xlim([0,1000])\n",
    "plt.show()"
   ]
  },
  {
   "cell_type": "markdown",
   "metadata": {},
   "source": [
    "### Calculate contact matrix"
   ]
  },
  {
   "cell_type": "code",
   "execution_count": 11,
   "metadata": {},
   "outputs": [
    {
     "name": "stdout",
     "output_type": "stream",
     "text": [
      "Number of areas without population data (not home stat area): 530\n",
      "Number of areas without population data (home stat area): 120\n"
     ]
    },
    {
     "name": "stderr",
     "output_type": "stream",
     "text": [
      "100%|██████████| 705/705 [00:33<00:00, 21.36it/s]\n"
     ]
    }
   ],
   "source": [
    "# Matrix A\n",
    "visits_matrix_yeshuv = matrix_A_yeshuv_df.values\n",
    "\n",
    "# Calculate contact matrix\n",
    "contact_matrix_yeshuv = nafot.visits_to_contact_matrix(visits_matrix_yeshuv, 'yeshuv')\n",
    "\n",
    "# Save the final matrix\n",
    "contact_matrix_yeshuv.to_csv('../data/matrix/contact_matrix_final_sample_yeshuv.csv')"
   ]
  },
  {
   "cell_type": "markdown",
   "metadata": {},
   "source": [
    "## Subdistrict level"
   ]
  },
  {
   "cell_type": "markdown",
   "metadata": {},
   "source": [
    "### Aggregate by subdist"
   ]
  },
  {
   "cell_type": "code",
   "execution_count": 8,
   "metadata": {
    "ExecuteTime": {
     "end_time": "2018-04-08T10:28:39.020952Z",
     "start_time": "2018-04-08T10:28:38.688168Z"
    }
   },
   "outputs": [],
   "source": [
    "# Get relevant level codes and names\n",
    "area_level = 'subdistrict'\n",
    "hierarchical_list = nafot.get_hierarchical_list(area_level)\n",
    "\n",
    "# Get codes column names in gdf\n",
    "code_col_names = {'district': 'DistrictCode', 'subdistrict': 'SubDistrictCode', 'yeshuv': 'SEMEL_YISH'}\n",
    "\n",
    "if area_level != 'stat_area':\n",
    "    # If the level is not stat area, add the relevant level to the location data\n",
    "    area_col = code_col_names[area_level] \n",
    "\n",
    "# Get a list of the area's ids\n",
    "areas_ids = pd.unique(gdf[area_col])\n",
    "\n",
    "# Remove NaN\n",
    "areas_ids = np.array(areas_ids[~np.isnan(areas_ids)])\n",
    "\n",
    "# Aggregate the columns\n",
    "matrix_A_agg_cols_df = pd.DataFrame(index=matrix_A_df.index, columns=areas_ids)\n",
    "for agg_area_id in areas_ids:\n",
    "    matrix_A_agg_cols_df[agg_area_id] = matrix_A_df[hierarchical_list[agg_area_id]].sum(axis=1)\n",
    "\n",
    "# Aggregate the rows\n",
    "matrix_A_subdist_df = pd.DataFrame(index=areas_ids, columns=areas_ids)\n",
    "for agg_area_id in areas_ids:\n",
    "    matrix_A_subdist_df.loc[agg_area_id] = matrix_A_agg_cols_df.loc[hierarchical_list[agg_area_id]].sum()"
   ]
  },
  {
   "cell_type": "code",
   "execution_count": 11,
   "metadata": {
    "ExecuteTime": {
     "end_time": "2018-04-08T10:29:02.239601Z",
     "start_time": "2018-04-08T10:29:02.230599Z"
    }
   },
   "outputs": [
    {
     "data": {
      "text/plain": [
       "61.0     8703.730677\n",
       "11.0    20252.536305\n",
       "62.0        0.000000\n",
       "51.0    64477.927725\n",
       "21.0        0.000000\n",
       "44.0     5603.201805\n",
       "32.0        0.000000\n",
       "41.0        0.000000\n",
       "22.0        0.000000\n",
       "43.0    15299.265429\n",
       "23.0        0.000000\n",
       "31.0        0.000000\n",
       "42.0    40633.829994\n",
       "24.0        0.000000\n",
       "77.0     4723.403773\n",
       "29.0        0.000000\n",
       "dtype: float64"
      ]
     },
     "execution_count": 11,
     "metadata": {},
     "output_type": "execute_result"
    }
   ],
   "source": [
    "matrix_A_subdist_df.sum(1)"
   ]
  },
  {
   "cell_type": "markdown",
   "metadata": {},
   "source": [
    "### Population size - by subdistrict"
   ]
  },
  {
   "cell_type": "code",
   "execution_count": 13,
   "metadata": {},
   "outputs": [
    {
     "data": {
      "text/plain": [
       "62.0        0.000000\n",
       "21.0        0.000000\n",
       "32.0        0.000000\n",
       "41.0        0.000000\n",
       "22.0        0.000000\n",
       "23.0        0.000000\n",
       "31.0        0.000000\n",
       "24.0        0.000000\n",
       "29.0        0.000000\n",
       "77.0     4723.403773\n",
       "44.0     5603.201805\n",
       "61.0     8703.730677\n",
       "43.0    15299.265429\n",
       "11.0    20252.536305\n",
       "42.0    40633.829994\n",
       "51.0    64477.927725\n",
       "dtype: float64"
      ]
     },
     "execution_count": 13,
     "metadata": {},
     "output_type": "execute_result"
    }
   ],
   "source": [
    "# Population size\n",
    "matrix_A_subdist_df.sum(1).sort_values()"
   ]
  },
  {
   "cell_type": "markdown",
   "metadata": {},
   "source": [
    "### Calculate contact matrix"
   ]
  },
  {
   "cell_type": "code",
   "execution_count": 14,
   "metadata": {},
   "outputs": [
    {
     "name": "stdout",
     "output_type": "stream",
     "text": [
      "Number of areas without population data (not home stat area): 0\n",
      "Number of areas without population data (home stat area): 0\n"
     ]
    },
    {
     "name": "stderr",
     "output_type": "stream",
     "text": [
      "100%|██████████| 16/16 [00:00<00:00, 3215.72it/s]\n"
     ]
    }
   ],
   "source": [
    "# Matrix A\n",
    "visits_matrix_subdist = matrix_A_subdist_df.values\n",
    "\n",
    "# Calculate contact matrix\n",
    "contact_matrix_subdist = nafot.visits_to_contact_matrix(visits_matrix_subdist, 'subdistrict')\n",
    "\n",
    "# Save the final matrix\n",
    "contact_matrix_subdist.to_csv('../data/matrix/contact_matrix_final_sample_subdist.csv')"
   ]
  },
  {
   "cell_type": "markdown",
   "metadata": {},
   "source": [
    "## Sparse areas"
   ]
  },
  {
   "cell_type": "code",
   "execution_count": 15,
   "metadata": {},
   "outputs": [],
   "source": [
    "# Get stat areas with less than 30 users\n",
    "sparse_areas = population_sizes[population_sizes < 30].index\n",
    "\n",
    "# Get sparse yeshuvim\n",
    "sparse_yeshuvim = population_sizes_yeshuv[population_sizes_yeshuv < 30].index\n",
    "\n",
    "# Get sparse stat areas' yesuv \n",
    "sparse_areas_yeshuv = [gdf.loc[area]['SEMEL_YISH'] for area in sparse_areas]\n",
    "\n",
    "# Get sparse stat areas' subdistrict \n",
    "sparse_areas_subdist = [gdf.loc[area]['SubDistrictCode'] for area in sparse_areas]"
   ]
  },
  {
   "cell_type": "markdown",
   "metadata": {},
   "source": [
    "Use higher hirarchy instead of the sparse areas"
   ]
  },
  {
   "cell_type": "code",
   "execution_count": 18,
   "metadata": {},
   "outputs": [],
   "source": [
    "# initialize a dictionary\n",
    "sparse_area_dict = {}\n",
    "\n",
    "# Go over the sparse areas\n",
    "for i, area in enumerate(sparse_areas):\n",
    "    # If the stat area's yeshuv is also sparse, use the subdistrict\n",
    "    if sparse_areas_yeshuv[i] in sparse_yeshuvim:\n",
    "        sparse_area_dict[area] = ['subdistrict', sparse_areas_subdist[i]]\n",
    "    # If the stat area's yeshuv is not sparse, use it\n",
    "    else:\n",
    "        sparse_area_dict[area] = ['yeshuv', sparse_areas_yeshuv[i]]\n",
    "        \n",
    "# Saving the dict\n",
    "with open('../data/sparse_areas.pickle','wb') as pickle_out:\n",
    "    pickle.dump(sparse_area_dict, pickle_out)\n",
    "\n",
    "# Loading the dict\n",
    "# with open('../data/sparse_areas.pickle','rb') as pickle_in:\n",
    "#     sparse_ares_dict = pickle.load(pickle_in)"
   ]
  },
  {
   "cell_type": "code",
   "execution_count": null,
   "metadata": {},
   "outputs": [],
   "source": []
  },
  {
   "cell_type": "code",
   "execution_count": 50,
   "metadata": {},
   "outputs": [],
   "source": []
  },
  {
   "cell_type": "markdown",
   "metadata": {},
   "source": [
    "# Updated till here"
   ]
  },
  {
   "cell_type": "markdown",
   "metadata": {},
   "source": [
    "# Religion Contact Matrix"
   ]
  },
  {
   "cell_type": "markdown",
   "metadata": {},
   "source": [
    "#### Aggregate the columns"
   ]
  },
  {
   "cell_type": "code",
   "execution_count": 24,
   "metadata": {
    "collapsed": true
   },
   "outputs": [],
   "source": [
    "religions = list(nafot.religion_dict.values())"
   ]
  },
  {
   "cell_type": "code",
   "execution_count": 25,
   "metadata": {
    "collapsed": true
   },
   "outputs": [],
   "source": [
    "religion_agg_cols_df = pd.DataFrame(index=matrix_A_df.index, columns=religions)\n",
    "\n",
    "for rel in religions:\n",
    "    religion_agg_cols_df[rel] = matrix_A_df[gdf[gdf.religion == rel].index.values].sum(axis=1)"
   ]
  },
  {
   "cell_type": "markdown",
   "metadata": {},
   "source": [
    "#### Aggregate the rows"
   ]
  },
  {
   "cell_type": "code",
   "execution_count": 26,
   "metadata": {
    "collapsed": true
   },
   "outputs": [],
   "source": [
    "religion_agg_df = pd.DataFrame(index=religions, columns=religions)\n",
    "\n",
    "for rel in religions:\n",
    "    religion_agg_df.loc[rel] = religion_agg_cols_df.loc[gdf[gdf.religion == rel].index.values].sum()"
   ]
  },
  {
   "cell_type": "code",
   "execution_count": 27,
   "metadata": {
    "collapsed": true
   },
   "outputs": [],
   "source": [
    "# Save the final matrix\n",
    "meeting_matrix_subdist.to_csv('../data/matrix/sample1+2_final_matrix_.csv')        "
   ]
  },
  {
   "cell_type": "code",
   "execution_count": 28,
   "metadata": {
    "scrolled": true
   },
   "outputs": [
    {
     "name": "stdout",
     "output_type": "stream",
     "text": [
      "Number of areas without population data (not home stat area): 0\n",
      "Number of areas without population data (home stat area): 0\n",
      "\n"
     ]
    }
   ],
   "source": [
    "#### Matrix A ####\n",
    "visits_matrix_religion = religion_agg_df.values\n",
    "\n",
    "contat_mat_religion = vists_to_contact_matrix(visits_matrix_religion, 'religion')"
   ]
  },
  {
   "cell_type": "code",
   "execution_count": 29,
   "metadata": {
    "collapsed": true
   },
   "outputs": [],
   "source": [
    "# Save the final matrix\n",
    "# meeting_matrix_subdist.to_csv('../data/matrix/sample1+2_final_matrix_religion.csv')        "
   ]
  },
  {
   "cell_type": "code",
   "execution_count": 30,
   "metadata": {
    "collapsed": true
   },
   "outputs": [],
   "source": [
    "contat_mat_religion_log_df = contat_mat_religion.applymap(lambda x: np.log(25*x))"
   ]
  },
  {
   "cell_type": "markdown",
   "metadata": {},
   "source": [
    "## Religion matrix - Creating Heatmap"
   ]
  },
  {
   "cell_type": "code",
   "execution_count": 31,
   "metadata": {},
   "outputs": [
    {
     "data": {
      "text/html": [
       "<div>\n",
       "<style>\n",
       "    .dataframe thead tr:only-child th {\n",
       "        text-align: right;\n",
       "    }\n",
       "\n",
       "    .dataframe thead th {\n",
       "        text-align: left;\n",
       "    }\n",
       "\n",
       "    .dataframe tbody tr th {\n",
       "        vertical-align: top;\n",
       "    }\n",
       "</style>\n",
       "<table border=\"1\" class=\"dataframe\">\n",
       "  <thead>\n",
       "    <tr style=\"text-align: right;\">\n",
       "      <th></th>\n",
       "      <th>Jewish</th>\n",
       "      <th>Muslim</th>\n",
       "    </tr>\n",
       "  </thead>\n",
       "  <tbody>\n",
       "    <tr>\n",
       "      <th>Jewish</th>\n",
       "      <td>0.891640</td>\n",
       "      <td>0.039986</td>\n",
       "    </tr>\n",
       "    <tr>\n",
       "      <th>Muslim</th>\n",
       "      <td>0.370733</td>\n",
       "      <td>0.322009</td>\n",
       "    </tr>\n",
       "  </tbody>\n",
       "</table>\n",
       "</div>"
      ],
      "text/plain": [
       "          Jewish    Muslim\n",
       "Jewish  0.891640  0.039986\n",
       "Muslim  0.370733  0.322009"
      ]
     },
     "execution_count": 31,
     "metadata": {},
     "output_type": "execute_result"
    }
   ],
   "source": [
    "contat_mat_religion"
   ]
  },
  {
   "cell_type": "code",
   "execution_count": 32,
   "metadata": {
    "scrolled": false
   },
   "outputs": [
    {
     "data": {
      "image/png": "[encoded data removed]",
      "text/plain": [
       "<matplotlib.figure.Figure at 0x1740bb087b8>"
      ]
     },
     "metadata": {},
     "output_type": "display_data"
    }
   ],
   "source": [
    "fig, ax = plt.subplots(figsize=(18,14))\n",
    "ax.set_title(\"Contact Heat Map - Religion\", {'fontsize': 25, 'position': (0.5,1.02)})\n",
    "heat = sns.heatmap(contat_mat_religion, ax=ax, cmap='YlOrRd', robust = True)\n",
    "ax.tick_params(labelsize=15)\n",
    "\n",
    "# Color bar\n",
    "cb = fig.axes[1]\n",
    "ticks = np.array([0.15,0.30,0.45,0.60,0.75]) \n",
    "cb.set_yticklabels(ticks)\n",
    "\n",
    "# plt.savefig('../img/contact_heatmap_religion_sample1+2.png', bbox_inches=\"tight\")\n",
    "plt.show()"
   ]
  },
  {
   "cell_type": "markdown",
   "metadata": {},
   "source": [
    "# Religion with Orthodox Contact Matrix"
   ]
  },
  {
   "cell_type": "markdown",
   "metadata": {},
   "source": [
    "#### Aggregate the columns"
   ]
  },
  {
   "cell_type": "code",
   "execution_count": 33,
   "metadata": {
    "collapsed": true
   },
   "outputs": [],
   "source": [
    "rels_with_ort = religion_with_orthodox.columns[:-1]\n",
    "# Get only relevant areas in matrix A (only area with religion data)\n",
    "matrix_A_df_rel = matrix_A_df.loc[religion_with_orthodox.index.values][religion_with_orthodox.index.values].copy()"
   ]
  },
  {
   "cell_type": "code",
   "execution_count": 34,
   "metadata": {
    "collapsed": true
   },
   "outputs": [],
   "source": [
    "rel_agg_cols_df = pd.DataFrame(index=matrix_A_df_rel.index, columns=rels_with_ort)\n",
    "for rel in rels_with_ort:\n",
    "    rel_agg_cols_df[rel] = matrix_A_df_rel.multiply(religion_with_orthodox[rel], axis='columns').sum(axis=1)"
   ]
  },
  {
   "cell_type": "markdown",
   "metadata": {},
   "source": [
    "#### Aggregate the rows"
   ]
  },
  {
   "cell_type": "code",
   "execution_count": 35,
   "metadata": {
    "collapsed": true
   },
   "outputs": [],
   "source": [
    "rel_agg_df = pd.DataFrame(index=rels_with_ort, columns=rels_with_ort)\n",
    "for rel in rels_with_ort:\n",
    "    rel_agg_df.loc[rel] = rel_agg_cols_df.multiply(religion_with_orthodox[rel], axis='rows').sum()"
   ]
  },
  {
   "cell_type": "code",
   "execution_count": 36,
   "metadata": {},
   "outputs": [
    {
     "data": {
      "text/html": [
       "<div>\n",
       "<style>\n",
       "    .dataframe thead tr:only-child th {\n",
       "        text-align: right;\n",
       "    }\n",
       "\n",
       "    .dataframe thead th {\n",
       "        text-align: left;\n",
       "    }\n",
       "\n",
       "    .dataframe tbody tr th {\n",
       "        vertical-align: top;\n",
       "    }\n",
       "</style>\n",
       "<table border=\"1\" class=\"dataframe\">\n",
       "  <thead>\n",
       "    <tr style=\"text-align: right;\">\n",
       "      <th></th>\n",
       "      <th>Jewish Orthodox</th>\n",
       "      <th>Jewish Non-Orthodox</th>\n",
       "      <th>Muslim</th>\n",
       "      <th>Christian</th>\n",
       "      <th>Druze</th>\n",
       "      <th>Other</th>\n",
       "    </tr>\n",
       "  </thead>\n",
       "  <tbody>\n",
       "    <tr>\n",
       "      <th>Jewish Orthodox</th>\n",
       "      <td>168.6</td>\n",
       "      <td>183.116</td>\n",
       "      <td>4.00156</td>\n",
       "      <td>0</td>\n",
       "      <td>0</td>\n",
       "      <td>0</td>\n",
       "    </tr>\n",
       "    <tr>\n",
       "      <th>Jewish Non-Orthodox</th>\n",
       "      <td>192.056</td>\n",
       "      <td>2652.35</td>\n",
       "      <td>53.2525</td>\n",
       "      <td>0</td>\n",
       "      <td>0</td>\n",
       "      <td>0</td>\n",
       "    </tr>\n",
       "    <tr>\n",
       "      <th>Muslim</th>\n",
       "      <td>2.57879</td>\n",
       "      <td>36.6808</td>\n",
       "      <td>131.034</td>\n",
       "      <td>0</td>\n",
       "      <td>0</td>\n",
       "      <td>0</td>\n",
       "    </tr>\n",
       "    <tr>\n",
       "      <th>Christian</th>\n",
       "      <td>0</td>\n",
       "      <td>0</td>\n",
       "      <td>0</td>\n",
       "      <td>0</td>\n",
       "      <td>0</td>\n",
       "      <td>0</td>\n",
       "    </tr>\n",
       "    <tr>\n",
       "      <th>Druze</th>\n",
       "      <td>0</td>\n",
       "      <td>0</td>\n",
       "      <td>0</td>\n",
       "      <td>0</td>\n",
       "      <td>0</td>\n",
       "      <td>0</td>\n",
       "    </tr>\n",
       "    <tr>\n",
       "      <th>Other</th>\n",
       "      <td>0</td>\n",
       "      <td>0</td>\n",
       "      <td>0</td>\n",
       "      <td>0</td>\n",
       "      <td>0</td>\n",
       "      <td>0</td>\n",
       "    </tr>\n",
       "  </tbody>\n",
       "</table>\n",
       "</div>"
      ],
      "text/plain": [
       "                    Jewish Orthodox Jewish Non-Orthodox   Muslim Christian  \\\n",
       "Jewish Orthodox               168.6             183.116  4.00156         0   \n",
       "Jewish Non-Orthodox         192.056             2652.35  53.2525         0   \n",
       "Muslim                      2.57879             36.6808  131.034         0   \n",
       "Christian                         0                   0        0         0   \n",
       "Druze                             0                   0        0         0   \n",
       "Other                             0                   0        0         0   \n",
       "\n",
       "                    Druze Other  \n",
       "Jewish Orthodox         0     0  \n",
       "Jewish Non-Orthodox     0     0  \n",
       "Muslim                  0     0  \n",
       "Christian               0     0  \n",
       "Druze                   0     0  \n",
       "Other                   0     0  "
      ]
     },
     "execution_count": 36,
     "metadata": {},
     "output_type": "execute_result"
    }
   ],
   "source": [
    "rel_agg_df"
   ]
  },
  {
   "cell_type": "code",
   "execution_count": 37,
   "metadata": {},
   "outputs": [
    {
     "name": "stdout",
     "output_type": "stream",
     "text": [
      "Number of areas without population data (not home stat area): 0\n",
      "Number of areas without population data (home stat area): 0\n",
      "\n"
     ]
    }
   ],
   "source": [
    "contat_mat_rel = vists_to_contact_matrix(rel_agg_df.values, 'religion_with_orthodox')"
   ]
  },
  {
   "cell_type": "code",
   "execution_count": 38,
   "metadata": {},
   "outputs": [
    {
     "data": {
      "text/html": [
       "<div>\n",
       "<style>\n",
       "    .dataframe thead tr:only-child th {\n",
       "        text-align: right;\n",
       "    }\n",
       "\n",
       "    .dataframe thead th {\n",
       "        text-align: left;\n",
       "    }\n",
       "\n",
       "    .dataframe tbody tr th {\n",
       "        vertical-align: top;\n",
       "    }\n",
       "</style>\n",
       "<table border=\"1\" class=\"dataframe\">\n",
       "  <thead>\n",
       "    <tr style=\"text-align: right;\">\n",
       "      <th></th>\n",
       "      <th>Jewish Orthodox</th>\n",
       "      <th>Jewish Non-Orthodox</th>\n",
       "      <th>Muslim</th>\n",
       "    </tr>\n",
       "  </thead>\n",
       "  <tbody>\n",
       "    <tr>\n",
       "      <th>Jewish Orthodox</th>\n",
       "      <td>0.134864</td>\n",
       "      <td>0.416340</td>\n",
       "      <td>0.016176</td>\n",
       "    </tr>\n",
       "    <tr>\n",
       "      <th>Jewish Non-Orthodox</th>\n",
       "      <td>0.051755</td>\n",
       "      <td>0.717012</td>\n",
       "      <td>0.027170</td>\n",
       "    </tr>\n",
       "    <tr>\n",
       "      <th>Muslim</th>\n",
       "      <td>0.012121</td>\n",
       "      <td>0.169599</td>\n",
       "      <td>0.554450</td>\n",
       "    </tr>\n",
       "  </tbody>\n",
       "</table>\n",
       "</div>"
      ],
      "text/plain": [
       "                     Jewish Orthodox  Jewish Non-Orthodox    Muslim\n",
       "Jewish Orthodox             0.134864             0.416340  0.016176\n",
       "Jewish Non-Orthodox         0.051755             0.717012  0.027170\n",
       "Muslim                      0.012121             0.169599  0.554450"
      ]
     },
     "execution_count": 38,
     "metadata": {},
     "output_type": "execute_result"
    }
   ],
   "source": [
    "contat_mat_rel"
   ]
  },
  {
   "cell_type": "code",
   "execution_count": 39,
   "metadata": {},
   "outputs": [
    {
     "data": {
      "text/html": [
       "<div>\n",
       "<style>\n",
       "    .dataframe thead tr:only-child th {\n",
       "        text-align: right;\n",
       "    }\n",
       "\n",
       "    .dataframe thead th {\n",
       "        text-align: left;\n",
       "    }\n",
       "\n",
       "    .dataframe tbody tr th {\n",
       "        vertical-align: top;\n",
       "    }\n",
       "</style>\n",
       "<table border=\"1\" class=\"dataframe\">\n",
       "  <thead>\n",
       "    <tr style=\"text-align: right;\">\n",
       "      <th></th>\n",
       "      <th>Jewish Orthodox</th>\n",
       "      <th>Jewish Non-Orthodox</th>\n",
       "      <th>Muslim</th>\n",
       "    </tr>\n",
       "  </thead>\n",
       "  <tbody>\n",
       "    <tr>\n",
       "      <th>Jewish Orthodox</th>\n",
       "      <td>0.237696</td>\n",
       "      <td>0.733794</td>\n",
       "      <td>0.028510</td>\n",
       "    </tr>\n",
       "    <tr>\n",
       "      <th>Jewish Non-Orthodox</th>\n",
       "      <td>0.065024</td>\n",
       "      <td>0.900840</td>\n",
       "      <td>0.034136</td>\n",
       "    </tr>\n",
       "    <tr>\n",
       "      <th>Muslim</th>\n",
       "      <td>0.016466</td>\n",
       "      <td>0.230380</td>\n",
       "      <td>0.753154</td>\n",
       "    </tr>\n",
       "  </tbody>\n",
       "</table>\n",
       "</div>"
      ],
      "text/plain": [
       "                     Jewish Orthodox  Jewish Non-Orthodox    Muslim\n",
       "Jewish Orthodox             0.237696             0.733794  0.028510\n",
       "Jewish Non-Orthodox         0.065024             0.900840  0.034136\n",
       "Muslim                      0.016466             0.230380  0.753154"
      ]
     },
     "execution_count": 39,
     "metadata": {},
     "output_type": "execute_result"
    }
   ],
   "source": [
    "\n",
    "contat_mat_rel_norm = contat_mat_rel.values.copy() \n",
    "for i in range(contat_mat_rel_norm.shape[0]):\n",
    "    if contat_mat_rel_norm[i].sum() > 0:\n",
    "        contat_mat_rel_norm[i] = contat_mat_rel_norm[i] / (contat_mat_rel_norm[i].sum())\n",
    "        \n",
    "contat_mat_rel_norm = pd.DataFrame(contat_mat_rel_norm, index=contat_mat_rel.index, columns=contat_mat_rel.columns)\n",
    "contat_mat_rel_norm"
   ]
  },
  {
   "cell_type": "code",
   "execution_count": 40,
   "metadata": {
    "collapsed": true
   },
   "outputs": [],
   "source": [
    "# Save the final matrix\n",
    "# contat_mat_edu.to_csv('../data/matrix/sample1+2_final_matrix_religion_with_orthodox.csv')        "
   ]
  },
  {
   "cell_type": "markdown",
   "metadata": {},
   "source": [
    "## Religion with Orthodox Contact Matrix - Creating Heatmap"
   ]
  },
  {
   "cell_type": "code",
   "execution_count": 41,
   "metadata": {
    "collapsed": true
   },
   "outputs": [],
   "source": [
    "contat_mat_rel_log_df = contat_mat_rel_norm.applymap(lambda x: np.log(10*x))"
   ]
  },
  {
   "cell_type": "code",
   "execution_count": 42,
   "metadata": {
    "scrolled": false
   },
   "outputs": [
    {
     "data": {
      "image/png": "[encoded data removed]",
      "text/plain": [
       "<matplotlib.figure.Figure at 0x1740a068ac8>"
      ]
     },
     "metadata": {},
     "output_type": "display_data"
    }
   ],
   "source": [
    "fig, ax = plt.subplots(figsize=(18,14))\n",
    "ax.set_title(\"Contact Heat Map - Religion with Orthodox\", {'fontsize': 25, 'position': (0.5,1.02)})\n",
    "heat = sns.heatmap(contat_mat_rel_log_df, ax=ax, cmap='YlOrRd', robust = True)\n",
    "ax.tick_params(labelsize=15)\n",
    "plt.xticks(rotation='vertical')\n",
    "plt.yticks(rotation='horizontal')\n",
    "\n",
    "\n",
    "# Color bar\n",
    "cb = fig.axes[1]\n",
    "ticks = np.array([0.15,0.30,0.45,0.60,0.75]) \n",
    "cb.set_yticklabels(ticks)\n",
    "\n",
    "# plt.savefig('../img/contact_heatmap_religion_with_orthodox_sample1+2.png', bbox_inches=\"tight\")\n",
    "plt.show()"
   ]
  },
  {
   "cell_type": "markdown",
   "metadata": {},
   "source": [
    "# Education"
   ]
  },
  {
   "cell_type": "code",
   "execution_count": 43,
   "metadata": {
    "collapsed": true
   },
   "outputs": [],
   "source": [
    "edu_levels = education.columns[:-1]"
   ]
  },
  {
   "cell_type": "code",
   "execution_count": 44,
   "metadata": {
    "collapsed": true
   },
   "outputs": [],
   "source": [
    "pop_d = {col: ((education[col]*education.pop_thou).sum()*1000) for col in edu_levels}"
   ]
  },
  {
   "cell_type": "code",
   "execution_count": 45,
   "metadata": {},
   "outputs": [
    {
     "data": {
      "text/plain": [
       "{'Acadm1Cert_pcnt': 918694.2999999998,\n",
       " 'Acadm2Cert_pcnt': 548456.3999999999,\n",
       " 'MatricCert_pcnt': 1481125.9999999986,\n",
       " 'OtherCertA_pcnt': 1715830.599999998,\n",
       " 'PostSecondaryCert_pcnt': 802108.7999999999,\n",
       " 'SecondaryCert_pcnt': 1089027.9999999995}"
      ]
     },
     "execution_count": 45,
     "metadata": {},
     "output_type": "execute_result"
    }
   ],
   "source": [
    "pop_d"
   ]
  },
  {
   "cell_type": "code",
   "execution_count": 46,
   "metadata": {},
   "outputs": [
    {
     "data": {
      "text/plain": [
       "6555244.099999996"
      ]
     },
     "execution_count": 46,
     "metadata": {},
     "output_type": "execute_result"
    }
   ],
   "source": [
    "sum(pop_d.values())"
   ]
  },
  {
   "cell_type": "markdown",
   "metadata": {},
   "source": [
    "#### Aggregate the columns"
   ]
  },
  {
   "cell_type": "code",
   "execution_count": 47,
   "metadata": {
    "collapsed": true
   },
   "outputs": [],
   "source": [
    "edu_levels = education.columns[:-1]\n",
    "# Get only relevant areas in matrix A (only area with education data)\n",
    "matrix_A_df_edu = matrix_A_df.loc[education.index.values][education.index.values].copy()"
   ]
  },
  {
   "cell_type": "code",
   "execution_count": 48,
   "metadata": {
    "collapsed": true
   },
   "outputs": [],
   "source": [
    "edu_agg_cols_df = pd.DataFrame(index=matrix_A_df_edu.index, columns=edu_levels)\n",
    "\n",
    "for ed_lvl in edu_levels:\n",
    "    edu_agg_cols_df[ed_lvl] = matrix_A_df_edu.multiply(education[ed_lvl], axis='columns').sum(axis=1)"
   ]
  },
  {
   "cell_type": "markdown",
   "metadata": {},
   "source": [
    "#### Aggregate the rows"
   ]
  },
  {
   "cell_type": "code",
   "execution_count": 49,
   "metadata": {
    "collapsed": true
   },
   "outputs": [],
   "source": [
    "edu_agg_df = pd.DataFrame(index=edu_levels, columns=edu_levels)\n",
    "for ed_lvl in edu_levels:\n",
    "    edu_agg_df.loc[ed_lvl] = edu_agg_cols_df.multiply(education[ed_lvl], axis='rows').sum()"
   ]
  },
  {
   "cell_type": "code",
   "execution_count": 50,
   "metadata": {},
   "outputs": [
    {
     "data": {
      "text/html": [
       "<div>\n",
       "<style>\n",
       "    .dataframe thead tr:only-child th {\n",
       "        text-align: right;\n",
       "    }\n",
       "\n",
       "    .dataframe thead th {\n",
       "        text-align: left;\n",
       "    }\n",
       "\n",
       "    .dataframe tbody tr th {\n",
       "        vertical-align: top;\n",
       "    }\n",
       "</style>\n",
       "<table border=\"1\" class=\"dataframe\">\n",
       "  <thead>\n",
       "    <tr style=\"text-align: right;\">\n",
       "      <th></th>\n",
       "      <th>SecondaryCert_pcnt</th>\n",
       "      <th>MatricCert_pcnt</th>\n",
       "      <th>PostSecondaryCert_pcnt</th>\n",
       "      <th>Acadm1Cert_pcnt</th>\n",
       "      <th>Acadm2Cert_pcnt</th>\n",
       "      <th>OtherCertA_pcnt</th>\n",
       "    </tr>\n",
       "  </thead>\n",
       "  <tbody>\n",
       "    <tr>\n",
       "      <th>SecondaryCert_pcnt</th>\n",
       "      <td>162.507</td>\n",
       "      <td>206.895</td>\n",
       "      <td>97.9315</td>\n",
       "      <td>141.402</td>\n",
       "      <td>84.4485</td>\n",
       "      <td>194.054</td>\n",
       "    </tr>\n",
       "    <tr>\n",
       "      <th>MatricCert_pcnt</th>\n",
       "      <td>206.994</td>\n",
       "      <td>339.654</td>\n",
       "      <td>145.575</td>\n",
       "      <td>256.736</td>\n",
       "      <td>156.853</td>\n",
       "      <td>265.722</td>\n",
       "    </tr>\n",
       "    <tr>\n",
       "      <th>PostSecondaryCert_pcnt</th>\n",
       "      <td>99.0855</td>\n",
       "      <td>146.89</td>\n",
       "      <td>78.9442</td>\n",
       "      <td>113.561</td>\n",
       "      <td>69.4034</td>\n",
       "      <td>131.335</td>\n",
       "    </tr>\n",
       "    <tr>\n",
       "      <th>Acadm1Cert_pcnt</th>\n",
       "      <td>141.315</td>\n",
       "      <td>256.595</td>\n",
       "      <td>112.544</td>\n",
       "      <td>228.272</td>\n",
       "      <td>138.363</td>\n",
       "      <td>180.595</td>\n",
       "    </tr>\n",
       "    <tr>\n",
       "      <th>Acadm2Cert_pcnt</th>\n",
       "      <td>84.3855</td>\n",
       "      <td>156.94</td>\n",
       "      <td>68.8423</td>\n",
       "      <td>138.434</td>\n",
       "      <td>90.3318</td>\n",
       "      <td>107.916</td>\n",
       "    </tr>\n",
       "    <tr>\n",
       "      <th>OtherCertA_pcnt</th>\n",
       "      <td>192.835</td>\n",
       "      <td>262.905</td>\n",
       "      <td>128.846</td>\n",
       "      <td>178.742</td>\n",
       "      <td>106.763</td>\n",
       "      <td>281.398</td>\n",
       "    </tr>\n",
       "  </tbody>\n",
       "</table>\n",
       "</div>"
      ],
      "text/plain": [
       "                       SecondaryCert_pcnt MatricCert_pcnt  \\\n",
       "SecondaryCert_pcnt                162.507         206.895   \n",
       "MatricCert_pcnt                   206.994         339.654   \n",
       "PostSecondaryCert_pcnt            99.0855          146.89   \n",
       "Acadm1Cert_pcnt                   141.315         256.595   \n",
       "Acadm2Cert_pcnt                   84.3855          156.94   \n",
       "OtherCertA_pcnt                   192.835         262.905   \n",
       "\n",
       "                       PostSecondaryCert_pcnt Acadm1Cert_pcnt Acadm2Cert_pcnt  \\\n",
       "SecondaryCert_pcnt                    97.9315         141.402         84.4485   \n",
       "MatricCert_pcnt                       145.575         256.736         156.853   \n",
       "PostSecondaryCert_pcnt                78.9442         113.561         69.4034   \n",
       "Acadm1Cert_pcnt                       112.544         228.272         138.363   \n",
       "Acadm2Cert_pcnt                       68.8423         138.434         90.3318   \n",
       "OtherCertA_pcnt                       128.846         178.742         106.763   \n",
       "\n",
       "                       OtherCertA_pcnt  \n",
       "SecondaryCert_pcnt             194.054  \n",
       "MatricCert_pcnt                265.722  \n",
       "PostSecondaryCert_pcnt         131.335  \n",
       "Acadm1Cert_pcnt                180.595  \n",
       "Acadm2Cert_pcnt                107.916  \n",
       "OtherCertA_pcnt                281.398  "
      ]
     },
     "execution_count": 50,
     "metadata": {},
     "output_type": "execute_result"
    }
   ],
   "source": [
    "edu_agg_df"
   ]
  },
  {
   "cell_type": "code",
   "execution_count": 51,
   "metadata": {},
   "outputs": [
    {
     "name": "stdout",
     "output_type": "stream",
     "text": [
      "Number of areas without population data (not home stat area): 0\n",
      "Number of areas without population data (home stat area): 0\n",
      "\n"
     ]
    }
   ],
   "source": [
    "contat_mat_edu = vists_to_contact_matrix(edu_agg_df.values, 'education')"
   ]
  },
  {
   "cell_type": "code",
   "execution_count": 52,
   "metadata": {},
   "outputs": [
    {
     "data": {
      "text/html": [
       "<div>\n",
       "<style>\n",
       "    .dataframe thead tr:only-child th {\n",
       "        text-align: right;\n",
       "    }\n",
       "\n",
       "    .dataframe thead th {\n",
       "        text-align: left;\n",
       "    }\n",
       "\n",
       "    .dataframe tbody tr th {\n",
       "        vertical-align: top;\n",
       "    }\n",
       "</style>\n",
       "<table border=\"1\" class=\"dataframe\">\n",
       "  <thead>\n",
       "    <tr style=\"text-align: right;\">\n",
       "      <th></th>\n",
       "      <th>SecondaryCert_pcnt</th>\n",
       "      <th>MatricCert_pcnt</th>\n",
       "      <th>PostSecondaryCert_pcnt</th>\n",
       "      <th>Acadm1Cert_pcnt</th>\n",
       "      <th>Acadm2Cert_pcnt</th>\n",
       "      <th>OtherCertA_pcnt</th>\n",
       "    </tr>\n",
       "  </thead>\n",
       "  <tbody>\n",
       "    <tr>\n",
       "      <th>SecondaryCert_pcnt</th>\n",
       "      <td>0.030873</td>\n",
       "      <td>0.040757</td>\n",
       "      <td>0.021800</td>\n",
       "      <td>0.024831</td>\n",
       "      <td>0.014744</td>\n",
       "      <td>0.049346</td>\n",
       "    </tr>\n",
       "    <tr>\n",
       "      <th>MatricCert_pcnt</th>\n",
       "      <td>0.030163</td>\n",
       "      <td>0.041173</td>\n",
       "      <td>0.021749</td>\n",
       "      <td>0.025701</td>\n",
       "      <td>0.015316</td>\n",
       "      <td>0.048034</td>\n",
       "    </tr>\n",
       "    <tr>\n",
       "      <th>PostSecondaryCert_pcnt</th>\n",
       "      <td>0.030091</td>\n",
       "      <td>0.040565</td>\n",
       "      <td>0.021642</td>\n",
       "      <td>0.025151</td>\n",
       "      <td>0.014972</td>\n",
       "      <td>0.048142</td>\n",
       "    </tr>\n",
       "    <tr>\n",
       "      <th>Acadm1Cert_pcnt</th>\n",
       "      <td>0.029379</td>\n",
       "      <td>0.041084</td>\n",
       "      <td>0.021552</td>\n",
       "      <td>0.026204</td>\n",
       "      <td>0.015655</td>\n",
       "      <td>0.046552</td>\n",
       "    </tr>\n",
       "    <tr>\n",
       "      <th>Acadm2Cert_pcnt</th>\n",
       "      <td>0.029197</td>\n",
       "      <td>0.040981</td>\n",
       "      <td>0.021474</td>\n",
       "      <td>0.026205</td>\n",
       "      <td>0.015677</td>\n",
       "      <td>0.046229</td>\n",
       "    </tr>\n",
       "    <tr>\n",
       "      <th>OtherCertA_pcnt</th>\n",
       "      <td>0.031011</td>\n",
       "      <td>0.040794</td>\n",
       "      <td>0.021917</td>\n",
       "      <td>0.024735</td>\n",
       "      <td>0.014676</td>\n",
       "      <td>0.050116</td>\n",
       "    </tr>\n",
       "  </tbody>\n",
       "</table>\n",
       "</div>"
      ],
      "text/plain": [
       "                        SecondaryCert_pcnt  MatricCert_pcnt  \\\n",
       "SecondaryCert_pcnt                0.030873         0.040757   \n",
       "MatricCert_pcnt                   0.030163         0.041173   \n",
       "PostSecondaryCert_pcnt            0.030091         0.040565   \n",
       "Acadm1Cert_pcnt                   0.029379         0.041084   \n",
       "Acadm2Cert_pcnt                   0.029197         0.040981   \n",
       "OtherCertA_pcnt                   0.031011         0.040794   \n",
       "\n",
       "                        PostSecondaryCert_pcnt  Acadm1Cert_pcnt  \\\n",
       "SecondaryCert_pcnt                    0.021800         0.024831   \n",
       "MatricCert_pcnt                       0.021749         0.025701   \n",
       "PostSecondaryCert_pcnt                0.021642         0.025151   \n",
       "Acadm1Cert_pcnt                       0.021552         0.026204   \n",
       "Acadm2Cert_pcnt                       0.021474         0.026205   \n",
       "OtherCertA_pcnt                       0.021917         0.024735   \n",
       "\n",
       "                        Acadm2Cert_pcnt  OtherCertA_pcnt  \n",
       "SecondaryCert_pcnt             0.014744         0.049346  \n",
       "MatricCert_pcnt                0.015316         0.048034  \n",
       "PostSecondaryCert_pcnt         0.014972         0.048142  \n",
       "Acadm1Cert_pcnt                0.015655         0.046552  \n",
       "Acadm2Cert_pcnt                0.015677         0.046229  \n",
       "OtherCertA_pcnt                0.014676         0.050116  "
      ]
     },
     "execution_count": 52,
     "metadata": {},
     "output_type": "execute_result"
    }
   ],
   "source": [
    "contat_mat_edu"
   ]
  },
  {
   "cell_type": "code",
   "execution_count": 53,
   "metadata": {
    "collapsed": true
   },
   "outputs": [],
   "source": [
    "# Save the final matrix\n",
    "contat_mat_edu.to_csv('../data/matrix/sample1+2_final_matrix_education.csv')        "
   ]
  },
  {
   "cell_type": "markdown",
   "metadata": {},
   "source": [
    "## Education Contact Matrix - Creating Heatmap"
   ]
  },
  {
   "cell_type": "code",
   "execution_count": 54,
   "metadata": {
    "collapsed": true
   },
   "outputs": [],
   "source": [
    "contat_mat_edu_log_df = contat_mat_edu.applymap(lambda x: np.log(25*x))"
   ]
  },
  {
   "cell_type": "code",
   "execution_count": 55,
   "metadata": {
    "scrolled": false
   },
   "outputs": [
    {
     "data": {
      "image/png": "[encoded data removed]",
      "text/plain": [
       "<matplotlib.figure.Figure at 0x17409b97978>"
      ]
     },
     "metadata": {},
     "output_type": "display_data"
    }
   ],
   "source": [
    "fig, ax = plt.subplots(figsize=(18,14))\n",
    "ax.set_title(\"Contact Heat Map - Education\", {'fontsize': 25, 'position': (0.5,1.02)})\n",
    "heat = sns.heatmap(contat_mat_edu_log_df, ax=ax, cmap='YlOrRd', robust = True)\n",
    "ax.tick_params(labelsize=15)\n",
    "plt.xticks(rotation='vertical')\n",
    "plt.yticks(rotation='horizontal')\n",
    "\n",
    "\n",
    "# Color bar\n",
    "cb = fig.axes[1]\n",
    "ticks = np.array([0.15,0.30,0.45,0.60,0.75]) \n",
    "cb.set_yticklabels(ticks)\n",
    "\n",
    "# plt.savefig('../img/contact_heatmap_education_sample1+2.png', bbox_inches=\"tight\")\n",
    "plt.show()"
   ]
  },
  {
   "cell_type": "code",
   "execution_count": 56,
   "metadata": {
    "collapsed": true
   },
   "outputs": [],
   "source": [
    "contat_mat_edu_norm = contat_mat_edu.values.copy() \n",
    "for i in range(contat_mat_edu_norm.shape[0]):\n",
    "    if contat_mat_edu_norm[i].sum() > 0:\n",
    "        contat_mat_edu_norm[i] = contat_mat_edu_norm[i] / (contat_mat_edu_norm[i].sum())\n",
    "        \n",
    "contat_mat_edu_norm = pd.DataFrame(contat_mat_edu_norm, index=contat_mat_edu.index, columns=contat_mat_edu.columns)"
   ]
  },
  {
   "cell_type": "code",
   "execution_count": 57,
   "metadata": {},
   "outputs": [
    {
     "data": {
      "text/html": [
       "<div>\n",
       "<style>\n",
       "    .dataframe thead tr:only-child th {\n",
       "        text-align: right;\n",
       "    }\n",
       "\n",
       "    .dataframe thead th {\n",
       "        text-align: left;\n",
       "    }\n",
       "\n",
       "    .dataframe tbody tr th {\n",
       "        vertical-align: top;\n",
       "    }\n",
       "</style>\n",
       "<table border=\"1\" class=\"dataframe\">\n",
       "  <thead>\n",
       "    <tr style=\"text-align: right;\">\n",
       "      <th></th>\n",
       "      <th>SecondaryCert_pcnt</th>\n",
       "      <th>MatricCert_pcnt</th>\n",
       "      <th>PostSecondaryCert_pcnt</th>\n",
       "      <th>Acadm1Cert_pcnt</th>\n",
       "      <th>Acadm2Cert_pcnt</th>\n",
       "      <th>OtherCertA_pcnt</th>\n",
       "    </tr>\n",
       "  </thead>\n",
       "  <tbody>\n",
       "    <tr>\n",
       "      <th>SecondaryCert_pcnt</th>\n",
       "      <td>0.169304</td>\n",
       "      <td>0.223510</td>\n",
       "      <td>0.119551</td>\n",
       "      <td>0.136173</td>\n",
       "      <td>0.080854</td>\n",
       "      <td>0.270608</td>\n",
       "    </tr>\n",
       "    <tr>\n",
       "      <th>MatricCert_pcnt</th>\n",
       "      <td>0.165605</td>\n",
       "      <td>0.226057</td>\n",
       "      <td>0.119410</td>\n",
       "      <td>0.141111</td>\n",
       "      <td>0.084090</td>\n",
       "      <td>0.263726</td>\n",
       "    </tr>\n",
       "    <tr>\n",
       "      <th>PostSecondaryCert_pcnt</th>\n",
       "      <td>0.166649</td>\n",
       "      <td>0.224659</td>\n",
       "      <td>0.119859</td>\n",
       "      <td>0.139293</td>\n",
       "      <td>0.082920</td>\n",
       "      <td>0.266620</td>\n",
       "    </tr>\n",
       "    <tr>\n",
       "      <th>Acadm1Cert_pcnt</th>\n",
       "      <td>0.162829</td>\n",
       "      <td>0.227707</td>\n",
       "      <td>0.119450</td>\n",
       "      <td>0.145233</td>\n",
       "      <td>0.086769</td>\n",
       "      <td>0.258012</td>\n",
       "    </tr>\n",
       "    <tr>\n",
       "      <th>Acadm2Cert_pcnt</th>\n",
       "      <td>0.162418</td>\n",
       "      <td>0.227974</td>\n",
       "      <td>0.119456</td>\n",
       "      <td>0.145777</td>\n",
       "      <td>0.087207</td>\n",
       "      <td>0.257168</td>\n",
       "    </tr>\n",
       "    <tr>\n",
       "      <th>OtherCertA_pcnt</th>\n",
       "      <td>0.169228</td>\n",
       "      <td>0.222614</td>\n",
       "      <td>0.119603</td>\n",
       "      <td>0.134978</td>\n",
       "      <td>0.080089</td>\n",
       "      <td>0.273488</td>\n",
       "    </tr>\n",
       "  </tbody>\n",
       "</table>\n",
       "</div>"
      ],
      "text/plain": [
       "                        SecondaryCert_pcnt  MatricCert_pcnt  \\\n",
       "SecondaryCert_pcnt                0.169304         0.223510   \n",
       "MatricCert_pcnt                   0.165605         0.226057   \n",
       "PostSecondaryCert_pcnt            0.166649         0.224659   \n",
       "Acadm1Cert_pcnt                   0.162829         0.227707   \n",
       "Acadm2Cert_pcnt                   0.162418         0.227974   \n",
       "OtherCertA_pcnt                   0.169228         0.222614   \n",
       "\n",
       "                        PostSecondaryCert_pcnt  Acadm1Cert_pcnt  \\\n",
       "SecondaryCert_pcnt                    0.119551         0.136173   \n",
       "MatricCert_pcnt                       0.119410         0.141111   \n",
       "PostSecondaryCert_pcnt                0.119859         0.139293   \n",
       "Acadm1Cert_pcnt                       0.119450         0.145233   \n",
       "Acadm2Cert_pcnt                       0.119456         0.145777   \n",
       "OtherCertA_pcnt                       0.119603         0.134978   \n",
       "\n",
       "                        Acadm2Cert_pcnt  OtherCertA_pcnt  \n",
       "SecondaryCert_pcnt             0.080854         0.270608  \n",
       "MatricCert_pcnt                0.084090         0.263726  \n",
       "PostSecondaryCert_pcnt         0.082920         0.266620  \n",
       "Acadm1Cert_pcnt                0.086769         0.258012  \n",
       "Acadm2Cert_pcnt                0.087207         0.257168  \n",
       "OtherCertA_pcnt                0.080089         0.273488  "
      ]
     },
     "execution_count": 57,
     "metadata": {},
     "output_type": "execute_result"
    }
   ],
   "source": [
    "contat_mat_edu_norm"
   ]
  },
  {
   "cell_type": "code",
   "execution_count": 58,
   "metadata": {},
   "outputs": [
    {
     "data": {
      "text/html": [
       "<div>\n",
       "<style>\n",
       "    .dataframe thead tr:only-child th {\n",
       "        text-align: right;\n",
       "    }\n",
       "\n",
       "    .dataframe thead th {\n",
       "        text-align: left;\n",
       "    }\n",
       "\n",
       "    .dataframe tbody tr th {\n",
       "        vertical-align: top;\n",
       "    }\n",
       "</style>\n",
       "<table border=\"1\" class=\"dataframe\">\n",
       "  <thead>\n",
       "    <tr style=\"text-align: right;\">\n",
       "      <th></th>\n",
       "      <th>SecondaryCert_pcnt</th>\n",
       "      <th>MatricCert_pcnt</th>\n",
       "      <th>PostSecondaryCert_pcnt</th>\n",
       "      <th>Acadm1Cert_pcnt</th>\n",
       "      <th>Acadm2Cert_pcnt</th>\n",
       "      <th>OtherCertA_pcnt</th>\n",
       "    </tr>\n",
       "  </thead>\n",
       "  <tbody>\n",
       "    <tr>\n",
       "      <th>SecondaryCert_pcnt</th>\n",
       "      <td>0.166131</td>\n",
       "      <td>0.225945</td>\n",
       "      <td>0.122361</td>\n",
       "      <td>0.140146</td>\n",
       "      <td>0.083667</td>\n",
       "      <td>0.261749</td>\n",
       "    </tr>\n",
       "    <tr>\n",
       "      <th>MatricCert_pcnt</th>\n",
       "      <td>0.166131</td>\n",
       "      <td>0.225945</td>\n",
       "      <td>0.122361</td>\n",
       "      <td>0.140146</td>\n",
       "      <td>0.083667</td>\n",
       "      <td>0.261749</td>\n",
       "    </tr>\n",
       "    <tr>\n",
       "      <th>PostSecondaryCert_pcnt</th>\n",
       "      <td>0.166131</td>\n",
       "      <td>0.225945</td>\n",
       "      <td>0.122361</td>\n",
       "      <td>0.140146</td>\n",
       "      <td>0.083667</td>\n",
       "      <td>0.261749</td>\n",
       "    </tr>\n",
       "    <tr>\n",
       "      <th>Acadm1Cert_pcnt</th>\n",
       "      <td>0.166131</td>\n",
       "      <td>0.225945</td>\n",
       "      <td>0.122361</td>\n",
       "      <td>0.140146</td>\n",
       "      <td>0.083667</td>\n",
       "      <td>0.261749</td>\n",
       "    </tr>\n",
       "    <tr>\n",
       "      <th>Acadm2Cert_pcnt</th>\n",
       "      <td>0.166131</td>\n",
       "      <td>0.225945</td>\n",
       "      <td>0.122361</td>\n",
       "      <td>0.140146</td>\n",
       "      <td>0.083667</td>\n",
       "      <td>0.261749</td>\n",
       "    </tr>\n",
       "    <tr>\n",
       "      <th>OtherCertA_pcnt</th>\n",
       "      <td>0.166131</td>\n",
       "      <td>0.225945</td>\n",
       "      <td>0.122361</td>\n",
       "      <td>0.140146</td>\n",
       "      <td>0.083667</td>\n",
       "      <td>0.261749</td>\n",
       "    </tr>\n",
       "  </tbody>\n",
       "</table>\n",
       "</div>"
      ],
      "text/plain": [
       "                        SecondaryCert_pcnt  MatricCert_pcnt  \\\n",
       "SecondaryCert_pcnt                0.166131         0.225945   \n",
       "MatricCert_pcnt                   0.166131         0.225945   \n",
       "PostSecondaryCert_pcnt            0.166131         0.225945   \n",
       "Acadm1Cert_pcnt                   0.166131         0.225945   \n",
       "Acadm2Cert_pcnt                   0.166131         0.225945   \n",
       "OtherCertA_pcnt                   0.166131         0.225945   \n",
       "\n",
       "                        PostSecondaryCert_pcnt  Acadm1Cert_pcnt  \\\n",
       "SecondaryCert_pcnt                    0.122361         0.140146   \n",
       "MatricCert_pcnt                       0.122361         0.140146   \n",
       "PostSecondaryCert_pcnt                0.122361         0.140146   \n",
       "Acadm1Cert_pcnt                       0.122361         0.140146   \n",
       "Acadm2Cert_pcnt                       0.122361         0.140146   \n",
       "OtherCertA_pcnt                       0.122361         0.140146   \n",
       "\n",
       "                        Acadm2Cert_pcnt  OtherCertA_pcnt  \n",
       "SecondaryCert_pcnt             0.083667         0.261749  \n",
       "MatricCert_pcnt                0.083667         0.261749  \n",
       "PostSecondaryCert_pcnt         0.083667         0.261749  \n",
       "Acadm1Cert_pcnt                0.083667         0.261749  \n",
       "Acadm2Cert_pcnt                0.083667         0.261749  \n",
       "OtherCertA_pcnt                0.083667         0.261749  "
      ]
     },
     "execution_count": 58,
     "metadata": {},
     "output_type": "execute_result"
    }
   ],
   "source": [
    "mat_pop = pd.DataFrame(index=contat_mat_edu.index, columns=contat_mat_edu.columns)\n",
    "for col in mat_pop.columns:\n",
    "    mat_pop[col] = pop_d[col] / sum(pop_d.values())\n",
    "\n",
    "mat_pop"
   ]
  },
  {
   "cell_type": "code",
   "execution_count": 59,
   "metadata": {},
   "outputs": [
    {
     "data": {
      "text/html": [
       "<div>\n",
       "<style>\n",
       "    .dataframe thead tr:only-child th {\n",
       "        text-align: right;\n",
       "    }\n",
       "\n",
       "    .dataframe thead th {\n",
       "        text-align: left;\n",
       "    }\n",
       "\n",
       "    .dataframe tbody tr th {\n",
       "        vertical-align: top;\n",
       "    }\n",
       "</style>\n",
       "<table border=\"1\" class=\"dataframe\">\n",
       "  <thead>\n",
       "    <tr style=\"text-align: right;\">\n",
       "      <th></th>\n",
       "      <th>SecondaryCert_pcnt</th>\n",
       "      <th>MatricCert_pcnt</th>\n",
       "      <th>PostSecondaryCert_pcnt</th>\n",
       "      <th>Acadm1Cert_pcnt</th>\n",
       "      <th>Acadm2Cert_pcnt</th>\n",
       "      <th>OtherCertA_pcnt</th>\n",
       "    </tr>\n",
       "  </thead>\n",
       "  <tbody>\n",
       "    <tr>\n",
       "      <th>SecondaryCert_pcnt</th>\n",
       "      <td>1.019103</td>\n",
       "      <td>0.989222</td>\n",
       "      <td>0.977028</td>\n",
       "      <td>0.971648</td>\n",
       "      <td>0.966377</td>\n",
       "      <td>1.033845</td>\n",
       "    </tr>\n",
       "    <tr>\n",
       "      <th>MatricCert_pcnt</th>\n",
       "      <td>0.996837</td>\n",
       "      <td>1.000495</td>\n",
       "      <td>0.975877</td>\n",
       "      <td>1.006884</td>\n",
       "      <td>1.005063</td>\n",
       "      <td>1.007552</td>\n",
       "    </tr>\n",
       "    <tr>\n",
       "      <th>PostSecondaryCert_pcnt</th>\n",
       "      <td>1.003117</td>\n",
       "      <td>0.994308</td>\n",
       "      <td>0.979549</td>\n",
       "      <td>0.993913</td>\n",
       "      <td>0.991070</td>\n",
       "      <td>1.018609</td>\n",
       "    </tr>\n",
       "    <tr>\n",
       "      <th>Acadm1Cert_pcnt</th>\n",
       "      <td>0.980126</td>\n",
       "      <td>1.007798</td>\n",
       "      <td>0.976205</td>\n",
       "      <td>1.036292</td>\n",
       "      <td>1.037080</td>\n",
       "      <td>0.985722</td>\n",
       "    </tr>\n",
       "    <tr>\n",
       "      <th>Acadm2Cert_pcnt</th>\n",
       "      <td>0.977650</td>\n",
       "      <td>1.008980</td>\n",
       "      <td>0.976254</td>\n",
       "      <td>1.040175</td>\n",
       "      <td>1.042316</td>\n",
       "      <td>0.982498</td>\n",
       "    </tr>\n",
       "    <tr>\n",
       "      <th>OtherCertA_pcnt</th>\n",
       "      <td>1.018641</td>\n",
       "      <td>0.985257</td>\n",
       "      <td>0.977458</td>\n",
       "      <td>0.963119</td>\n",
       "      <td>0.957238</td>\n",
       "      <td>1.044848</td>\n",
       "    </tr>\n",
       "  </tbody>\n",
       "</table>\n",
       "</div>"
      ],
      "text/plain": [
       "                        SecondaryCert_pcnt  MatricCert_pcnt  \\\n",
       "SecondaryCert_pcnt                1.019103         0.989222   \n",
       "MatricCert_pcnt                   0.996837         1.000495   \n",
       "PostSecondaryCert_pcnt            1.003117         0.994308   \n",
       "Acadm1Cert_pcnt                   0.980126         1.007798   \n",
       "Acadm2Cert_pcnt                   0.977650         1.008980   \n",
       "OtherCertA_pcnt                   1.018641         0.985257   \n",
       "\n",
       "                        PostSecondaryCert_pcnt  Acadm1Cert_pcnt  \\\n",
       "SecondaryCert_pcnt                    0.977028         0.971648   \n",
       "MatricCert_pcnt                       0.975877         1.006884   \n",
       "PostSecondaryCert_pcnt                0.979549         0.993913   \n",
       "Acadm1Cert_pcnt                       0.976205         1.036292   \n",
       "Acadm2Cert_pcnt                       0.976254         1.040175   \n",
       "OtherCertA_pcnt                       0.977458         0.963119   \n",
       "\n",
       "                        Acadm2Cert_pcnt  OtherCertA_pcnt  \n",
       "SecondaryCert_pcnt             0.966377         1.033845  \n",
       "MatricCert_pcnt                1.005063         1.007552  \n",
       "PostSecondaryCert_pcnt         0.991070         1.018609  \n",
       "Acadm1Cert_pcnt                1.037080         0.985722  \n",
       "Acadm2Cert_pcnt                1.042316         0.982498  \n",
       "OtherCertA_pcnt                0.957238         1.044848  "
      ]
     },
     "execution_count": 59,
     "metadata": {},
     "output_type": "execute_result"
    }
   ],
   "source": [
    "devided_mat = pd.DataFrame(contat_mat_edu_norm / mat_pop, index=contat_mat_edu.index, columns=contat_mat_edu.columns)\n",
    "devided_mat"
   ]
  },
  {
   "cell_type": "code",
   "execution_count": 60,
   "metadata": {},
   "outputs": [
    {
     "data": {
      "text/plain": [
       "{'Acadm1Cert_pcnt': 918694.2999999998,\n",
       " 'Acadm2Cert_pcnt': 548456.3999999999,\n",
       " 'MatricCert_pcnt': 1481125.9999999986,\n",
       " 'OtherCertA_pcnt': 1715830.599999998,\n",
       " 'PostSecondaryCert_pcnt': 802108.7999999999,\n",
       " 'SecondaryCert_pcnt': 1089027.9999999995}"
      ]
     },
     "execution_count": 60,
     "metadata": {},
     "output_type": "execute_result"
    }
   ],
   "source": [
    "pop_d"
   ]
  },
  {
   "cell_type": "code",
   "execution_count": 61,
   "metadata": {},
   "outputs": [
    {
     "data": {
      "text/html": [
       "<div>\n",
       "<style>\n",
       "    .dataframe thead tr:only-child th {\n",
       "        text-align: right;\n",
       "    }\n",
       "\n",
       "    .dataframe thead th {\n",
       "        text-align: left;\n",
       "    }\n",
       "\n",
       "    .dataframe tbody tr th {\n",
       "        vertical-align: top;\n",
       "    }\n",
       "</style>\n",
       "<table border=\"1\" class=\"dataframe\">\n",
       "  <thead>\n",
       "    <tr style=\"text-align: right;\">\n",
       "      <th></th>\n",
       "      <th>SecondaryCert_pcnt</th>\n",
       "      <th>MatricCert_pcnt</th>\n",
       "      <th>PostSecondaryCert_pcnt</th>\n",
       "      <th>Acadm1Cert_pcnt</th>\n",
       "      <th>Acadm2Cert_pcnt</th>\n",
       "      <th>OtherCertA_pcnt</th>\n",
       "      <th>pop_thou</th>\n",
       "    </tr>\n",
       "    <tr>\n",
       "      <th>stat_id</th>\n",
       "      <th></th>\n",
       "      <th></th>\n",
       "      <th></th>\n",
       "      <th></th>\n",
       "      <th></th>\n",
       "      <th></th>\n",
       "      <th></th>\n",
       "    </tr>\n",
       "  </thead>\n",
       "  <tbody>\n",
       "    <tr>\n",
       "      <th>261</th>\n",
       "      <td>0.090</td>\n",
       "      <td>0.306</td>\n",
       "      <td>0.181</td>\n",
       "      <td>0.202</td>\n",
       "      <td>0.063</td>\n",
       "      <td>0.157</td>\n",
       "      <td>2.6</td>\n",
       "    </tr>\n",
       "    <tr>\n",
       "      <th>281</th>\n",
       "      <td>0.138</td>\n",
       "      <td>0.234</td>\n",
       "      <td>0.116</td>\n",
       "      <td>0.194</td>\n",
       "      <td>0.141</td>\n",
       "      <td>0.177</td>\n",
       "      <td>8.9</td>\n",
       "    </tr>\n",
       "    <tr>\n",
       "      <th>311</th>\n",
       "      <td>0.203</td>\n",
       "      <td>0.245</td>\n",
       "      <td>0.152</td>\n",
       "      <td>0.118</td>\n",
       "      <td>0.045</td>\n",
       "      <td>0.237</td>\n",
       "      <td>4.4</td>\n",
       "    </tr>\n",
       "    <tr>\n",
       "      <th>312</th>\n",
       "      <td>0.252</td>\n",
       "      <td>0.197</td>\n",
       "      <td>0.121</td>\n",
       "      <td>0.058</td>\n",
       "      <td>0.021</td>\n",
       "      <td>0.351</td>\n",
       "      <td>3.1</td>\n",
       "    </tr>\n",
       "    <tr>\n",
       "      <th>313</th>\n",
       "      <td>0.253</td>\n",
       "      <td>0.236</td>\n",
       "      <td>0.126</td>\n",
       "      <td>0.040</td>\n",
       "      <td>0.014</td>\n",
       "      <td>0.331</td>\n",
       "      <td>3.3</td>\n",
       "    </tr>\n",
       "  </tbody>\n",
       "</table>\n",
       "</div>"
      ],
      "text/plain": [
       "         SecondaryCert_pcnt  MatricCert_pcnt  PostSecondaryCert_pcnt  \\\n",
       "stat_id                                                                \n",
       "261                   0.090            0.306                   0.181   \n",
       "281                   0.138            0.234                   0.116   \n",
       "311                   0.203            0.245                   0.152   \n",
       "312                   0.252            0.197                   0.121   \n",
       "313                   0.253            0.236                   0.126   \n",
       "\n",
       "         Acadm1Cert_pcnt  Acadm2Cert_pcnt  OtherCertA_pcnt  pop_thou  \n",
       "stat_id                                                               \n",
       "261                0.202            0.063            0.157       2.6  \n",
       "281                0.194            0.141            0.177       8.9  \n",
       "311                0.118            0.045            0.237       4.4  \n",
       "312                0.058            0.021            0.351       3.1  \n",
       "313                0.040            0.014            0.331       3.3  "
      ]
     },
     "execution_count": 61,
     "metadata": {},
     "output_type": "execute_result"
    }
   ],
   "source": [
    "education.head()"
   ]
  },
  {
   "cell_type": "code",
   "execution_count": 62,
   "metadata": {},
   "outputs": [
    {
     "data": {
      "text/html": [
       "<div>\n",
       "<style>\n",
       "    .dataframe thead tr:only-child th {\n",
       "        text-align: right;\n",
       "    }\n",
       "\n",
       "    .dataframe thead th {\n",
       "        text-align: left;\n",
       "    }\n",
       "\n",
       "    .dataframe tbody tr th {\n",
       "        vertical-align: top;\n",
       "    }\n",
       "</style>\n",
       "<table border=\"1\" class=\"dataframe\">\n",
       "  <thead>\n",
       "    <tr style=\"text-align: right;\">\n",
       "      <th></th>\n",
       "      <th>SecondaryCert_pcnt</th>\n",
       "      <th>MatricCert_pcnt</th>\n",
       "      <th>PostSecondaryCert_pcnt</th>\n",
       "      <th>Acadm1Cert_pcnt</th>\n",
       "      <th>Acadm2Cert_pcnt</th>\n",
       "      <th>OtherCertA_pcnt</th>\n",
       "      <th>pop_thou</th>\n",
       "    </tr>\n",
       "  </thead>\n",
       "  <tbody>\n",
       "    <tr>\n",
       "      <th>count</th>\n",
       "      <td>1727.000000</td>\n",
       "      <td>1727.000000</td>\n",
       "      <td>1727.000000</td>\n",
       "      <td>1727.000000</td>\n",
       "      <td>1727.000000</td>\n",
       "      <td>1727.000000</td>\n",
       "      <td>1727.000000</td>\n",
       "    </tr>\n",
       "    <tr>\n",
       "      <th>mean</th>\n",
       "      <td>0.166818</td>\n",
       "      <td>0.231590</td>\n",
       "      <td>0.122621</td>\n",
       "      <td>0.146170</td>\n",
       "      <td>0.090090</td>\n",
       "      <td>0.242718</td>\n",
       "      <td>3.795599</td>\n",
       "    </tr>\n",
       "    <tr>\n",
       "      <th>std</th>\n",
       "      <td>0.084948</td>\n",
       "      <td>0.071135</td>\n",
       "      <td>0.058810</td>\n",
       "      <td>0.081491</td>\n",
       "      <td>0.067764</td>\n",
       "      <td>0.141299</td>\n",
       "      <td>6.530312</td>\n",
       "    </tr>\n",
       "    <tr>\n",
       "      <th>min</th>\n",
       "      <td>0.006000</td>\n",
       "      <td>0.002000</td>\n",
       "      <td>0.002000</td>\n",
       "      <td>0.003000</td>\n",
       "      <td>0.000000</td>\n",
       "      <td>0.016000</td>\n",
       "      <td>0.600000</td>\n",
       "    </tr>\n",
       "    <tr>\n",
       "      <th>25%</th>\n",
       "      <td>0.107000</td>\n",
       "      <td>0.196000</td>\n",
       "      <td>0.083000</td>\n",
       "      <td>0.084000</td>\n",
       "      <td>0.032000</td>\n",
       "      <td>0.136500</td>\n",
       "      <td>2.600000</td>\n",
       "    </tr>\n",
       "    <tr>\n",
       "      <th>50%</th>\n",
       "      <td>0.158000</td>\n",
       "      <td>0.235000</td>\n",
       "      <td>0.114000</td>\n",
       "      <td>0.130000</td>\n",
       "      <td>0.081000</td>\n",
       "      <td>0.202000</td>\n",
       "      <td>3.500000</td>\n",
       "    </tr>\n",
       "    <tr>\n",
       "      <th>75%</th>\n",
       "      <td>0.211000</td>\n",
       "      <td>0.270000</td>\n",
       "      <td>0.157000</td>\n",
       "      <td>0.196000</td>\n",
       "      <td>0.125000</td>\n",
       "      <td>0.317000</td>\n",
       "      <td>4.400000</td>\n",
       "    </tr>\n",
       "    <tr>\n",
       "      <th>max</th>\n",
       "      <td>0.630000</td>\n",
       "      <td>0.702000</td>\n",
       "      <td>0.390000</td>\n",
       "      <td>0.425000</td>\n",
       "      <td>0.378000</td>\n",
       "      <td>0.818000</td>\n",
       "      <td>267.000000</td>\n",
       "    </tr>\n",
       "  </tbody>\n",
       "</table>\n",
       "</div>"
      ],
      "text/plain": [
       "       SecondaryCert_pcnt  MatricCert_pcnt  PostSecondaryCert_pcnt  \\\n",
       "count         1727.000000      1727.000000             1727.000000   \n",
       "mean             0.166818         0.231590                0.122621   \n",
       "std              0.084948         0.071135                0.058810   \n",
       "min              0.006000         0.002000                0.002000   \n",
       "25%              0.107000         0.196000                0.083000   \n",
       "50%              0.158000         0.235000                0.114000   \n",
       "75%              0.211000         0.270000                0.157000   \n",
       "max              0.630000         0.702000                0.390000   \n",
       "\n",
       "       Acadm1Cert_pcnt  Acadm2Cert_pcnt  OtherCertA_pcnt     pop_thou  \n",
       "count      1727.000000      1727.000000      1727.000000  1727.000000  \n",
       "mean          0.146170         0.090090         0.242718     3.795599  \n",
       "std           0.081491         0.067764         0.141299     6.530312  \n",
       "min           0.003000         0.000000         0.016000     0.600000  \n",
       "25%           0.084000         0.032000         0.136500     2.600000  \n",
       "50%           0.130000         0.081000         0.202000     3.500000  \n",
       "75%           0.196000         0.125000         0.317000     4.400000  \n",
       "max           0.425000         0.378000         0.818000   267.000000  "
      ]
     },
     "execution_count": 62,
     "metadata": {},
     "output_type": "execute_result"
    }
   ],
   "source": [
    "education.describe()"
   ]
  }
 ],
 "metadata": {
  "anaconda-cloud": {},
  "kernelspec": {
   "display_name": "Python 3",
   "language": "python",
   "name": "python3"
  },
  "language_info": {
   "codemirror_mode": {
    "name": "ipython",
    "version": 3
   },
   "file_extension": ".py",
   "mimetype": "text/x-python",
   "name": "python",
   "nbconvert_exporter": "python",
   "pygments_lexer": "ipython3",
   "version": "3.7.0"
  },
  "toc": {
   "nav_menu": {},
   "number_sections": true,
   "sideBar": true,
   "skip_h1_title": false,
   "toc_cell": false,
   "toc_position": {},
   "toc_section_display": "block",
   "toc_window_display": false
  },
  "varInspector": {
   "cols": {
    "lenName": 16,
    "lenType": 16,
    "lenVar": 40
   },
   "kernels_config": {
    "python": {
     "delete_cmd_postfix": "",
     "delete_cmd_prefix": "del ",
     "library": "var_list.py",
     "varRefreshCmd": "print(var_dic_list())"
    },
    "r": {
     "delete_cmd_postfix": ") ",
     "delete_cmd_prefix": "rm(",
     "library": "var_list.r",
     "varRefreshCmd": "cat(var_dic_list()) "
    }
   },
   "types_to_exclude": [
    "module",
    "function",
    "builtin_function_or_method",
    "instance",
    "_Feature"
   ],
   "window_display": false
  },
  "widgets": {
   "state": {
    "175f7437dc0e40f5a27283ffc3296ba4": {
     "views": [
      {
       "cell_index": 31
      }
     ]
    },
    "632db8d8f4d34df78518c2d52faac46f": {
     "views": [
      {
       "cell_index": 46
      }
     ]
    },
    "68b33f1627d54c00bf56f89dbd6b5ad9": {
     "views": [
      {
       "cell_index": 5
      }
     ]
    }
   },
   "version": "1.2.0"
  }
 },
 "nbformat": 4,
 "nbformat_minor": 2
}
