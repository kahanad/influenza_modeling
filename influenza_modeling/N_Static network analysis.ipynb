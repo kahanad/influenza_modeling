{
 "cells": [
  {
   "cell_type": "markdown",
   "metadata": {},
   "source": [
    "# Static Network Analysis"
   ]
  },
  {
   "cell_type": "code",
   "execution_count": 1,
   "metadata": {},
   "outputs": [],
   "source": [
    "import geopandas as gp\n",
    "import pandas as pd\n",
    "import numpy as np\n",
    "from matplotlib import pyplot as plt\n",
    "from shapely.geometry import Point\n",
    "import nafot\n",
    "import time\n",
    "from tqdm import tqdm, tqdm_notebook\n",
    "import networkx as nx\n",
    "import pickle\n",
    "from scipy import sparse\n",
    "plt.style.use('ggplot')\n",
    "%matplotlib inline"
   ]
  },
  {
   "cell_type": "markdown",
   "metadata": {},
   "source": [
    "### Load the network"
   ]
  },
  {
   "cell_type": "code",
   "execution_count": 2,
   "metadata": {},
   "outputs": [],
   "source": [
    "# Read the network from gpickle\n",
    "network = nx.read_gpickle(\"../../Data/network/static_network_10K.gpickle\")"
   ]
  },
  {
   "cell_type": "markdown",
   "metadata": {},
   "source": [
    "## Network Characteristics"
   ]
  },
  {
   "cell_type": "code",
   "execution_count": 3,
   "metadata": {},
   "outputs": [
    {
     "name": "stdout",
     "output_type": "stream",
     "text": [
      "Number of nodes: 9,441\n",
      "Number of edges 58,490\n"
     ]
    }
   ],
   "source": [
    "print(f'Number of nodes: {network.number_of_nodes():,d}\\n\\\n",
    "Number of edges {network.number_of_edges():,d}')"
   ]
  },
  {
   "cell_type": "code",
   "execution_count": null,
   "metadata": {},
   "outputs": [],
   "source": [
    "network"
   ]
  },
  {
   "cell_type": "markdown",
   "metadata": {},
   "source": [
    "### Degree Distribution"
   ]
  },
  {
   "cell_type": "code",
   "execution_count": 4,
   "metadata": {},
   "outputs": [
    {
     "data": {
      "image/png": "[encoded data removed]",
      "text/plain": [
       "<matplotlib.figure.Figure at 0x1ce96140518>"
      ]
     },
     "metadata": {},
     "output_type": "display_data"
    }
   ],
   "source": [
    "# Get the network degree histogram\n",
    "degree_hist = nx.degree_histogram(network)[2:]\n",
    "\n",
    "# Plot the histogram\n",
    "fig = plt.figure(figsize=(12,8))\n",
    "plt.bar(np.arange(len(degree_hist)), np.array(degree_hist))\n",
    "plt.xlim([0,80])\n",
    "plt.title('Static Network - Degree Histogram', fontsize=20)\n",
    "plt.xlabel('Degree', fontsize=16)\n",
    "plt.ylabel('Frequency', fontsize=16)\n",
    "plt.show()"
   ]
  },
  {
   "cell_type": "code",
   "execution_count": 5,
   "metadata": {
    "scrolled": true
   },
   "outputs": [
    {
     "data": {
      "text/plain": [
       "'The density of the static contact network is 0.001313'"
      ]
     },
     "execution_count": 5,
     "metadata": {},
     "output_type": "execute_result"
    }
   ],
   "source": [
    "f'The density of the static contact network is {nx.density(network):3f}'"
   ]
  },
  {
   "cell_type": "markdown",
   "metadata": {},
   "source": [
    "## Export to Gephi"
   ]
  },
  {
   "cell_type": "code",
   "execution_count": 6,
   "metadata": {},
   "outputs": [],
   "source": [
    "# Change dtype of subdist to int\n",
    "for n in network.nodes:\n",
    "    network.nodes[n]['subdist'] = int(network.nodes[n]['subdist'])\n",
    "\n",
    "# Remove contact distribution\n",
    "for n in network.nodes:\n",
    "    network.nodes[n].pop('contact_dist')\n",
    "    network.nodes[n].pop('remaining_contact_dist')"
   ]
  },
  {
   "cell_type": "code",
   "execution_count": 7,
   "metadata": {},
   "outputs": [],
   "source": [
    "# Export to .gexf file for Gephi\n",
    "nx.write_gexf(network, \"../../Data/network/static_network_10K.gexf\")"
   ]
  },
  {
   "cell_type": "code",
   "execution_count": null,
   "metadata": {},
   "outputs": [],
   "source": []
  }
 ],
 "metadata": {
  "kernelspec": {
   "display_name": "Python 3",
   "language": "python",
   "name": "python3"
  },
  "language_info": {
   "codemirror_mode": {
    "name": "ipython",
    "version": 3
   },
   "file_extension": ".py",
   "mimetype": "text/x-python",
   "name": "python",
   "nbconvert_exporter": "python",
   "pygments_lexer": "ipython3",
   "version": "3.6.3"
  }
 },
 "nbformat": 4,
 "nbformat_minor": 2
}
