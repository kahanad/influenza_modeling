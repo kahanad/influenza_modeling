{
 "cells": [
  {
   "cell_type": "markdown",
   "metadata": {},
   "source": [
    "# Vaccination coverage by socioeconomic score"
   ]
  },
  {
   "cell_type": "code",
   "execution_count": 1,
   "metadata": {},
   "outputs": [],
   "source": [
    "import pandas as pd\n",
    "import numpy as np\n",
    "import model\n",
    "from matplotlib import pyplot as plt\n",
    "%matplotlib inline"
   ]
  },
  {
   "cell_type": "markdown",
   "metadata": {},
   "source": [
    "Load demographic data"
   ]
  },
  {
   "cell_type": "code",
   "execution_count": 2,
   "metadata": {},
   "outputs": [
    {
     "data": {
      "text/html": [
       "<div>\n",
       "<style scoped>\n",
       "    .dataframe tbody tr th:only-of-type {\n",
       "        vertical-align: middle;\n",
       "    }\n",
       "\n",
       "    .dataframe tbody tr th {\n",
       "        vertical-align: top;\n",
       "    }\n",
       "\n",
       "    .dataframe thead th {\n",
       "        text-align: right;\n",
       "    }\n",
       "</style>\n",
       "<table border=\"1\" class=\"dataframe\">\n",
       "  <thead>\n",
       "    <tr style=\"text-align: right;\">\n",
       "      <th></th>\n",
       "      <th>random_ID</th>\n",
       "      <th>registration_date</th>\n",
       "      <th>customer_situation</th>\n",
       "      <th>birth_year</th>\n",
       "      <th>male/female</th>\n",
       "      <th>stat_code</th>\n",
       "      <th>stat_desc</th>\n",
       "      <th>doctors_ID</th>\n",
       "      <th>doctors_random_ID</th>\n",
       "      <th>Lamas_socioeconomic_score</th>\n",
       "      <th>Points_socioeconomic_score</th>\n",
       "      <th>Points_AGAS_code</th>\n",
       "      <th>country_of_origin_code</th>\n",
       "      <th>country_of_origin_desc</th>\n",
       "      <th>date_of_immigration</th>\n",
       "    </tr>\n",
       "  </thead>\n",
       "  <tbody>\n",
       "    <tr>\n",
       "      <th>0</th>\n",
       "      <td>511590</td>\n",
       "      <td>1967-02-01 00:00:00.000</td>\n",
       "      <td>1</td>\n",
       "      <td>1937</td>\n",
       "      <td>ז</td>\n",
       "      <td>4407</td>\n",
       "      <td>רמת-גן</td>\n",
       "      <td>54045588</td>\n",
       "      <td>54043622</td>\n",
       "      <td>15</td>\n",
       "      <td>9</td>\n",
       "      <td>86000112</td>\n",
       "      <td>4</td>\n",
       "      <td>ישראל</td>\n",
       "      <td>1900-01-01 00:00:00.000</td>\n",
       "    </tr>\n",
       "  </tbody>\n",
       "</table>\n",
       "</div>"
      ],
      "text/plain": [
       "   random_ID        registration_date  customer_situation  birth_year  \\\n",
       "0     511590  1967-02-01 00:00:00.000                   1        1937   \n",
       "\n",
       "  male/female  stat_code             stat_desc  doctors_ID  doctors_random_ID  \\\n",
       "0           ז       4407  רמת-גן                  54045588           54043622   \n",
       "\n",
       "   Lamas_socioeconomic_score  Points_socioeconomic_score  Points_AGAS_code  \\\n",
       "0                         15                           9          86000112   \n",
       "\n",
       "   country_of_origin_code country_of_origin_desc      date_of_immigration  \n",
       "0                       4                  ישראל  1900-01-01 00:00:00.000  "
      ]
     },
     "execution_count": 2,
     "metadata": {},
     "output_type": "execute_result"
    }
   ],
   "source": [
    "dem = pd.read_csv('../../Data/vaccination_data/sample_dem_data.txt').iloc[:,1:].copy()\n",
    "dem.head(1)"
   ]
  },
  {
   "cell_type": "code",
   "execution_count": 3,
   "metadata": {},
   "outputs": [
    {
     "data": {
      "text/html": [
       "<div>\n",
       "<style scoped>\n",
       "    .dataframe tbody tr th:only-of-type {\n",
       "        vertical-align: middle;\n",
       "    }\n",
       "\n",
       "    .dataframe tbody tr th {\n",
       "        vertical-align: top;\n",
       "    }\n",
       "\n",
       "    .dataframe thead th {\n",
       "        text-align: right;\n",
       "    }\n",
       "</style>\n",
       "<table border=\"1\" class=\"dataframe\">\n",
       "  <thead>\n",
       "    <tr style=\"text-align: right;\">\n",
       "      <th></th>\n",
       "      <th>random_ID</th>\n",
       "      <th>socioeconomic_score</th>\n",
       "    </tr>\n",
       "  </thead>\n",
       "  <tbody>\n",
       "    <tr>\n",
       "      <th>0</th>\n",
       "      <td>511590</td>\n",
       "      <td>15</td>\n",
       "    </tr>\n",
       "    <tr>\n",
       "      <th>1</th>\n",
       "      <td>2472867</td>\n",
       "      <td>6</td>\n",
       "    </tr>\n",
       "    <tr>\n",
       "      <th>2</th>\n",
       "      <td>2994876</td>\n",
       "      <td>14</td>\n",
       "    </tr>\n",
       "    <tr>\n",
       "      <th>3</th>\n",
       "      <td>257344</td>\n",
       "      <td>17</td>\n",
       "    </tr>\n",
       "    <tr>\n",
       "      <th>4</th>\n",
       "      <td>979247</td>\n",
       "      <td>15</td>\n",
       "    </tr>\n",
       "  </tbody>\n",
       "</table>\n",
       "</div>"
      ],
      "text/plain": [
       "   random_ID  socioeconomic_score\n",
       "0     511590                   15\n",
       "1    2472867                    6\n",
       "2    2994876                   14\n",
       "3     257344                   17\n",
       "4     979247                   15"
      ]
     },
     "execution_count": 3,
     "metadata": {},
     "output_type": "execute_result"
    }
   ],
   "source": [
    "socioeco_scores = dem[['random_ID', 'Lamas_socioeconomic_score']].copy()\n",
    "socioeco_scores.columns = ['random_ID', 'socioeconomic_score']\n",
    "socioeco_scores.head()"
   ]
  },
  {
   "cell_type": "code",
   "execution_count": 4,
   "metadata": {},
   "outputs": [
    {
     "data": {
      "text/plain": [
       "0     22028\n",
       "1        20\n",
       "2      3149\n",
       "3      3176\n",
       "4      8235\n",
       "5      9424\n",
       "6     10511\n",
       "7     11192\n",
       "8      9266\n",
       "9     12771\n",
       "10    19435\n",
       "11    24031\n",
       "12    23283\n",
       "13    22700\n",
       "14    18373\n",
       "15    13528\n",
       "16    11636\n",
       "17    12665\n",
       "18     6713\n",
       "19     6398\n",
       "20     1466\n",
       "Name: socioeconomic_score, dtype: int64"
      ]
     },
     "execution_count": 4,
     "metadata": {},
     "output_type": "execute_result"
    }
   ],
   "source": [
    "pop_by_score = socioeco_scores.socioeconomic_score.value_counts().sort_index()\n",
    "pop_by_score"
   ]
  },
  {
   "cell_type": "code",
   "execution_count": 5,
   "metadata": {},
   "outputs": [
    {
     "data": {
      "text/plain": [
       "22028"
      ]
     },
     "execution_count": 5,
     "metadata": {},
     "output_type": "execute_result"
    }
   ],
   "source": [
    "socioeco_scores[socioeco_scores.socioeconomic_score == 0].shape[0]"
   ]
  },
  {
   "cell_type": "markdown",
   "metadata": {},
   "source": [
    "Load vaccination data"
   ]
  },
  {
   "cell_type": "code",
   "execution_count": 6,
   "metadata": {},
   "outputs": [],
   "source": [
    "prep_data = model.data_and_network_prep()"
   ]
  },
  {
   "cell_type": "code",
   "execution_count": 7,
   "metadata": {},
   "outputs": [
    {
     "data": {
      "text/html": [
       "<div>\n",
       "<style scoped>\n",
       "    .dataframe tbody tr th:only-of-type {\n",
       "        vertical-align: middle;\n",
       "    }\n",
       "\n",
       "    .dataframe tbody tr th {\n",
       "        vertical-align: top;\n",
       "    }\n",
       "\n",
       "    .dataframe thead th {\n",
       "        text-align: right;\n",
       "    }\n",
       "</style>\n",
       "<table border=\"1\" class=\"dataframe\">\n",
       "  <thead>\n",
       "    <tr style=\"text-align: right;\">\n",
       "      <th></th>\n",
       "      <th>random_ID</th>\n",
       "      <th>birth_year</th>\n",
       "      <th>vac_season</th>\n",
       "      <th>vac_date</th>\n",
       "      <th>vac_day_of_season</th>\n",
       "      <th>clinic_code</th>\n",
       "      <th>stat_area_id</th>\n",
       "      <th>age</th>\n",
       "    </tr>\n",
       "  </thead>\n",
       "  <tbody>\n",
       "    <tr>\n",
       "      <th>0</th>\n",
       "      <td>63</td>\n",
       "      <td>1945</td>\n",
       "      <td>2008</td>\n",
       "      <td>2007-10-24</td>\n",
       "      <td>145</td>\n",
       "      <td>6613</td>\n",
       "      <td>265023</td>\n",
       "      <td>1</td>\n",
       "    </tr>\n",
       "  </tbody>\n",
       "</table>\n",
       "</div>"
      ],
      "text/plain": [
       "   random_ID  birth_year  vac_season   vac_date  vac_day_of_season  \\\n",
       "0         63        1945        2008 2007-10-24                145   \n",
       "\n",
       "   clinic_code  stat_area_id  age  \n",
       "0         6613        265023    1  "
      ]
     },
     "execution_count": 7,
     "metadata": {},
     "output_type": "execute_result"
    }
   ],
   "source": [
    "vacc_data = prep_data['vaccination_data'].copy()\n",
    "vacc_data.head(1)"
   ]
  },
  {
   "cell_type": "markdown",
   "metadata": {},
   "source": [
    "Merge"
   ]
  },
  {
   "cell_type": "code",
   "execution_count": 8,
   "metadata": {},
   "outputs": [],
   "source": [
    "vacc_data = vacc_data.merge(socioeco_scores, on='random_ID')"
   ]
  },
  {
   "cell_type": "code",
   "execution_count": 9,
   "metadata": {},
   "outputs": [
    {
     "data": {
      "text/html": [
       "<div>\n",
       "<style scoped>\n",
       "    .dataframe tbody tr th:only-of-type {\n",
       "        vertical-align: middle;\n",
       "    }\n",
       "\n",
       "    .dataframe tbody tr th {\n",
       "        vertical-align: top;\n",
       "    }\n",
       "\n",
       "    .dataframe thead th {\n",
       "        text-align: right;\n",
       "    }\n",
       "</style>\n",
       "<table border=\"1\" class=\"dataframe\">\n",
       "  <thead>\n",
       "    <tr style=\"text-align: right;\">\n",
       "      <th></th>\n",
       "      <th>random_ID</th>\n",
       "      <th>birth_year</th>\n",
       "      <th>vac_season</th>\n",
       "      <th>vac_date</th>\n",
       "      <th>vac_day_of_season</th>\n",
       "      <th>clinic_code</th>\n",
       "      <th>stat_area_id</th>\n",
       "      <th>age</th>\n",
       "      <th>socioeconomic_score</th>\n",
       "    </tr>\n",
       "  </thead>\n",
       "  <tbody>\n",
       "    <tr>\n",
       "      <th>0</th>\n",
       "      <td>63</td>\n",
       "      <td>1945</td>\n",
       "      <td>2008</td>\n",
       "      <td>2007-10-24</td>\n",
       "      <td>145</td>\n",
       "      <td>6613</td>\n",
       "      <td>265023</td>\n",
       "      <td>1</td>\n",
       "      <td>19</td>\n",
       "    </tr>\n",
       "    <tr>\n",
       "      <th>1</th>\n",
       "      <td>63</td>\n",
       "      <td>1945</td>\n",
       "      <td>2009</td>\n",
       "      <td>2008-10-23</td>\n",
       "      <td>144</td>\n",
       "      <td>6613</td>\n",
       "      <td>265023</td>\n",
       "      <td>1</td>\n",
       "      <td>19</td>\n",
       "    </tr>\n",
       "    <tr>\n",
       "      <th>2</th>\n",
       "      <td>63</td>\n",
       "      <td>1945</td>\n",
       "      <td>2010</td>\n",
       "      <td>2009-11-02</td>\n",
       "      <td>154</td>\n",
       "      <td>6613</td>\n",
       "      <td>265023</td>\n",
       "      <td>1</td>\n",
       "      <td>19</td>\n",
       "    </tr>\n",
       "    <tr>\n",
       "      <th>3</th>\n",
       "      <td>63</td>\n",
       "      <td>1945</td>\n",
       "      <td>2011</td>\n",
       "      <td>2010-11-01</td>\n",
       "      <td>153</td>\n",
       "      <td>6613</td>\n",
       "      <td>265023</td>\n",
       "      <td>1</td>\n",
       "      <td>19</td>\n",
       "    </tr>\n",
       "    <tr>\n",
       "      <th>4</th>\n",
       "      <td>63</td>\n",
       "      <td>1945</td>\n",
       "      <td>2012</td>\n",
       "      <td>2011-11-03</td>\n",
       "      <td>155</td>\n",
       "      <td>6613</td>\n",
       "      <td>265023</td>\n",
       "      <td>1</td>\n",
       "      <td>19</td>\n",
       "    </tr>\n",
       "  </tbody>\n",
       "</table>\n",
       "</div>"
      ],
      "text/plain": [
       "   random_ID  birth_year  vac_season   vac_date  vac_day_of_season  \\\n",
       "0         63        1945        2008 2007-10-24                145   \n",
       "1         63        1945        2009 2008-10-23                144   \n",
       "2         63        1945        2010 2009-11-02                154   \n",
       "3         63        1945        2011 2010-11-01                153   \n",
       "4         63        1945        2012 2011-11-03                155   \n",
       "\n",
       "   clinic_code  stat_area_id  age  socioeconomic_score  \n",
       "0         6613        265023    1                   19  \n",
       "1         6613        265023    1                   19  \n",
       "2         6613        265023    1                   19  \n",
       "3         6613        265023    1                   19  \n",
       "4         6613        265023    1                   19  "
      ]
     },
     "execution_count": 9,
     "metadata": {},
     "output_type": "execute_result"
    }
   ],
   "source": [
    "vacc_data.head()"
   ]
  },
  {
   "cell_type": "code",
   "execution_count": 10,
   "metadata": {},
   "outputs": [
    {
     "data": {
      "text/html": [
       "<div>\n",
       "<style scoped>\n",
       "    .dataframe tbody tr th:only-of-type {\n",
       "        vertical-align: middle;\n",
       "    }\n",
       "\n",
       "    .dataframe tbody tr th {\n",
       "        vertical-align: top;\n",
       "    }\n",
       "\n",
       "    .dataframe thead th {\n",
       "        text-align: right;\n",
       "    }\n",
       "</style>\n",
       "<table border=\"1\" class=\"dataframe\">\n",
       "  <thead>\n",
       "    <tr style=\"text-align: right;\">\n",
       "      <th></th>\n",
       "      <th>avg_cov</th>\n",
       "      <th>error</th>\n",
       "    </tr>\n",
       "    <tr>\n",
       "      <th>socioeconomic_score</th>\n",
       "      <th></th>\n",
       "      <th></th>\n",
       "    </tr>\n",
       "  </thead>\n",
       "  <tbody>\n",
       "    <tr>\n",
       "      <th>1</th>\n",
       "      <td>0.092857</td>\n",
       "      <td>0.187034</td>\n",
       "    </tr>\n",
       "    <tr>\n",
       "      <th>2</th>\n",
       "      <td>0.094815</td>\n",
       "      <td>0.012872</td>\n",
       "    </tr>\n",
       "    <tr>\n",
       "      <th>3</th>\n",
       "      <td>0.102105</td>\n",
       "      <td>0.012681</td>\n",
       "    </tr>\n",
       "    <tr>\n",
       "      <th>4</th>\n",
       "      <td>0.094978</td>\n",
       "      <td>0.008027</td>\n",
       "    </tr>\n",
       "    <tr>\n",
       "      <th>5</th>\n",
       "      <td>0.098245</td>\n",
       "      <td>0.007601</td>\n",
       "    </tr>\n",
       "    <tr>\n",
       "      <th>6</th>\n",
       "      <td>0.137244</td>\n",
       "      <td>0.007185</td>\n",
       "    </tr>\n",
       "    <tr>\n",
       "      <th>7</th>\n",
       "      <td>0.163688</td>\n",
       "      <td>0.006908</td>\n",
       "    </tr>\n",
       "    <tr>\n",
       "      <th>8</th>\n",
       "      <td>0.166985</td>\n",
       "      <td>0.007574</td>\n",
       "    </tr>\n",
       "    <tr>\n",
       "      <th>9</th>\n",
       "      <td>0.171135</td>\n",
       "      <td>0.006425</td>\n",
       "    </tr>\n",
       "    <tr>\n",
       "      <th>10</th>\n",
       "      <td>0.181065</td>\n",
       "      <td>0.005230</td>\n",
       "    </tr>\n",
       "    <tr>\n",
       "      <th>11</th>\n",
       "      <td>0.177871</td>\n",
       "      <td>0.004718</td>\n",
       "    </tr>\n",
       "    <tr>\n",
       "      <th>12</th>\n",
       "      <td>0.179082</td>\n",
       "      <td>0.004781</td>\n",
       "    </tr>\n",
       "    <tr>\n",
       "      <th>13</th>\n",
       "      <td>0.177483</td>\n",
       "      <td>0.004837</td>\n",
       "    </tr>\n",
       "    <tr>\n",
       "      <th>14</th>\n",
       "      <td>0.191204</td>\n",
       "      <td>0.005367</td>\n",
       "    </tr>\n",
       "    <tr>\n",
       "      <th>15</th>\n",
       "      <td>0.180493</td>\n",
       "      <td>0.006275</td>\n",
       "    </tr>\n",
       "    <tr>\n",
       "      <th>16</th>\n",
       "      <td>0.195060</td>\n",
       "      <td>0.006807</td>\n",
       "    </tr>\n",
       "    <tr>\n",
       "      <th>17</th>\n",
       "      <td>0.212408</td>\n",
       "      <td>0.006504</td>\n",
       "    </tr>\n",
       "    <tr>\n",
       "      <th>18</th>\n",
       "      <td>0.216935</td>\n",
       "      <td>0.008909</td>\n",
       "    </tr>\n",
       "    <tr>\n",
       "      <th>19</th>\n",
       "      <td>0.233644</td>\n",
       "      <td>0.009215</td>\n",
       "    </tr>\n",
       "    <tr>\n",
       "      <th>20</th>\n",
       "      <td>0.241181</td>\n",
       "      <td>0.019273</td>\n",
       "    </tr>\n",
       "  </tbody>\n",
       "</table>\n",
       "</div>"
      ],
      "text/plain": [
       "                      avg_cov     error\n",
       "socioeconomic_score                    \n",
       "1                    0.092857  0.187034\n",
       "2                    0.094815  0.012872\n",
       "3                    0.102105  0.012681\n",
       "4                    0.094978  0.008027\n",
       "5                    0.098245  0.007601\n",
       "6                    0.137244  0.007185\n",
       "7                    0.163688  0.006908\n",
       "8                    0.166985  0.007574\n",
       "9                    0.171135  0.006425\n",
       "10                   0.181065  0.005230\n",
       "11                   0.177871  0.004718\n",
       "12                   0.179082  0.004781\n",
       "13                   0.177483  0.004837\n",
       "14                   0.191204  0.005367\n",
       "15                   0.180493  0.006275\n",
       "16                   0.195060  0.006807\n",
       "17                   0.212408  0.006504\n",
       "18                   0.216935  0.008909\n",
       "19                   0.233644  0.009215\n",
       "20                   0.241181  0.019273"
      ]
     },
     "execution_count": 10,
     "metadata": {},
     "output_type": "execute_result"
    }
   ],
   "source": [
    "# Group by socioeconomic score and count unmber of vaccinated season\n",
    "vacc_data_gb = vacc_data[vacc_data.vac_season.isin(model.seasons)].groupby('socioeconomic_score')[['vac_season']]\n",
    "vacc_cov_by_score = vacc_data_gb.count()\n",
    "\n",
    "# Calculate average vaccination coverage by deviding by \n",
    "vacc_cov_by_score /= 7*pop_by_score.values.reshape(21,1)\n",
    "vacc_cov_by_score = vacc_cov_by_score[1:].copy()\n",
    "vacc_cov_by_score.columns = ['avg_cov']\n",
    "\n",
    "# Calculate std\n",
    "vacc_cov_by_score['error'] = vacc_data_gb.std()/np.sqrt((7*pop_by_score.values.reshape(21,1)))\n",
    "vacc_cov_by_score"
   ]
  },
  {
   "cell_type": "code",
   "execution_count": 17,
   "metadata": {},
   "outputs": [
    {
     "data": {
      "image/png": "[encoded data removed]",
      "text/plain": [
       "<Figure size 1080x504 with 1 Axes>"
      ]
     },
     "metadata": {},
     "output_type": "display_data"
    }
   ],
   "source": [
    "fig, ax = plt.subplots(figsize=(15, 7))\n",
    "plt.bar(range(19), vacc_cov_by_score.avg_cov[1:], yerr=vacc_cov_by_score.error[1:])\n",
    "\n",
    "# plt.title('Vaccination Coverage by Socio-economic Score (2010-2018)', size=18)\n",
    "plt.xlabel('Socioeconomic score', size=20, fontweight='bold')\n",
    "plt.ylabel('Vaccination coverage', size=20, fontweight='bold', labelpad=10)\n",
    "plt.xticks(np.arange(19), np.arange(2,20+1), fontsize=20, fontweight='bold')\n",
    "plt.yticks(np.arange(0,0.25+0.05,0.05), fontsize=20, fontweight='bold')\n",
    "\n",
    "# Hide the right and top spines\n",
    "ax.spines['right'].set_visible(False)\n",
    "ax.spines['top'].set_visible(False)\n",
    "\n",
    "plt.show()"
   ]
  }
 ],
 "metadata": {
  "kernelspec": {
   "display_name": "Python 3",
   "language": "python",
   "name": "python3"
  },
  "language_info": {
   "codemirror_mode": {
    "name": "ipython",
    "version": 3
   },
   "file_extension": ".py",
   "mimetype": "text/x-python",
   "name": "python",
   "nbconvert_exporter": "python",
   "pygments_lexer": "ipython3",
   "version": "3.6.5"
  }
 },
 "nbformat": 4,
 "nbformat_minor": 2
}
