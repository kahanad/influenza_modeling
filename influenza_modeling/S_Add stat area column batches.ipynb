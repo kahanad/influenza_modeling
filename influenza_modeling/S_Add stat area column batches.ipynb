{
 "cells": [
  {
   "cell_type": "code",
   "execution_count": 1,
   "metadata": {},
   "outputs": [],
   "source": [
    "import pandas as pd\n",
    "import numpy as np\n",
    "import nafot\n",
    "import os\n",
    "from tqdm import tqdm_notebook\n",
    "import multiprocessing as mp\n",
    "import time\n",
    "import datetime"
   ]
  },
  {
   "cell_type": "markdown",
   "metadata": {},
   "source": [
    "### Get the sample files list"
   ]
  },
  {
   "cell_type": "code",
   "execution_count": 2,
   "metadata": {},
   "outputs": [
    {
     "ename": "FileNotFoundError",
     "evalue": "[WinError 3] The system cannot find the path specified: '../data/samples/new samples/'",
     "output_type": "error",
     "traceback": [
      "\u001b[1;31m---------------------------------------------------------------------------\u001b[0m",
      "\u001b[1;31mFileNotFoundError\u001b[0m                         Traceback (most recent call last)",
      "\u001b[1;32m<ipython-input-2-e10e17c4de2d>\u001b[0m in \u001b[0;36m<module>\u001b[1;34m()\u001b[0m\n\u001b[1;32m----> 1\u001b[1;33m \u001b[0mos\u001b[0m\u001b[1;33m.\u001b[0m\u001b[0mlistdir\u001b[0m\u001b[1;33m(\u001b[0m\u001b[1;34m'../data/samples/new samples/'\u001b[0m\u001b[1;33m)\u001b[0m\u001b[1;33m[\u001b[0m\u001b[1;36m1\u001b[0m\u001b[1;33m:\u001b[0m\u001b[1;33m-\u001b[0m\u001b[1;36m1\u001b[0m\u001b[1;33m]\u001b[0m\u001b[1;33m\u001b[0m\u001b[0m\n\u001b[0m",
      "\u001b[1;31mFileNotFoundError\u001b[0m: [WinError 3] The system cannot find the path specified: '../data/samples/new samples/'"
     ]
    }
   ],
   "source": [
    "os.listdir('../data/samples/new samples/')[1:-1]"
   ]
  },
  {
   "cell_type": "code",
   "execution_count": 5,
   "metadata": {},
   "outputs": [
    {
     "data": {
      "application/vnd.jupyter.widget-view+json": {
       "model_id": "918cc0ec63e243af9f65acc88ae5bb66",
       "version_major": 2,
       "version_minor": 0
      },
      "text/plain": [
       "A Jupyter Widget"
      ]
     },
     "metadata": {},
     "output_type": "display_data"
    },
    {
     "name": "stdout",
     "output_type": "stream",
     "text": [
      "sample_14.csv: functions created. run time:0:03:48.846552\n",
      "sample_14.csv start time: Mon Jan  8 23:41:08 2018\n",
      "sample_14.csv: Process completed. Processing time: 16:19:46.232368\n",
      "sample_14.csv: chunks concatenated. final_df shape: (151802964, 7)\n",
      "sample_15.csv: functions created. run time:0:03:53.542551\n",
      "sample_15.csv start time: Tue Jan  9 16:22:36 2018\n",
      "sample_15.csv: Process completed. Processing time: 16:23:11.079727\n",
      "sample_15.csv: chunks concatenated. final_df shape: (150443563, 7)\n",
      "sample_16.csv: functions created. run time:0:03:48.056504\n",
      "sample_16.csv start time: Wed Jan 10 09:07:58 2018\n",
      "sample_16.csv: Process completed. Processing time: 16:47:39.113676\n",
      "sample_16.csv: chunks concatenated. final_df shape: (148906059, 7)\n",
      "sample_17.csv: functions created. run time:0:03:33.700653\n",
      "sample_17.csv start time: Thu Jan 11 02:16:38 2018\n",
      "sample_17.csv: Process completed. Processing time: 16:59:02.228074\n",
      "sample_17.csv: chunks concatenated. final_df shape: (146705505, 7)\n",
      "sample_18.csv: functions created. run time:0:03:51.235309\n",
      "sample_18.csv start time: Thu Jan 11 19:36:52 2018\n",
      "sample_18.csv: Process completed. Processing time: 16:54:20.481427\n",
      "sample_18.csv: chunks concatenated. final_df shape: (152068503, 7)\n",
      "sample_19.csv: functions created. run time:0:03:39.762579\n",
      "sample_19.csv start time: Fri Jan 12 12:53:06 2018\n",
      "sample_19.csv: Process completed. Processing time: 16:14:58.118884\n",
      "sample_19.csv: chunks concatenated. final_df shape: (146858010, 7)\n",
      "\n"
     ]
    }
   ],
   "source": [
    "sample_files_names = os.listdir('../data/samples/new samples/')[1:-1]\n",
    "\n",
    "# Create a pool of 24 processes\n",
    "pool = mp.Pool(24)\n",
    "\n",
    "for file_name in tqdm_notebook(sample_files_names, 'files'):\n",
    "\n",
    "    \n",
    "    # read the file in chunks\n",
    "    reader = pd.read_csv(f'../data/samples/new samples/{file_name}', chunksize=6500000)\n",
    "    \n",
    "    # start time\n",
    "    start_time = time.time() \n",
    "    \n",
    "    # creating func for multiprocess\n",
    "    func_list = []\n",
    "    for data in reader:\n",
    "        f = pool.apply_async(nafot.add_stat_area_column, [data, False])\n",
    "        func_list.append(f)\n",
    "    \n",
    "    # end time\n",
    "    end_time = time.time()\n",
    "    # run time\n",
    "    run_time = (end_time - start_time)\n",
    "    print(f'{file_name}: functions created. run time:{str(datetime.timedelta(seconds=run_time))}')\n",
    "    \n",
    "    # Process chunks in parallel\n",
    "    # start time\n",
    "    start_time = time.time() \n",
    "    print(f'{file_name} start time: {time.ctime()}')\n",
    "   \n",
    "    dfs = []\n",
    "    for f in func_list:\n",
    "        # processing\n",
    "        dfs.append(f.get())\n",
    "    \n",
    "    # end time\n",
    "    end_time = time.time()\n",
    "    # Getting thr run time\n",
    "    run_time = (end_time - start_time)   \n",
    "    print(f'{file_name}: Process completed. Processing time: {str(datetime.timedelta(seconds=run_time))}')\n",
    "\n",
    "    # Concat chunks\n",
    "    final_df = pd.concat(dfs)\n",
    "    print(f'{file_name}: chunks concatenated. final_df shape: {final_df.shape}')\n",
    "    final_df.to_csv(f'../data/samples/new samples/with stat area/{file_name[:-4]}with_stat.csv', index=False)"
   ]
  }
 ],
 "metadata": {
  "kernelspec": {
   "display_name": "Python 3",
   "language": "python",
   "name": "python3"
  },
  "language_info": {
   "codemirror_mode": {
    "name": "ipython",
    "version": 3
   },
   "file_extension": ".py",
   "mimetype": "text/x-python",
   "name": "python",
   "nbconvert_exporter": "python",
   "pygments_lexer": "ipython3",
   "version": "3.6.3"
  }
 },
 "nbformat": 4,
 "nbformat_minor": 2
}
