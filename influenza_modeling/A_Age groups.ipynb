{
 "cells": [
  {
   "cell_type": "markdown",
   "metadata": {},
   "source": [
    "# Check if adding 'point' column helps!!!!!\n",
    "# Check raw"
   ]
  },
  {
   "cell_type": "markdown",
   "metadata": {},
   "source": [
    "# Age Groups"
   ]
  },
  {
   "cell_type": "code",
   "execution_count": 1,
   "metadata": {
    "ExecuteTime": {
     "end_time": "2018-04-11T07:49:12.518021Z",
     "start_time": "2018-04-11T07:47:44.134265Z"
    }
   },
   "outputs": [],
   "source": [
    "import geopandas as gp\n",
    "import pandas as pd\n",
    "import numpy as np\n",
    "from matplotlib import pyplot as plt\n",
    "from shapely.geometry import Point\n",
    "import nafot\n",
    "import time\n",
    "from tqdm import tqdm, tqdm_notebook\n",
    "from geopy.distance import vincenty\n",
    "plt.style.use('ggplot')\n",
    "%matplotlib inline"
   ]
  },
  {
   "cell_type": "markdown",
   "metadata": {},
   "source": [
    "### Location and CDR data"
   ]
  },
  {
   "cell_type": "markdown",
   "metadata": {},
   "source": [
    "Get the statistical area GeoDataFrame"
   ]
  },
  {
   "cell_type": "code",
   "execution_count": 14,
   "metadata": {
    "ExecuteTime": {
     "end_time": "2018-04-11T07:49:12.550442Z",
     "start_time": "2018-04-11T07:49:12.543440Z"
    }
   },
   "outputs": [],
   "source": [
    "gdf = nafot.gdf.copy()"
   ]
  },
  {
   "cell_type": "markdown",
   "metadata": {},
   "source": [
    "Loading location data"
   ]
  },
  {
   "cell_type": "code",
   "execution_count": 17,
   "metadata": {},
   "outputs": [],
   "source": [
    "# loc_data_sm = pd.read_csv('../../Data/new samples/with stat area/sample_00with_stat.csv')\n",
    "\n",
    "# # Remove records without stat area\n",
    "# loc_data_sm.dropna(inplace=True)"
   ]
  },
  {
   "cell_type": "markdown",
   "metadata": {},
   "source": [
    "Getting a sample"
   ]
  },
  {
   "cell_type": "code",
   "execution_count": 22,
   "metadata": {},
   "outputs": [],
   "source": [
    "# imsi_sm = np.random.choice(pd.unique(loc_data_sm.imsi), 1000, replace=False)\n",
    "# loc_data_sample = loc_data_sm[loc_data_sm.imsi.isin(imsi_sm)].copy()"
   ]
  },
  {
   "cell_type": "markdown",
   "metadata": {},
   "source": [
    "Adding yeshuv column"
   ]
  },
  {
   "cell_type": "code",
   "execution_count": 23,
   "metadata": {},
   "outputs": [],
   "source": [
    "# loc_data_sample['yeshuv'] = loc_data_sample.stat_area_id.apply(lambda x: gdf.SEMEL_YISH.loc[x])"
   ]
  },
  {
   "cell_type": "markdown",
   "metadata": {},
   "source": [
    "Saving the sample for later"
   ]
  },
  {
   "cell_type": "code",
   "execution_count": 24,
   "metadata": {},
   "outputs": [],
   "source": [
    "# loc_data_sample.to_csv('../../data/1000_users_sm.csv', index=False)"
   ]
  },
  {
   "cell_type": "markdown",
   "metadata": {},
   "source": [
    "Loading the sample"
   ]
  },
  {
   "cell_type": "code",
   "execution_count": 3,
   "metadata": {},
   "outputs": [],
   "source": [
    "loc_data_sm = pd.read_csv('../../data/1000_users_sm.csv')"
   ]
  },
  {
   "cell_type": "markdown",
   "metadata": {},
   "source": [
    "### School location data"
   ]
  },
  {
   "cell_type": "code",
   "execution_count": 9,
   "metadata": {
    "collapsed": true
   },
   "outputs": [],
   "source": [
    "# edu_locations = pd.read_csv('./data/schools_edited.csv', encoding='windows-1255')\n",
    "# # Unwanted columns\n",
    "# edu_locations.drop(['SETL_CODE', 'LATIN_NAME', 'USG_CODE' ,'E_ORD', 'N_ORD'],axis=1, inplace=True)"
   ]
  },
  {
   "cell_type": "markdown",
   "metadata": {},
   "source": [
    "Converting to WGS"
   ]
  },
  {
   "cell_type": "code",
   "execution_count": 10,
   "metadata": {
    "collapsed": true
   },
   "outputs": [],
   "source": [
    "# edu_locations['lonlat'] = edu_locations.apply(lambda row: \\\n",
    "#                                                  nafot.coordinates_conversion.itm_to_wgs(row.X, row.Y),axis=1)\n",
    "# edu_locations['longtitude'] = edu_locations.lonlat.apply(lambda x: x[0])\n",
    "# edu_locations['latitude'] = edu_locations.lonlat.apply(lambda x: x[1])\n",
    "# edu_locations.drop('lonlat', axis=1, inplace=True)"
   ]
  },
  {
   "cell_type": "markdown",
   "metadata": {},
   "source": [
    "Adding stat_area and yeshuv columns"
   ]
  },
  {
   "cell_type": "code",
   "execution_count": 11,
   "metadata": {
    "collapsed": true
   },
   "outputs": [],
   "source": [
    "# edu_locations = nafot.stat_areas.add_stat_area_column(edu_locations, path=False)"
   ]
  },
  {
   "cell_type": "code",
   "execution_count": 12,
   "metadata": {
    "collapsed": true
   },
   "outputs": [],
   "source": [
    "# Drop rows without stat_area (there will be no recrods form there)\n",
    "# edu_locations = edu_locations[~edu_locations.stat_area_id.isnull()]"
   ]
  },
  {
   "cell_type": "code",
   "execution_count": 13,
   "metadata": {
    "collapsed": true
   },
   "outputs": [],
   "source": [
    "# edu_locations['yeshuv'] = edu_locations.stat_area_id.apply(lambda x: gdf.SEMEL_YISH.loc[x])"
   ]
  },
  {
   "cell_type": "markdown",
   "metadata": {},
   "source": [
    "Saving edu_locations"
   ]
  },
  {
   "cell_type": "code",
   "execution_count": 14,
   "metadata": {
    "collapsed": true
   },
   "outputs": [],
   "source": [
    "# edu_locations.to_csv('./data/edu_locations.csv', index=False)"
   ]
  },
  {
   "cell_type": "markdown",
   "metadata": {},
   "source": [
    "Loading edu_locations"
   ]
  },
  {
   "cell_type": "code",
   "execution_count": 4,
   "metadata": {},
   "outputs": [],
   "source": [
    "edu_locations = pd.read_csv('../data/edu_locations.csv', encoding='windows-1255')"
   ]
  },
  {
   "cell_type": "code",
   "execution_count": 5,
   "metadata": {},
   "outputs": [],
   "source": [
    "edu_locations['latlon'] = list(zip(edu_locations['latitude'], edu_locations['longtitude']))"
   ]
  },
  {
   "cell_type": "code",
   "execution_count": 6,
   "metadata": {},
   "outputs": [
    {
     "data": {
      "text/html": [
       "<div>\n",
       "<style scoped>\n",
       "    .dataframe tbody tr th:only-of-type {\n",
       "        vertical-align: middle;\n",
       "    }\n",
       "\n",
       "    .dataframe tbody tr th {\n",
       "        vertical-align: top;\n",
       "    }\n",
       "\n",
       "    .dataframe thead th {\n",
       "        text-align: right;\n",
       "    }\n",
       "</style>\n",
       "<table border=\"1\" class=\"dataframe\">\n",
       "  <thead>\n",
       "    <tr style=\"text-align: right;\">\n",
       "      <th></th>\n",
       "      <th>UNIQ_ID</th>\n",
       "      <th>NAME</th>\n",
       "      <th>category</th>\n",
       "      <th>sub_category</th>\n",
       "      <th>X</th>\n",
       "      <th>Y</th>\n",
       "      <th>longtitude</th>\n",
       "      <th>latitude</th>\n",
       "      <th>stat_area_id</th>\n",
       "      <th>yeshuv</th>\n",
       "      <th>latlon</th>\n",
       "    </tr>\n",
       "  </thead>\n",
       "  <tbody>\n",
       "    <tr>\n",
       "      <th>0</th>\n",
       "      <td>54452836</td>\n",
       "      <td>האוניברסיטה - הפתוחה באר שבע</td>\n",
       "      <td>university</td>\n",
       "      <td>NaN</td>\n",
       "      <td>179507.7353</td>\n",
       "      <td>572444.8784</td>\n",
       "      <td>34.785158</td>\n",
       "      <td>31.242956</td>\n",
       "      <td>9000611.0</td>\n",
       "      <td>9000</td>\n",
       "      <td>(31.242955582477254, 34.78515791756074)</td>\n",
       "    </tr>\n",
       "    <tr>\n",
       "      <th>1</th>\n",
       "      <td>54450440</td>\n",
       "      <td>בית ספר - בן גוריון</td>\n",
       "      <td>school</td>\n",
       "      <td>elementary school</td>\n",
       "      <td>181916.2177</td>\n",
       "      <td>575383.5957</td>\n",
       "      <td>34.810330</td>\n",
       "      <td>31.269540</td>\n",
       "      <td>9000642.0</td>\n",
       "      <td>9000</td>\n",
       "      <td>(31.26953971249547, 34.810329831386596)</td>\n",
       "    </tr>\n",
       "    <tr>\n",
       "      <th>2</th>\n",
       "      <td>54450456</td>\n",
       "      <td>גן ילדים - גן המעפילים</td>\n",
       "      <td>kindergarten</td>\n",
       "      <td>NaN</td>\n",
       "      <td>181522.1307</td>\n",
       "      <td>573107.7254</td>\n",
       "      <td>34.806278</td>\n",
       "      <td>31.249001</td>\n",
       "      <td>9000631.0</td>\n",
       "      <td>9000</td>\n",
       "      <td>(31.249001005653078, 34.806278095118444)</td>\n",
       "    </tr>\n",
       "    <tr>\n",
       "      <th>3</th>\n",
       "      <td>54448309</td>\n",
       "      <td>בית ספר - שקמים</td>\n",
       "      <td>school</td>\n",
       "      <td>elementary school</td>\n",
       "      <td>161408.5068</td>\n",
       "      <td>603624.8576</td>\n",
       "      <td>34.593355</td>\n",
       "      <td>31.523391</td>\n",
       "      <td>10312.0</td>\n",
       "      <td>1031</td>\n",
       "      <td>(31.52339142326771, 34.593354579416484)</td>\n",
       "    </tr>\n",
       "    <tr>\n",
       "      <th>4</th>\n",
       "      <td>64763939</td>\n",
       "      <td>בית ספר - שקמים מעוז</td>\n",
       "      <td>school</td>\n",
       "      <td>elementary school</td>\n",
       "      <td>161285.9086</td>\n",
       "      <td>604728.5040</td>\n",
       "      <td>34.591999</td>\n",
       "      <td>31.533338</td>\n",
       "      <td>10315.0</td>\n",
       "      <td>1031</td>\n",
       "      <td>(31.53333822794813, 34.59199891305953)</td>\n",
       "    </tr>\n",
       "  </tbody>\n",
       "</table>\n",
       "</div>"
      ],
      "text/plain": [
       "    UNIQ_ID                          NAME      category       sub_category  \\\n",
       "0  54452836  האוניברסיטה - הפתוחה באר שבע    university                NaN   \n",
       "1  54450440           בית ספר - בן גוריון        school  elementary school   \n",
       "2  54450456        גן ילדים - גן המעפילים  kindergarten                NaN   \n",
       "3  54448309               בית ספר - שקמים        school  elementary school   \n",
       "4  64763939          בית ספר - שקמים מעוז        school  elementary school   \n",
       "\n",
       "             X            Y  longtitude   latitude  stat_area_id  yeshuv  \\\n",
       "0  179507.7353  572444.8784   34.785158  31.242956     9000611.0    9000   \n",
       "1  181916.2177  575383.5957   34.810330  31.269540     9000642.0    9000   \n",
       "2  181522.1307  573107.7254   34.806278  31.249001     9000631.0    9000   \n",
       "3  161408.5068  603624.8576   34.593355  31.523391       10312.0    1031   \n",
       "4  161285.9086  604728.5040   34.591999  31.533338       10315.0    1031   \n",
       "\n",
       "                                     latlon  \n",
       "0   (31.242955582477254, 34.78515791756074)  \n",
       "1   (31.26953971249547, 34.810329831386596)  \n",
       "2  (31.249001005653078, 34.806278095118444)  \n",
       "3   (31.52339142326771, 34.593354579416484)  \n",
       "4    (31.53333822794813, 34.59199891305953)  "
      ]
     },
     "execution_count": 6,
     "metadata": {},
     "output_type": "execute_result"
    }
   ],
   "source": [
    "edu_locations.head()"
   ]
  },
  {
   "cell_type": "markdown",
   "metadata": {},
   "source": [
    "Filtering schools only"
   ]
  },
  {
   "cell_type": "code",
   "execution_count": 7,
   "metadata": {},
   "outputs": [],
   "source": [
    "school_locations = edu_locations[edu_locations.category == 'school'].copy()"
   ]
  },
  {
   "cell_type": "code",
   "execution_count": 8,
   "metadata": {},
   "outputs": [
    {
     "data": {
      "text/plain": [
       "elementary school    1150\n",
       "religious school      570\n",
       "high school           324\n",
       "special school        202\n",
       "middle school         143\n",
       "boarding school        64\n",
       "Name: sub_category, dtype: int64"
      ]
     },
     "execution_count": 8,
     "metadata": {},
     "output_type": "execute_result"
    }
   ],
   "source": [
    "school_locations.sub_category.value_counts()"
   ]
  },
  {
   "cell_type": "code",
   "execution_count": 9,
   "metadata": {},
   "outputs": [
    {
     "data": {
      "text/html": [
       "<div>\n",
       "<style scoped>\n",
       "    .dataframe tbody tr th:only-of-type {\n",
       "        vertical-align: middle;\n",
       "    }\n",
       "\n",
       "    .dataframe tbody tr th {\n",
       "        vertical-align: top;\n",
       "    }\n",
       "\n",
       "    .dataframe thead th {\n",
       "        text-align: right;\n",
       "    }\n",
       "</style>\n",
       "<table border=\"1\" class=\"dataframe\">\n",
       "  <thead>\n",
       "    <tr style=\"text-align: right;\">\n",
       "      <th></th>\n",
       "      <th>UNIQ_ID</th>\n",
       "      <th>NAME</th>\n",
       "      <th>category</th>\n",
       "      <th>sub_category</th>\n",
       "      <th>X</th>\n",
       "      <th>Y</th>\n",
       "      <th>longtitude</th>\n",
       "      <th>latitude</th>\n",
       "      <th>stat_area_id</th>\n",
       "      <th>yeshuv</th>\n",
       "      <th>latlon</th>\n",
       "    </tr>\n",
       "  </thead>\n",
       "  <tbody>\n",
       "    <tr>\n",
       "      <th>1</th>\n",
       "      <td>54450440</td>\n",
       "      <td>בית ספר - בן גוריון</td>\n",
       "      <td>school</td>\n",
       "      <td>elementary school</td>\n",
       "      <td>181916.2177</td>\n",
       "      <td>575383.5957</td>\n",
       "      <td>34.810330</td>\n",
       "      <td>31.269540</td>\n",
       "      <td>9000642.0</td>\n",
       "      <td>9000</td>\n",
       "      <td>(31.26953971249547, 34.810329831386596)</td>\n",
       "    </tr>\n",
       "    <tr>\n",
       "      <th>3</th>\n",
       "      <td>54448309</td>\n",
       "      <td>בית ספר - שקמים</td>\n",
       "      <td>school</td>\n",
       "      <td>elementary school</td>\n",
       "      <td>161408.5068</td>\n",
       "      <td>603624.8576</td>\n",
       "      <td>34.593355</td>\n",
       "      <td>31.523391</td>\n",
       "      <td>10312.0</td>\n",
       "      <td>1031</td>\n",
       "      <td>(31.52339142326771, 34.593354579416484)</td>\n",
       "    </tr>\n",
       "    <tr>\n",
       "      <th>4</th>\n",
       "      <td>64763939</td>\n",
       "      <td>בית ספר - שקמים מעוז</td>\n",
       "      <td>school</td>\n",
       "      <td>elementary school</td>\n",
       "      <td>161285.9086</td>\n",
       "      <td>604728.5040</td>\n",
       "      <td>34.591999</td>\n",
       "      <td>31.533338</td>\n",
       "      <td>10315.0</td>\n",
       "      <td>1031</td>\n",
       "      <td>(31.53333822794813, 34.59199891305953)</td>\n",
       "    </tr>\n",
       "    <tr>\n",
       "      <th>6</th>\n",
       "      <td>54447717</td>\n",
       "      <td>תיכון מ\"מ חדש ע\"ש א' ליהמן</td>\n",
       "      <td>school</td>\n",
       "      <td>high school</td>\n",
       "      <td>203343.7023</td>\n",
       "      <td>553165.3997</td>\n",
       "      <td>35.035678</td>\n",
       "      <td>31.069641</td>\n",
       "      <td>22007.0</td>\n",
       "      <td>2200</td>\n",
       "      <td>(31.06964144356668, 35.03567810531364)</td>\n",
       "    </tr>\n",
       "    <tr>\n",
       "      <th>7</th>\n",
       "      <td>54447940</td>\n",
       "      <td>חווה למדעי הסביבה והחקלאות</td>\n",
       "      <td>school</td>\n",
       "      <td>special school</td>\n",
       "      <td>202746.2680</td>\n",
       "      <td>554040.5973</td>\n",
       "      <td>35.029404</td>\n",
       "      <td>31.077527</td>\n",
       "      <td>220012.0</td>\n",
       "      <td>2200</td>\n",
       "      <td>(31.077526838001987, 35.02940359832676)</td>\n",
       "    </tr>\n",
       "  </tbody>\n",
       "</table>\n",
       "</div>"
      ],
      "text/plain": [
       "    UNIQ_ID                        NAME category       sub_category  \\\n",
       "1  54450440         בית ספר - בן גוריון   school  elementary school   \n",
       "3  54448309             בית ספר - שקמים   school  elementary school   \n",
       "4  64763939        בית ספר - שקמים מעוז   school  elementary school   \n",
       "6  54447717  תיכון מ\"מ חדש ע\"ש א' ליהמן   school        high school   \n",
       "7  54447940  חווה למדעי הסביבה והחקלאות   school     special school   \n",
       "\n",
       "             X            Y  longtitude   latitude  stat_area_id  yeshuv  \\\n",
       "1  181916.2177  575383.5957   34.810330  31.269540     9000642.0    9000   \n",
       "3  161408.5068  603624.8576   34.593355  31.523391       10312.0    1031   \n",
       "4  161285.9086  604728.5040   34.591999  31.533338       10315.0    1031   \n",
       "6  203343.7023  553165.3997   35.035678  31.069641       22007.0    2200   \n",
       "7  202746.2680  554040.5973   35.029404  31.077527      220012.0    2200   \n",
       "\n",
       "                                    latlon  \n",
       "1  (31.26953971249547, 34.810329831386596)  \n",
       "3  (31.52339142326771, 34.593354579416484)  \n",
       "4   (31.53333822794813, 34.59199891305953)  \n",
       "6   (31.06964144356668, 35.03567810531364)  \n",
       "7  (31.077526838001987, 35.02940359832676)  "
      ]
     },
     "execution_count": 9,
     "metadata": {},
     "output_type": "execute_result"
    }
   ],
   "source": [
    "school_locations.head()"
   ]
  },
  {
   "cell_type": "markdown",
   "metadata": {},
   "source": [
    "### Finding users near schools"
   ]
  },
  {
   "cell_type": "markdown",
   "metadata": {},
   "source": [
    "Checking if point is near school"
   ]
  },
  {
   "cell_type": "code",
   "execution_count": 10,
   "metadata": {},
   "outputs": [],
   "source": [
    "def is_near_school(lat, lon, thresh, yeshuv=None, return_school_id=False):\n",
    "    if yeshuv:\n",
    "        schools = school_locations[school_locations.yeshuv == yeshuv].copy()\n",
    "        if schools.empty:\n",
    "            return None if return_school_id else False\n",
    "    else:\n",
    "        schools = school_locations\n",
    "\n",
    "    # Get a vector where True is near a school and False is not\n",
    "    nearby_schools = schools.latlon.apply(lambda latlon: vincenty((lat, lon), (latlon)).meters < thresh)\n",
    "    \n",
    "    # Is the point near a school\n",
    "    near_school =  nearby_schools.any()\n",
    "    \n",
    "    if near_school:\n",
    "        return schools.UNIQ_ID[nearby_schools].values[0] if return_school_id else True\n",
    "\n",
    "    else:\n",
    "        return None if return_school_id else False"
   ]
  },
  {
   "cell_type": "markdown",
   "metadata": {},
   "source": [
    "Calculating distance from home"
   ]
  },
  {
   "cell_type": "code",
   "execution_count": 11,
   "metadata": {},
   "outputs": [],
   "source": [
    "def get_dist_from_home(row):\n",
    "    if not np.isnan(row.home_center).any():\n",
    "        return row.home_center.distance(Point(row.longtitude, row.latitude))\n",
    "\n",
    "def get_dist_from_home2(row):\n",
    "    if not np.isnan(row.home_center).any():\n",
    "        return vincenty((row.latitude, row.longtitude), (row.home_center.y, row.home_center.x)).meters"
   ]
  },
  {
   "cell_type": "markdown",
   "metadata": {},
   "source": [
    "Getting only signals in weekdays"
   ]
  },
  {
   "cell_type": "code",
   "execution_count": 12,
   "metadata": {},
   "outputs": [],
   "source": [
    "weekends_dates = ['2012-11-30', '2012-12-01', '2012-12-07', '2012-12-08', '2012-12-14', '2012-12-15', '2012-12-21',\n",
    "                  '2012-12-22', '2012-12-28', '2012-12-29', '2013-01-04', '2013-01-05', '2013-01-11', '2013-01-12',\n",
    "                  '2013-01-18', '2013-01-19', '2013-01-25', '2013-01-26' '2013-02-01', '2013-02-02']\n",
    "\n",
    "loc_data_sm = loc_data_sm[~loc_data_sm.date_stamp.isin(weekends_dates)].copy()"
   ]
  },
  {
   "cell_type": "markdown",
   "metadata": {},
   "source": [
    "Add home stat area data"
   ]
  },
  {
   "cell_type": "code",
   "execution_count": 15,
   "metadata": {},
   "outputs": [],
   "source": [
    "# Get home data\n",
    "home_data = pd.read_csv('../../Data/new_samples/home_area/home_area_data_all_updated.csv')    \n",
    "home_data.set_index('imsi', inplace=True)\n",
    "home_data.home_stat_area = home_data.home_stat_area.apply(lambda x: float(x) if x != 'NotDetermined' else x)\n",
    "\n",
    "# Adding the centroid of the home stat_area\n",
    "home_data = home_data.merge(pd.DataFrame(gdf.geometry.centroid), how='left', left_on='home_stat_area', right_index=True)\n",
    "home_data.columns = ['home_stat_area', 'home_center']\n",
    "\n",
    "# Add home stat area and center columns\n",
    "loc_data_sm = loc_data_sm.merge(home_data, how='left', left_on='imsi', right_index=True)\n",
    "\n",
    "# Remove users without home stat area\n",
    "loc_data_sm = loc_data_sm[loc_data_sm.home_stat_area != 'NotDetermined'].copy()"
   ]
  },
  {
   "cell_type": "markdown",
   "metadata": {},
   "source": [
    "Getting only signals between 9:00-11:00"
   ]
  },
  {
   "cell_type": "code",
   "execution_count": 16,
   "metadata": {},
   "outputs": [
    {
     "data": {
      "text/plain": [
       "(1156904, 10)"
      ]
     },
     "execution_count": 16,
     "metadata": {},
     "output_type": "execute_result"
    }
   ],
   "source": [
    "morning_hours = range(18, 22)\n",
    "loc_data_morning = loc_data_sm[loc_data_sm.halfhouridx.isin(morning_hours)].copy()\n",
    "loc_data_morning.shape"
   ]
  },
  {
   "cell_type": "markdown",
   "metadata": {},
   "source": [
    "Calculate distance from home - only for the analysis"
   ]
  },
  {
   "cell_type": "code",
   "execution_count": 17,
   "metadata": {},
   "outputs": [
    {
     "data": {
      "application/vnd.jupyter.widget-view+json": {
       "model_id": "3ff8997cf6c54335ae016c1dae375b8b",
       "version_major": 2,
       "version_minor": 0
      },
      "text/plain": [
       "A Jupyter Widget"
      ]
     },
     "metadata": {},
     "output_type": "display_data"
    },
    {
     "name": "stdout",
     "output_type": "stream",
     "text": [
      "\n",
      "(1156904, 10)\n"
     ]
    },
    {
     "data": {
      "application/vnd.jupyter.widget-view+json": {
       "model_id": "9808566fa437496c9e147a8e9272bfb6",
       "version_major": 2,
       "version_minor": 0
      },
      "text/plain": [
       "A Jupyter Widget"
      ]
     },
     "metadata": {},
     "output_type": "display_data"
    },
    {
     "name": "stdout",
     "output_type": "stream",
     "text": [
      "\n"
     ]
    }
   ],
   "source": [
    "tqdm_notebook().pandas()\n",
    "print(loc_data_morning.shape)\n",
    "loc_data_morning['dist_from_home'] = loc_data_morning.progress_apply(get_dist_from_home2, axis=1)"
   ]
  },
  {
   "cell_type": "markdown",
   "metadata": {},
   "source": [
    "Add is_near_school column (without adding school id)"
   ]
  },
  {
   "cell_type": "code",
   "execution_count": 19,
   "metadata": {},
   "outputs": [
    {
     "name": "stderr",
     "output_type": "stream",
     "text": [
      "0it [00:00, ?it/s]\n",
      "100%|███████████████████████████████████████████████████████████████████████| 1156904/1156904 [45:33<00:00, 423.17it/s]\n"
     ]
    }
   ],
   "source": [
    "tqdm().pandas()\n",
    "loc_data_morning['is_near_school'] = loc_data_morning.progress_apply(lambda row:\\\n",
    "                                                                     is_near_school(row.latitude, row.longtitude, 200, row.yeshuv), axis=1)"
   ]
  },
  {
   "cell_type": "markdown",
   "metadata": {},
   "source": [
    "Add school_id column"
   ]
  },
  {
   "cell_type": "code",
   "execution_count": 20,
   "metadata": {},
   "outputs": [
    {
     "data": {
      "application/vnd.jupyter.widget-view+json": {
       "model_id": "9db28b9682844d6e9bb679edc3d0b6ed",
       "version_major": 2,
       "version_minor": 0
      },
      "text/plain": [
       "A Jupyter Widget"
      ]
     },
     "metadata": {},
     "output_type": "display_data"
    },
    {
     "name": "stdout",
     "output_type": "stream",
     "text": [
      "\n"
     ]
    },
    {
     "data": {
      "application/vnd.jupyter.widget-view+json": {
       "model_id": "f95cc9e6a1a944bb874aa444fcf08a9b",
       "version_major": 2,
       "version_minor": 0
      },
      "text/plain": [
       "A Jupyter Widget"
      ]
     },
     "metadata": {},
     "output_type": "display_data"
    },
    {
     "name": "stdout",
     "output_type": "stream",
     "text": [
      "\n"
     ]
    }
   ],
   "source": [
    "tqdm_notebook().pandas()\n",
    "loc_data_morning['school_id'] = loc_data_morning.progress_apply(lambda row:\\\n",
    "                                                                     is_near_school(row.latitude, row.longtitude, 200, row.yeshuv), axis=1)"
   ]
  },
  {
   "cell_type": "markdown",
   "metadata": {},
   "source": [
    "Add is_near_school column - by school id column"
   ]
  },
  {
   "cell_type": "code",
   "execution_count": 21,
   "metadata": {},
   "outputs": [],
   "source": [
    "loc_data_morning['is_near_school'] = ~loc_data_morning.school_id.isnull()"
   ]
  },
  {
   "cell_type": "markdown",
   "metadata": {},
   "source": [
    "Find users near schools"
   ]
  },
  {
   "cell_type": "code",
   "execution_count": 22,
   "metadata": {},
   "outputs": [
    {
     "name": "stdout",
     "output_type": "stream",
     "text": [
      "number of users near school: 773\n"
     ]
    },
    {
     "ename": "NameError",
     "evalue": "name 'datetime' is not defined",
     "output_type": "error",
     "traceback": [
      "\u001b[1;31m---------------------------------------------------------------------------\u001b[0m",
      "\u001b[1;31mNameError\u001b[0m                                 Traceback (most recent call last)",
      "\u001b[1;32m<ipython-input-22-dcfc57179d6b>\u001b[0m in \u001b[0;36m<module>\u001b[1;34m()\u001b[0m\n\u001b[0;32m      6\u001b[0m \u001b[1;33m\u001b[0m\u001b[0m\n\u001b[0;32m      7\u001b[0m \u001b[0mprint\u001b[0m\u001b[1;33m(\u001b[0m\u001b[1;34m'number of users near school: {}'\u001b[0m\u001b[1;33m.\u001b[0m\u001b[0mformat\u001b[0m\u001b[1;33m(\u001b[0m\u001b[0musers_near_school\u001b[0m\u001b[1;33m.\u001b[0m\u001b[0msize\u001b[0m\u001b[1;33m)\u001b[0m\u001b[1;33m)\u001b[0m\u001b[1;33m\u001b[0m\u001b[0m\n\u001b[1;32m----> 8\u001b[1;33m \u001b[0mprint\u001b[0m\u001b[1;33m(\u001b[0m\u001b[0mdatetime\u001b[0m\u001b[1;33m.\u001b[0m\u001b[0mnow\u001b[0m\u001b[1;33m(\u001b[0m\u001b[1;33m)\u001b[0m\u001b[1;33m)\u001b[0m\u001b[1;33m\u001b[0m\u001b[0m\n\u001b[0m",
      "\u001b[1;31mNameError\u001b[0m: name 'datetime' is not defined"
     ]
    }
   ],
   "source": [
    "# Group by imsi\n",
    "gb_imsi_mor = loc_data_morning.groupby('imsi')\n",
    "\n",
    "# Filter users that where near school at least 80% of the time\n",
    "users_near_school = np.array(sorted(pd.unique(loc_data_morning.imsi)))\\\n",
    "                                        [np.where((gb_imsi_mor.is_near_school.sum() / gb_imsi_mor.is_near_school.count()) > 0.8)[0]]\n",
    "    \n",
    "print('number of users near school: {}'.format(users_near_school.size))\n",
    "print(datetime.now())"
   ]
  },
  {
   "cell_type": "markdown",
   "metadata": {},
   "source": [
    "Get school_id for each user\n"
   ]
  },
  {
   "cell_type": "code",
   "execution_count": 31,
   "metadata": {
    "collapsed": true
   },
   "outputs": [],
   "source": [
    "users_school_id = gb_imsi_mor['school_id'].agg(lambda x: x.value_counts(dropna=False).index[0])\n",
    "# Filter only users near schools\n",
    "users_school_id = users_school_id[users_near_school]"
   ]
  },
  {
   "cell_type": "markdown",
   "metadata": {},
   "source": [
    "Create imsi df"
   ]
  },
  {
   "cell_type": "code",
   "execution_count": 18,
   "metadata": {},
   "outputs": [
    {
     "ename": "KeyError",
     "evalue": "\"Columns not found: 'dist_from_home'\"",
     "output_type": "error",
     "traceback": [
      "\u001b[1;31m---------------------------------------------------------------------------\u001b[0m",
      "\u001b[1;31mKeyError\u001b[0m                                  Traceback (most recent call last)",
      "\u001b[1;32m<ipython-input-18-b7766ed2c19a>\u001b[0m in \u001b[0;36m<module>\u001b[1;34m()\u001b[0m\n\u001b[0;32m     15\u001b[0m \u001b[1;33m\u001b[0m\u001b[0m\n\u001b[0;32m     16\u001b[0m \u001b[1;31m# Add average distance from home per day\u001b[0m\u001b[1;33m\u001b[0m\u001b[1;33m\u001b[0m\u001b[0m\n\u001b[1;32m---> 17\u001b[1;33m \u001b[0mimsi_df\u001b[0m\u001b[1;33m[\u001b[0m\u001b[1;34m'avg_dist_from_home'\u001b[0m\u001b[1;33m]\u001b[0m \u001b[1;33m=\u001b[0m \u001b[0mloc_data_sm\u001b[0m\u001b[1;33m.\u001b[0m\u001b[0mgroupby\u001b[0m\u001b[1;33m(\u001b[0m\u001b[1;33m[\u001b[0m\u001b[1;34m'imsi'\u001b[0m\u001b[1;33m,\u001b[0m \u001b[1;34m'date_stamp'\u001b[0m\u001b[1;33m]\u001b[0m\u001b[1;33m)\u001b[0m                                                        \u001b[1;33m[\u001b[0m\u001b[1;33m[\u001b[0m\u001b[1;34m'dist_from_home'\u001b[0m\u001b[1;33m]\u001b[0m\u001b[1;33m]\u001b[0m\u001b[1;33m.\u001b[0m\u001b[0mmean\u001b[0m\u001b[1;33m(\u001b[0m\u001b[1;33m)\u001b[0m\u001b[1;33m.\u001b[0m\u001b[0mreset_index\u001b[0m\u001b[1;33m(\u001b[0m\u001b[1;33m)\u001b[0m\u001b[1;33m.\u001b[0m\u001b[0mgroupby\u001b[0m\u001b[1;33m(\u001b[0m\u001b[1;34m'imsi'\u001b[0m\u001b[1;33m)\u001b[0m\u001b[1;33m.\u001b[0m\u001b[0mmean\u001b[0m\u001b[1;33m(\u001b[0m\u001b[1;33m)\u001b[0m\u001b[1;33m\u001b[0m\u001b[0m\n\u001b[0m\u001b[0;32m     18\u001b[0m \u001b[1;33m\u001b[0m\u001b[0m\n\u001b[0;32m     19\u001b[0m \u001b[1;31m# Add average of max distance from home\u001b[0m\u001b[1;33m\u001b[0m\u001b[1;33m\u001b[0m\u001b[0m\n",
      "\u001b[1;32mC:\\ProgramData\\Anaconda3\\lib\\site-packages\\pandas\\core\\base.py\u001b[0m in \u001b[0;36m__getitem__\u001b[1;34m(self, key)\u001b[0m\n\u001b[0;32m    247\u001b[0m                 \u001b[0mbad_keys\u001b[0m \u001b[1;33m=\u001b[0m \u001b[0mlist\u001b[0m\u001b[1;33m(\u001b[0m\u001b[0mset\u001b[0m\u001b[1;33m(\u001b[0m\u001b[0mkey\u001b[0m\u001b[1;33m)\u001b[0m\u001b[1;33m.\u001b[0m\u001b[0mdifference\u001b[0m\u001b[1;33m(\u001b[0m\u001b[0mself\u001b[0m\u001b[1;33m.\u001b[0m\u001b[0mobj\u001b[0m\u001b[1;33m.\u001b[0m\u001b[0mcolumns\u001b[0m\u001b[1;33m)\u001b[0m\u001b[1;33m)\u001b[0m\u001b[1;33m\u001b[0m\u001b[0m\n\u001b[0;32m    248\u001b[0m                 raise KeyError(\"Columns not found: {missing}\"\n\u001b[1;32m--> 249\u001b[1;33m                                .format(missing=str(bad_keys)[1:-1]))\n\u001b[0m\u001b[0;32m    250\u001b[0m             \u001b[1;32mreturn\u001b[0m \u001b[0mself\u001b[0m\u001b[1;33m.\u001b[0m\u001b[0m_gotitem\u001b[0m\u001b[1;33m(\u001b[0m\u001b[0mlist\u001b[0m\u001b[1;33m(\u001b[0m\u001b[0mkey\u001b[0m\u001b[1;33m)\u001b[0m\u001b[1;33m,\u001b[0m \u001b[0mndim\u001b[0m\u001b[1;33m=\u001b[0m\u001b[1;36m2\u001b[0m\u001b[1;33m)\u001b[0m\u001b[1;33m\u001b[0m\u001b[0m\n\u001b[0;32m    251\u001b[0m \u001b[1;33m\u001b[0m\u001b[0m\n",
      "\u001b[1;31mKeyError\u001b[0m: \"Columns not found: 'dist_from_home'\""
     ]
    }
   ],
   "source": [
    "gb_imsi = loc_data_sm.groupby('imsi')\n",
    "\n",
    "# Count the number of distinct stat_areas\n",
    "imsi_df = gb_imsi[['stat_area_id']].nunique()\n",
    "imsi_df.columns = ['distinct_stat_areas']\n",
    "\n",
    "# Count the number of distinct stat_areas per day\n",
    "imsi_df['distinct_stat_areas_per_day'] = loc_data_sm.groupby(['imsi', 'date_stamp'])\\\n",
    "                                                        [['stat_area_id']].nunique().reset_index().groupby('imsi').mean()\n",
    "    \n",
    "# Count the number of distinct yeshuvim\n",
    "imsi_df['distinct_yeshuvim'] = gb_imsi[['yeshuv']].nunique()\n",
    "\n",
    "# Count the number of distinct yeshuvim per day\n",
    "imsi_df['distinct_yeshuvim_per_day'] = loc_data_sm.groupby(['imsi', 'date_stamp'])\\\n",
    "                                                        [['yeshuv']].nunique().reset_index().groupby('imsi').mean()\n",
    "\n",
    "# Add average distance from home per day\n",
    "imsi_df['avg_dist_from_home'] = loc_data_sm.groupby(['imsi', 'date_stamp'])\\\n",
    "                                                        [['dist_from_home']].mean().reset_index().groupby('imsi').mean()\n",
    "\n",
    "# Add average of max distance from home\n",
    "imsi_df['max_dist_from_home'] = loc_data_sm.groupby(['imsi', 'date_stamp'])\\\n",
    "                                                        [['dist_from_home']].max().reset_index().groupby('imsi').mean()\n",
    "\n",
    "# True if the user is near a school > 80% of the time \n",
    "imsi_df['is_near_school'] = imsi_df.index.isin(users_near_school)\n",
    "\n",
    "# Add school_id column\n",
    "imsi_df['school_id'] = imsi_df.apply(lambda row:\\\n",
    "                                     users_school_id.loc[row.name] if row.name in users_school_id.index else None, axis=1)\n",
    "\n",
    "# Add school type column\n",
    "imsi_df['school_type'] = imsi_df.school_id.apply(lambda school_id:\\\n",
    "                                                 school_locations[school_locations.UNIQ_ID == school_id].sub_category.values[0]\\\n",
    "                                                if not np.isnan(school_id) else '_not_school')"
   ]
  },
  {
   "cell_type": "code",
   "execution_count": 33,
   "metadata": {},
   "outputs": [
    {
     "data": {
      "text/html": [
       "<div>\n",
       "<style>\n",
       "    .dataframe thead tr:only-child th {\n",
       "        text-align: right;\n",
       "    }\n",
       "\n",
       "    .dataframe thead th {\n",
       "        text-align: left;\n",
       "    }\n",
       "\n",
       "    .dataframe tbody tr th {\n",
       "        vertical-align: top;\n",
       "    }\n",
       "</style>\n",
       "<table border=\"1\" class=\"dataframe\">\n",
       "  <thead>\n",
       "    <tr style=\"text-align: right;\">\n",
       "      <th></th>\n",
       "      <th>distinct_stat_areas</th>\n",
       "      <th>distinct_stat_areas_per_day</th>\n",
       "      <th>distinct_yeshuvim</th>\n",
       "      <th>distinct_yeshuvim_per_day</th>\n",
       "      <th>avg_dist_from_home</th>\n",
       "      <th>max_dist_from_home</th>\n",
       "      <th>is_near_school</th>\n",
       "      <th>school_id</th>\n",
       "      <th>school_type</th>\n",
       "    </tr>\n",
       "    <tr>\n",
       "      <th>imsi</th>\n",
       "      <th></th>\n",
       "      <th></th>\n",
       "      <th></th>\n",
       "      <th></th>\n",
       "      <th></th>\n",
       "      <th></th>\n",
       "      <th></th>\n",
       "      <th></th>\n",
       "      <th></th>\n",
       "    </tr>\n",
       "  </thead>\n",
       "  <tbody>\n",
       "    <tr>\n",
       "      <th>18560865</th>\n",
       "      <td>81</td>\n",
       "      <td>8.030303</td>\n",
       "      <td>32</td>\n",
       "      <td>4.939394</td>\n",
       "      <td>1588.103776</td>\n",
       "      <td>5411.888463</td>\n",
       "      <td>False</td>\n",
       "      <td>NaN</td>\n",
       "      <td>_not_school</td>\n",
       "    </tr>\n",
       "    <tr>\n",
       "      <th>118768365</th>\n",
       "      <td>130</td>\n",
       "      <td>9.657895</td>\n",
       "      <td>68</td>\n",
       "      <td>7.315789</td>\n",
       "      <td>10301.444823</td>\n",
       "      <td>17263.645033</td>\n",
       "      <td>False</td>\n",
       "      <td>NaN</td>\n",
       "      <td>_not_school</td>\n",
       "    </tr>\n",
       "    <tr>\n",
       "      <th>321718465</th>\n",
       "      <td>16</td>\n",
       "      <td>3.764706</td>\n",
       "      <td>1</td>\n",
       "      <td>1.000000</td>\n",
       "      <td>519.783861</td>\n",
       "      <td>2241.924091</td>\n",
       "      <td>False</td>\n",
       "      <td>NaN</td>\n",
       "      <td>_not_school</td>\n",
       "    </tr>\n",
       "    <tr>\n",
       "      <th>463618465</th>\n",
       "      <td>182</td>\n",
       "      <td>10.675676</td>\n",
       "      <td>42</td>\n",
       "      <td>4.810811</td>\n",
       "      <td>8838.246256</td>\n",
       "      <td>11817.992949</td>\n",
       "      <td>False</td>\n",
       "      <td>NaN</td>\n",
       "      <td>_not_school</td>\n",
       "    </tr>\n",
       "    <tr>\n",
       "      <th>465322565</th>\n",
       "      <td>28</td>\n",
       "      <td>3.111111</td>\n",
       "      <td>4</td>\n",
       "      <td>1.500000</td>\n",
       "      <td>4884.531913</td>\n",
       "      <td>7538.261352</td>\n",
       "      <td>False</td>\n",
       "      <td>NaN</td>\n",
       "      <td>_not_school</td>\n",
       "    </tr>\n",
       "  </tbody>\n",
       "</table>\n",
       "</div>"
      ],
      "text/plain": [
       "           distinct_stat_areas  distinct_stat_areas_per_day  \\\n",
       "imsi                                                          \n",
       "18560865                    81                     8.030303   \n",
       "118768365                  130                     9.657895   \n",
       "321718465                   16                     3.764706   \n",
       "463618465                  182                    10.675676   \n",
       "465322565                   28                     3.111111   \n",
       "\n",
       "           distinct_yeshuvim  distinct_yeshuvim_per_day  avg_dist_from_home  \\\n",
       "imsi                                                                          \n",
       "18560865                  32                   4.939394         1588.103776   \n",
       "118768365                 68                   7.315789        10301.444823   \n",
       "321718465                  1                   1.000000          519.783861   \n",
       "463618465                 42                   4.810811         8838.246256   \n",
       "465322565                  4                   1.500000         4884.531913   \n",
       "\n",
       "           max_dist_from_home  is_near_school  school_id  school_type  \n",
       "imsi                                                                   \n",
       "18560865          5411.888463           False        NaN  _not_school  \n",
       "118768365        17263.645033           False        NaN  _not_school  \n",
       "321718465         2241.924091           False        NaN  _not_school  \n",
       "463618465        11817.992949           False        NaN  _not_school  \n",
       "465322565         7538.261352           False        NaN  _not_school  "
      ]
     },
     "execution_count": 33,
     "metadata": {},
     "output_type": "execute_result"
    }
   ],
   "source": [
    "imsi_df.head()"
   ]
  },
  {
   "cell_type": "code",
   "execution_count": 34,
   "metadata": {
    "collapsed": true
   },
   "outputs": [],
   "source": [
    "imsi_df.to_csv('./data/imsi_df.csv')"
   ]
  },
  {
   "cell_type": "markdown",
   "metadata": {},
   "source": [
    "#### Distinct stat area and yeshuvim count by is_near_school"
   ]
  },
  {
   "cell_type": "code",
   "execution_count": 35,
   "metadata": {},
   "outputs": [
    {
     "data": {
      "text/html": [
       "<div>\n",
       "<style>\n",
       "    .dataframe thead tr:only-child th {\n",
       "        text-align: right;\n",
       "    }\n",
       "\n",
       "    .dataframe thead th {\n",
       "        text-align: left;\n",
       "    }\n",
       "\n",
       "    .dataframe tbody tr th {\n",
       "        vertical-align: top;\n",
       "    }\n",
       "</style>\n",
       "<table border=\"1\" class=\"dataframe\">\n",
       "  <thead>\n",
       "    <tr>\n",
       "      <th></th>\n",
       "      <th colspan=\"8\" halign=\"left\">distinct_stat_areas_per_day</th>\n",
       "      <th colspan=\"8\" halign=\"left\">distinct_yeshuvim_per_day</th>\n",
       "    </tr>\n",
       "    <tr>\n",
       "      <th></th>\n",
       "      <th>count</th>\n",
       "      <th>mean</th>\n",
       "      <th>std</th>\n",
       "      <th>min</th>\n",
       "      <th>25%</th>\n",
       "      <th>50%</th>\n",
       "      <th>75%</th>\n",
       "      <th>max</th>\n",
       "      <th>count</th>\n",
       "      <th>mean</th>\n",
       "      <th>std</th>\n",
       "      <th>min</th>\n",
       "      <th>25%</th>\n",
       "      <th>50%</th>\n",
       "      <th>75%</th>\n",
       "      <th>max</th>\n",
       "    </tr>\n",
       "    <tr>\n",
       "      <th>is_near_school</th>\n",
       "      <th></th>\n",
       "      <th></th>\n",
       "      <th></th>\n",
       "      <th></th>\n",
       "      <th></th>\n",
       "      <th></th>\n",
       "      <th></th>\n",
       "      <th></th>\n",
       "      <th></th>\n",
       "      <th></th>\n",
       "      <th></th>\n",
       "      <th></th>\n",
       "      <th></th>\n",
       "      <th></th>\n",
       "      <th></th>\n",
       "      <th></th>\n",
       "    </tr>\n",
       "  </thead>\n",
       "  <tbody>\n",
       "    <tr>\n",
       "      <th>False</th>\n",
       "      <td>549.0</td>\n",
       "      <td>9.038158</td>\n",
       "      <td>6.444091</td>\n",
       "      <td>1.0</td>\n",
       "      <td>4.000000</td>\n",
       "      <td>7.666667</td>\n",
       "      <td>12.131579</td>\n",
       "      <td>44.52381</td>\n",
       "      <td>549.0</td>\n",
       "      <td>4.214316</td>\n",
       "      <td>3.322730</td>\n",
       "      <td>1.0</td>\n",
       "      <td>1.812500</td>\n",
       "      <td>3.236842</td>\n",
       "      <td>5.555556</td>\n",
       "      <td>21.7500</td>\n",
       "    </tr>\n",
       "    <tr>\n",
       "      <th>True</th>\n",
       "      <td>19.0</td>\n",
       "      <td>4.963126</td>\n",
       "      <td>3.699142</td>\n",
       "      <td>1.0</td>\n",
       "      <td>2.111111</td>\n",
       "      <td>4.285714</td>\n",
       "      <td>6.871542</td>\n",
       "      <td>13.06250</td>\n",
       "      <td>19.0</td>\n",
       "      <td>2.005803</td>\n",
       "      <td>1.468052</td>\n",
       "      <td>1.0</td>\n",
       "      <td>1.212353</td>\n",
       "      <td>1.692308</td>\n",
       "      <td>1.934524</td>\n",
       "      <td>7.4375</td>\n",
       "    </tr>\n",
       "  </tbody>\n",
       "</table>\n",
       "</div>"
      ],
      "text/plain": [
       "               distinct_stat_areas_per_day                                     \\\n",
       "                                     count      mean       std  min       25%   \n",
       "is_near_school                                                                  \n",
       "False                                549.0  9.038158  6.444091  1.0  4.000000   \n",
       "True                                  19.0  4.963126  3.699142  1.0  2.111111   \n",
       "\n",
       "                                              distinct_yeshuvim_per_day  \\\n",
       "                     50%        75%       max                     count   \n",
       "is_near_school                                                            \n",
       "False           7.666667  12.131579  44.52381                     549.0   \n",
       "True            4.285714   6.871542  13.06250                      19.0   \n",
       "\n",
       "                                                                                \n",
       "                    mean       std  min       25%       50%       75%      max  \n",
       "is_near_school                                                                  \n",
       "False           4.214316  3.322730  1.0  1.812500  3.236842  5.555556  21.7500  \n",
       "True            2.005803  1.468052  1.0  1.212353  1.692308  1.934524   7.4375  "
      ]
     },
     "execution_count": 35,
     "metadata": {},
     "output_type": "execute_result"
    }
   ],
   "source": [
    "count_is_near = imsi_df.groupby('is_near_school')[['distinct_stat_areas_per_day', 'distinct_yeshuvim_per_day']]\n",
    "count_is_near.describe()"
   ]
  },
  {
   "cell_type": "code",
   "execution_count": 36,
   "metadata": {},
   "outputs": [
    {
     "data": {
      "image/png": "[encoded data removed]",
      "text/plain": [
       "<matplotlib.figure.Figure at 0x22f800c6dd8>"
      ]
     },
     "metadata": {},
     "output_type": "display_data"
    }
   ],
   "source": [
    "# Get the number of users\n",
    "n = count_is_near.count()['distinct_stat_areas_per_day'].values\n",
    "\n",
    "# Distinct stat areas per day\n",
    "count_is_near.mean().T.plot(kind='bar', yerr=count_is_near.std().T/np.sqrt(n))\n",
    "plt.title('Number of distinct areas per day')\n",
    "plt.xlabel('Area')\n",
    "plt.ylabel('# of distinct areas per day')\n",
    "plt.xticks(np.arange(2), ['stat areas', 'yeshuvim'], rotation='horizontal')\n",
    "plt.legend(['Not near school', 'Near school'])\n",
    "plt.show()\n",
    "\n",
    "# Distinct yeshuvim per day\n",
    "# yesuvim_is_near.mean()['distinct_yeshuvim_per_day'].plot(kind='bar', yerr=yesuvim_is_near.std()['distinct_yeshuvim_per_day']/np.sqrt(n))\n",
    "# plt.title('Distinct yeshuvim per day')\n",
    "# plt.xlabel('Is near school')\n",
    "# plt.ylabel('# of distinct yeshuvim per day')\n",
    "# plt.show()"
   ]
  },
  {
   "cell_type": "markdown",
   "metadata": {},
   "source": [
    "#### Distinct stat area and yeshuvim count by school_type"
   ]
  },
  {
   "cell_type": "code",
   "execution_count": 37,
   "metadata": {},
   "outputs": [
    {
     "data": {
      "text/html": [
       "<div>\n",
       "<style>\n",
       "    .dataframe thead tr:only-child th {\n",
       "        text-align: right;\n",
       "    }\n",
       "\n",
       "    .dataframe thead th {\n",
       "        text-align: left;\n",
       "    }\n",
       "\n",
       "    .dataframe tbody tr th {\n",
       "        vertical-align: top;\n",
       "    }\n",
       "</style>\n",
       "<table border=\"1\" class=\"dataframe\">\n",
       "  <thead>\n",
       "    <tr>\n",
       "      <th></th>\n",
       "      <th colspan=\"8\" halign=\"left\">distinct_stat_areas_per_day</th>\n",
       "      <th colspan=\"8\" halign=\"left\">distinct_yeshuvim_per_day</th>\n",
       "    </tr>\n",
       "    <tr>\n",
       "      <th></th>\n",
       "      <th>count</th>\n",
       "      <th>mean</th>\n",
       "      <th>std</th>\n",
       "      <th>min</th>\n",
       "      <th>25%</th>\n",
       "      <th>50%</th>\n",
       "      <th>75%</th>\n",
       "      <th>max</th>\n",
       "      <th>count</th>\n",
       "      <th>mean</th>\n",
       "      <th>std</th>\n",
       "      <th>min</th>\n",
       "      <th>25%</th>\n",
       "      <th>50%</th>\n",
       "      <th>75%</th>\n",
       "      <th>max</th>\n",
       "    </tr>\n",
       "    <tr>\n",
       "      <th>school_type</th>\n",
       "      <th></th>\n",
       "      <th></th>\n",
       "      <th></th>\n",
       "      <th></th>\n",
       "      <th></th>\n",
       "      <th></th>\n",
       "      <th></th>\n",
       "      <th></th>\n",
       "      <th></th>\n",
       "      <th></th>\n",
       "      <th></th>\n",
       "      <th></th>\n",
       "      <th></th>\n",
       "      <th></th>\n",
       "      <th></th>\n",
       "      <th></th>\n",
       "    </tr>\n",
       "  </thead>\n",
       "  <tbody>\n",
       "    <tr>\n",
       "      <th>_not_school</th>\n",
       "      <td>549.0</td>\n",
       "      <td>9.038158</td>\n",
       "      <td>6.444091</td>\n",
       "      <td>1.000000</td>\n",
       "      <td>4.000000</td>\n",
       "      <td>7.666667</td>\n",
       "      <td>12.131579</td>\n",
       "      <td>44.523810</td>\n",
       "      <td>549.0</td>\n",
       "      <td>4.214316</td>\n",
       "      <td>3.322730</td>\n",
       "      <td>1.000000</td>\n",
       "      <td>1.812500</td>\n",
       "      <td>3.236842</td>\n",
       "      <td>5.555556</td>\n",
       "      <td>21.750000</td>\n",
       "    </tr>\n",
       "    <tr>\n",
       "      <th>elementary school</th>\n",
       "      <td>9.0</td>\n",
       "      <td>3.540127</td>\n",
       "      <td>2.752485</td>\n",
       "      <td>1.500000</td>\n",
       "      <td>1.812500</td>\n",
       "      <td>2.411765</td>\n",
       "      <td>4.625000</td>\n",
       "      <td>9.923077</td>\n",
       "      <td>9.0</td>\n",
       "      <td>1.673038</td>\n",
       "      <td>0.778241</td>\n",
       "      <td>1.000000</td>\n",
       "      <td>1.000000</td>\n",
       "      <td>1.500000</td>\n",
       "      <td>1.718750</td>\n",
       "      <td>3.131579</td>\n",
       "    </tr>\n",
       "    <tr>\n",
       "      <th>high school</th>\n",
       "      <td>3.0</td>\n",
       "      <td>5.622963</td>\n",
       "      <td>5.347878</td>\n",
       "      <td>1.000000</td>\n",
       "      <td>2.694444</td>\n",
       "      <td>4.388889</td>\n",
       "      <td>7.934444</td>\n",
       "      <td>11.480000</td>\n",
       "      <td>3.0</td>\n",
       "      <td>1.238519</td>\n",
       "      <td>0.285980</td>\n",
       "      <td>1.000000</td>\n",
       "      <td>1.080000</td>\n",
       "      <td>1.160000</td>\n",
       "      <td>1.357778</td>\n",
       "      <td>1.555556</td>\n",
       "    </tr>\n",
       "    <tr>\n",
       "      <th>middle school</th>\n",
       "      <td>1.0</td>\n",
       "      <td>9.583333</td>\n",
       "      <td>NaN</td>\n",
       "      <td>9.583333</td>\n",
       "      <td>9.583333</td>\n",
       "      <td>9.583333</td>\n",
       "      <td>9.583333</td>\n",
       "      <td>9.583333</td>\n",
       "      <td>1.0</td>\n",
       "      <td>1.833333</td>\n",
       "      <td>NaN</td>\n",
       "      <td>1.833333</td>\n",
       "      <td>1.833333</td>\n",
       "      <td>1.833333</td>\n",
       "      <td>1.833333</td>\n",
       "      <td>1.833333</td>\n",
       "    </tr>\n",
       "    <tr>\n",
       "      <th>religious school</th>\n",
       "      <td>2.0</td>\n",
       "      <td>8.674107</td>\n",
       "      <td>6.206125</td>\n",
       "      <td>4.285714</td>\n",
       "      <td>6.479911</td>\n",
       "      <td>8.674107</td>\n",
       "      <td>10.868304</td>\n",
       "      <td>13.062500</td>\n",
       "      <td>2.0</td>\n",
       "      <td>4.736607</td>\n",
       "      <td>3.819639</td>\n",
       "      <td>2.035714</td>\n",
       "      <td>3.386161</td>\n",
       "      <td>4.736607</td>\n",
       "      <td>6.087054</td>\n",
       "      <td>7.437500</td>\n",
       "    </tr>\n",
       "    <tr>\n",
       "      <th>special school</th>\n",
       "      <td>4.0</td>\n",
       "      <td>4.659455</td>\n",
       "      <td>2.657841</td>\n",
       "      <td>2.000000</td>\n",
       "      <td>2.671053</td>\n",
       "      <td>4.492823</td>\n",
       "      <td>6.481225</td>\n",
       "      <td>7.652174</td>\n",
       "      <td>4.0</td>\n",
       "      <td>2.007703</td>\n",
       "      <td>0.704175</td>\n",
       "      <td>1.470588</td>\n",
       "      <td>1.663102</td>\n",
       "      <td>1.758373</td>\n",
       "      <td>2.102975</td>\n",
       "      <td>3.043478</td>\n",
       "    </tr>\n",
       "  </tbody>\n",
       "</table>\n",
       "</div>"
      ],
      "text/plain": [
       "                  distinct_stat_areas_per_day                                \\\n",
       "                                        count      mean       std       min   \n",
       "school_type                                                                   \n",
       "_not_school                             549.0  9.038158  6.444091  1.000000   \n",
       "elementary school                         9.0  3.540127  2.752485  1.500000   \n",
       "high school                               3.0  5.622963  5.347878  1.000000   \n",
       "middle school                             1.0  9.583333       NaN  9.583333   \n",
       "religious school                          2.0  8.674107  6.206125  4.285714   \n",
       "special school                            4.0  4.659455  2.657841  2.000000   \n",
       "\n",
       "                                                             \\\n",
       "                        25%       50%        75%        max   \n",
       "school_type                                                   \n",
       "_not_school        4.000000  7.666667  12.131579  44.523810   \n",
       "elementary school  1.812500  2.411765   4.625000   9.923077   \n",
       "high school        2.694444  4.388889   7.934444  11.480000   \n",
       "middle school      9.583333  9.583333   9.583333   9.583333   \n",
       "religious school   6.479911  8.674107  10.868304  13.062500   \n",
       "special school     2.671053  4.492823   6.481225   7.652174   \n",
       "\n",
       "                  distinct_yeshuvim_per_day                                \\\n",
       "                                      count      mean       std       min   \n",
       "school_type                                                                 \n",
       "_not_school                           549.0  4.214316  3.322730  1.000000   \n",
       "elementary school                       9.0  1.673038  0.778241  1.000000   \n",
       "high school                             3.0  1.238519  0.285980  1.000000   \n",
       "middle school                           1.0  1.833333       NaN  1.833333   \n",
       "religious school                        2.0  4.736607  3.819639  2.035714   \n",
       "special school                          4.0  2.007703  0.704175  1.470588   \n",
       "\n",
       "                                                            \n",
       "                        25%       50%       75%        max  \n",
       "school_type                                                 \n",
       "_not_school        1.812500  3.236842  5.555556  21.750000  \n",
       "elementary school  1.000000  1.500000  1.718750   3.131579  \n",
       "high school        1.080000  1.160000  1.357778   1.555556  \n",
       "middle school      1.833333  1.833333  1.833333   1.833333  \n",
       "religious school   3.386161  4.736607  6.087054   7.437500  \n",
       "special school     1.663102  1.758373  2.102975   3.043478  "
      ]
     },
     "execution_count": 37,
     "metadata": {},
     "output_type": "execute_result"
    }
   ],
   "source": [
    "count_type = imsi_df.groupby('school_type')[['distinct_stat_areas_per_day', 'distinct_yeshuvim_per_day']]\n",
    "count_type.describe()"
   ]
  },
  {
   "cell_type": "code",
   "execution_count": 38,
   "metadata": {},
   "outputs": [
    {
     "data": {
      "image/png": "[encoded data removed]",
      "text/plain": [
       "<matplotlib.figure.Figure at 0x22f8005f978>"
      ]
     },
     "metadata": {},
     "output_type": "display_data"
    },
    {
     "data": {
      "image/png": "[encoded data removed]",
      "text/plain": [
       "<matplotlib.figure.Figure at 0x22f800dfda0>"
      ]
     },
     "metadata": {},
     "output_type": "display_data"
    }
   ],
   "source": [
    "# Get the number of users\n",
    "n = count_type.count()['distinct_stat_areas_per_day'].values\n",
    "\n",
    "# Distinct stat areas per day\n",
    "count_type.mean()['distinct_stat_areas_per_day'].sort_values(ascending=False).plot(kind='bar', yerr=count_type.std()['distinct_stat_areas_per_day']/np.sqrt(n))\n",
    "plt.title('Number of distinct stat areas')\n",
    "plt.xlabel('School type')\n",
    "plt.ylabel('# of distinct stat areas per day')\n",
    "plt.show()\n",
    "\n",
    "# Distinct yeshuvim per day\n",
    "count_type.mean()['distinct_stat_areas_per_day'].sort_values(ascending=False).plot(kind='bar', yerr=count_type.std()['distinct_stat_areas_per_day']/np.sqrt(n))\n",
    "plt.title('Number of distinct yeshuvim per day')\n",
    "plt.xlabel('School type')\n",
    "plt.ylabel('# of distinct stat areas per day')\n",
    "plt.show()"
   ]
  },
  {
   "cell_type": "markdown",
   "metadata": {},
   "source": [
    "#### Average and max daily distance from home by is_near_school"
   ]
  },
  {
   "cell_type": "code",
   "execution_count": 39,
   "metadata": {},
   "outputs": [
    {
     "data": {
      "text/html": [
       "<div>\n",
       "<style>\n",
       "    .dataframe thead tr:only-child th {\n",
       "        text-align: right;\n",
       "    }\n",
       "\n",
       "    .dataframe thead th {\n",
       "        text-align: left;\n",
       "    }\n",
       "\n",
       "    .dataframe tbody tr th {\n",
       "        vertical-align: top;\n",
       "    }\n",
       "</style>\n",
       "<table border=\"1\" class=\"dataframe\">\n",
       "  <thead>\n",
       "    <tr>\n",
       "      <th></th>\n",
       "      <th colspan=\"8\" halign=\"left\">avg_dist_from_home</th>\n",
       "      <th colspan=\"8\" halign=\"left\">max_dist_from_home</th>\n",
       "    </tr>\n",
       "    <tr>\n",
       "      <th></th>\n",
       "      <th>count</th>\n",
       "      <th>mean</th>\n",
       "      <th>std</th>\n",
       "      <th>min</th>\n",
       "      <th>25%</th>\n",
       "      <th>50%</th>\n",
       "      <th>75%</th>\n",
       "      <th>max</th>\n",
       "      <th>count</th>\n",
       "      <th>mean</th>\n",
       "      <th>std</th>\n",
       "      <th>min</th>\n",
       "      <th>25%</th>\n",
       "      <th>50%</th>\n",
       "      <th>75%</th>\n",
       "      <th>max</th>\n",
       "    </tr>\n",
       "    <tr>\n",
       "      <th>is_near_school</th>\n",
       "      <th></th>\n",
       "      <th></th>\n",
       "      <th></th>\n",
       "      <th></th>\n",
       "      <th></th>\n",
       "      <th></th>\n",
       "      <th></th>\n",
       "      <th></th>\n",
       "      <th></th>\n",
       "      <th></th>\n",
       "      <th></th>\n",
       "      <th></th>\n",
       "      <th></th>\n",
       "      <th></th>\n",
       "      <th></th>\n",
       "      <th></th>\n",
       "    </tr>\n",
       "  </thead>\n",
       "  <tbody>\n",
       "    <tr>\n",
       "      <th>False</th>\n",
       "      <td>474.0</td>\n",
       "      <td>7339.436088</td>\n",
       "      <td>7970.871780</td>\n",
       "      <td>81.476152</td>\n",
       "      <td>1855.731685</td>\n",
       "      <td>4472.477401</td>\n",
       "      <td>9774.662284</td>\n",
       "      <td>49927.728905</td>\n",
       "      <td>474.0</td>\n",
       "      <td>12996.857512</td>\n",
       "      <td>11236.120025</td>\n",
       "      <td>273.455070</td>\n",
       "      <td>5005.299085</td>\n",
       "      <td>9732.347162</td>\n",
       "      <td>17567.087508</td>\n",
       "      <td>61690.857906</td>\n",
       "    </tr>\n",
       "    <tr>\n",
       "      <th>True</th>\n",
       "      <td>17.0</td>\n",
       "      <td>3103.833610</td>\n",
       "      <td>4114.395794</td>\n",
       "      <td>48.816837</td>\n",
       "      <td>659.406198</td>\n",
       "      <td>1698.976287</td>\n",
       "      <td>3906.522453</td>\n",
       "      <td>15459.918224</td>\n",
       "      <td>17.0</td>\n",
       "      <td>5216.077798</td>\n",
       "      <td>5729.892107</td>\n",
       "      <td>68.406304</td>\n",
       "      <td>1939.877181</td>\n",
       "      <td>3496.380417</td>\n",
       "      <td>6302.275410</td>\n",
       "      <td>23585.054021</td>\n",
       "    </tr>\n",
       "  </tbody>\n",
       "</table>\n",
       "</div>"
      ],
      "text/plain": [
       "               avg_dist_from_home                                       \\\n",
       "                            count         mean          std        min   \n",
       "is_near_school                                                           \n",
       "False                       474.0  7339.436088  7970.871780  81.476152   \n",
       "True                         17.0  3103.833610  4114.395794  48.816837   \n",
       "\n",
       "                                                                     \\\n",
       "                        25%          50%          75%           max   \n",
       "is_near_school                                                        \n",
       "False           1855.731685  4472.477401  9774.662284  49927.728905   \n",
       "True             659.406198  1698.976287  3906.522453  15459.918224   \n",
       "\n",
       "               max_dist_from_home                                          \\\n",
       "                            count          mean           std         min   \n",
       "is_near_school                                                              \n",
       "False                       474.0  12996.857512  11236.120025  273.455070   \n",
       "True                         17.0   5216.077798   5729.892107   68.406304   \n",
       "\n",
       "                                                                      \n",
       "                        25%          50%           75%           max  \n",
       "is_near_school                                                        \n",
       "False           5005.299085  9732.347162  17567.087508  61690.857906  \n",
       "True            1939.877181  3496.380417   6302.275410  23585.054021  "
      ]
     },
     "execution_count": 39,
     "metadata": {},
     "output_type": "execute_result"
    }
   ],
   "source": [
    "dist_is_near = imsi_df.groupby('is_near_school')[['avg_dist_from_home', 'max_dist_from_home']]\n",
    "dist_is_near.describe()"
   ]
  },
  {
   "cell_type": "code",
   "execution_count": 51,
   "metadata": {},
   "outputs": [
    {
     "data": {
      "image/png": "[encoded data removed]",
      "text/plain": [
       "<matplotlib.figure.Figure at 0x22f8857f860>"
      ]
     },
     "metadata": {},
     "output_type": "display_data"
    }
   ],
   "source": [
    "# Get the number of users\n",
    "n = dist_is_near.count()['avg_dist_from_home'].values\n",
    "\n",
    "# Average daily distance\n",
    "dist_is_near.mean().T.plot(kind='bar', yerr=dist_is_near.std().T/np.sqrt(n))\n",
    "plt.title('Daily distance from home')\n",
    "plt.ylabel('Distance from home ($m$)')\n",
    "plt.xticks(np.arange(2), ['daily average', 'daily maximum'], rotation='horizontal')\n",
    "plt.legend(['Not near school', 'Near school'], loc='best')\n",
    "plt.show()\n",
    "\n",
    "# Max daily distance\n",
    "# dist_is_near.mean()['max_dist_from_home'].plot(kind='bar', yerr=dist_is_near.std()['max_dist_from_home']/np.sqrt(n))\n",
    "# plt.title('Max daily distance from home')\n",
    "# plt.xlabel('Is near school')\n",
    "# plt.ylabel('Max daily distance from home ($m$)')\n",
    "# plt.show()"
   ]
  },
  {
   "cell_type": "markdown",
   "metadata": {},
   "source": [
    "#### Average and max daily distance from home by school type"
   ]
  },
  {
   "cell_type": "code",
   "execution_count": 41,
   "metadata": {},
   "outputs": [
    {
     "data": {
      "text/html": [
       "<div>\n",
       "<style>\n",
       "    .dataframe thead tr:only-child th {\n",
       "        text-align: right;\n",
       "    }\n",
       "\n",
       "    .dataframe thead th {\n",
       "        text-align: left;\n",
       "    }\n",
       "\n",
       "    .dataframe tbody tr th {\n",
       "        vertical-align: top;\n",
       "    }\n",
       "</style>\n",
       "<table border=\"1\" class=\"dataframe\">\n",
       "  <thead>\n",
       "    <tr>\n",
       "      <th></th>\n",
       "      <th colspan=\"8\" halign=\"left\">avg_dist_from_home</th>\n",
       "      <th colspan=\"8\" halign=\"left\">max_dist_from_home</th>\n",
       "    </tr>\n",
       "    <tr>\n",
       "      <th></th>\n",
       "      <th>count</th>\n",
       "      <th>mean</th>\n",
       "      <th>std</th>\n",
       "      <th>min</th>\n",
       "      <th>25%</th>\n",
       "      <th>50%</th>\n",
       "      <th>75%</th>\n",
       "      <th>max</th>\n",
       "      <th>count</th>\n",
       "      <th>mean</th>\n",
       "      <th>std</th>\n",
       "      <th>min</th>\n",
       "      <th>25%</th>\n",
       "      <th>50%</th>\n",
       "      <th>75%</th>\n",
       "      <th>max</th>\n",
       "    </tr>\n",
       "    <tr>\n",
       "      <th>school_type</th>\n",
       "      <th></th>\n",
       "      <th></th>\n",
       "      <th></th>\n",
       "      <th></th>\n",
       "      <th></th>\n",
       "      <th></th>\n",
       "      <th></th>\n",
       "      <th></th>\n",
       "      <th></th>\n",
       "      <th></th>\n",
       "      <th></th>\n",
       "      <th></th>\n",
       "      <th></th>\n",
       "      <th></th>\n",
       "      <th></th>\n",
       "      <th></th>\n",
       "    </tr>\n",
       "  </thead>\n",
       "  <tbody>\n",
       "    <tr>\n",
       "      <th>_not_school</th>\n",
       "      <td>474.0</td>\n",
       "      <td>7339.436088</td>\n",
       "      <td>7970.871780</td>\n",
       "      <td>81.476152</td>\n",
       "      <td>1855.731685</td>\n",
       "      <td>4472.477401</td>\n",
       "      <td>9774.662284</td>\n",
       "      <td>49927.728905</td>\n",
       "      <td>474.0</td>\n",
       "      <td>12996.857512</td>\n",
       "      <td>11236.120025</td>\n",
       "      <td>273.455070</td>\n",
       "      <td>5005.299085</td>\n",
       "      <td>9732.347162</td>\n",
       "      <td>17567.087508</td>\n",
       "      <td>61690.857906</td>\n",
       "    </tr>\n",
       "    <tr>\n",
       "      <th>elementary school</th>\n",
       "      <td>7.0</td>\n",
       "      <td>1647.318388</td>\n",
       "      <td>1697.146643</td>\n",
       "      <td>169.999362</td>\n",
       "      <td>361.032672</td>\n",
       "      <td>1004.469014</td>\n",
       "      <td>2748.394054</td>\n",
       "      <td>4137.906891</td>\n",
       "      <td>7.0</td>\n",
       "      <td>3315.948104</td>\n",
       "      <td>3222.816389</td>\n",
       "      <td>578.604688</td>\n",
       "      <td>656.790917</td>\n",
       "      <td>2615.417256</td>\n",
       "      <td>4899.327914</td>\n",
       "      <td>8905.377121</td>\n",
       "    </tr>\n",
       "    <tr>\n",
       "      <th>high school</th>\n",
       "      <td>3.0</td>\n",
       "      <td>3779.507149</td>\n",
       "      <td>5940.808912</td>\n",
       "      <td>48.816837</td>\n",
       "      <td>354.111518</td>\n",
       "      <td>659.406198</td>\n",
       "      <td>5644.852304</td>\n",
       "      <td>10630.298411</td>\n",
       "      <td>3.0</td>\n",
       "      <td>4672.096755</td>\n",
       "      <td>6421.626174</td>\n",
       "      <td>68.406304</td>\n",
       "      <td>1004.141743</td>\n",
       "      <td>1939.877181</td>\n",
       "      <td>6973.941980</td>\n",
       "      <td>12008.006779</td>\n",
       "    </tr>\n",
       "    <tr>\n",
       "      <th>middle school</th>\n",
       "      <td>1.0</td>\n",
       "      <td>2136.377087</td>\n",
       "      <td>NaN</td>\n",
       "      <td>2136.377087</td>\n",
       "      <td>2136.377087</td>\n",
       "      <td>2136.377087</td>\n",
       "      <td>2136.377087</td>\n",
       "      <td>2136.377087</td>\n",
       "      <td>1.0</td>\n",
       "      <td>4551.296032</td>\n",
       "      <td>NaN</td>\n",
       "      <td>4551.296032</td>\n",
       "      <td>4551.296032</td>\n",
       "      <td>4551.296032</td>\n",
       "      <td>4551.296032</td>\n",
       "      <td>4551.296032</td>\n",
       "    </tr>\n",
       "    <tr>\n",
       "      <th>religious school</th>\n",
       "      <td>2.0</td>\n",
       "      <td>8579.447255</td>\n",
       "      <td>9730.455359</td>\n",
       "      <td>1698.976287</td>\n",
       "      <td>5139.211771</td>\n",
       "      <td>8579.447255</td>\n",
       "      <td>12019.682739</td>\n",
       "      <td>15459.918224</td>\n",
       "      <td>2.0</td>\n",
       "      <td>13938.891293</td>\n",
       "      <td>13641.734155</td>\n",
       "      <td>4292.728565</td>\n",
       "      <td>9115.809929</td>\n",
       "      <td>13938.891293</td>\n",
       "      <td>18761.972657</td>\n",
       "      <td>23585.054021</td>\n",
       "    </tr>\n",
       "    <tr>\n",
       "      <th>special school</th>\n",
       "      <td>4.0</td>\n",
       "      <td>2650.037404</td>\n",
       "      <td>1858.133032</td>\n",
       "      <td>811.780513</td>\n",
       "      <td>1869.352760</td>\n",
       "      <td>2275.655268</td>\n",
       "      <td>3056.339912</td>\n",
       "      <td>5237.058565</td>\n",
       "      <td>4.0</td>\n",
       "      <td>4754.079238</td>\n",
       "      <td>2219.911089</td>\n",
       "      <td>3403.223000</td>\n",
       "      <td>3462.663216</td>\n",
       "      <td>3779.936865</td>\n",
       "      <td>5071.352887</td>\n",
       "      <td>8053.220223</td>\n",
       "    </tr>\n",
       "  </tbody>\n",
       "</table>\n",
       "</div>"
      ],
      "text/plain": [
       "                  avg_dist_from_home                                         \\\n",
       "                               count         mean          std          min   \n",
       "school_type                                                                   \n",
       "_not_school                    474.0  7339.436088  7970.871780    81.476152   \n",
       "elementary school                7.0  1647.318388  1697.146643   169.999362   \n",
       "high school                      3.0  3779.507149  5940.808912    48.816837   \n",
       "middle school                    1.0  2136.377087          NaN  2136.377087   \n",
       "religious school                 2.0  8579.447255  9730.455359  1698.976287   \n",
       "special school                   4.0  2650.037404  1858.133032   811.780513   \n",
       "\n",
       "                                                                         \\\n",
       "                           25%          50%           75%           max   \n",
       "school_type                                                               \n",
       "_not_school        1855.731685  4472.477401   9774.662284  49927.728905   \n",
       "elementary school   361.032672  1004.469014   2748.394054   4137.906891   \n",
       "high school         354.111518   659.406198   5644.852304  10630.298411   \n",
       "middle school      2136.377087  2136.377087   2136.377087   2136.377087   \n",
       "religious school   5139.211771  8579.447255  12019.682739  15459.918224   \n",
       "special school     1869.352760  2275.655268   3056.339912   5237.058565   \n",
       "\n",
       "                  max_dist_from_home                                           \\\n",
       "                               count          mean           std          min   \n",
       "school_type                                                                     \n",
       "_not_school                    474.0  12996.857512  11236.120025   273.455070   \n",
       "elementary school                7.0   3315.948104   3222.816389   578.604688   \n",
       "high school                      3.0   4672.096755   6421.626174    68.406304   \n",
       "middle school                    1.0   4551.296032           NaN  4551.296032   \n",
       "religious school                 2.0  13938.891293  13641.734155  4292.728565   \n",
       "special school                   4.0   4754.079238   2219.911089  3403.223000   \n",
       "\n",
       "                                                                          \n",
       "                           25%           50%           75%           max  \n",
       "school_type                                                               \n",
       "_not_school        5005.299085   9732.347162  17567.087508  61690.857906  \n",
       "elementary school   656.790917   2615.417256   4899.327914   8905.377121  \n",
       "high school        1004.141743   1939.877181   6973.941980  12008.006779  \n",
       "middle school      4551.296032   4551.296032   4551.296032   4551.296032  \n",
       "religious school   9115.809929  13938.891293  18761.972657  23585.054021  \n",
       "special school     3462.663216   3779.936865   5071.352887   8053.220223  "
      ]
     },
     "execution_count": 41,
     "metadata": {},
     "output_type": "execute_result"
    }
   ],
   "source": [
    "dist_type = imsi_df.groupby('school_type')[['avg_dist_from_home', 'max_dist_from_home']]\n",
    "dist_type.describe()"
   ]
  },
  {
   "cell_type": "code",
   "execution_count": 42,
   "metadata": {},
   "outputs": [
    {
     "data": {
      "image/png": "[encoded data removed]",
      "text/plain": [
       "<matplotlib.figure.Figure at 0x22f8407c518>"
      ]
     },
     "metadata": {},
     "output_type": "display_data"
    },
    {
     "data": {
      "image/png": "[encoded data removed]",
      "text/plain": [
       "<matplotlib.figure.Figure at 0x22f8858def0>"
      ]
     },
     "metadata": {},
     "output_type": "display_data"
    }
   ],
   "source": [
    "# Get the number of users\n",
    "n = dist_type.count()['avg_dist_from_home'].values\n",
    "\n",
    "# Distinct stat areas per day\n",
    "dist_type.mean()['avg_dist_from_home'].sort_values(ascending=False).plot(kind='bar', yerr=dist_type.std()['avg_dist_from_home']/np.sqrt(n))\n",
    "plt.title('Average daily distance from home')\n",
    "plt.xlabel('School type')\n",
    "plt.ylabel('Average daily distance from home ($m$)')\n",
    "plt.show()\n",
    "\n",
    "# Distinct yeshuvim per day\n",
    "dist_type.mean()['max_dist_from_home'].sort_values(ascending=False).plot(kind='bar', yerr=dist_type.std()['max_dist_from_home']/np.sqrt(n))\n",
    "plt.title('Max daily distance from home')\n",
    "plt.xlabel('School type')\n",
    "plt.ylabel('Max daily distance from home ($m$)')\n",
    "plt.show()"
   ]
  },
  {
   "cell_type": "code",
   "execution_count": 43,
   "metadata": {},
   "outputs": [
    {
     "data": {
      "text/html": [
       "<div>\n",
       "<style>\n",
       "    .dataframe thead tr:only-child th {\n",
       "        text-align: right;\n",
       "    }\n",
       "\n",
       "    .dataframe thead th {\n",
       "        text-align: left;\n",
       "    }\n",
       "\n",
       "    .dataframe tbody tr th {\n",
       "        vertical-align: top;\n",
       "    }\n",
       "</style>\n",
       "<table border=\"1\" class=\"dataframe\">\n",
       "  <thead>\n",
       "    <tr style=\"text-align: right;\">\n",
       "      <th></th>\n",
       "      <th>distinct_stat_areas</th>\n",
       "      <th>distinct_stat_areas_per_day</th>\n",
       "      <th>distinct_yeshuvim</th>\n",
       "      <th>distinct_yeshuvim_per_day</th>\n",
       "      <th>avg_dist_from_home</th>\n",
       "      <th>max_dist_from_home</th>\n",
       "      <th>is_near_school</th>\n",
       "      <th>school_id</th>\n",
       "      <th>school_type</th>\n",
       "    </tr>\n",
       "    <tr>\n",
       "      <th>imsi</th>\n",
       "      <th></th>\n",
       "      <th></th>\n",
       "      <th></th>\n",
       "      <th></th>\n",
       "      <th></th>\n",
       "      <th></th>\n",
       "      <th></th>\n",
       "      <th></th>\n",
       "      <th></th>\n",
       "    </tr>\n",
       "  </thead>\n",
       "  <tbody>\n",
       "    <tr>\n",
       "      <th>18560865</th>\n",
       "      <td>81</td>\n",
       "      <td>8.030303</td>\n",
       "      <td>32</td>\n",
       "      <td>4.939394</td>\n",
       "      <td>1588.103776</td>\n",
       "      <td>5411.888463</td>\n",
       "      <td>False</td>\n",
       "      <td>NaN</td>\n",
       "      <td>_not_school</td>\n",
       "    </tr>\n",
       "    <tr>\n",
       "      <th>118768365</th>\n",
       "      <td>130</td>\n",
       "      <td>9.657895</td>\n",
       "      <td>68</td>\n",
       "      <td>7.315789</td>\n",
       "      <td>10301.444823</td>\n",
       "      <td>17263.645033</td>\n",
       "      <td>False</td>\n",
       "      <td>NaN</td>\n",
       "      <td>_not_school</td>\n",
       "    </tr>\n",
       "    <tr>\n",
       "      <th>321718465</th>\n",
       "      <td>16</td>\n",
       "      <td>3.764706</td>\n",
       "      <td>1</td>\n",
       "      <td>1.000000</td>\n",
       "      <td>519.783861</td>\n",
       "      <td>2241.924091</td>\n",
       "      <td>False</td>\n",
       "      <td>NaN</td>\n",
       "      <td>_not_school</td>\n",
       "    </tr>\n",
       "    <tr>\n",
       "      <th>463618465</th>\n",
       "      <td>182</td>\n",
       "      <td>10.675676</td>\n",
       "      <td>42</td>\n",
       "      <td>4.810811</td>\n",
       "      <td>8838.246256</td>\n",
       "      <td>11817.992949</td>\n",
       "      <td>False</td>\n",
       "      <td>NaN</td>\n",
       "      <td>_not_school</td>\n",
       "    </tr>\n",
       "    <tr>\n",
       "      <th>465322565</th>\n",
       "      <td>28</td>\n",
       "      <td>3.111111</td>\n",
       "      <td>4</td>\n",
       "      <td>1.500000</td>\n",
       "      <td>4884.531913</td>\n",
       "      <td>7538.261352</td>\n",
       "      <td>False</td>\n",
       "      <td>NaN</td>\n",
       "      <td>_not_school</td>\n",
       "    </tr>\n",
       "  </tbody>\n",
       "</table>\n",
       "</div>"
      ],
      "text/plain": [
       "           distinct_stat_areas  distinct_stat_areas_per_day  \\\n",
       "imsi                                                          \n",
       "18560865                    81                     8.030303   \n",
       "118768365                  130                     9.657895   \n",
       "321718465                   16                     3.764706   \n",
       "463618465                  182                    10.675676   \n",
       "465322565                   28                     3.111111   \n",
       "\n",
       "           distinct_yeshuvim  distinct_yeshuvim_per_day  avg_dist_from_home  \\\n",
       "imsi                                                                          \n",
       "18560865                  32                   4.939394         1588.103776   \n",
       "118768365                 68                   7.315789        10301.444823   \n",
       "321718465                  1                   1.000000          519.783861   \n",
       "463618465                 42                   4.810811         8838.246256   \n",
       "465322565                  4                   1.500000         4884.531913   \n",
       "\n",
       "           max_dist_from_home  is_near_school  school_id  school_type  \n",
       "imsi                                                                   \n",
       "18560865          5411.888463           False        NaN  _not_school  \n",
       "118768365        17263.645033           False        NaN  _not_school  \n",
       "321718465         2241.924091           False        NaN  _not_school  \n",
       "463618465        11817.992949           False        NaN  _not_school  \n",
       "465322565         7538.261352           False        NaN  _not_school  "
      ]
     },
     "execution_count": 43,
     "metadata": {},
     "output_type": "execute_result"
    }
   ],
   "source": [
    "imsi_df.head()"
   ]
  },
  {
   "cell_type": "code",
   "execution_count": 44,
   "metadata": {},
   "outputs": [
    {
     "data": {
      "text/plain": [
       "[['distinct_stat_areas_per_day', 'max_dist_from_home']]"
      ]
     },
     "execution_count": 44,
     "metadata": {},
     "output_type": "execute_result"
    }
   ],
   "source": [
    "[['distinct_stat_areas_per_day', 'max_dist_from_home']]"
   ]
  },
  {
   "cell_type": "code",
   "execution_count": 45,
   "metadata": {},
   "outputs": [
    {
     "data": {
      "text/plain": [
       "<matplotlib.axes._subplots.AxesSubplot at 0x22f84085470>"
      ]
     },
     "execution_count": 45,
     "metadata": {},
     "output_type": "execute_result"
    },
    {
     "data": {
      "image/png": "[encoded data removed]",
      "text/plain": [
       "<matplotlib.figure.Figure at 0x22f8857fcc0>"
      ]
     },
     "metadata": {},
     "output_type": "display_data"
    }
   ],
   "source": [
    "imsi_df.plot.scatter('max_dist_from_home', 'distinct_stat_areas_per_day', c='is_near_school')"
   ]
  },
  {
   "cell_type": "code",
   "execution_count": 46,
   "metadata": {},
   "outputs": [
    {
     "data": {
      "image/png": "[encoded data removed]",
      "text/plain": [
       "<matplotlib.figure.Figure at 0x22f8176f400>"
      ]
     },
     "metadata": {},
     "output_type": "display_data"
    }
   ],
   "source": [
    "plt.scatter(x=imsi_df.distinct_stat_areas_per_day, y=imsi_df.max_dist_from_home, c=imsi_df.is_near_school)\n",
    "plt.xlim([0,20])\n",
    "plt.ylim([0,20000])\n",
    "plt.show()"
   ]
  },
  {
   "cell_type": "code",
   "execution_count": 47,
   "metadata": {
    "collapsed": true
   },
   "outputs": [],
   "source": [
    "imsi_df.to_csv('./data/imsi_df.csv')"
   ]
  }
 ],
 "metadata": {
  "anaconda-cloud": {},
  "kernelspec": {
   "display_name": "python 3",
   "language": "python",
   "name": "python3"
  },
  "language_info": {
   "codemirror_mode": {
    "name": "ipython",
    "version": 3
   },
   "file_extension": ".py",
   "mimetype": "text/x-python",
   "name": "python",
   "nbconvert_exporter": "python",
   "pygments_lexer": "ipython3",
   "version": "3.6.5"
  },
  "toc": {
   "nav_menu": {},
   "number_sections": true,
   "sideBar": true,
   "skip_h1_title": false,
   "toc_cell": false,
   "toc_position": {},
   "toc_section_display": "block",
   "toc_window_display": false
  },
  "varInspector": {
   "cols": {
    "lenName": 16,
    "lenType": 16,
    "lenVar": 40
   },
   "kernels_config": {
    "python": {
     "delete_cmd_postfix": "",
     "delete_cmd_prefix": "del ",
     "library": "var_list.py",
     "varRefreshCmd": "print(var_dic_list())"
    },
    "r": {
     "delete_cmd_postfix": ") ",
     "delete_cmd_prefix": "rm(",
     "library": "var_list.r",
     "varRefreshCmd": "cat(var_dic_list()) "
    }
   },
   "types_to_exclude": [
    "module",
    "function",
    "builtin_function_or_method",
    "instance",
    "_Feature"
   ],
   "window_display": false
  }
 },
 "nbformat": 4,
 "nbformat_minor": 1
}
