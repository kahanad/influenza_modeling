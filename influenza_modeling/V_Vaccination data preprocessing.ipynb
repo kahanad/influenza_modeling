{
 "cells": [
  {
   "cell_type": "markdown",
   "metadata": {},
   "source": [
    "# Vaccination data pre-processing"
   ]
  },
  {
   "cell_type": "code",
   "execution_count": 1,
   "metadata": {},
   "outputs": [],
   "source": [
    "import pandas as pd\n",
    "import numpy as np\n",
    "from matplotlib import pyplot as plt\n",
    "import nafot\n",
    "from tqdm import tqdm, tqdm_notebook\n",
    "import networkx as nx\n",
    "import matplotlib.dates\n",
    "import pickle\n",
    "%matplotlib inline"
   ]
  },
  {
   "cell_type": "markdown",
   "metadata": {},
   "source": [
    "### vaccination data"
   ]
  },
  {
   "cell_type": "code",
   "execution_count": 76,
   "metadata": {},
   "outputs": [],
   "source": [
    "# vaccination_data = pd.read_csv('../../Data/vaccination_data/vaccinated_patients_raw.csv')\n",
    "# vaccination_data.drop(['Unnamed: 0'], axis=1, inplace=True)\n",
    "# vaccination_data.columns = ['random_ID', 'vac_date', 'vac_season', 'birth_year', 'clinic_code', 'stat_area_id']\n",
    "# vaccination_data['vac_date'] = pd.to_datetime(vaccination_data['vac_date'])\n",
    "# vaccination_data['vac_day_of_season'] = vaccination_data.vac_date.apply(lambda date: (date - pd.datetime(date.year if date.month>5 else date.year-1, 6, 1)).days)\n",
    "# vaccination_data = vaccination_data[['random_ID', 'birth_year', 'vac_season', 'vac_date', 'vac_day_of_season', 'clinic_code', 'stat_area_id']]\n",
    "# vaccination_data.to_csv('../../Data/vaccination_data/vaccinated_patients.csv', index=False)"
   ]
  },
  {
   "cell_type": "markdown",
   "metadata": {},
   "source": [
    "### Vaccination coverage data"
   ]
  },
  {
   "cell_type": "code",
   "execution_count": 90,
   "metadata": {},
   "outputs": [],
   "source": [
    "vacc_prop = pd.read_csv('../../Data/vaccination_data/clinics_vaccinated_proportion_each_season.csv')\n",
    "vacc_prop.drop(['Unnamed: 0'], axis=1, inplace=True)\n",
    "# Remove incoplete seasons\n",
    "vacc_prop = vacc_prop[~vacc_prop.VaccinationSeason.isin([2007,2018])].copy()\n",
    "vacc_prop.columns = ['clinic_code', 'vaccination_season', 'vaccination_coverage']"
   ]
  },
  {
   "cell_type": "code",
   "execution_count": 91,
   "metadata": {},
   "outputs": [],
   "source": [
    "# load stat_area-clinic data\n",
    "clinics_stat_areas = pd.read_csv('../../Data/vaccination_data/clinics_with_stat_area.csv')\n",
    "\n",
    "# Add stat_area to vacc_prop\n",
    "vacc_prop = vacc_prop.merge(clinics_stat_areas[['clinic_code', 'stat_area_id']], on='clinic_code')\n",
    "\n",
    "# Add subdist column (code and name)\n",
    "vacc_prop = vacc_prop.merge(nafot.gdf[['SubDistrictCode']], left_on='stat_area_id', right_index=True)\n",
    "vacc_prop['subdist'] = vacc_prop.SubDistrictCode.map(lambda code: nafot.subdistricts_names[code])\n",
    "\n",
    "# Save\n",
    "vacc_prop.to_csv('../../Data/vaccination_data/vacc_coverage.csv', index=False)"
   ]
  }
 ],
 "metadata": {
  "kernelspec": {
   "display_name": "Python 3",
   "language": "python",
   "name": "python3"
  },
  "language_info": {
   "codemirror_mode": {
    "name": "ipython",
    "version": 3
   },
   "file_extension": ".py",
   "mimetype": "text/x-python",
   "name": "python",
   "nbconvert_exporter": "python",
   "pygments_lexer": "ipython3",
   "version": "3.6.5"
  }
 },
 "nbformat": 4,
 "nbformat_minor": 2
}
