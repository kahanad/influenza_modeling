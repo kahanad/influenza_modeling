{
 "cells": [
  {
   "cell_type": "code",
   "execution_count": 88,
   "metadata": {
    "ExecuteTime": {
     "end_time": "2018-01-08T08:49:00.451817Z",
     "start_time": "2018-01-08T08:48:10.270986Z"
    }
   },
   "outputs": [],
   "source": [
    "import pandas as pd\n",
    "import numpy as np\n",
    "import seaborn as sns\n",
    "from matplotlib import pyplot as plt\n",
    "import nafot\n",
    "from tqdm import tqdm, tqdm_notebook\n",
    "import networkx as nx\n",
    "from scipy import sparse\n",
    "%matplotlib inline\n",
    "gdf = nafot.gdf.copy()"
   ]
  },
  {
   "cell_type": "markdown",
   "metadata": {},
   "source": [
    "### Load contact matrices"
   ]
  },
  {
   "cell_type": "code",
   "execution_count": 2,
   "metadata": {},
   "outputs": [],
   "source": [
    "# Loading the contact matrices\n",
    "contact_matrix = pd.read_csv('../data/matrix/contact_matrix_final_sample.csv')\n",
    "contact_matrix_yeshuv = pd.read_csv('../data/matrix/contact_matrix_final_sample_yeshuv.csv')\n",
    "contact_matrix_subdist = pd.read_csv('../data/matrix/contact_matrix_final_sample_subdist.csv')\n",
    "\n",
    "# Setting index, dtype and replacing nan with 0\n",
    "# Stat area contact matrix\n",
    "contact_matrix.set_index(contact_matrix.columns[0], inplace=True)\n",
    "contact_matrix.columns = contact_matrix.columns.astype(int)\n",
    "contact_matrix.fillna(0, inplace=True)\n",
    "# Yeshuv contact matrix\n",
    "contact_matrix_yeshuv.set_index(contact_matrix_yeshuv.columns[0], inplace=True)\n",
    "contact_matrix_yeshuv.columns = contact_matrix_yeshuv.columns.astype(int)\n",
    "contact_matrix_yeshuv.fillna(0, inplace=True)\n",
    "# Subdist contact matrix\n",
    "contact_matrix_subdist.set_index(contact_matrix_subdist.columns[0], inplace=True)\n",
    "contact_matrix_subdist.columns = contact_matrix_subdist.columns.astype(float)\n",
    "contact_matrix_subdist.fillna(0, inplace=True)"
   ]
  },
  {
   "cell_type": "code",
   "execution_count": 3,
   "metadata": {},
   "outputs": [],
   "source": [
    "# Get the population dictionary\n",
    "pop_dict_subdist = nafot.get_population_dict('subdistrict')\n",
    "\n",
    "# Calculate population proportion\n",
    "total_pop = sum([pop_dict_subdist[area] for area in contact_matrix_subdist.index])\n",
    "pop_prop_subdist_dict = {area: pop_dict_subdist[area]/total_pop for area in contact_matrix_subdist.index}\n",
    "pop_prop_subdist = np.array([prop for prop in pop_prop_subdist_dict.values()])"
   ]
  },
  {
   "cell_type": "markdown",
   "metadata": {
    "ExecuteTime": {
     "end_time": "2018-01-07T22:14:44.991829Z",
     "start_time": "2018-01-07T22:14:44.987837Z"
    }
   },
   "source": [
    "### Calculating $n$ steps contact matrices $P^{(n)}$"
   ]
  },
  {
   "cell_type": "code",
   "execution_count": 4,
   "metadata": {
    "ExecuteTime": {
     "end_time": "2018-01-08T09:52:33.881272Z",
     "start_time": "2018-01-08T09:52:33.860054Z"
    }
   },
   "outputs": [
    {
     "data": {
      "application/vnd.jupyter.widget-view+json": {
       "model_id": "19fd157ce56546b19b90df9574917349",
       "version_major": 2,
       "version_minor": 0
      },
      "text/plain": [
       "A Jupyter Widget"
      ]
     },
     "metadata": {},
     "output_type": "display_data"
    },
    {
     "name": "stdout",
     "output_type": "stream",
     "text": [
      "\n"
     ]
    }
   ],
   "source": [
    "# Clculate the n stesps from 1 to 100\n",
    "Ps = [contact_matrix_subdist.values]\n",
    "for n in tqdm_notebook(range(1,100)):\n",
    "    Ps.append(np.dot(Ps[n-1], contact_matrix_subdist))\n",
    "\n",
    "# Checking for convergence\n",
    "for i in range(100-1):\n",
    "    if np.all(Ps[i] - Ps[i+1] < 10**-7):\n",
    "        convergence_step = i+1\n",
    "        break\n",
    "\n",
    "# Getting the relevant contact matrices (only until convergacne step)\n",
    "Ps = Ps[:convergence_step]\n",
    "\n",
    "# Save as a 3-dimentional array\n",
    "Ps = np.array(Ps)"
   ]
  },
  {
   "cell_type": "code",
   "execution_count": 5,
   "metadata": {
    "ExecuteTime": {
     "end_time": "2018-01-08T09:52:33.881272Z",
     "start_time": "2018-01-08T09:52:33.860054Z"
    }
   },
   "outputs": [],
   "source": [
    "# # Clculate the n stesps from 1 to 100\n",
    "# Ps = [(np.linalg.matrix_power(contact_matrix_subdist.values, n)) for n in tqdm_notebook(range(1,100+1))]\n",
    "\n",
    "# # Checking for convergence\n",
    "# for i in range(100-1):\n",
    "#     if np.all(Ps[i] - Ps[i+1] < 10**-7):\n",
    "#         convergence_step = i+1\n",
    "#         break\n",
    "\n",
    "# # Getting the relevant contact matrices (only until convergacne step)\n",
    "# Ps = Ps[:convergence_step]\n",
    "\n",
    "# # Save as a 3-dimentional array\n",
    "# Ps1 = np.array(Ps)"
   ]
  },
  {
   "cell_type": "markdown",
   "metadata": {},
   "source": [
    "### Calculating $f_{ij}^{(n)}$"
   ]
  },
  {
   "cell_type": "code",
   "execution_count": 5,
   "metadata": {},
   "outputs": [
    {
     "data": {
      "application/vnd.jupyter.widget-view+json": {
       "model_id": "5d9806dfcc1b4b4ca0ae23424ca5b166",
       "version_major": 2,
       "version_minor": 0
      },
      "text/plain": [
       "A Jupyter Widget"
      ]
     },
     "metadata": {},
     "output_type": "display_data"
    },
    {
     "name": "stdout",
     "output_type": "stream",
     "text": [
      "\n"
     ]
    }
   ],
   "source": [
    "Fs = np.zeros(Ps.shape)\n",
    "Fs[0] = Ps[0].copy()\n",
    "\n",
    "for n in tqdm_notebook(range(1, convergence_step)):\n",
    "    for i in range(Fs.shape[1]):\n",
    "        for j in range(Fs.shape[1]):\n",
    "            Fs[n,i,j] = Ps[n,i,j] - np.sum([Fs[k,i,j]*Ps[n-k,j,j] for k in range(n)])"
   ]
  },
  {
   "cell_type": "markdown",
   "metadata": {},
   "source": [
    "## Calculate the $Rank$\n",
    "### $R_i=∑_j∑_n[p_j f_{ji}^{(n)} c^n ] $"
   ]
  },
  {
   "cell_type": "code",
   "execution_count": 6,
   "metadata": {},
   "outputs": [],
   "source": [
    "infection_rate = 0.9999\n",
    "def calculate_rank(Ps, Fs, pop_prop, convergence_step, infection_rate):\n",
    "    rates_vector = np.array([infection_rate**n for n in range(1,convergence_step+1)])\n",
    "\n",
    "    Rs = []\n",
    "    for i in tqdm_notebook(range(contact_matrix_subdist.shape[0])):\n",
    "        Rs.append((pop_prop_subdist*Fs[:,:,i]*rates_vector.reshape(convergence_step,1)).sum())\n",
    "\n",
    "    # Save to an array\n",
    "    Rs = np.array(Rs)\n",
    "\n",
    "    # Normalize to a sum of one\n",
    "    Rs = Rs/Rs.sum()\n",
    "    \n",
    "    return Rs"
   ]
  },
  {
   "cell_type": "code",
   "execution_count": 7,
   "metadata": {},
   "outputs": [
    {
     "data": {
      "application/vnd.jupyter.widget-view+json": {
       "model_id": "bf869247fb244b9e92aedfa20df1a77b",
       "version_major": 2,
       "version_minor": 0
      },
      "text/plain": [
       "A Jupyter Widget"
      ]
     },
     "metadata": {},
     "output_type": "display_data"
    },
    {
     "name": "stdout",
     "output_type": "stream",
     "text": [
      "\n"
     ]
    }
   ],
   "source": [
    "Rs = calculate_rank(Ps, Fs, pop_prop_subdist, convergence_step, infection_rate)"
   ]
  },
  {
   "cell_type": "markdown",
   "metadata": {},
   "source": [
    "### Calculate $PageRank$"
   ]
  },
  {
   "cell_type": "markdown",
   "metadata": {},
   "source": [
    "As the steady state"
   ]
  },
  {
   "cell_type": "code",
   "execution_count": 13,
   "metadata": {},
   "outputs": [
    {
     "data": {
      "text/plain": [
       "array([ 0.07038129,  0.18801065,  0.44116058,  0.04144823,  0.05650925,\n",
       "        0.18349696,  0.01899304])"
      ]
     },
     "execution_count": 13,
     "metadata": {},
     "output_type": "execute_result"
    }
   ],
   "source": [
    "subdist_pageranks = Ps[-1][0]\n",
    "subdist_pageranks"
   ]
  },
  {
   "cell_type": "markdown",
   "metadata": {},
   "source": [
    "Usinig networkx"
   ]
  },
  {
   "cell_type": "code",
   "execution_count": 14,
   "metadata": {},
   "outputs": [
    {
     "data": {
      "text/plain": [
       "[0.07038058746641027,\n",
       " 0.18802807385087736,\n",
       " 0.44114763779152194,\n",
       " 0.04144750743965316,\n",
       " 0.056509100842312816,\n",
       " 0.1834929141229031,\n",
       " 0.018994178486321567]"
      ]
     },
     "execution_count": 14,
     "metadata": {},
     "output_type": "execute_result"
    },
    {
     "data": {
      "image/png": "[encoded data removed]",
      "text/plain": [
       "<matplotlib.figure.Figure at 0x1fbe49e5b70>"
      ]
     },
     "metadata": {},
     "output_type": "display_data"
    }
   ],
   "source": [
    "# G = nx.from_pandas_adjacency(contact_matrix_subdist, create_using=nx.DiGraph())\n",
    "G = nx.from_numpy_matrix(contact_matrix_subdist.values, create_using=nx.DiGraph())\n",
    "\n",
    "nx.drawing.nx_pylab.draw_networkx(G)\n",
    "\n",
    "pagerank_dict = nx.pagerank(G, alpha=1)\n",
    "subdist_pageranks_networkx = [pagerank_dict[i] for i in range(len(contact_matrix_subdist.index))]\n",
    "subdist_pageranks_networkx"
   ]
  },
  {
   "cell_type": "markdown",
   "metadata": {},
   "source": [
    "Comparison"
   ]
  },
  {
   "cell_type": "code",
   "execution_count": 15,
   "metadata": {},
   "outputs": [
    {
     "data": {
      "text/plain": [
       "array([  7.03006276e-07,  -1.74287651e-05,   1.29410544e-05,\n",
       "         7.23362512e-07,   1.48263045e-07,   4.04703367e-06,\n",
       "        -1.13395488e-06])"
      ]
     },
     "execution_count": 15,
     "metadata": {},
     "output_type": "execute_result"
    }
   ],
   "source": [
    "subdist_pageranks - np.array(subdist_pageranks_networkx)"
   ]
  },
  {
   "cell_type": "code",
   "execution_count": 16,
   "metadata": {},
   "outputs": [
    {
     "data": {
      "text/html": [
       "<div>\n",
       "<style scoped>\n",
       "    .dataframe tbody tr th:only-of-type {\n",
       "        vertical-align: middle;\n",
       "    }\n",
       "\n",
       "    .dataframe tbody tr th {\n",
       "        vertical-align: top;\n",
       "    }\n",
       "\n",
       "    .dataframe thead th {\n",
       "        text-align: right;\n",
       "    }\n",
       "</style>\n",
       "<table border=\"1\" class=\"dataframe\">\n",
       "  <thead>\n",
       "    <tr style=\"text-align: right;\">\n",
       "      <th></th>\n",
       "      <th>subdist_name</th>\n",
       "      <th>population_prop</th>\n",
       "      <th>Rank</th>\n",
       "      <th>PageRank</th>\n",
       "    </tr>\n",
       "    <tr>\n",
       "      <th>subdist_code</th>\n",
       "      <th></th>\n",
       "      <th></th>\n",
       "      <th></th>\n",
       "      <th></th>\n",
       "    </tr>\n",
       "  </thead>\n",
       "  <tbody>\n",
       "    <tr>\n",
       "      <th>51.0</th>\n",
       "      <td>Tel Aviv</td>\n",
       "      <td>0.297027</td>\n",
       "      <td>0.158168</td>\n",
       "      <td>0.441161</td>\n",
       "    </tr>\n",
       "    <tr>\n",
       "      <th>42.0</th>\n",
       "      <td>Petah Tikva</td>\n",
       "      <td>0.141128</td>\n",
       "      <td>0.157899</td>\n",
       "      <td>0.183497</td>\n",
       "    </tr>\n",
       "    <tr>\n",
       "      <th>43.0</th>\n",
       "      <td>Ramla</td>\n",
       "      <td>0.065337</td>\n",
       "      <td>0.152311</td>\n",
       "      <td>0.056509</td>\n",
       "    </tr>\n",
       "    <tr>\n",
       "      <th>11.0</th>\n",
       "      <td>Jerusalem</td>\n",
       "      <td>0.210972</td>\n",
       "      <td>0.151405</td>\n",
       "      <td>0.188011</td>\n",
       "    </tr>\n",
       "    <tr>\n",
       "      <th>44.0</th>\n",
       "      <td>Rehovot</td>\n",
       "      <td>0.115715</td>\n",
       "      <td>0.139721</td>\n",
       "      <td>0.041448</td>\n",
       "    </tr>\n",
       "    <tr>\n",
       "      <th>61.0</th>\n",
       "      <td>Ashkelon</td>\n",
       "      <td>0.106064</td>\n",
       "      <td>0.137106</td>\n",
       "      <td>0.070381</td>\n",
       "    </tr>\n",
       "    <tr>\n",
       "      <th>77.0</th>\n",
       "      <td>Judea &amp; Samaria</td>\n",
       "      <td>0.063756</td>\n",
       "      <td>0.103390</td>\n",
       "      <td>0.018993</td>\n",
       "    </tr>\n",
       "  </tbody>\n",
       "</table>\n",
       "</div>"
      ],
      "text/plain": [
       "                 subdist_name  population_prop      Rank  PageRank\n",
       "subdist_code                                                      \n",
       "51.0                 Tel Aviv         0.297027  0.158168  0.441161\n",
       "42.0              Petah Tikva         0.141128  0.157899  0.183497\n",
       "43.0                    Ramla         0.065337  0.152311  0.056509\n",
       "11.0                Jerusalem         0.210972  0.151405  0.188011\n",
       "44.0                  Rehovot         0.115715  0.139721  0.041448\n",
       "61.0                 Ashkelon         0.106064  0.137106  0.070381\n",
       "77.0          Judea & Samaria         0.063756  0.103390  0.018993"
      ]
     },
     "execution_count": 16,
     "metadata": {},
     "output_type": "execute_result"
    }
   ],
   "source": [
    "# Save to a DataFrame\n",
    "rank_df = pd.DataFrame(np.array(Rs), index=contact_matrix_subdist.index, columns=['Rank'])\n",
    "rank_df.index.name='subdist_code'\n",
    "rank_df['subdist_name'] = [nafot.subdistricts_names[i] for i in contact_matrix_subdist.index]\n",
    "rank_df['population_prop'] = pop_prop_subdist\n",
    "rank_df['PageRank'] = subdist_pageranks\n",
    "rank_df = rank_df[['subdist_name', 'population_prop', 'Rank', 'PageRank']]\n",
    "\n",
    "# Sort\n",
    "rank_df.sort_values(inplace=True, by='Rank', ascending=False)\n",
    "\n",
    "rank_df"
   ]
  },
  {
   "cell_type": "markdown",
   "metadata": {},
   "source": [
    "### Rank Comparison Plot"
   ]
  },
  {
   "cell_type": "code",
   "execution_count": 17,
   "metadata": {},
   "outputs": [
    {
     "data": {
      "image/png": "[encoded data removed]",
      "text/plain": [
       "<matplotlib.figure.Figure at 0x1fbe4e4fef0>"
      ]
     },
     "metadata": {},
     "output_type": "display_data"
    }
   ],
   "source": [
    "rank_df[['Rank', 'PageRank']].plot(kind='bar', figsize=(15,7), fontsize=15, use_index=False)\n",
    "plt.title('$Rank$ Comparison', fontsize=20)\n",
    "plt.xlabel('Subdistrict', fontsize=18, labelpad=20)\n",
    "plt.xticks(np.arange(7), rank_df.subdist_name, rotation='horizontal')\n",
    "\n",
    "# Plotting the dotted lines representing the relative population size using horizontal lines object\n",
    "lines = plt.hlines(rank_df.population_prop, np.arange(7)-0.25,np.arange(7)+0.25, linestyles='dotted', color='black', **{'linewidth': 3},\n",
    "           label='relative population size')\n",
    "\n",
    "plt.legend(fontsize=15);"
   ]
  },
  {
   "cell_type": "code",
   "execution_count": 18,
   "metadata": {},
   "outputs": [
    {
     "data": {
      "application/vnd.jupyter.widget-view+json": {
       "model_id": "903eaa6c55a441b4859b1c482d346713",
       "version_major": 2,
       "version_minor": 0
      },
      "text/plain": [
       "A Jupyter Widget"
      ]
     },
     "metadata": {},
     "output_type": "display_data"
    },
    {
     "name": "stdout",
     "output_type": "stream",
     "text": [
      "\n"
     ]
    },
    {
     "data": {
      "application/vnd.jupyter.widget-view+json": {
       "model_id": "4b9f3dc008ea4c82b50dcfdf788a3978",
       "version_major": 2,
       "version_minor": 0
      },
      "text/plain": [
       "A Jupyter Widget"
      ]
     },
     "metadata": {},
     "output_type": "display_data"
    },
    {
     "name": "stdout",
     "output_type": "stream",
     "text": [
      "\n"
     ]
    },
    {
     "data": {
      "application/vnd.jupyter.widget-view+json": {
       "model_id": "1b034a92fa514802a91583dbf92fb80b",
       "version_major": 2,
       "version_minor": 0
      },
      "text/plain": [
       "A Jupyter Widget"
      ]
     },
     "metadata": {},
     "output_type": "display_data"
    },
    {
     "name": "stdout",
     "output_type": "stream",
     "text": [
      "\n"
     ]
    },
    {
     "data": {
      "application/vnd.jupyter.widget-view+json": {
       "model_id": "5e84e1ebc53d4b88881ee0ba15c9057e",
       "version_major": 2,
       "version_minor": 0
      },
      "text/plain": [
       "A Jupyter Widget"
      ]
     },
     "metadata": {},
     "output_type": "display_data"
    },
    {
     "name": "stdout",
     "output_type": "stream",
     "text": [
      "\n"
     ]
    },
    {
     "data": {
      "application/vnd.jupyter.widget-view+json": {
       "model_id": "d127f7c320af4fe0875c35db55934764",
       "version_major": 2,
       "version_minor": 0
      },
      "text/plain": [
       "A Jupyter Widget"
      ]
     },
     "metadata": {},
     "output_type": "display_data"
    },
    {
     "name": "stdout",
     "output_type": "stream",
     "text": [
      "\n"
     ]
    },
    {
     "data": {
      "application/vnd.jupyter.widget-view+json": {
       "model_id": "92cdbf2c634b4c9f939b241628bf1787",
       "version_major": 2,
       "version_minor": 0
      },
      "text/plain": [
       "A Jupyter Widget"
      ]
     },
     "metadata": {},
     "output_type": "display_data"
    },
    {
     "name": "stdout",
     "output_type": "stream",
     "text": [
      "\n"
     ]
    },
    {
     "data": {
      "application/vnd.jupyter.widget-view+json": {
       "model_id": "8ad353d9079042a7b56189faf15d18c9",
       "version_major": 2,
       "version_minor": 0
      },
      "text/plain": [
       "A Jupyter Widget"
      ]
     },
     "metadata": {},
     "output_type": "display_data"
    },
    {
     "name": "stdout",
     "output_type": "stream",
     "text": [
      "\n"
     ]
    }
   ],
   "source": [
    "infection_rates = [0.001, 0.1, 0.5, 0.9, 0.99, 0.999, 1]\n",
    "rank_values = np.array([1]*contact_matrix_subdist.shape[0])\n",
    "for infection_rate in infection_rates:\n",
    "    ranks = calculate_rank(Ps, Fs, pop_prop_subdist, convergence_step, infection_rate)\n",
    "    rank_values = np.vstack([rank_values, ranks])\n",
    "rank_values = rank_values[1:]"
   ]
  },
  {
   "cell_type": "code",
   "execution_count": 19,
   "metadata": {},
   "outputs": [
    {
     "data": {
      "text/html": [
       "<div>\n",
       "<style scoped>\n",
       "    .dataframe tbody tr th:only-of-type {\n",
       "        vertical-align: middle;\n",
       "    }\n",
       "\n",
       "    .dataframe tbody tr th {\n",
       "        vertical-align: top;\n",
       "    }\n",
       "\n",
       "    .dataframe thead th {\n",
       "        text-align: right;\n",
       "    }\n",
       "</style>\n",
       "<table border=\"1\" class=\"dataframe\">\n",
       "  <thead>\n",
       "    <tr style=\"text-align: right;\">\n",
       "      <th></th>\n",
       "      <th>subdist_code</th>\n",
       "      <th>population_prop</th>\n",
       "      <th>PageRank</th>\n",
       "      <th>0.001</th>\n",
       "      <th>0.1</th>\n",
       "      <th>0.5</th>\n",
       "      <th>0.9</th>\n",
       "      <th>0.99</th>\n",
       "      <th>0.999</th>\n",
       "      <th>1</th>\n",
       "    </tr>\n",
       "    <tr>\n",
       "      <th>subdist_name</th>\n",
       "      <th></th>\n",
       "      <th></th>\n",
       "      <th></th>\n",
       "      <th></th>\n",
       "      <th></th>\n",
       "      <th></th>\n",
       "      <th></th>\n",
       "      <th></th>\n",
       "      <th></th>\n",
       "      <th></th>\n",
       "    </tr>\n",
       "  </thead>\n",
       "  <tbody>\n",
       "    <tr>\n",
       "      <th>Tel Aviv</th>\n",
       "      <td>51.0</td>\n",
       "      <td>0.297027</td>\n",
       "      <td>0.441161</td>\n",
       "      <td>0.333670</td>\n",
       "      <td>0.332172</td>\n",
       "      <td>0.322400</td>\n",
       "      <td>0.267860</td>\n",
       "      <td>0.178974</td>\n",
       "      <td>0.160191</td>\n",
       "      <td>0.157942</td>\n",
       "    </tr>\n",
       "    <tr>\n",
       "      <th>Jerusalem</th>\n",
       "      <td>11.0</td>\n",
       "      <td>0.210972</td>\n",
       "      <td>0.188011</td>\n",
       "      <td>0.219590</td>\n",
       "      <td>0.216580</td>\n",
       "      <td>0.199650</td>\n",
       "      <td>0.164374</td>\n",
       "      <td>0.152904</td>\n",
       "      <td>0.151552</td>\n",
       "      <td>0.151389</td>\n",
       "    </tr>\n",
       "    <tr>\n",
       "      <th>Petah Tikva</th>\n",
       "      <td>42.0</td>\n",
       "      <td>0.141128</td>\n",
       "      <td>0.183497</td>\n",
       "      <td>0.153382</td>\n",
       "      <td>0.155482</td>\n",
       "      <td>0.167953</td>\n",
       "      <td>0.193149</td>\n",
       "      <td>0.169484</td>\n",
       "      <td>0.159098</td>\n",
       "      <td>0.157764</td>\n",
       "    </tr>\n",
       "    <tr>\n",
       "      <th>Ashkelon</th>\n",
       "      <td>61.0</td>\n",
       "      <td>0.106064</td>\n",
       "      <td>0.070381</td>\n",
       "      <td>0.102944</td>\n",
       "      <td>0.102720</td>\n",
       "      <td>0.101087</td>\n",
       "      <td>0.102945</td>\n",
       "      <td>0.128613</td>\n",
       "      <td>0.136248</td>\n",
       "      <td>0.137202</td>\n",
       "    </tr>\n",
       "    <tr>\n",
       "      <th>Ramla</th>\n",
       "      <td>43.0</td>\n",
       "      <td>0.065337</td>\n",
       "      <td>0.056509</td>\n",
       "      <td>0.063214</td>\n",
       "      <td>0.065064</td>\n",
       "      <td>0.076739</td>\n",
       "      <td>0.116420</td>\n",
       "      <td>0.148379</td>\n",
       "      <td>0.151980</td>\n",
       "      <td>0.152347</td>\n",
       "    </tr>\n",
       "    <tr>\n",
       "      <th>Rehovot</th>\n",
       "      <td>44.0</td>\n",
       "      <td>0.115715</td>\n",
       "      <td>0.041448</td>\n",
       "      <td>0.084087</td>\n",
       "      <td>0.084544</td>\n",
       "      <td>0.086875</td>\n",
       "      <td>0.099422</td>\n",
       "      <td>0.130845</td>\n",
       "      <td>0.138839</td>\n",
       "      <td>0.139820</td>\n",
       "    </tr>\n",
       "    <tr>\n",
       "      <th>Judea &amp; Samaria</th>\n",
       "      <td>77.0</td>\n",
       "      <td>0.063756</td>\n",
       "      <td>0.018993</td>\n",
       "      <td>0.043113</td>\n",
       "      <td>0.043439</td>\n",
       "      <td>0.045296</td>\n",
       "      <td>0.055830</td>\n",
       "      <td>0.090800</td>\n",
       "      <td>0.102093</td>\n",
       "      <td>0.103536</td>\n",
       "    </tr>\n",
       "  </tbody>\n",
       "</table>\n",
       "</div>"
      ],
      "text/plain": [
       "                 subdist_code  population_prop  PageRank     0.001       0.1  \\\n",
       "subdist_name                                                                   \n",
       "Tel Aviv                 51.0         0.297027  0.441161  0.333670  0.332172   \n",
       "Jerusalem                11.0         0.210972  0.188011  0.219590  0.216580   \n",
       "Petah Tikva              42.0         0.141128  0.183497  0.153382  0.155482   \n",
       "Ashkelon                 61.0         0.106064  0.070381  0.102944  0.102720   \n",
       "Ramla                    43.0         0.065337  0.056509  0.063214  0.065064   \n",
       "Rehovot                  44.0         0.115715  0.041448  0.084087  0.084544   \n",
       "Judea & Samaria          77.0         0.063756  0.018993  0.043113  0.043439   \n",
       "\n",
       "                      0.5       0.9      0.99     0.999         1  \n",
       "subdist_name                                                       \n",
       "Tel Aviv         0.322400  0.267860  0.178974  0.160191  0.157942  \n",
       "Jerusalem        0.199650  0.164374  0.152904  0.151552  0.151389  \n",
       "Petah Tikva      0.167953  0.193149  0.169484  0.159098  0.157764  \n",
       "Ashkelon         0.101087  0.102945  0.128613  0.136248  0.137202  \n",
       "Ramla            0.076739  0.116420  0.148379  0.151980  0.152347  \n",
       "Rehovot          0.086875  0.099422  0.130845  0.138839  0.139820  \n",
       "Judea & Samaria  0.045296  0.055830  0.090800  0.102093  0.103536  "
      ]
     },
     "execution_count": 19,
     "metadata": {},
     "output_type": "execute_result"
    }
   ],
   "source": [
    "# Save to a DataFrame\n",
    "rates_str = [str(rate) for rate in infection_rates]\n",
    "ranks_df = pd.DataFrame(rank_values.T, columns=rates_str,\n",
    "                        index=[nafot.subdistricts_names[i] for i in contact_matrix_subdist.index])\n",
    "ranks_df.index.name='subdist_name'\n",
    "ranks_df['subdist_code'] = contact_matrix_subdist.index\n",
    "ranks_df['population_prop'] = pop_prop_subdist\n",
    "ranks_df['PageRank'] = subdist_pageranks\n",
    "ranks_df = ranks_df[['subdist_code', 'population_prop', 'PageRank']+rates_str]\n",
    "\n",
    "# Sort\n",
    "ranks_df.sort_values(inplace=True, by='PageRank', ascending=False)\n",
    "\n",
    "ranks_df"
   ]
  },
  {
   "cell_type": "code",
   "execution_count": 20,
   "metadata": {},
   "outputs": [
    {
     "data": {
      "image/png": "[encoded data removed]",
      "text/plain": [
       "<matplotlib.figure.Figure at 0x1fbe4e1d358>"
      ]
     },
     "metadata": {},
     "output_type": "display_data"
    }
   ],
   "source": [
    "ranks_df[['population_prop', 'PageRank']+rates_str].T.plot(kind='bar', figsize=(20,10), fontsize=15, use_index=False)\n",
    "plt.title('$Rank$ Comparison', fontsize=20)\n",
    "plt.xlabel('Infection rate', fontsize=18, labelpad=20)\n",
    "plt.xticks(np.arange(len(rates_str)+2), ['population','PageRank']+rates_str, rotation='horizontal')\n",
    "\n",
    "plt.legend(fontsize=15);"
   ]
  },
  {
   "cell_type": "code",
   "execution_count": 21,
   "metadata": {},
   "outputs": [
    {
     "data": {
      "image/png": "[encoded data removed]",
      "text/plain": [
       "<matplotlib.figure.Figure at 0x1fbe7649898>"
      ]
     },
     "metadata": {},
     "output_type": "display_data"
    }
   ],
   "source": [
    "ranks_df[rates_str].plot(kind='bar', figsize=(15,7), fontsize=15, use_index=False)\n",
    "plt.title('$Rank$ Comparison', fontsize=20)\n",
    "plt.xlabel('Subdistrict', fontsize=18, labelpad=20)\n",
    "plt.xticks(np.arange(7), rank_df.subdist_name, rotation='horizontal')\n",
    "\n",
    "# Plotting the dotted lines representing the relative population size using horizontal lines object\n",
    "lines = plt.hlines(rank_df.population_prop, np.arange(7)-0.25,np.arange(7)+0.25, linestyles='dotted', color='black', **{'linewidth': 3},\n",
    "           label='relative population size')\n",
    "\n",
    "lines2 = plt.hlines(rank_df.PageRank, np.arange(7)-0.25,np.arange(7)+0.25, linestyles='dashed', color='red', **{'linewidth': 3},\n",
    "           label='PageRank')\n",
    "\n",
    "\n",
    "plt.legend(fontsize=15);"
   ]
  },
  {
   "cell_type": "markdown",
   "metadata": {},
   "source": [
    "# Generated Static Network"
   ]
  },
  {
   "cell_type": "markdown",
   "metadata": {},
   "source": [
    "### Aggregating by area"
   ]
  },
  {
   "cell_type": "code",
   "execution_count": 22,
   "metadata": {},
   "outputs": [],
   "source": [
    "# Read the network from gpickle\n",
    "network = nx.read_gpickle(\"../../Data/network/static_network_10K.gpickle\")"
   ]
  },
  {
   "cell_type": "code",
   "execution_count": 32,
   "metadata": {},
   "outputs": [
    {
     "data": {
      "text/plain": [
       "{'area': 71, 'contact_dist': Unnamed: 0\n",
       " 71         5\n",
       " 3091       1\n",
       " 6600427    1\n",
       " Name: 0, dtype: int32, 'contacts': 7, 'remaining_contact_dist': Series([], Name: 0, dtype: int32), 'remaining_contacts': 0, 'subdist': 61.0}"
      ]
     },
     "execution_count": 32,
     "metadata": {},
     "output_type": "execute_result"
    }
   ],
   "source": [
    "network.nodes[0]"
   ]
  },
  {
   "cell_type": "code",
   "execution_count": 38,
   "metadata": {},
   "outputs": [
    {
     "data": {
      "text/plain": [
       "AtlasView({452: {}, 8025.0: {}, 7986.0: {}, 3846.0: {}, 77.0: {}, 992.0: {}, 6918.0: {}})"
      ]
     },
     "execution_count": 38,
     "metadata": {},
     "output_type": "execute_result"
    }
   ],
   "source": [
    "network[0]"
   ]
  },
  {
   "cell_type": "code",
   "execution_count": 34,
   "metadata": {},
   "outputs": [],
   "source": [
    "adj = nx.to_numpy_array(network)"
   ]
  },
  {
   "cell_type": "code",
   "execution_count": 78,
   "metadata": {},
   "outputs": [
    {
     "data": {
      "application/vnd.jupyter.widget-view+json": {
       "model_id": "3904e67c460a4febb89a91b12dd1565b",
       "version_major": 2,
       "version_minor": 0
      },
      "text/plain": [
       "A Jupyter Widget"
      ]
     },
     "metadata": {},
     "output_type": "display_data"
    },
    {
     "name": "stdout",
     "output_type": "stream",
     "text": [
      "\n"
     ]
    }
   ],
   "source": [
    "c = np.zeros(contact_matrix.shape)\n",
    "for n in tqdm_notebook(network.nodes):\n",
    "    node = network.nodes[n]\n",
    "    node_area_idx = np.where(contact_matrix.index == node['area'])[0][0]\n",
    "    \n",
    "    # Go over the contacts\n",
    "    for contact in network[n]:\n",
    "        contact_node = network.nodes[contact]\n",
    "        contat_area_idx = np.where(contact_matrix.index == contact_node['area'])[0][0]\n",
    "        c[node_area_idx,contat_area_idx] += 1\n",
    "\n",
    "c = c/2"
   ]
  },
  {
   "cell_type": "code",
   "execution_count": 96,
   "metadata": {},
   "outputs": [],
   "source": [
    "c_df = pd.DataFrame(c, index=contact_matrix.index, columns=contact_matrix.index)"
   ]
  },
  {
   "cell_type": "code",
   "execution_count": 85,
   "metadata": {},
   "outputs": [],
   "source": [
    "c_df_norm = c_df.apply(lambda row: row/row.sum() if row.sum()>0 else row, axis=1)"
   ]
  },
  {
   "cell_type": "code",
   "execution_count": 108,
   "metadata": {},
   "outputs": [
    {
     "data": {
      "text/plain": [
       "(array([], dtype=int64),)"
      ]
     },
     "execution_count": 108,
     "metadata": {},
     "output_type": "execute_result"
    }
   ],
   "source": [
    "np.where(agg_area_id in c_df.index)"
   ]
  },
  {
   "cell_type": "code",
   "execution_count": 112,
   "metadata": {},
   "outputs": [
    {
     "data": {
      "text/plain": [
       "array([     71,     181,     241,     321,   70126,   70141,   70211,\n",
       "         70231,   70232,   70233,   70241,   70242,   70243,   70312,\n",
       "         70314,   70316,   70317,   70321,   70322,   70323,   70331,\n",
       "         70332,   70333,   70411,   70412,   70421,   70422,   70426,\n",
       "         70432,   70433,   70434,    1551,    1631,    2341,    2741,\n",
       "          3091,    3151,    3201,    3361,    3401,    3581,    4001,\n",
       "          4281,    5531,    5931,    6201,    6221,    6681,    6901,\n",
       "          6921,    6991,    7001,    7271,    7391,    7461,    7561,\n",
       "          7631,    7721,    7911,    7931,    8111,    8141,    8171,\n",
       "          8181,    8191,    8211,    8241,    8271,    8451,    8881,\n",
       "         10312,   10313,   10314,   10315,   10316,   10317,   10341,\n",
       "         10342,   10343,   10344,   10345,   10346,   10981,   11491,\n",
       "         12331,   12421,   14191,   20111,   20461,  263012,  263013,\n",
       "        263014,  263015,  263021,  263022,  263023,  263024,  263025,\n",
       "        263031,  263032,  263033,  263034,  263035,  263036,  263037,\n",
       "       7100112, 7100113, 7100124, 7100313, 7100314, 7100323], dtype=int64)"
      ]
     },
     "execution_count": 112,
     "metadata": {},
     "output_type": "execute_result"
    }
   ],
   "source": [
    "hierarchical_list[agg_area_id][np.isin(hierarchical_list[agg_area_id], c_df.index)]"
   ]
  },
  {
   "cell_type": "code",
   "execution_count": 113,
   "metadata": {},
   "outputs": [],
   "source": [
    "# Get relevant level codes and names\n",
    "area_level = 'subdistrict'\n",
    "hierarchical_list = nafot.get_hierarchical_list(area_level)\n",
    "\n",
    "# Get codes column names in gdf\n",
    "code_col_names = {'district': 'DistrictCode', 'subdistrict': 'SubDistrictCode', 'yeshuv': 'SEMEL_YISH'}\n",
    "\n",
    "if area_level != 'stat_area':\n",
    "    # If the level is not stat area, add the relevant level to the location data\n",
    "    area_col = code_col_names[area_level] \n",
    "\n",
    "# Get a list of the area's ids\n",
    "areas_ids = pd.unique(gdf[area_col])\n",
    "\n",
    "# Remove NaN\n",
    "areas_ids = np.array(areas_ids[~np.isnan(areas_ids)])\n",
    "\n",
    "# Aggregate the columns\n",
    "matrix_A_agg_cols_df = pd.DataFrame(index=c_df.index, columns=areas_ids)\n",
    "for agg_area_id in areas_ids:\n",
    "    matrix_A_agg_cols_df[agg_area_id] = c_df[hierarchical_list[agg_area_id][np.isin(hierarchical_list[agg_area_id], c_df.index)]].sum(axis=1)\n",
    "\n",
    "# Aggregate the rows\n",
    "matrix_A_subdist_df = pd.DataFrame(index=areas_ids, columns=areas_ids)\n",
    "for agg_area_id in areas_ids:\n",
    "    matrix_A_subdist_df.loc[agg_area_id] = matrix_A_agg_cols_df.loc[hierarchical_list[agg_area_id][np.isin(hierarchical_list[agg_area_id], c_df.index)]].sum()"
   ]
  },
  {
   "cell_type": "code",
   "execution_count": 115,
   "metadata": {},
   "outputs": [
    {
     "data": {
      "text/plain": [
       "Float64Index([61.0, 11.0, 51.0, 44.0, 43.0, 42.0, 77.0], dtype='float64', name='subdist_code')"
      ]
     },
     "execution_count": 115,
     "metadata": {},
     "output_type": "execute_result"
    }
   ],
   "source": [
    "contact_matrix_subdist.index"
   ]
  },
  {
   "cell_type": "code",
   "execution_count": 119,
   "metadata": {},
   "outputs": [
    {
     "ename": "ValueError",
     "evalue": "Cannot index with multidimensional key",
     "output_type": "error",
     "traceback": [
      "\u001b[1;31m---------------------------------------------------------------------------\u001b[0m",
      "\u001b[1;31mValueError\u001b[0m                                Traceback (most recent call last)",
      "\u001b[1;32m<ipython-input-119-d73f9a8ebcfa>\u001b[0m in \u001b[0;36m<module>\u001b[1;34m()\u001b[0m\n\u001b[1;32m----> 1\u001b[1;33m \u001b[0mmatrix_A_subdist_df\u001b[0m\u001b[1;33m.\u001b[0m\u001b[0mloc\u001b[0m\u001b[1;33m[\u001b[0m\u001b[0mcontact_matrix_subdist\u001b[0m\u001b[1;33m]\u001b[0m\u001b[1;33m[\u001b[0m\u001b[0mcontact_matrix_subdist\u001b[0m\u001b[1;33m.\u001b[0m\u001b[0mindex\u001b[0m\u001b[1;33m]\u001b[0m\u001b[1;33m\u001b[0m\u001b[0m\n\u001b[0m",
      "\u001b[1;32mC:\\ProgramData\\Anaconda3\\lib\\site-packages\\pandas\\core\\indexing.py\u001b[0m in \u001b[0;36m__getitem__\u001b[1;34m(self, key)\u001b[0m\n\u001b[0;32m   1371\u001b[0m \u001b[1;33m\u001b[0m\u001b[0m\n\u001b[0;32m   1372\u001b[0m             \u001b[0mmaybe_callable\u001b[0m \u001b[1;33m=\u001b[0m \u001b[0mcom\u001b[0m\u001b[1;33m.\u001b[0m\u001b[0m_apply_if_callable\u001b[0m\u001b[1;33m(\u001b[0m\u001b[0mkey\u001b[0m\u001b[1;33m,\u001b[0m \u001b[0mself\u001b[0m\u001b[1;33m.\u001b[0m\u001b[0mobj\u001b[0m\u001b[1;33m)\u001b[0m\u001b[1;33m\u001b[0m\u001b[0m\n\u001b[1;32m-> 1373\u001b[1;33m             \u001b[1;32mreturn\u001b[0m \u001b[0mself\u001b[0m\u001b[1;33m.\u001b[0m\u001b[0m_getitem_axis\u001b[0m\u001b[1;33m(\u001b[0m\u001b[0mmaybe_callable\u001b[0m\u001b[1;33m,\u001b[0m \u001b[0maxis\u001b[0m\u001b[1;33m=\u001b[0m\u001b[0maxis\u001b[0m\u001b[1;33m)\u001b[0m\u001b[1;33m\u001b[0m\u001b[0m\n\u001b[0m\u001b[0;32m   1374\u001b[0m \u001b[1;33m\u001b[0m\u001b[0m\n\u001b[0;32m   1375\u001b[0m     \u001b[1;32mdef\u001b[0m \u001b[0m_is_scalar_access\u001b[0m\u001b[1;33m(\u001b[0m\u001b[0mself\u001b[0m\u001b[1;33m,\u001b[0m \u001b[0mkey\u001b[0m\u001b[1;33m)\u001b[0m\u001b[1;33m:\u001b[0m\u001b[1;33m\u001b[0m\u001b[0m\n",
      "\u001b[1;32mC:\\ProgramData\\Anaconda3\\lib\\site-packages\\pandas\\core\\indexing.py\u001b[0m in \u001b[0;36m_getitem_axis\u001b[1;34m(self, key, axis)\u001b[0m\n\u001b[0;32m   1612\u001b[0m \u001b[1;33m\u001b[0m\u001b[0m\n\u001b[0;32m   1613\u001b[0m                 \u001b[1;32mif\u001b[0m \u001b[0mhasattr\u001b[0m\u001b[1;33m(\u001b[0m\u001b[0mkey\u001b[0m\u001b[1;33m,\u001b[0m \u001b[1;34m'ndim'\u001b[0m\u001b[1;33m)\u001b[0m \u001b[1;32mand\u001b[0m \u001b[0mkey\u001b[0m\u001b[1;33m.\u001b[0m\u001b[0mndim\u001b[0m \u001b[1;33m>\u001b[0m \u001b[1;36m1\u001b[0m\u001b[1;33m:\u001b[0m\u001b[1;33m\u001b[0m\u001b[0m\n\u001b[1;32m-> 1614\u001b[1;33m                     \u001b[1;32mraise\u001b[0m \u001b[0mValueError\u001b[0m\u001b[1;33m(\u001b[0m\u001b[1;34m'Cannot index with multidimensional key'\u001b[0m\u001b[1;33m)\u001b[0m\u001b[1;33m\u001b[0m\u001b[0m\n\u001b[0m\u001b[0;32m   1615\u001b[0m \u001b[1;33m\u001b[0m\u001b[0m\n\u001b[0;32m   1616\u001b[0m                 \u001b[1;32mreturn\u001b[0m \u001b[0mself\u001b[0m\u001b[1;33m.\u001b[0m\u001b[0m_getitem_iterable\u001b[0m\u001b[1;33m(\u001b[0m\u001b[0mkey\u001b[0m\u001b[1;33m,\u001b[0m \u001b[0maxis\u001b[0m\u001b[1;33m=\u001b[0m\u001b[0maxis\u001b[0m\u001b[1;33m)\u001b[0m\u001b[1;33m\u001b[0m\u001b[0m\n",
      "\u001b[1;31mValueError\u001b[0m: Cannot index with multidimensional key"
     ]
    }
   ],
   "source": [
    "matrix_A_subdist_df.loc[contact_matrix_subdist][contact_matrix_subdist.index]"
   ]
  },
  {
   "cell_type": "markdown",
   "metadata": {
    "ExecuteTime": {
     "end_time": "2018-01-07T22:14:44.991829Z",
     "start_time": "2018-01-07T22:14:44.987837Z"
    }
   },
   "source": [
    "### Calculating $n$ steps contact matrices $P^{(n)}$"
   ]
  },
  {
   "cell_type": "code",
   "execution_count": 4,
   "metadata": {
    "ExecuteTime": {
     "end_time": "2018-01-08T09:52:33.881272Z",
     "start_time": "2018-01-08T09:52:33.860054Z"
    }
   },
   "outputs": [
    {
     "data": {
      "application/vnd.jupyter.widget-view+json": {
       "model_id": "19fd157ce56546b19b90df9574917349",
       "version_major": 2,
       "version_minor": 0
      },
      "text/plain": [
       "A Jupyter Widget"
      ]
     },
     "metadata": {},
     "output_type": "display_data"
    },
    {
     "name": "stdout",
     "output_type": "stream",
     "text": [
      "\n"
     ]
    }
   ],
   "source": [
    "# Clculate the n stesps from 1 to 100\n",
    "Ps = [contact_matrix_subdist.values]\n",
    "for n in tqdm_notebook(range(1,100)):\n",
    "    Ps.append(np.dot(Ps[n-1], contact_matrix_subdist))\n",
    "\n",
    "# Checking for convergence\n",
    "for i in range(100-1):\n",
    "    if np.all(Ps[i] - Ps[i+1] < 10**-7):\n",
    "        convergence_step = i+1\n",
    "        break\n",
    "\n",
    "# Getting the relevant contact matrices (only until convergacne step)\n",
    "Ps = Ps[:convergence_step]\n",
    "\n",
    "# Save as a 3-dimentional array\n",
    "Ps = np.array(Ps)"
   ]
  },
  {
   "cell_type": "code",
   "execution_count": 5,
   "metadata": {
    "ExecuteTime": {
     "end_time": "2018-01-08T09:52:33.881272Z",
     "start_time": "2018-01-08T09:52:33.860054Z"
    }
   },
   "outputs": [],
   "source": [
    "# # Clculate the n stesps from 1 to 100\n",
    "# Ps = [(np.linalg.matrix_power(contact_matrix_subdist.values, n)) for n in tqdm_notebook(range(1,100+1))]\n",
    "\n",
    "# # Checking for convergence\n",
    "# for i in range(100-1):\n",
    "#     if np.all(Ps[i] - Ps[i+1] < 10**-7):\n",
    "#         convergence_step = i+1\n",
    "#         break\n",
    "\n",
    "# # Getting the relevant contact matrices (only until convergacne step)\n",
    "# Ps = Ps[:convergence_step]\n",
    "\n",
    "# # Save as a 3-dimentional array\n",
    "# Ps1 = np.array(Ps)"
   ]
  },
  {
   "cell_type": "markdown",
   "metadata": {},
   "source": [
    "### Calculating $f_{ij}^{(n)}$"
   ]
  },
  {
   "cell_type": "code",
   "execution_count": 5,
   "metadata": {},
   "outputs": [
    {
     "data": {
      "application/vnd.jupyter.widget-view+json": {
       "model_id": "5d9806dfcc1b4b4ca0ae23424ca5b166",
       "version_major": 2,
       "version_minor": 0
      },
      "text/plain": [
       "A Jupyter Widget"
      ]
     },
     "metadata": {},
     "output_type": "display_data"
    },
    {
     "name": "stdout",
     "output_type": "stream",
     "text": [
      "\n"
     ]
    }
   ],
   "source": [
    "Fs = np.zeros(Ps.shape)\n",
    "Fs[0] = Ps[0].copy()\n",
    "\n",
    "for n in tqdm_notebook(range(1, convergence_step)):\n",
    "    for i in range(Fs.shape[1]):\n",
    "        for j in range(Fs.shape[1]):\n",
    "            Fs[n,i,j] = Ps[n,i,j] - np.sum([Fs[k,i,j]*Ps[n-k,j,j] for k in range(n)])"
   ]
  },
  {
   "cell_type": "markdown",
   "metadata": {},
   "source": [
    "## Calculate the $Rank$\n",
    "### $R_i=∑_j∑_n[p_j f_{ji}^{(n)} c^n ] $"
   ]
  },
  {
   "cell_type": "code",
   "execution_count": 6,
   "metadata": {},
   "outputs": [],
   "source": [
    "infection_rate = 0.9999\n",
    "def calculate_rank(Ps, Fs, pop_prop, convergence_step, infection_rate):\n",
    "    rates_vector = np.array([infection_rate**n for n in range(1,convergence_step+1)])\n",
    "\n",
    "    Rs = []\n",
    "    for i in tqdm_notebook(range(contact_matrix_subdist.shape[0])):\n",
    "        Rs.append((pop_prop_subdist*Fs[:,:,i]*rates_vector.reshape(convergence_step,1)).sum())\n",
    "\n",
    "    # Save to an array\n",
    "    Rs = np.array(Rs)\n",
    "\n",
    "    # Normalize to a sum of one\n",
    "    Rs = Rs/Rs.sum()\n",
    "    \n",
    "    return Rs"
   ]
  },
  {
   "cell_type": "code",
   "execution_count": 7,
   "metadata": {},
   "outputs": [
    {
     "data": {
      "application/vnd.jupyter.widget-view+json": {
       "model_id": "bf869247fb244b9e92aedfa20df1a77b",
       "version_major": 2,
       "version_minor": 0
      },
      "text/plain": [
       "A Jupyter Widget"
      ]
     },
     "metadata": {},
     "output_type": "display_data"
    },
    {
     "name": "stdout",
     "output_type": "stream",
     "text": [
      "\n"
     ]
    }
   ],
   "source": [
    "Rs = calculate_rank(Ps, Fs, pop_prop_subdist, convergence_step, infection_rate)"
   ]
  },
  {
   "cell_type": "code",
   "execution_count": null,
   "metadata": {},
   "outputs": [],
   "source": []
  },
  {
   "cell_type": "code",
   "execution_count": null,
   "metadata": {},
   "outputs": [],
   "source": []
  },
  {
   "cell_type": "code",
   "execution_count": null,
   "metadata": {},
   "outputs": [],
   "source": []
  },
  {
   "cell_type": "markdown",
   "metadata": {},
   "source": [
    "### Using Sparse Matrix"
   ]
  },
  {
   "cell_type": "code",
   "execution_count": 11,
   "metadata": {},
   "outputs": [],
   "source": [
    "# Read the network from gpickle\n",
    "network = nx.read_gpickle(\"../../Data/network/static_network_10K.gpickle\")"
   ]
  },
  {
   "cell_type": "code",
   "execution_count": 12,
   "metadata": {},
   "outputs": [],
   "source": [
    "# Get the adjacancy matrix (as sparse matrix)\n",
    "sparse_adj_mat = nx.to_scipy_sparse_matrix(network)"
   ]
  },
  {
   "cell_type": "markdown",
   "metadata": {
    "ExecuteTime": {
     "end_time": "2018-01-07T22:14:44.991829Z",
     "start_time": "2018-01-07T22:14:44.987837Z"
    }
   },
   "source": [
    "### Calculating $n$ steps contact matrices $P^{(n)}$"
   ]
  },
  {
   "cell_type": "code",
   "execution_count": 18,
   "metadata": {},
   "outputs": [],
   "source": [
    "# # Calculate the n stesps from 1 to 100\n",
    "Ps_sparse = [sparse_adj_mat]\n",
    "for n in tqdm_notebook(range(1,100)):\n",
    "    Ps_sparse.append(Ps_sparse[n-1]*sparse_adj_mat)\n",
    "\n",
    "# Convert to numpy array\n",
    "Ps = [Ps_sparse[i].toarray() for i in tqdm_notebook(range(len(Ps_sparse)))] \n",
    "\n",
    "# Checking for convergence\n",
    "for i in range(100-1):\n",
    "    if np.all(Ps[i] - Ps[i+1] < 10**-7):\n",
    "        convergence_step = i+1\n",
    "        break\n",
    "\n",
    "# Getting the relevant contact matrices (only until convergacne step)\n",
    "Ps = Ps[:convergence_step]\n",
    "\n",
    "# Save as a 3-dimentional array\n",
    "Ps = np.array(Ps)"
   ]
  },
  {
   "cell_type": "markdown",
   "metadata": {},
   "source": [
    "### Calculating $f_{ij}^{(n)}$"
   ]
  },
  {
   "cell_type": "code",
   "execution_count": 21,
   "metadata": {},
   "outputs": [
    {
     "name": "stderr",
     "output_type": "stream",
     "text": [
      "\r",
      "  0%|                                                                                           | 0/89 [00:00<?, ?it/s]"
     ]
    },
    {
     "ename": "KeyboardInterrupt",
     "evalue": "",
     "output_type": "error",
     "traceback": [
      "\u001b[1;31m---------------------------------------------------------------------------\u001b[0m",
      "\u001b[1;31mKeyboardInterrupt\u001b[0m                         Traceback (most recent call last)",
      "\u001b[1;32m<ipython-input-21-2dd1b3409e11>\u001b[0m in \u001b[0;36m<module>\u001b[1;34m()\u001b[0m\n\u001b[0;32m      5\u001b[0m     \u001b[1;32mfor\u001b[0m \u001b[0mi\u001b[0m \u001b[1;32min\u001b[0m \u001b[0mrange\u001b[0m\u001b[1;33m(\u001b[0m\u001b[0mFs\u001b[0m\u001b[1;33m.\u001b[0m\u001b[0mshape\u001b[0m\u001b[1;33m[\u001b[0m\u001b[1;36m1\u001b[0m\u001b[1;33m]\u001b[0m\u001b[1;33m)\u001b[0m\u001b[1;33m:\u001b[0m\u001b[1;33m\u001b[0m\u001b[0m\n\u001b[0;32m      6\u001b[0m         \u001b[1;32mfor\u001b[0m \u001b[0mj\u001b[0m \u001b[1;32min\u001b[0m \u001b[0mrange\u001b[0m\u001b[1;33m(\u001b[0m\u001b[0mFs\u001b[0m\u001b[1;33m.\u001b[0m\u001b[0mshape\u001b[0m\u001b[1;33m[\u001b[0m\u001b[1;36m1\u001b[0m\u001b[1;33m]\u001b[0m\u001b[1;33m)\u001b[0m\u001b[1;33m:\u001b[0m\u001b[1;33m\u001b[0m\u001b[0m\n\u001b[1;32m----> 7\u001b[1;33m             \u001b[0mFs\u001b[0m\u001b[1;33m[\u001b[0m\u001b[0mn\u001b[0m\u001b[1;33m,\u001b[0m\u001b[0mi\u001b[0m\u001b[1;33m,\u001b[0m\u001b[0mj\u001b[0m\u001b[1;33m]\u001b[0m \u001b[1;33m=\u001b[0m \u001b[0mPs\u001b[0m\u001b[1;33m[\u001b[0m\u001b[0mn\u001b[0m\u001b[1;33m,\u001b[0m\u001b[0mi\u001b[0m\u001b[1;33m,\u001b[0m\u001b[0mj\u001b[0m\u001b[1;33m]\u001b[0m \u001b[1;33m-\u001b[0m \u001b[0mnp\u001b[0m\u001b[1;33m.\u001b[0m\u001b[0msum\u001b[0m\u001b[1;33m(\u001b[0m\u001b[1;33m[\u001b[0m\u001b[0mFs\u001b[0m\u001b[1;33m[\u001b[0m\u001b[0mk\u001b[0m\u001b[1;33m,\u001b[0m\u001b[0mi\u001b[0m\u001b[1;33m,\u001b[0m\u001b[0mj\u001b[0m\u001b[1;33m]\u001b[0m\u001b[1;33m*\u001b[0m\u001b[0mPs\u001b[0m\u001b[1;33m[\u001b[0m\u001b[0mn\u001b[0m\u001b[1;33m-\u001b[0m\u001b[0mk\u001b[0m\u001b[1;33m,\u001b[0m\u001b[0mj\u001b[0m\u001b[1;33m,\u001b[0m\u001b[0mj\u001b[0m\u001b[1;33m]\u001b[0m \u001b[1;32mfor\u001b[0m \u001b[0mk\u001b[0m \u001b[1;32min\u001b[0m \u001b[0mrange\u001b[0m\u001b[1;33m(\u001b[0m\u001b[0mn\u001b[0m\u001b[1;33m)\u001b[0m\u001b[1;33m]\u001b[0m\u001b[1;33m)\u001b[0m\u001b[1;33m\u001b[0m\u001b[0m\n\u001b[0m",
      "\u001b[1;32mC:\\ProgramData\\Anaconda3\\lib\\site-packages\\numpy\\core\\fromnumeric.py\u001b[0m in \u001b[0;36msum\u001b[1;34m(a, axis, dtype, out, keepdims)\u001b[0m\n\u001b[0;32m   1832\u001b[0m             \u001b[1;32mreturn\u001b[0m \u001b[0msum\u001b[0m\u001b[1;33m(\u001b[0m\u001b[0maxis\u001b[0m\u001b[1;33m=\u001b[0m\u001b[0maxis\u001b[0m\u001b[1;33m,\u001b[0m \u001b[0mdtype\u001b[0m\u001b[1;33m=\u001b[0m\u001b[0mdtype\u001b[0m\u001b[1;33m,\u001b[0m \u001b[0mout\u001b[0m\u001b[1;33m=\u001b[0m\u001b[0mout\u001b[0m\u001b[1;33m,\u001b[0m \u001b[1;33m**\u001b[0m\u001b[0mkwargs\u001b[0m\u001b[1;33m)\u001b[0m\u001b[1;33m\u001b[0m\u001b[0m\n\u001b[0;32m   1833\u001b[0m     return _methods._sum(a, axis=axis, dtype=dtype,\n\u001b[1;32m-> 1834\u001b[1;33m                          out=out, **kwargs)\n\u001b[0m\u001b[0;32m   1835\u001b[0m \u001b[1;33m\u001b[0m\u001b[0m\n\u001b[0;32m   1836\u001b[0m \u001b[1;33m\u001b[0m\u001b[0m\n",
      "\u001b[1;31mKeyboardInterrupt\u001b[0m: "
     ]
    }
   ],
   "source": [
    "Fs = np.zeros(Ps.shape)\n",
    "Fs[0] = Ps[0].copy()\n",
    "\n",
    "for n in tqdm_notebook(range(1, convergence_step)):\n",
    "    for i in range(Fs.shape[1]):\n",
    "        for j in range(Fs.shape[1]):\n",
    "            Fs[n,i,j] = Ps[n,i,j] - np.sum([Fs[k,i,j]*Ps[n-k,j,j] for k in range(n)])"
   ]
  },
  {
   "cell_type": "markdown",
   "metadata": {},
   "source": [
    "## Calculate the $Rank$\n",
    "### $R_i=∑_j∑_n[p_j f_{ji}^{(n)} c^n ] $"
   ]
  },
  {
   "cell_type": "code",
   "execution_count": 6,
   "metadata": {},
   "outputs": [],
   "source": [
    "infection_rate = 0.9999\n",
    "def calculate_rank(Ps, Fs, pop_prop, convergence_step, infection_rate):\n",
    "    rates_vector = np.array([infection_rate**n for n in range(1,convergence_step+1)])\n",
    "\n",
    "    Rs = []\n",
    "    for i in (range(contact_matrix_subdist.shape[0])):\n",
    "        Rs.append((pop_prop_subdist*Fs[:,:,i]*rates_vector.reshape(convergence_step,1)).sum())\n",
    "\n",
    "    # Save to an array\n",
    "    Rs = np.array(Rs)\n",
    "\n",
    "    # Normalize to a sum of one\n",
    "    Rs = Rs/Rs.sum()\n",
    "    \n",
    "    return Rs"
   ]
  },
  {
   "cell_type": "code",
   "execution_count": 7,
   "metadata": {},
   "outputs": [],
   "source": [
    "Rs = calculate_rank(Ps, Fs, pop_prop_subdist, convergence_step, infection_rate)"
   ]
  },
  {
   "cell_type": "markdown",
   "metadata": {},
   "source": [
    "# OLD"
   ]
  },
  {
   "cell_type": "code",
   "execution_count": null,
   "metadata": {},
   "outputs": [],
   "source": []
  },
  {
   "cell_type": "code",
   "execution_count": 62,
   "metadata": {},
   "outputs": [
    {
     "name": "stdout",
     "output_type": "stream",
     "text": [
      "190 ms ± 11 ms per loop (mean ± std. dev. of 7 runs, 1 loop each)\n"
     ]
    }
   ],
   "source": [
    "\n",
    "Fs = [Ps[0]]\n",
    "\n",
    "for n in (range(1, convergence_step)):\n",
    "    f = np.zeros(contact_matrix_subdist.shape)\n",
    "    for i in range(f.shape[0]):\n",
    "        for j in range(f.shape[0]):\n",
    "            f[i,j] = Ps[n,i,j] - np.sum([Fs[k][i,j]*Ps[n-k,j,j] for k in range(n)])\n",
    "    Fs.append(f)\n",
    "\n",
    "# Save to a 3-dimentional array\n",
    "Fs = np.array(Fs)"
   ]
  },
  {
   "cell_type": "code",
   "execution_count": 25,
   "metadata": {},
   "outputs": [
    {
     "ename": "AttributeError",
     "evalue": "'numpy.ndarray' object has no attribute 'values'",
     "output_type": "error",
     "traceback": [
      "\u001b[1;31m---------------------------------------------------------------------------\u001b[0m",
      "\u001b[1;31mAttributeError\u001b[0m                            Traceback (most recent call last)",
      "\u001b[1;32m<ipython-input-25-50e52d8b9912>\u001b[0m in \u001b[0;36m<module>\u001b[1;34m()\u001b[0m\n\u001b[1;32m----> 1\u001b[1;33m \u001b[0mFs\u001b[0m \u001b[1;33m=\u001b[0m \u001b[1;33m[\u001b[0m\u001b[0mPs\u001b[0m\u001b[1;33m[\u001b[0m\u001b[1;36m0\u001b[0m\u001b[1;33m]\u001b[0m\u001b[1;33m.\u001b[0m\u001b[0mvalues\u001b[0m\u001b[1;33m]\u001b[0m\u001b[1;33m\u001b[0m\u001b[0m\n\u001b[0m\u001b[0;32m      2\u001b[0m \u001b[1;33m\u001b[0m\u001b[0m\n\u001b[0;32m      3\u001b[0m \u001b[1;32mfor\u001b[0m \u001b[0mn\u001b[0m \u001b[1;32min\u001b[0m \u001b[0mtqdm\u001b[0m\u001b[1;33m(\u001b[0m\u001b[0mrange\u001b[0m\u001b[1;33m(\u001b[0m\u001b[1;36m1\u001b[0m\u001b[1;33m,\u001b[0m \u001b[0mconvergence_step\u001b[0m\u001b[1;33m)\u001b[0m\u001b[1;33m)\u001b[0m\u001b[1;33m:\u001b[0m\u001b[1;33m\u001b[0m\u001b[0m\n\u001b[0;32m      4\u001b[0m     \u001b[0mf\u001b[0m \u001b[1;33m=\u001b[0m \u001b[0mnp\u001b[0m\u001b[1;33m.\u001b[0m\u001b[0mzeros\u001b[0m\u001b[1;33m(\u001b[0m\u001b[0mcontact_matrix_subdist\u001b[0m\u001b[1;33m.\u001b[0m\u001b[0mshape\u001b[0m\u001b[1;33m)\u001b[0m\u001b[1;33m\u001b[0m\u001b[0m\n\u001b[0;32m      5\u001b[0m     \u001b[1;32mfor\u001b[0m \u001b[0mi\u001b[0m \u001b[1;32min\u001b[0m \u001b[0mrange\u001b[0m\u001b[1;33m(\u001b[0m\u001b[0mf\u001b[0m\u001b[1;33m.\u001b[0m\u001b[0mshape\u001b[0m\u001b[1;33m[\u001b[0m\u001b[1;36m0\u001b[0m\u001b[1;33m]\u001b[0m\u001b[1;33m)\u001b[0m\u001b[1;33m:\u001b[0m\u001b[1;33m\u001b[0m\u001b[0m\n",
      "\u001b[1;31mAttributeError\u001b[0m: 'numpy.ndarray' object has no attribute 'values'"
     ]
    }
   ],
   "source": [
    "Fs = [Ps[0].values]\n",
    "\n",
    "for n in tqdm(range(1, convergence_step)):\n",
    "    f = np.zeros(contact_matrix_subdist.shape)\n",
    "    for i in range(f.shape[0]):\n",
    "        for j in range(f.shape[0]):\n",
    "            f[i,j] = Ps[n].iloc[i,j] - np.sum([Fs[k][i,j]*Ps[n-k].iloc[j,j] for k in range(n)])\n",
    "    Fs.append(f)\n",
    "\n",
    "# Save to a 3-dimentional array\n",
    "Fs = np.array(Fs)"
   ]
  },
  {
   "cell_type": "markdown",
   "metadata": {},
   "source": [
    "## Calculate the index"
   ]
  },
  {
   "cell_type": "code",
   "execution_count": 200,
   "metadata": {},
   "outputs": [
    {
     "name": "stdout",
     "output_type": "stream",
     "text": [
      "6.89 ms ± 597 µs per loop (mean ± std. dev. of 7 runs, 100 loops each)\n"
     ]
    }
   ],
   "source": [
    "%%timeit\n",
    "infection_rate = 0.01\n",
    "rates_vector = np.array([infection_rate**n for n in range(1,convergence_step+1)])\n",
    "\n",
    "Rs = []\n",
    "for i in (range(contact_matrix_subdist.shape[0])):\n",
    "    R = 0\n",
    "    for j in range(contact_matrix_subdist.shape[0]):\n",
    "        for n in range(convergence_step):\n",
    "            R += pop_prop_subdist[j]*Fs[n][j,i]*(infection_rate**(n+1))\n",
    "    Rs.append(R)"
   ]
  },
  {
   "cell_type": "code",
   "execution_count": 7,
   "metadata": {},
   "outputs": [],
   "source": [
    "# infection rate\n",
    "infection_rate = 0.05\n",
    "\n",
    "# calculate the rate for every step n\n",
    "rates_vector = np.array([infection_rate**n for n in range(1,100+1)])\n",
    "\n",
    "# multiply the n-step transition probability matrix by the corresponding rate\n",
    "updated_mat_steps = [mat_steps[n]*rates_vector[n] for n in range(100)]\n",
    "\n",
    "# calculate the weighted sum of the matrices\n",
    "sum_mat = updated_mat_steps[0].copy()\n",
    "for cur_mat in updated_mat_steps[1:]:\n",
    "    sum_mat += cur_mat \n",
    "\n",
    " # Normalizing each row to a sum of 1\n",
    "sum_mat_norm = sum_mat.values / sum_mat.sum(1).values.reshape((sum_mat.shape[0],1))\n",
    "    \n",
    "# calculate the steady state for the resulted matrix\n",
    "sum_mat_ss = pd.DataFrame(np.linalg.matrix_power(sum_mat_norm, 100), columns=sum_mat.columns, index=sum_mat.index).iloc[0:1]"
   ]
  },
  {
   "cell_type": "code",
   "execution_count": 56,
   "metadata": {
    "ExecuteTime": {
     "end_time": "2018-01-08T09:58:03.114748Z",
     "start_time": "2018-01-08T09:58:03.024684Z"
    }
   },
   "outputs": [],
   "source": [
    "# infection rate\n",
    "infection_rate = 0.05\n",
    "\n",
    "# calculate the rate for every step n\n",
    "rates_vector = np.array([infection_rate**n for n in range(1,100+1)])\n",
    "\n",
    "# multiply the n-step transition probability matrix by the corresponding rate\n",
    "updated_mat_steps = [mat_steps[n]*rates_vector[n] for n in range(100)]\n",
    "\n",
    "# calculate the weighted sum of the matrices\n",
    "sum_mat = updated_mat_steps[0].copy()\n",
    "for cur_mat in updated_mat_steps[1:]:\n",
    "    sum_mat += cur_mat \n",
    "\n",
    " # Normalizing each row to a sum of 1\n",
    "sum_mat_norm = sum_mat.values / sum_mat.sum(1).values.reshape((sum_mat.shape[0],1))\n",
    "    \n",
    "# calculate the steady state for the resulted matrix\n",
    "sum_mat_ss = pd.DataFrame(np.linalg.matrix_power(sum_mat_norm, 100), columns=sum_mat.columns, index=sum_mat.index).iloc[0:1]"
   ]
  }
 ],
 "metadata": {
  "kernelspec": {
   "display_name": "Python 3",
   "language": "python",
   "name": "python3"
  },
  "language_info": {
   "codemirror_mode": {
    "name": "ipython",
    "version": 3
   },
   "file_extension": ".py",
   "mimetype": "text/x-python",
   "name": "python",
   "nbconvert_exporter": "python",
   "pygments_lexer": "ipython3",
   "version": "3.6.5"
  },
  "toc": {
   "nav_menu": {},
   "number_sections": true,
   "sideBar": true,
   "skip_h1_title": false,
   "toc_cell": false,
   "toc_position": {},
   "toc_section_display": "block",
   "toc_window_display": false
  },
  "varInspector": {
   "cols": {
    "lenName": 16,
    "lenType": 16,
    "lenVar": 40
   },
   "kernels_config": {
    "python": {
     "delete_cmd_postfix": "",
     "delete_cmd_prefix": "del ",
     "library": "var_list.py",
     "varRefreshCmd": "print(var_dic_list())"
    },
    "r": {
     "delete_cmd_postfix": ") ",
     "delete_cmd_prefix": "rm(",
     "library": "var_list.r",
     "varRefreshCmd": "cat(var_dic_list()) "
    }
   },
   "types_to_exclude": [
    "module",
    "function",
    "builtin_function_or_method",
    "instance",
    "_Feature"
   ],
   "window_display": false
  }
 },
 "nbformat": 4,
 "nbformat_minor": 2
}
