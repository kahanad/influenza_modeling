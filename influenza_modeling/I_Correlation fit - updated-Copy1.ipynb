{
 "cells": [
  {
   "cell_type": "markdown",
   "metadata": {},
   "source": [
    "# Correlation Fit"
   ]
  },
  {
   "cell_type": "code",
   "execution_count": 1,
   "metadata": {},
   "outputs": [],
   "source": [
    "import pandas as pd\n",
    "import numpy as np\n",
    "import pickle\n",
    "import os\n",
    "import model\n",
    "from matplotlib import pyplot as plt\n",
    "import pickle\n",
    "%matplotlib inline"
   ]
  },
  {
   "cell_type": "code",
   "execution_count": 2,
   "metadata": {},
   "outputs": [],
   "source": [
    "prep_data = model.data_and_network_prep()"
   ]
  },
  {
   "cell_type": "code",
   "execution_count": 3,
   "metadata": {},
   "outputs": [],
   "source": [
    "data_for_fit_i = model.create_data_for_fit_influenza()\n",
    "data_for_fit_v = model.create_data_for_fit(prep_data)"
   ]
  },
  {
   "cell_type": "markdown",
   "metadata": {},
   "source": [
    "## Vaccination model"
   ]
  },
  {
   "cell_type": "markdown",
   "metadata": {},
   "source": [
    "Load results"
   ]
  },
  {
   "cell_type": "code",
   "execution_count": 5,
   "metadata": {},
   "outputs": [],
   "source": [
    "# Get list of files\n",
    "file_names = os.listdir('../../Data/vaccination_model/model_results_updated')\n",
    "\n",
    "# Merge lists\n",
    "model_results_all = []\n",
    "for file_name in file_names:\n",
    "    with open(f'../../Data/vaccination_model/model_results_updated/{file_name}', 'rb') as pickle_in:\n",
    "        cur_res = pickle.load(pickle_in)\n",
    "    model_results_all.extend(cur_res)"
   ]
  },
  {
   "cell_type": "code",
   "execution_count": 6,
   "metadata": {},
   "outputs": [],
   "source": [
    "# Get Results and likelihood lists \n",
    "model_results_list = [res['model_results'] for res in model_results_all]\n",
    "model_res_likelihood_list = [res['likelihood'] for res in model_results_all]\n",
    "\n",
    "# Get median realization\n",
    "med = np.argsort(np.array(model_res_likelihood_list))[len(model_res_likelihood_list)//2]\n",
    "median_model_results = model_results_list[med]"
   ]
  },
  {
   "cell_type": "code",
   "execution_count": null,
   "metadata": {},
   "outputs": [],
   "source": [
    "del model_results_all\n",
    "del cur_res"
   ]
  },
  {
   "cell_type": "markdown",
   "metadata": {},
   "source": [
    "Load results homogenous"
   ]
  },
  {
   "cell_type": "code",
   "execution_count": 4,
   "metadata": {},
   "outputs": [],
   "source": [
    "# Get list of files\n",
    "file_names = os.listdir('L:/Dor/Data/vaccination_model/model_results_homo/')\n",
    "\n",
    "# Merge lists\n",
    "model_results_all_homo = []\n",
    "for file_name in file_names:\n",
    "    with open(f'L:/Dor/Data/vaccination_model/model_results_homo/{file_name}', 'rb') as pickle_in:\n",
    "        cur_res = pickle.load(pickle_in)\n",
    "    model_results_all_homo.extend(cur_res)\n",
    "\n",
    "# Get Results and likelihood lists \n",
    "model_results_list_homo = [res['model_results'] for res in model_results_all_homo][:100]\n",
    "model_res_likelihood_list_homo = [res['likelihood'] for res in model_results_all_homo][:100]\n",
    "\n",
    "# Get median realization\n",
    "med_homo = np.argsort(np.array(model_res_likelihood_list_homo))[len(model_res_likelihood_list_homo)//2]\n",
    "median_model_results_homo = model_results_list_homo[med_homo]"
   ]
  },
  {
   "cell_type": "code",
   "execution_count": 6,
   "metadata": {},
   "outputs": [
    {
     "data": {
      "text/plain": [
       "64045.919901715395"
      ]
     },
     "execution_count": 6,
     "metadata": {},
     "output_type": "execute_result"
    }
   ],
   "source": [
    "model_res_likelihood_list[med]"
   ]
  },
  {
   "cell_type": "code",
   "execution_count": 18,
   "metadata": {},
   "outputs": [
    {
     "data": {
      "text/plain": [
       "63988.87193888805"
      ]
     },
     "execution_count": 18,
     "metadata": {},
     "output_type": "execute_result"
    }
   ],
   "source": [
    "model_res_likelihood_list[med]"
   ]
  },
  {
   "cell_type": "code",
   "execution_count": 6,
   "metadata": {},
   "outputs": [
    {
     "data": {
      "text/plain": [
       "63932.15428404272"
      ]
     },
     "execution_count": 6,
     "metadata": {},
     "output_type": "execute_result"
    }
   ],
   "source": [
    "model_res_likelihood_list_homo[med_homo]"
   ]
  },
  {
   "cell_type": "markdown",
   "metadata": {},
   "source": [
    "#### Correlation fit (not weighted)"
   ]
  },
  {
   "cell_type": "code",
   "execution_count": 5,
   "metadata": {},
   "outputs": [
    {
     "ename": "TypeError",
     "evalue": "unsupported format string passed to tuple.__format__",
     "output_type": "error",
     "traceback": [
      "\u001b[1;31m---------------------------------------------------------------------------\u001b[0m",
      "\u001b[1;31mTypeError\u001b[0m                                 Traceback (most recent call last)",
      "\u001b[1;32m<ipython-input-5-e57794308512>\u001b[0m in \u001b[0;36m<module>\u001b[1;34m()\u001b[0m\n\u001b[1;32m----> 1\u001b[1;33m \u001b[0mprint\u001b[0m\u001b[1;33m(\u001b[0m\u001b[1;34mf'correlation fit aggregated: {model.calc_correlation_fit_vacc(median_model_results, data_for_fit_v, prep_data):.2f}'\u001b[0m\u001b[1;33m)\u001b[0m\u001b[1;33m\u001b[0m\u001b[0m\n\u001b[0m\u001b[0;32m      2\u001b[0m \u001b[0mprint\u001b[0m\u001b[1;33m(\u001b[0m\u001b[1;34mf'correlation fit by subdist: {model.calc_correlation_fit_vacc(median_model_results, data_for_fit_v, prep_data, by_subdist=True):.2f}'\u001b[0m\u001b[1;33m)\u001b[0m\u001b[1;33m\u001b[0m\u001b[0m\n\u001b[0;32m      3\u001b[0m \u001b[0mprint\u001b[0m\u001b[1;33m(\u001b[0m\u001b[1;34mf'correlation fit by subdist and age: {model.calc_correlation_fit_vacc(median_model_results, data_for_fit_v, prep_data, by_subdist_age=True):.2f}'\u001b[0m\u001b[1;33m)\u001b[0m\u001b[1;33m\u001b[0m\u001b[0m\n",
      "\u001b[1;31mTypeError\u001b[0m: unsupported format string passed to tuple.__format__"
     ]
    }
   ],
   "source": [
    "print(f'correlation fit aggregated: {model.calc_correlation_fit_vacc(median_model_results, data_for_fit_v, prep_data):.2f}')\n",
    "print(f'correlation fit by subdist: {model.calc_correlation_fit_vacc(median_model_results, data_for_fit_v, prep_data, by_subdist=True):.2f}')\n",
    "print(f'correlation fit by subdist and age: {model.calc_correlation_fit_vacc(median_model_results, data_for_fit_v, prep_data, by_subdist_age=True):.2f}')"
   ]
  },
  {
   "cell_type": "markdown",
   "metadata": {},
   "source": [
    "#### Correlation fit weighted"
   ]
  },
  {
   "cell_type": "code",
   "execution_count": 6,
   "metadata": {},
   "outputs": [
    {
     "name": "stdout",
     "output_type": "stream",
     "text": [
      "correlation fit aggregated: 0.95\n",
      "correlation fit by subdist: 0.87\n",
      "correlation fit by subdist and age: 0.85\n"
     ]
    }
   ],
   "source": [
    "print(f'correlation fit aggregated: {model.calc_correlation_fit_vacc(median_model_results, data_for_fit_v, prep_data, weighted=True):.2f}')\n",
    "print(f'correlation fit by subdist: {model.calc_correlation_fit_vacc(median_model_results, data_for_fit_v, prep_data, by_subdist=True, weighted=True):.2f}')\n",
    "print(f'correlation fit by subdist and age: {model.calc_correlation_fit_vacc(median_model_results, data_for_fit_v, prep_data, by_subdist_age=True, weighted=True):.2f}')"
   ]
  },
  {
   "cell_type": "markdown",
   "metadata": {},
   "source": [
    "#### Smoothed weighted"
   ]
  },
  {
   "cell_type": "code",
   "execution_count": 7,
   "metadata": {},
   "outputs": [
    {
     "name": "stdout",
     "output_type": "stream",
     "text": [
      "correlation fit aggregated: r:0.99, p:1.0265768256487908e-20\n",
      "correlation fit by subdist: r:0.94, p:5.668121216637671e-07\n",
      "correlation fit by subdist and age: r:0.93, p:1.0646131414078742e-06\n"
     ]
    }
   ],
   "source": [
    "window = 2\n",
    "\n",
    "vacc_agg = model.calc_correlation_fit_vacc(median_model_results, data_for_fit_v, prep_data, weighted=True, smooth=True, window=window)\n",
    "vacc_subdist = model.calc_correlation_fit_vacc(median_model_results, data_for_fit_v, prep_data, by_subdist=True, weighted=True, smooth=True, window=window)\n",
    "vacc_subdist_age = model.calc_correlation_fit_vacc(median_model_results, data_for_fit_v, prep_data, by_subdist_age=True, weighted=True, smooth=True, window=window)\n",
    "print(f'correlation fit aggregated: r:{vacc_agg[0]:.2f}, p:{vacc_agg[1]}')\n",
    "print(f'correlation fit by subdist: r:{vacc_subdist[0]:.2f}, p:{vacc_subdist[1]}')\n",
    "print(f'correlation fit by subdist and age: r:{vacc_subdist_age[0]:.2f}, p:{vacc_subdist_age[1]}')"
   ]
  },
  {
   "cell_type": "markdown",
   "metadata": {},
   "source": [
    "### Each season separately"
   ]
  },
  {
   "cell_type": "markdown",
   "metadata": {},
   "source": [
    "#### Weighted"
   ]
  },
  {
   "cell_type": "code",
   "execution_count": 7,
   "metadata": {},
   "outputs": [],
   "source": [
    "window = None\n",
    "\n",
    "corr_agg_ws = [model.calc_correlation_fit_vacc_separatly(median_model_results, prep_data, season, weighted=True)[0]\n",
    "               for season in model.seasons]\n",
    "\n",
    "corr_subdist_ws = [model.calc_correlation_fit_vacc_separatly(median_model_results, prep_data, season, by_subdist=True, weighted=True)[0]\n",
    "                   for season in model.seasons]\n",
    "\n",
    "corr_subdist_age_ws = [model.calc_correlation_fit_vacc_separatly(median_model_results, prep_data, season, by_subdist_age=True, weighted=True)[0]\n",
    "                       for season in model.seasons]\n",
    "\n",
    "# p-values\n",
    "corr_agg_ws_p = [model.calc_correlation_fit_vacc_separatly(median_model_results, prep_data, season, weighted=True)[1]\n",
    "                 for season in model.seasons]\n",
    "\n",
    "corr_subdist_ws_p = [model.calc_correlation_fit_vacc_separatly(median_model_results, prep_data, season, by_subdist=True, weighted=True)[1]\n",
    "                     for season in model.seasons]\n",
    "\n",
    "corr_subdist_age_ws_p = [model.calc_correlation_fit_vacc_separatly(median_model_results, prep_data, season, by_subdist_age=True, weighted=True)[1]\n",
    "                         for season in model.seasons]"
   ]
  },
  {
   "cell_type": "code",
   "execution_count": 8,
   "metadata": {},
   "outputs": [
    {
     "name": "stdout",
     "output_type": "stream",
     "text": [
      "correlation fit aggregated: r:0.88, p: 1.160236615534211e-06\n",
      "correlation fit by subdist: r:0.83, p:0.0001124992316616087\n",
      "correlation fit by subdist and age: r:0.82, p:0.02649415505178619\n"
     ]
    }
   ],
   "source": [
    "print(f'correlation fit aggregated: r:{np.array(corr_agg_ws).mean():.2f}, p: {np.array(corr_agg_ws_p).mean()}')\n",
    "print(f'correlation fit by subdist: r:{np.array(corr_subdist_ws).mean():.2f}, p:{np.array(corr_subdist_ws_p).mean()}')\n",
    "print(f'correlation fit by subdist and age: r:{np.array(corr_subdist_age_ws)[1:].mean():.2f}, p:{np.array(corr_subdist_age_ws_p).mean()}')"
   ]
  },
  {
   "cell_type": "code",
   "execution_count": 9,
   "metadata": {},
   "outputs": [
    {
     "data": {
      "text/plain": [
       "[0.6105789770139545,\n",
       " 0.8486032839154903,\n",
       " 0.8506716979541122,\n",
       " 0.8404012589252113,\n",
       " 0.857485179576659,\n",
       " 0.8412650442311231,\n",
       " 0.6984111610279864]"
      ]
     },
     "execution_count": 9,
     "metadata": {},
     "output_type": "execute_result"
    }
   ],
   "source": [
    "corr_subdist_age_ws"
   ]
  },
  {
   "cell_type": "markdown",
   "metadata": {},
   "source": [
    "#### Weighted smoothed"
   ]
  },
  {
   "cell_type": "code",
   "execution_count": 16,
   "metadata": {},
   "outputs": [],
   "source": [
    "window = 4\n",
    "\n",
    "corr_agg_ws = [model.calc_correlation_fit_vacc_separatly(median_model_results, prep_data, season, weighted=True, smooth=True, window=window)[0]\n",
    "               for season in model.seasons]\n",
    "\n",
    "corr_subdist_ws = [model.calc_correlation_fit_vacc_separatly(median_model_results, prep_data, season, by_subdist=True, weighted=True, smooth=True, window=window)[0]\n",
    "                   for season in model.seasons]\n",
    "\n",
    "corr_subdist_age_ws = [model.calc_correlation_fit_vacc_separatly(median_model_results, prep_data, season, by_subdist_age=True, weighted=True, smooth=True, window=window)[0]\n",
    "                       for season in model.seasons]\n",
    "\n",
    "# p-values\n",
    "corr_agg_ws_p = [model.calc_correlation_fit_vacc_separatly(median_model_results, prep_data, season, weighted=True, smooth=True, window=window)[1]\n",
    "                 for season in model.seasons]\n",
    "\n",
    "corr_subdist_ws_p = [model.calc_correlation_fit_vacc_separatly(median_model_results, prep_data, season, by_subdist=True, weighted=True, smooth=True, window=window)[1]\n",
    "                     for season in model.seasons]\n",
    "\n",
    "corr_subdist_age_ws_p = [model.calc_correlation_fit_vacc_separatly(median_model_results, prep_data, season, by_subdist_age=True, weighted=True, smooth=True, window=window)[1]\n",
    "                         for season in model.seasons]"
   ]
  },
  {
   "cell_type": "code",
   "execution_count": 17,
   "metadata": {},
   "outputs": [
    {
     "name": "stdout",
     "output_type": "stream",
     "text": [
      "correlation fit aggregated: r:0.94, p: 1.2165779667655747e-09\n",
      "correlation fit by subdist: r:0.91, p:1.2420837222653961e-05\n",
      "correlation fit by subdist and age: r:0.90, p:0.023656754649046177\n"
     ]
    }
   ],
   "source": [
    "print(f'correlation fit aggregated: r:{np.array(corr_agg_ws).mean():.2f}, p: {np.array(corr_agg_ws_p).mean()}')\n",
    "print(f'correlation fit by subdist: r:{np.array(corr_subdist_ws).mean():.2f}, p:{np.array(corr_subdist_ws_p).mean()}')\n",
    "print(f'correlation fit by subdist and age: r:{np.array(corr_subdist_age_ws)[1:].mean():.2f}, p:{np.array(corr_subdist_age_ws_p).mean()}')"
   ]
  },
  {
   "cell_type": "code",
   "execution_count": 18,
   "metadata": {},
   "outputs": [
    {
     "data": {
      "text/plain": [
       "[0.6731072507498825,\n",
       " 0.9268795470813409,\n",
       " 0.9265029215233063,\n",
       " 0.9107727764452294,\n",
       " 0.92862865107923,\n",
       " 0.9036553672766127,\n",
       " 0.8225011665277207]"
      ]
     },
     "execution_count": 18,
     "metadata": {},
     "output_type": "execute_result"
    }
   ],
   "source": [
    "corr_subdist_age_ws"
   ]
  },
  {
   "cell_type": "markdown",
   "metadata": {},
   "source": [
    "Homogenous model"
   ]
  },
  {
   "cell_type": "code",
   "execution_count": 10,
   "metadata": {},
   "outputs": [
    {
     "name": "stdout",
     "output_type": "stream",
     "text": [
      "correlation fit aggregated: r:0.94, p:3.9604365046065027e-13\n",
      "correlation fit by subdist: r:0.93, p:1.8068421029970448e-11\n",
      "correlation fit by subdist and age: r:0.91, p:4.28535343677451e-08\n"
     ]
    }
   ],
   "source": [
    "window = 2\n",
    "\n",
    "vacc_agg_h = model.calc_correlation_fit_vacc(median_model_results_homo, data_for_fit_v, prep_data, weighted=True, smooth=True, window=window)\n",
    "vacc_subdist_h = model.calc_correlation_fit_vacc(median_model_results_homo, data_for_fit_v, prep_data, by_subdist=True, weighted=True, smooth=True, window=window)\n",
    "vacc_subdist_age_h = model.calc_correlation_fit_vacc(median_model_results_homo, data_for_fit_v, prep_data, by_subdist_age=True, weighted=True, smooth=True, window=window)\n",
    "print(f'correlation fit aggregated: r:{vacc_agg_h[0]:.2f}, p:{vacc_agg_h[1]}')\n",
    "print(f'correlation fit by subdist: r:{vacc_subdist_h[0]:.2f}, p:{vacc_subdist_h[1]}')\n",
    "print(f'correlation fit by subdist and age: r:{vacc_subdist_age_h[0]:.2f}, p:{vacc_subdist_age_h[1]}')"
   ]
  },
  {
   "cell_type": "markdown",
   "metadata": {},
   "source": [
    "## Coupled model"
   ]
  },
  {
   "cell_type": "markdown",
   "metadata": {},
   "source": [
    "Load results"
   ]
  },
  {
   "cell_type": "code",
   "execution_count": 31,
   "metadata": {},
   "outputs": [],
   "source": [
    "# Get list of files\n",
    "# path = 'L:/Dor/Data/coupled_model/model_results'\n",
    "# path = 'L:/Dor/Data/coupled_model/model_results_new'\n",
    "# path = 'L:/Dor/Data/coupled_model/model_results_correction'\n",
    "path = 'L:/Dor/Data/coupled_model/model_results_updated'\n",
    "file_names = os.listdir(path)#[:-1]\n",
    "\n",
    "\n",
    "# Merge lists\n",
    "model_results_all_coupled = []\n",
    "for file_name in file_names:\n",
    "    with open(f'{path}/{file_name}', 'rb') as pickle_in:\n",
    "        cur_res = pickle.load(pickle_in)\n",
    "    model_results_all_coupled.extend(cur_res)\n",
    "    \n",
    "# Get Results list \n",
    "model_results_list_coupled = [res['model_results'] for res in model_results_all_coupled]\n",
    "\n",
    "# Get likelihood list by season\n",
    "likelihood_lists = {season: [] for season in model.seasons}\n",
    "for res in model_results_all_coupled:\n",
    "    for season, likelihood in res['likelihood_by_season'].items():\n",
    "        likelihood_lists[season].append(likelihood)\n",
    "        \n",
    "# Get median realization\n",
    "meds_coupled = {season: np.argsort(np.array(likelihood_lists[season]))[len(likelihood_lists[season])//2]\n",
    "                for season in model.seasons}\n",
    "median_model_results_coupled = {season: model_results_list_coupled[meds_coupled[season]][s]\n",
    "                                for s, season in enumerate(model.seasons)}"
   ]
  },
  {
   "cell_type": "code",
   "execution_count": 32,
   "metadata": {},
   "outputs": [
    {
     "data": {
      "text/plain": [
       "[24577.216317505354,\n",
       " 5679.828209233844,\n",
       " 19887.821383009505,\n",
       " 13633.336895309827,\n",
       " 12783.182267431304,\n",
       " 22890.25836154576,\n",
       " 10927.574317919176]"
      ]
     },
     "execution_count": 32,
     "metadata": {},
     "output_type": "execute_result"
    }
   ],
   "source": [
    "[likelihood_lists[s][meds_coupled[s]] for s in model.seasons]"
   ]
  },
  {
   "cell_type": "code",
   "execution_count": 33,
   "metadata": {},
   "outputs": [
    {
     "data": {
      "text/plain": [
       "200"
      ]
     },
     "execution_count": 33,
     "metadata": {},
     "output_type": "execute_result"
    }
   ],
   "source": [
    "len(model_results_list_coupled)"
   ]
  },
  {
   "cell_type": "code",
   "execution_count": null,
   "metadata": {},
   "outputs": [],
   "source": [
    "{2011: 25680.30347994885,\n",
    " 2012: 6802.081990843844,\n",
    " 2013: 20692.573126474173,\n",
    " 2014: 14330.364836244316,\n",
    " 2015: 13368.259347393756,\n",
    " 2016: 23606.825638159233,\n",
    " 2017: 11182.21193947767}"
   ]
  },
  {
   "cell_type": "code",
   "execution_count": null,
   "metadata": {},
   "outputs": [],
   "source": [
    "# new\n",
    "{2011: 25676.17355680652,\n",
    " 2012: 6645.295124895659,\n",
    " 2013: 20785.260055026094,\n",
    " 2014: 14235.311724006167,\n",
    " 2015: 13516.775762137417,\n",
    " 2016: 23685.01692769133,\n",
    " 2017: 11355.742885831502}"
   ]
  },
  {
   "cell_type": "markdown",
   "metadata": {},
   "source": [
    "#### Correlation fit (not weighted)"
   ]
  },
  {
   "cell_type": "code",
   "execution_count": 34,
   "metadata": {},
   "outputs": [],
   "source": [
    "corr_agg = [model.calc_correlation_fit_flu(median_model_results_coupled[season], data_for_fit_i, prep_data, season)\n",
    "            for season in model.seasons]\n",
    "\n",
    "corr_subdist = [model.calc_correlation_fit_flu(median_model_results_coupled[season], data_for_fit_i, prep_data, season, by_subdist=True)\n",
    "                for season in model.seasons]\n",
    "\n",
    "corr_subdist_age = [model.calc_correlation_fit_flu(median_model_results_coupled[season], data_for_fit_i, prep_data, season, by_subdist_age=True)\n",
    "                    for season in model.seasons]"
   ]
  },
  {
   "cell_type": "code",
   "execution_count": 35,
   "metadata": {},
   "outputs": [
    {
     "name": "stdout",
     "output_type": "stream",
     "text": [
      "correlation fit aggregated: 0.47\n",
      "correlation fit by subdist: 0.40\n",
      "correlation fit by subdist and age: 0.37\n"
     ]
    }
   ],
   "source": [
    "print(f'correlation fit aggregated: {np.array(corr_agg).mean():.2f}')\n",
    "print(f'correlation fit by subdist: {np.array(corr_subdist).mean():.2f}')\n",
    "print(f'correlation fit by subdist and age: {np.array(corr_subdist_age).mean():.2f}')"
   ]
  },
  {
   "cell_type": "markdown",
   "metadata": {},
   "source": [
    "#### Correlation fit weighted"
   ]
  },
  {
   "cell_type": "code",
   "execution_count": 36,
   "metadata": {},
   "outputs": [],
   "source": [
    "corr_agg_w = [model.calc_correlation_fit_flu(median_model_results_coupled[season], data_for_fit_i, prep_data, season, weighted=True)\n",
    "              for season in model.seasons]\n",
    "\n",
    "corr_subdist_w = [model.calc_correlation_fit_flu(median_model_results_coupled[season], data_for_fit_i, prep_data, season, by_subdist=True, weighted=True)\n",
    "                  for season in model.seasons]\n",
    "\n",
    "corr_subdist_age_w = [model.calc_correlation_fit_flu(median_model_results_coupled[season], data_for_fit_i, prep_data, season, by_subdist_age=True, weighted=True)\n",
    "                      for season in model.seasons]"
   ]
  },
  {
   "cell_type": "code",
   "execution_count": 37,
   "metadata": {},
   "outputs": [
    {
     "name": "stdout",
     "output_type": "stream",
     "text": [
      "correlation fit aggregated: 0.47\n",
      "correlation fit by subdist: 0.41\n",
      "correlation fit by subdist and age: 0.38\n"
     ]
    }
   ],
   "source": [
    "print(f'correlation fit aggregated: {np.array(corr_agg_w).mean():.2f}')\n",
    "print(f'correlation fit by subdist: {np.array(corr_subdist_w).mean():.2f}')\n",
    "print(f'correlation fit by subdist and age: {np.array(corr_subdist_age_w)[1:].mean():.2f}')"
   ]
  },
  {
   "cell_type": "markdown",
   "metadata": {},
   "source": [
    "#### Correlation fit weighted smoothed"
   ]
  },
  {
   "cell_type": "code",
   "execution_count": 38,
   "metadata": {},
   "outputs": [],
   "source": [
    "window = 4\n",
    "\n",
    "corr_agg_ws = [model.calc_correlation_fit_flu(median_model_results_coupled[season], data_for_fit_i, prep_data, season, weighted=True, smooth=True, window=window)[0]\n",
    "               for season in model.seasons]\n",
    "\n",
    "corr_subdist_ws = [model.calc_correlation_fit_flu(median_model_results_coupled[season], data_for_fit_i, prep_data, season, by_subdist=True, weighted=True, smooth=True, window=window)[0]\n",
    "                   for season in model.seasons]\n",
    "\n",
    "corr_subdist_age_ws = [model.calc_correlation_fit_flu(median_model_results_coupled[season], data_for_fit_i, prep_data, season, by_subdist_age=True, weighted=True, smooth=True, window=window)[0]\n",
    "                       for season in model.seasons]\n",
    "\n",
    "# p-values\n",
    "corr_agg_ws_p = [model.calc_correlation_fit_flu(median_model_results_coupled[season], data_for_fit_i, prep_data, season, weighted=True, smooth=True, window=window)[1]\n",
    "                 for season in model.seasons]\n",
    "\n",
    "corr_subdist_ws_p = [model.calc_correlation_fit_flu(median_model_results_coupled[season], data_for_fit_i, prep_data, season, by_subdist=True, weighted=True, smooth=True, window=window)[1]\n",
    "                     for season in model.seasons]\n",
    "\n",
    "corr_subdist_age_ws_p = [model.calc_correlation_fit_flu(median_model_results_coupled[season], data_for_fit_i, prep_data, season, by_subdist_age=True, weighted=True, smooth=True, window=window)[1]\n",
    "                         for season in model.seasons]"
   ]
  },
  {
   "cell_type": "code",
   "execution_count": 39,
   "metadata": {},
   "outputs": [
    {
     "name": "stdout",
     "output_type": "stream",
     "text": [
      "correlation fit aggregated: r:0.95, p: 1.1129666046106655e-20\n",
      "correlation fit by subdist: r:0.89, p:8.141195085086505e-08\n",
      "correlation fit by subdist and age: r:0.87, p:1.5130479546940932e-06\n"
     ]
    }
   ],
   "source": [
    "print(f'correlation fit aggregated: r:{np.array(corr_agg_ws).mean():.2f}, p: {np.array(corr_agg_ws_p).mean()}')\n",
    "print(f'correlation fit by subdist: r:{np.array(corr_subdist_ws).mean():.2f}, p:{np.array(corr_subdist_ws_p).mean()}')\n",
    "print(f'correlation fit by subdist and age: r:{np.array(corr_subdist_age_ws)[1:].mean():.2f}, p:{np.array(corr_subdist_age_ws_p).mean()}')"
   ]
  },
  {
   "cell_type": "code",
   "execution_count": 13,
   "metadata": {},
   "outputs": [
    {
     "name": "stdout",
     "output_type": "stream",
     "text": [
      "correlation fit aggregated: r:0.93, p: 1.2252209142816829e-17\n",
      "correlation fit by subdist: r:0.86, p:2.007248785997474e-05\n",
      "correlation fit by subdist and age: r:0.83, p:0.0022957232196945195\n"
     ]
    }
   ],
   "source": [
    "print(f'correlation fit aggregated: r:{np.array(corr_agg_ws).mean():.2f}, p: {np.array(corr_agg_ws_p).mean()}')\n",
    "print(f'correlation fit by subdist: r:{np.array(corr_subdist_ws).mean():.2f}, p:{np.array(corr_subdist_ws_p).mean()}')\n",
    "print(f'correlation fit by subdist and age: r:{np.array(corr_subdist_age_ws)[1:].mean():.2f}, p:{np.array(corr_subdist_age_ws_p).mean()}')"
   ]
  },
  {
   "cell_type": "code",
   "execution_count": 40,
   "metadata": {},
   "outputs": [
    {
     "data": {
      "text/plain": [
       "[0.9435619006530725,\n",
       " 0.8298471251849016,\n",
       " 0.8896753510853048,\n",
       " 0.8707612750912651,\n",
       " 0.8454395321487713,\n",
       " 0.8482506223224988,\n",
       " 0.920433354795908]"
      ]
     },
     "execution_count": 40,
     "metadata": {},
     "output_type": "execute_result"
    }
   ],
   "source": [
    "corr_subdist_age_ws"
   ]
  }
 ],
 "metadata": {
  "kernelspec": {
   "display_name": "Python 3",
   "language": "python",
   "name": "python3"
  },
  "language_info": {
   "codemirror_mode": {
    "name": "ipython",
    "version": 3
   },
   "file_extension": ".py",
   "mimetype": "text/x-python",
   "name": "python",
   "nbconvert_exporter": "python",
   "pygments_lexer": "ipython3",
   "version": "3.7.0"
  }
 },
 "nbformat": 4,
 "nbformat_minor": 2
}
