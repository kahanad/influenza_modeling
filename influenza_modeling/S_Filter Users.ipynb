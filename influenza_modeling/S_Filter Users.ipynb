{
 "cells": [
  {
   "cell_type": "code",
   "execution_count": 1,
   "metadata": {
    "ExecuteTime": {
     "end_time": "2018-12-04T13:51:37.517180Z",
     "start_time": "2018-12-04T13:51:34.285174Z"
    }
   },
   "outputs": [],
   "source": [
    "import pandas as pd\n",
    "import numpy as np\n",
    "from matplotlib import pyplot as plt\n",
    "%matplotlib inline"
   ]
  },
  {
   "cell_type": "code",
   "execution_count": 6,
   "metadata": {
    "ExecuteTime": {
     "end_time": "2018-12-04T13:52:39.886779Z",
     "start_time": "2018-12-04T13:52:39.456462Z"
    }
   },
   "outputs": [
    {
     "name": "stdout",
     "output_type": "stream",
     "text": [
      "[56226218465, 93516790565, 85244412565, 49765388465, 49379818465, 72965878465, 17317035565, 15533918465, 80289560865, 38408722765, 2795288465, 26030718465, 79061690565, 30736438156, 44856771865, 61228165565, 94562790565, 10106271865, 26386865565, 78846090565, 10501181865, 31836971865, 16569799765, 96109722765, 86392290565, 82542880565, 12066636565, 96856880565, 53116388465, 74563690565, 97363681565, 79403763665, 27504022565, 53069069865, 64962090565, 44493853665, 57410118465, 94681090565, 46448460865, 18207790565, 82193000865, 75411028465, 98519412565, 65183000865, 77169293765, 8447117465, 68866898365, 79127532765, 12684438156, 98165980565, 92503561865, 21812753665, 63071202565, 83153718465, 20392181865, 92159138465, 44476560865, 3168238465, 54591622865, 59110638156, 2404971865, 28714880565, 84520090565, 46590922765, 49821160865, 39021090565, 64564638156, 91607417465, 52052000865, 23186328465, 91640665565, 97602118465, 39105138465, 72934290565, 2061690565, 15710707185, 56583181865, 74943181865, 91842181865, 42946569865, 50947338465, 25442188465, 87775602565, 26480918465, 59571160865, 20890290565, 11316067925, 1745753665, 19023138465, 34454690565, 43662771865, 24298238465, 52892618465, 96752181865, 73177438156, 13952790565, 50577880565, 65182090565, 55655165565, 61081118465]\n"
     ]
    }
   ],
   "source": [
    "print(list(pd.read_csv('../data/samples/imsi_filtered.csv').imsi[:100].values))"
   ]
  },
  {
   "cell_type": "code",
   "execution_count": 20,
   "metadata": {},
   "outputs": [],
   "source": [
    "imsi_counts = pd.read_csv('../data/samples/imsi_counts.csv')\n",
    "checked_imsi = pd.read_csv('../data/samples/checked_imsi.csv')"
   ]
  },
  {
   "cell_type": "code",
   "execution_count": 18,
   "metadata": {},
   "outputs": [
    {
     "name": "stdout",
     "output_type": "stream",
     "text": [
      "Number of users: 1,799,977\n",
      "Number of records: 16,826,157,036\n"
     ]
    }
   ],
   "source": [
    "print(f'Number of users: {imsi_counts.shape[0]:,d}')\n",
    "print(f'Number of records: {imsi_counts.total_records.sum():,d}')"
   ]
  },
  {
   "cell_type": "code",
   "execution_count": 16,
   "metadata": {},
   "outputs": [],
   "source": [
    "imsi_filtered = imsi_counts[(imsi_counts.days_recorded>=7)&(imsi_counts.total_records>=50)].copy()\n",
    "imsi_filtered = imsi_filtered[imsi_filtered.total_records<=imsi_filtered.total_records.quantile(0.99)]"
   ]
  },
  {
   "cell_type": "code",
   "execution_count": 17,
   "metadata": {},
   "outputs": [
    {
     "name": "stdout",
     "output_type": "stream",
     "text": [
      "Number of users with less then 7 days recorded or less then 50 records: 813,980\n",
      "Number of records removed: 1,922,333,558\n",
      "\n",
      "Number of remaining users: 985,997\n",
      "Number of remaining records: 14,903,823,478\n"
     ]
    }
   ],
   "source": [
    "print('Number of users with less then 7 days recorded or less then 50 records: {:,d}'.format(imsi_counts.shape[0]-imsi_filtered.shape[0]))\n",
    "print('Number of records removed: {:,d}\\n'.format(imsi_counts.total_records.sum()-imsi_filtered.total_records.sum()))\n",
    "\n",
    "print('Number of remaining users: {:,d}'.format(imsi_filtered.total_records.shape[0]))\n",
    "print('Number of remaining records: {:,d}'.format(imsi_filtered.total_records.sum()))"
   ]
  },
  {
   "cell_type": "code",
   "execution_count": 78,
   "metadata": {},
   "outputs": [],
   "source": [
    "imsi_filtered = pd.read_csv('../data/samples/imsi_filtered.csv')"
   ]
  },
  {
   "cell_type": "code",
   "execution_count": 30,
   "metadata": {},
   "outputs": [
    {
     "data": {
      "text/plain": [
       "(0, 100000)"
      ]
     },
     "execution_count": 30,
     "metadata": {},
     "output_type": "execute_result"
    },
    {
     "data": {
      "image/png": "[encoded data removed]",
      "text/plain": [
       "<matplotlib.figure.Figure at 0x23cd7539710>"
      ]
     },
     "metadata": {},
     "output_type": "display_data"
    }
   ],
   "source": [
    "imsi_filtered.total_records.plot.hist(bins=1000)\n",
    "plt.xlim([0,100000])"
   ]
  },
  {
   "cell_type": "code",
   "execution_count": 30,
   "metadata": {},
   "outputs": [],
   "source": [
    "home_data = pd.read_csv('../../Data/new samples/home area/home_area_data_all.csv')\n",
    "home_data.drop('Unnamed: 0', axis=1, inplace=True)"
   ]
  },
  {
   "cell_type": "code",
   "execution_count": 22,
   "metadata": {},
   "outputs": [],
   "source": [
    "home_data2 =  pd.read_csv('../../Data/new samples/home area/home_stat_area_data_sample100M.csv')\n",
    "home_data3 =  pd.read_csv('../../Data/new samples/home area/home_stat_area_data_sample2_100M.csv')\n"
   ]
  },
  {
   "cell_type": "code",
   "execution_count": 38,
   "metadata": {},
   "outputs": [],
   "source": [
    "home_data_all = pd.concat([home_data, home_data2, home_data3])\n",
    "home_data_all.to_csv('../../Data/new samples/home area/home_area_data_all_updated.csv', index=False)"
   ]
  },
  {
   "cell_type": "code",
   "execution_count": 42,
   "metadata": {},
   "outputs": [],
   "source": [
    "home_dataaaa = pd.read_csv('../../Data/new samples/home area/home_area_data_all_updated.csv')"
   ]
  },
  {
   "cell_type": "code",
   "execution_count": 51,
   "metadata": {},
   "outputs": [
    {
     "data": {
      "text/plain": [
       "173394"
      ]
     },
     "execution_count": 51,
     "metadata": {},
     "output_type": "execute_result"
    }
   ],
   "source": [
    "xx = home_dataaaa[home_dataaaa.home_stat_area != 'NotDetermined'].imsi\n",
    "xx.size"
   ]
  },
  {
   "cell_type": "code",
   "execution_count": 53,
   "metadata": {},
   "outputs": [
    {
     "data": {
      "text/plain": [
       "3042554294"
      ]
     },
     "execution_count": 53,
     "metadata": {},
     "output_type": "execute_result"
    }
   ],
   "source": [
    "imsi_counts[imsi_counts.imsi.isin(xx)].total_records.sum()"
   ]
  },
  {
   "cell_type": "code",
   "execution_count": 61,
   "metadata": {},
   "outputs": [],
   "source": [
    "# imsi_filtered.to_csv('./data/imsi_filtered.csv', index=False)"
   ]
  },
  {
   "cell_type": "code",
   "execution_count": null,
   "metadata": {},
   "outputs": [],
   "source": []
  },
  {
   "cell_type": "code",
   "execution_count": 6,
   "metadata": {},
   "outputs": [],
   "source": [
    "imsi_filtered = pd.read_csv('./data/imsi_filtered.csv')"
   ]
  },
  {
   "cell_type": "code",
   "execution_count": 7,
   "metadata": {},
   "outputs": [],
   "source": [
    "loc_data = pd.read_csv('./data/samples/sample_200M.csv')"
   ]
  },
  {
   "cell_type": "code",
   "execution_count": 12,
   "metadata": {},
   "outputs": [],
   "source": [
    "uni_imsi = loc_data.imsi.unique()"
   ]
  },
  {
   "cell_type": "code",
   "execution_count": 14,
   "metadata": {},
   "outputs": [
    {
     "data": {
      "text/plain": [
       "20998"
      ]
     },
     "execution_count": 14,
     "metadata": {},
     "output_type": "execute_result"
    }
   ],
   "source": [
    "uni_imsi.size"
   ]
  },
  {
   "cell_type": "code",
   "execution_count": 23,
   "metadata": {},
   "outputs": [],
   "source": [
    "imsi_filtered = imsi_filtered[~imsi_filtered.imsi.isin(uni_imsi)]"
   ]
  },
  {
   "cell_type": "code",
   "execution_count": 25,
   "metadata": {},
   "outputs": [],
   "source": [
    "# imsi_filtered.to_csv('./data/imsi_filtered.csv', index=False)"
   ]
  },
  {
   "cell_type": "code",
   "execution_count": 37,
   "metadata": {},
   "outputs": [],
   "source": [
    "checked_imsi = imsi_filtered[imsi_filtered.imsi.isin(uni_imsi)].copy()\n",
    "checked_imsi.to_csv('./data/checked_imsi.csv', index=False)"
   ]
  },
  {
   "cell_type": "code",
   "execution_count": 40,
   "metadata": {},
   "outputs": [
    {
     "data": {
      "text/plain": [
       "(985997, 3)"
      ]
     },
     "execution_count": 40,
     "metadata": {},
     "output_type": "execute_result"
    }
   ],
   "source": [
    "imsi_filtered.shape"
   ]
  },
  {
   "cell_type": "code",
   "execution_count": 41,
   "metadata": {},
   "outputs": [
    {
     "data": {
      "text/plain": [
       "(11463, 3)"
      ]
     },
     "execution_count": 41,
     "metadata": {},
     "output_type": "execute_result"
    }
   ],
   "source": [
    "checked_imsi.shape"
   ]
  },
  {
   "cell_type": "code",
   "execution_count": 45,
   "metadata": {},
   "outputs": [
    {
     "data": {
      "text/html": [
       "<div>\n",
       "<style scoped>\n",
       "    .dataframe tbody tr th:only-of-type {\n",
       "        vertical-align: middle;\n",
       "    }\n",
       "\n",
       "    .dataframe tbody tr th {\n",
       "        vertical-align: top;\n",
       "    }\n",
       "\n",
       "    .dataframe thead th {\n",
       "        text-align: right;\n",
       "    }\n",
       "</style>\n",
       "<table border=\"1\" class=\"dataframe\">\n",
       "  <thead>\n",
       "    <tr style=\"text-align: right;\">\n",
       "      <th></th>\n",
       "      <th>imsi</th>\n",
       "      <th>days_recorded</th>\n",
       "      <th>total_records</th>\n",
       "    </tr>\n",
       "  </thead>\n",
       "  <tbody>\n",
       "    <tr>\n",
       "      <th>0</th>\n",
       "      <td>81308790565</td>\n",
       "      <td>15</td>\n",
       "      <td>2215</td>\n",
       "    </tr>\n",
       "    <tr>\n",
       "      <th>158</th>\n",
       "      <td>54603388465</td>\n",
       "      <td>46</td>\n",
       "      <td>1834</td>\n",
       "    </tr>\n",
       "    <tr>\n",
       "      <th>427</th>\n",
       "      <td>49526999765</td>\n",
       "      <td>32</td>\n",
       "      <td>13169</td>\n",
       "    </tr>\n",
       "    <tr>\n",
       "      <th>450</th>\n",
       "      <td>2928898365</td>\n",
       "      <td>10</td>\n",
       "      <td>855</td>\n",
       "    </tr>\n",
       "    <tr>\n",
       "      <th>884</th>\n",
       "      <td>36516690565</td>\n",
       "      <td>34</td>\n",
       "      <td>22719</td>\n",
       "    </tr>\n",
       "    <tr>\n",
       "      <th>1150</th>\n",
       "      <td>88101790565</td>\n",
       "      <td>34</td>\n",
       "      <td>13085</td>\n",
       "    </tr>\n",
       "    <tr>\n",
       "      <th>1155</th>\n",
       "      <td>12817252765</td>\n",
       "      <td>29</td>\n",
       "      <td>3348</td>\n",
       "    </tr>\n",
       "    <tr>\n",
       "      <th>1457</th>\n",
       "      <td>25954790565</td>\n",
       "      <td>47</td>\n",
       "      <td>78734</td>\n",
       "    </tr>\n",
       "    <tr>\n",
       "      <th>1506</th>\n",
       "      <td>53527971865</td>\n",
       "      <td>16</td>\n",
       "      <td>1202</td>\n",
       "    </tr>\n",
       "    <tr>\n",
       "      <th>1513</th>\n",
       "      <td>16417718465</td>\n",
       "      <td>23</td>\n",
       "      <td>824</td>\n",
       "    </tr>\n",
       "    <tr>\n",
       "      <th>1586</th>\n",
       "      <td>18876871865</td>\n",
       "      <td>39</td>\n",
       "      <td>11857</td>\n",
       "    </tr>\n",
       "    <tr>\n",
       "      <th>1624</th>\n",
       "      <td>99538538156</td>\n",
       "      <td>20</td>\n",
       "      <td>707</td>\n",
       "    </tr>\n",
       "    <tr>\n",
       "      <th>1755</th>\n",
       "      <td>84078999765</td>\n",
       "      <td>37</td>\n",
       "      <td>8375</td>\n",
       "    </tr>\n",
       "    <tr>\n",
       "      <th>1798</th>\n",
       "      <td>98052638156</td>\n",
       "      <td>50</td>\n",
       "      <td>52829</td>\n",
       "    </tr>\n",
       "    <tr>\n",
       "      <th>1960</th>\n",
       "      <td>36642138465</td>\n",
       "      <td>28</td>\n",
       "      <td>2075</td>\n",
       "    </tr>\n",
       "    <tr>\n",
       "      <th>2021</th>\n",
       "      <td>58639618465</td>\n",
       "      <td>31</td>\n",
       "      <td>1872</td>\n",
       "    </tr>\n",
       "    <tr>\n",
       "      <th>2096</th>\n",
       "      <td>75603028465</td>\n",
       "      <td>48</td>\n",
       "      <td>12885</td>\n",
       "    </tr>\n",
       "    <tr>\n",
       "      <th>2103</th>\n",
       "      <td>79828018465</td>\n",
       "      <td>58</td>\n",
       "      <td>20534</td>\n",
       "    </tr>\n",
       "    <tr>\n",
       "      <th>2403</th>\n",
       "      <td>71031518465</td>\n",
       "      <td>14</td>\n",
       "      <td>3008</td>\n",
       "    </tr>\n",
       "    <tr>\n",
       "      <th>2749</th>\n",
       "      <td>17156980565</td>\n",
       "      <td>24</td>\n",
       "      <td>1369</td>\n",
       "    </tr>\n",
       "    <tr>\n",
       "      <th>2852</th>\n",
       "      <td>60723753665</td>\n",
       "      <td>8</td>\n",
       "      <td>2003</td>\n",
       "    </tr>\n",
       "    <tr>\n",
       "      <th>2962</th>\n",
       "      <td>3696999765</td>\n",
       "      <td>27</td>\n",
       "      <td>12538</td>\n",
       "    </tr>\n",
       "    <tr>\n",
       "      <th>2978</th>\n",
       "      <td>46088980565</td>\n",
       "      <td>51</td>\n",
       "      <td>19061</td>\n",
       "    </tr>\n",
       "    <tr>\n",
       "      <th>3165</th>\n",
       "      <td>26761090565</td>\n",
       "      <td>39</td>\n",
       "      <td>27189</td>\n",
       "    </tr>\n",
       "    <tr>\n",
       "      <th>3173</th>\n",
       "      <td>96356560865</td>\n",
       "      <td>44</td>\n",
       "      <td>5199</td>\n",
       "    </tr>\n",
       "    <tr>\n",
       "      <th>3378</th>\n",
       "      <td>88308361865</td>\n",
       "      <td>26</td>\n",
       "      <td>927</td>\n",
       "    </tr>\n",
       "    <tr>\n",
       "      <th>3418</th>\n",
       "      <td>56714238156</td>\n",
       "      <td>41</td>\n",
       "      <td>3814</td>\n",
       "    </tr>\n",
       "    <tr>\n",
       "      <th>3545</th>\n",
       "      <td>35243090565</td>\n",
       "      <td>31</td>\n",
       "      <td>7875</td>\n",
       "    </tr>\n",
       "    <tr>\n",
       "      <th>3644</th>\n",
       "      <td>9566412565</td>\n",
       "      <td>36</td>\n",
       "      <td>924</td>\n",
       "    </tr>\n",
       "    <tr>\n",
       "      <th>4095</th>\n",
       "      <td>76739912565</td>\n",
       "      <td>54</td>\n",
       "      <td>29825</td>\n",
       "    </tr>\n",
       "    <tr>\n",
       "      <th>...</th>\n",
       "      <td>...</td>\n",
       "      <td>...</td>\n",
       "      <td>...</td>\n",
       "    </tr>\n",
       "    <tr>\n",
       "      <th>1794912</th>\n",
       "      <td>91522753665</td>\n",
       "      <td>13</td>\n",
       "      <td>15220</td>\n",
       "    </tr>\n",
       "    <tr>\n",
       "      <th>1795029</th>\n",
       "      <td>89884638156</td>\n",
       "      <td>45</td>\n",
       "      <td>10210</td>\n",
       "    </tr>\n",
       "    <tr>\n",
       "      <th>1795431</th>\n",
       "      <td>97611081865</td>\n",
       "      <td>7</td>\n",
       "      <td>315</td>\n",
       "    </tr>\n",
       "    <tr>\n",
       "      <th>1795512</th>\n",
       "      <td>64938160865</td>\n",
       "      <td>15</td>\n",
       "      <td>1638</td>\n",
       "    </tr>\n",
       "    <tr>\n",
       "      <th>1795517</th>\n",
       "      <td>37226880565</td>\n",
       "      <td>43</td>\n",
       "      <td>24727</td>\n",
       "    </tr>\n",
       "    <tr>\n",
       "      <th>1795600</th>\n",
       "      <td>52977880565</td>\n",
       "      <td>54</td>\n",
       "      <td>54477</td>\n",
       "    </tr>\n",
       "    <tr>\n",
       "      <th>1796086</th>\n",
       "      <td>98746768365</td>\n",
       "      <td>11</td>\n",
       "      <td>276</td>\n",
       "    </tr>\n",
       "    <tr>\n",
       "      <th>1796107</th>\n",
       "      <td>39337790565</td>\n",
       "      <td>45</td>\n",
       "      <td>30998</td>\n",
       "    </tr>\n",
       "    <tr>\n",
       "      <th>1796320</th>\n",
       "      <td>31624028465</td>\n",
       "      <td>46</td>\n",
       "      <td>23856</td>\n",
       "    </tr>\n",
       "    <tr>\n",
       "      <th>1796419</th>\n",
       "      <td>1304363665</td>\n",
       "      <td>56</td>\n",
       "      <td>16721</td>\n",
       "    </tr>\n",
       "    <tr>\n",
       "      <th>1796570</th>\n",
       "      <td>95712890565</td>\n",
       "      <td>46</td>\n",
       "      <td>45773</td>\n",
       "    </tr>\n",
       "    <tr>\n",
       "      <th>1796741</th>\n",
       "      <td>78227538156</td>\n",
       "      <td>51</td>\n",
       "      <td>3960</td>\n",
       "    </tr>\n",
       "    <tr>\n",
       "      <th>1796872</th>\n",
       "      <td>56724753665</td>\n",
       "      <td>15</td>\n",
       "      <td>1234</td>\n",
       "    </tr>\n",
       "    <tr>\n",
       "      <th>1797423</th>\n",
       "      <td>31869818465</td>\n",
       "      <td>18</td>\n",
       "      <td>8267</td>\n",
       "    </tr>\n",
       "    <tr>\n",
       "      <th>1797609</th>\n",
       "      <td>35169653665</td>\n",
       "      <td>50</td>\n",
       "      <td>58567</td>\n",
       "    </tr>\n",
       "    <tr>\n",
       "      <th>1797831</th>\n",
       "      <td>70034671865</td>\n",
       "      <td>18</td>\n",
       "      <td>1476</td>\n",
       "    </tr>\n",
       "    <tr>\n",
       "      <th>1798270</th>\n",
       "      <td>89163638156</td>\n",
       "      <td>38</td>\n",
       "      <td>13478</td>\n",
       "    </tr>\n",
       "    <tr>\n",
       "      <th>1798358</th>\n",
       "      <td>56786618465</td>\n",
       "      <td>47</td>\n",
       "      <td>4106</td>\n",
       "    </tr>\n",
       "    <tr>\n",
       "      <th>1798395</th>\n",
       "      <td>1104563665</td>\n",
       "      <td>50</td>\n",
       "      <td>27449</td>\n",
       "    </tr>\n",
       "    <tr>\n",
       "      <th>1798417</th>\n",
       "      <td>74866198245</td>\n",
       "      <td>7</td>\n",
       "      <td>536</td>\n",
       "    </tr>\n",
       "    <tr>\n",
       "      <th>1798511</th>\n",
       "      <td>25490618465</td>\n",
       "      <td>26</td>\n",
       "      <td>5405</td>\n",
       "    </tr>\n",
       "    <tr>\n",
       "      <th>1798565</th>\n",
       "      <td>59771763665</td>\n",
       "      <td>22</td>\n",
       "      <td>34151</td>\n",
       "    </tr>\n",
       "    <tr>\n",
       "      <th>1798706</th>\n",
       "      <td>36185042865</td>\n",
       "      <td>44</td>\n",
       "      <td>2230</td>\n",
       "    </tr>\n",
       "    <tr>\n",
       "      <th>1798766</th>\n",
       "      <td>95391551565</td>\n",
       "      <td>33</td>\n",
       "      <td>19233</td>\n",
       "    </tr>\n",
       "    <tr>\n",
       "      <th>1799059</th>\n",
       "      <td>29199238465</td>\n",
       "      <td>11</td>\n",
       "      <td>633</td>\n",
       "    </tr>\n",
       "    <tr>\n",
       "      <th>1799060</th>\n",
       "      <td>463618465</td>\n",
       "      <td>45</td>\n",
       "      <td>25328</td>\n",
       "    </tr>\n",
       "    <tr>\n",
       "      <th>1799150</th>\n",
       "      <td>21493088465</td>\n",
       "      <td>50</td>\n",
       "      <td>5826</td>\n",
       "    </tr>\n",
       "    <tr>\n",
       "      <th>1799464</th>\n",
       "      <td>59372971865</td>\n",
       "      <td>43</td>\n",
       "      <td>1604</td>\n",
       "    </tr>\n",
       "    <tr>\n",
       "      <th>1799702</th>\n",
       "      <td>14891438156</td>\n",
       "      <td>8</td>\n",
       "      <td>1960</td>\n",
       "    </tr>\n",
       "    <tr>\n",
       "      <th>1799912</th>\n",
       "      <td>10958060865</td>\n",
       "      <td>32</td>\n",
       "      <td>2960</td>\n",
       "    </tr>\n",
       "  </tbody>\n",
       "</table>\n",
       "<p>22926 rows × 3 columns</p>\n",
       "</div>"
      ],
      "text/plain": [
       "                imsi  days_recorded  total_records\n",
       "0        81308790565             15           2215\n",
       "158      54603388465             46           1834\n",
       "427      49526999765             32          13169\n",
       "450       2928898365             10            855\n",
       "884      36516690565             34          22719\n",
       "1150     88101790565             34          13085\n",
       "1155     12817252765             29           3348\n",
       "1457     25954790565             47          78734\n",
       "1506     53527971865             16           1202\n",
       "1513     16417718465             23            824\n",
       "1586     18876871865             39          11857\n",
       "1624     99538538156             20            707\n",
       "1755     84078999765             37           8375\n",
       "1798     98052638156             50          52829\n",
       "1960     36642138465             28           2075\n",
       "2021     58639618465             31           1872\n",
       "2096     75603028465             48          12885\n",
       "2103     79828018465             58          20534\n",
       "2403     71031518465             14           3008\n",
       "2749     17156980565             24           1369\n",
       "2852     60723753665              8           2003\n",
       "2962      3696999765             27          12538\n",
       "2978     46088980565             51          19061\n",
       "3165     26761090565             39          27189\n",
       "3173     96356560865             44           5199\n",
       "3378     88308361865             26            927\n",
       "3418     56714238156             41           3814\n",
       "3545     35243090565             31           7875\n",
       "3644      9566412565             36            924\n",
       "4095     76739912565             54          29825\n",
       "...              ...            ...            ...\n",
       "1794912  91522753665             13          15220\n",
       "1795029  89884638156             45          10210\n",
       "1795431  97611081865              7            315\n",
       "1795512  64938160865             15           1638\n",
       "1795517  37226880565             43          24727\n",
       "1795600  52977880565             54          54477\n",
       "1796086  98746768365             11            276\n",
       "1796107  39337790565             45          30998\n",
       "1796320  31624028465             46          23856\n",
       "1796419   1304363665             56          16721\n",
       "1796570  95712890565             46          45773\n",
       "1796741  78227538156             51           3960\n",
       "1796872  56724753665             15           1234\n",
       "1797423  31869818465             18           8267\n",
       "1797609  35169653665             50          58567\n",
       "1797831  70034671865             18           1476\n",
       "1798270  89163638156             38          13478\n",
       "1798358  56786618465             47           4106\n",
       "1798395   1104563665             50          27449\n",
       "1798417  74866198245              7            536\n",
       "1798511  25490618465             26           5405\n",
       "1798565  59771763665             22          34151\n",
       "1798706  36185042865             44           2230\n",
       "1798766  95391551565             33          19233\n",
       "1799059  29199238465             11            633\n",
       "1799060    463618465             45          25328\n",
       "1799150  21493088465             50           5826\n",
       "1799464  59372971865             43           1604\n",
       "1799702  14891438156              8           1960\n",
       "1799912  10958060865             32           2960\n",
       "\n",
       "[22926 rows x 3 columns]"
      ]
     },
     "execution_count": 45,
     "metadata": {},
     "output_type": "execute_result"
    }
   ],
   "source": [
    "pd.concat([checked_imsi, checked_imsi])"
   ]
  }
 ],
 "metadata": {
  "kernelspec": {
   "display_name": "python 3",
   "language": "python",
   "name": "python3"
  },
  "language_info": {
   "codemirror_mode": {
    "name": "ipython",
    "version": 3
   },
   "file_extension": ".py",
   "mimetype": "text/x-python",
   "name": "python",
   "nbconvert_exporter": "python",
   "pygments_lexer": "ipython3",
   "version": "3.6.5"
  }
 },
 "nbformat": 4,
 "nbformat_minor": 2
}
