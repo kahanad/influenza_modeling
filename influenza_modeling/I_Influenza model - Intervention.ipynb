{
 "cells": [
  {
   "cell_type": "markdown",
   "metadata": {},
   "source": [
    "# Influenza model - Intervention"
   ]
  },
  {
   "cell_type": "code",
   "execution_count": 1,
   "metadata": {},
   "outputs": [],
   "source": [
    "import numpy as np\n",
    "import pandas as pd\n",
    "from matplotlib import pyplot as plt\n",
    "import model\n",
    "import pickle\n",
    "import itertools\n",
    "import networkx as nx\n",
    "from tqdm import tqdm, tqdm_notebook\n",
    "%matplotlib inline"
   ]
  },
  {
   "cell_type": "markdown",
   "metadata": {},
   "source": [
    "### Prepare data"
   ]
  },
  {
   "cell_type": "code",
   "execution_count": 2,
   "metadata": {},
   "outputs": [],
   "source": [
    "prep_data = model.data_and_network_prep()"
   ]
  },
  {
   "cell_type": "markdown",
   "metadata": {},
   "source": [
    "### Data for fit"
   ]
  },
  {
   "cell_type": "code",
   "execution_count": 3,
   "metadata": {},
   "outputs": [],
   "source": [
    "# Create data for the fit\n",
    "data_for_fit = model.create_data_for_fit_influenza()"
   ]
  },
  {
   "cell_type": "markdown",
   "metadata": {},
   "source": [
    "### Load Grid Seasrch Results"
   ]
  },
  {
   "cell_type": "code",
   "execution_count": 4,
   "metadata": {},
   "outputs": [],
   "source": [
    "# 2017\n",
    "with open('L:/Dor/Data/influenza_model/results/grid_search_2017_1_res.pickle', 'rb') as pickle_in:\n",
    "    grid_search_res1 = pickle.load(pickle_in)\n",
    "    \n",
    "with open('L:/Dor/Data/influenza_model/results/grid_search_2017_2_res.pickle', 'rb') as pickle_in:\n",
    "    grid_search_res2 = pickle.load(pickle_in)\n",
    "    \n",
    "with open('L:/Dor/Data/influenza_model/results/grid_search_2017_3_res.pickle', 'rb') as pickle_in:\n",
    "    grid_search_res3 = pickle.load(pickle_in)\n",
    "    \n",
    "grid_search_res = grid_search_res1 + grid_search_res2 + grid_search_res3"
   ]
  },
  {
   "cell_type": "code",
   "execution_count": 5,
   "metadata": {},
   "outputs": [],
   "source": [
    "# # 2016\n",
    "# with open('L:/Dor/Data/influenza_model/results/grid_search_2016_1_res.pickle', 'rb') as pickle_in:\n",
    "#     grid_search_res1 = pickle.load(pickle_in)\n",
    "    \n",
    "# with open('L:/Dor/Data/influenza_model/results/grid_search_2016_2_res.pickle', 'rb') as pickle_in:\n",
    "#     grid_search_res2 = pickle.load(pickle_in)\n",
    "\n",
    "# grid_search_res = grid_search_res1 #+ grid_search_res2"
   ]
  },
  {
   "cell_type": "code",
   "execution_count": 6,
   "metadata": {},
   "outputs": [],
   "source": [
    "# 2016\n",
    "with open('L:/Dor/Data/influenza_model/results/grid_search_2016_1_new_res.pickle', 'rb') as pickle_in:\n",
    "    grid_search_res = pickle.load(pickle_in)"
   ]
  },
  {
   "cell_type": "markdown",
   "metadata": {},
   "source": [
    "#### Get best parametrs according to each likelihood function"
   ]
  },
  {
   "cell_type": "code",
   "execution_count": 7,
   "metadata": {},
   "outputs": [
    {
     "name": "stdout",
     "output_type": "stream",
     "text": [
      "Max likelihood: -6,139\n",
      "{'parameters': {2016: {'beta': 0.0015172649054787906, 'delta': 1, 'phi': -3.7226934580923317, 'epsilon': 1}}, 'log_likelihood': -5861.419218446221, 'log_likelihood_age': 28211.623864536934, 'log_likelihood_subdist': 14254.221664309898}\n",
      "\n",
      "\n",
      "Max likelihood by age: 28,281\n",
      "{'parameters': {2016: {'beta': 0.0015448276398101898, 'delta': 1, 'phi': -3.724241584382226, 'epsilon': 1}}, 'log_likelihood': -6139.711575619711, 'log_likelihood_age': 28281.29512928202, 'log_likelihood_subdist': 14697.936607799087}\n",
      "\n",
      "\n",
      "Max likelihood by subdist: 14,697\n",
      "{'parameters': {2016: {'beta': 0.0015448276398101898, 'delta': 1, 'phi': -3.724241584382226, 'epsilon': 1}}, 'log_likelihood': -6139.711575619711, 'log_likelihood_age': 28281.29512928202, 'log_likelihood_subdist': 14697.936607799087}\n",
      "\n",
      "\n"
     ]
    }
   ],
   "source": [
    "# Max likelihood \n",
    "liklihood = max(grid_search_res, key=lambda x: x['log_likelihood'])\n",
    "\n",
    "# Max likelihood age\n",
    "liklihood_age = max(grid_search_res, key=lambda x: x['log_likelihood_age'])\n",
    "\n",
    "# Max likelihood subdist\n",
    "liklihood_subdist = max(grid_search_res, key=lambda x: x['log_likelihood_subdist'])\n",
    "\n",
    "\n",
    "print(f\"Max likelihood: {int(liklihood_age['log_likelihood']):,d}\")\n",
    "print(liklihood)\n",
    "print('\\n')\n",
    "\n",
    "print(f\"Max likelihood by age: {int(liklihood_age['log_likelihood_age']):,d}\")\n",
    "print(liklihood_age)\n",
    "print('\\n')\n",
    "\n",
    "print(f\"Max likelihood by subdist: {int(liklihood_subdist['log_likelihood_subdist']):,d}\")\n",
    "print(liklihood_subdist)\n",
    "print('\\n')"
   ]
  },
  {
   "cell_type": "markdown",
   "metadata": {},
   "source": [
    "# Intervention"
   ]
  },
  {
   "cell_type": "code",
   "execution_count": 8,
   "metadata": {},
   "outputs": [],
   "source": [
    "run_influenza_model = model.run_influenza_model\n",
    "\n",
    "# def infection_rate_intervention_influenza(intervention_nodes, parameters, prep_data, season, num_of_simulations):\n",
    "#     # Run the model num_of_simulations times\n",
    "#     model_results_list = [run_influenza_model(parameters, prep_data, season, intervention_nodes=intervention_nodes)\n",
    "#                           for i in range(num_of_simulations)]\n",
    "\n",
    "#     # Calculate infection rate\n",
    "#     model_res_infection_rate_list = [len(res['Rs'][-1]) / res['N'] for res in model_results_list]\n",
    "\n",
    "#     # Get median realization\n",
    "#     med = np.argsort(np.array(model_res_infection_rate_list))[len(model_res_infection_rate_list) // 2]\n",
    "\n",
    "#     return model_results_list[med], model_res_infection_rate_list[med]\n",
    "\n",
    "def infection_rate_intervention_influenza(intervention_nodes, parameters, prep_data, data_for_fit, season, num_of_simulations):\n",
    "    # Initialize lists fo infection rate and effoective vaccination coverage\n",
    "    model_res_infection_rate_list = []\n",
    "    effective_vacc_coverage_list = []\n",
    "    \n",
    "    for i in range(num_of_simulations):\n",
    "        # Run the model\n",
    "        model_res = run_influenza_model(parameters, prep_data, season, intervention_nodes=intervention_nodes)\n",
    "\n",
    "        # Calculate infection rate and add to the list\n",
    "        model_res_infection_rate = model.get_infection_rate_by_age(model_res, data_for_fit, prep_data, season).model\n",
    "        model_res_infection_rate_list.append(model_res_infection_rate)\n",
    "        \n",
    "        # Calculate effective vaccination coverage and add to the list\n",
    "        effective_vacc_coverage = len(model_res['V_0'] - model_res['R'][0])/model_res['N']\n",
    "        effective_vacc_coverage_list.append(effective_vacc_coverage)\n",
    "\n",
    "    # Get median realization (by total infection rate)\n",
    "    total_infection_rates = list(map(lambda x: x['total'], model_res_infection_rate_list))\n",
    "    med = np.argsort(np.array(total_infection_rates))[len(total_infection_rates) // 2]\n",
    "\n",
    "    # Return median realization's infection rate and effctive vaccination coverage\n",
    "    return model_res_infection_rate_list[med], effective_vacc_coverage_list[med]"
   ]
  },
  {
   "cell_type": "code",
   "execution_count": 9,
   "metadata": {},
   "outputs": [],
   "source": [
    "# Number of simulations\n",
    "m = 10\n",
    "\n",
    "season = 2016\n",
    "intervention_percent = 0.15\n",
    "intervention_size = int(round(prep_data['network'].number_of_nodes()*intervention_percent))\n",
    "\n",
    "# parametes = liklihood['parameters']\n",
    "# parameters = liklihood_age['parameters']\n",
    "parameters = liklihood_subdist['parameters']"
   ]
  },
  {
   "cell_type": "markdown",
   "metadata": {},
   "source": [
    "### No intervention"
   ]
  },
  {
   "cell_type": "code",
   "execution_count": 10,
   "metadata": {},
   "outputs": [],
   "source": [
    "infect_rate_no_inter, base_vacc_cover = infection_rate_intervention_influenza(set(), parameters, prep_data, data_for_fit,\n",
    "                                                                               season=season, num_of_simulations=m)"
   ]
  },
  {
   "cell_type": "code",
   "execution_count": 11,
   "metadata": {},
   "outputs": [
    {
     "name": "stdout",
     "output_type": "stream",
     "text": [
      "Effective vaccination coverage: 5.44%\n",
      "Total infection rate: 8.194%\n"
     ]
    }
   ],
   "source": [
    "print(f'Effective vaccination coverage: {base_vacc_cover*100:.2f}%')\n",
    "print(f'Total infection rate: {infect_rate_no_inter[\"total\"]*100:.3f}%')"
   ]
  },
  {
   "cell_type": "code",
   "execution_count": 12,
   "metadata": {},
   "outputs": [],
   "source": [
    "# model.plot_aggregated_fit_influenza(results_no_inter, data_for_fit, season=season)"
   ]
  },
  {
   "cell_type": "markdown",
   "metadata": {},
   "source": [
    "### Random intervention"
   ]
  },
  {
   "cell_type": "code",
   "execution_count": 13,
   "metadata": {},
   "outputs": [],
   "source": [
    "random_nodes = set(np.random.choice(list(prep_data['network'].nodes), replace=False, size=intervention_size))\n",
    "infect_rate_random, effective_vacc_cover_random = infection_rate_intervention_influenza(random_nodes, parameters, prep_data, data_for_fit,\n",
    "                                                                                        season=season, num_of_simulations=m)"
   ]
  },
  {
   "cell_type": "code",
   "execution_count": 14,
   "metadata": {},
   "outputs": [
    {
     "name": "stdout",
     "output_type": "stream",
     "text": [
      "Random intervention:\n",
      "Effective vaccination coverage: 9.08%\n",
      "Effective vaccination coverage increase due to intervention: 3.63%\n",
      "Total infection rate: 5.699%\n",
      "Total infection rate decrease: 2.495%\n"
     ]
    }
   ],
   "source": [
    "print('Random intervention:')\n",
    "print(f'Effective vaccination coverage: {effective_vacc_cover_random*100:.2f}%')\n",
    "print(f'Effective vaccination coverage increase due to intervention: {(effective_vacc_cover_random-base_vacc_cover)*100:.2f}%')\n",
    "print(f'Total infection rate: {infect_rate_random[\"total\"]*100:.3f}%')\n",
    "print(f'Total infection rate decrease: {(infect_rate_no_inter[\"total\"]-infect_rate_random[\"total\"])*100:.3f}%')"
   ]
  },
  {
   "cell_type": "code",
   "execution_count": 15,
   "metadata": {},
   "outputs": [],
   "source": [
    "# model.plot_aggregated_fit_influenza(results_random, data_for_fit, season=season)"
   ]
  },
  {
   "cell_type": "markdown",
   "metadata": {},
   "source": [
    "### Centrality-based intervention"
   ]
  },
  {
   "cell_type": "markdown",
   "metadata": {},
   "source": [
    "### Area-based centrality"
   ]
  },
  {
   "cell_type": "markdown",
   "metadata": {},
   "source": [
    "#### Areas PageRank"
   ]
  },
  {
   "cell_type": "code",
   "execution_count": 16,
   "metadata": {},
   "outputs": [],
   "source": [
    "# Load nodes by area and age\n",
    "with open(model.nodes_by_area_age_dict_path, 'rb') as pickle_in:\n",
    "    nodes_by_area_age = pickle.load(pickle_in)"
   ]
  },
  {
   "cell_type": "code",
   "execution_count": 17,
   "metadata": {},
   "outputs": [],
   "source": [
    "# Load page ranks\n",
    "with open(model.pagerank_by_area_age_path, 'rb') as pickle_in:\n",
    "# with open('../../Data/vaccination_data/pagerank_by_area_age_thresh.pickle', 'rb') as pickle_in:\n",
    "# with open('../../Data/vaccination_data/pagerank_by_area_age_net.pickle', 'rb') as pickle_in:\n",
    "    pageranks = pickle.load(pickle_in)\n",
    "    \n",
    "# Sort areas and age groups by page rank (descending)\n",
    "areas_age_by_rank_with_rank = sorted(list(pageranks.items()), key=lambda x: x[1], reverse=True)\n",
    "areas_age_by_rank = list(map(lambda x: x[0], areas_age_by_rank_with_rank))\n",
    "\n",
    "# Load nodes by area and age\n",
    "with open(model.nodes_by_area_age_dict_path, 'rb') as pickle_in:\n",
    "    nodes_by_area_age = pickle.load(pickle_in)\n",
    "    \n",
    "# Fliter irrelevant areas\n",
    "areas_age_by_rank = list(filter(lambda x: x in nodes_by_area_age, areas_age_by_rank))\n",
    "areas_age_by_rank_with_rank = list(filter(lambda x: x[0] in nodes_by_area_age, areas_age_by_rank_with_rank))\n",
    "\n",
    "    \n",
    "# Create a list of nodes by PageRank\n",
    "nodes_by_rank = []\n",
    "for (area, age) in areas_age_by_rank:\n",
    "    nodes_by_rank += list(nodes_by_area_age[(area, age)])\n",
    "    \n",
    "# Get nodes to vaccinate\n",
    "areas_PR_nodes = set(nodes_by_rank[:intervention_size])\n",
    "\n",
    "# Run simulations\n",
    "infect_rate_areas_PR, effective_vacc_cover_areas_PR = infection_rate_intervention_influenza(areas_PR_nodes,\n",
    "                                                                                            parameters, prep_data, data_for_fit,\n",
    "                                                                                            season=season, num_of_simulations=m)"
   ]
  },
  {
   "cell_type": "code",
   "execution_count": 18,
   "metadata": {},
   "outputs": [
    {
     "name": "stdout",
     "output_type": "stream",
     "text": [
      "By areas PageRank:\n",
      "Effective vaccination coverage: 9.14%\n",
      "Effective vaccination coverage increase due to intervention: 3.69%\n",
      "Total infection rate: 6.630%\n",
      "Total infection rate decrease: 1.564%\n"
     ]
    }
   ],
   "source": [
    "print('By areas PageRank:')\n",
    "print(f'Effective vaccination coverage: {effective_vacc_cover_areas_PR*100:.2f}%')\n",
    "print(f'Effective vaccination coverage increase due to intervention: {(effective_vacc_cover_areas_PR-base_vacc_cover)*100:.2f}%')\n",
    "print(f'Total infection rate: {infect_rate_areas_PR[\"total\"]*100:.3f}%')\n",
    "print(f'Total infection rate decrease: {(infect_rate_no_inter[\"total\"]-infect_rate_areas_PR[\"total\"])*100:.3f}%')"
   ]
  },
  {
   "cell_type": "code",
   "execution_count": 19,
   "metadata": {},
   "outputs": [],
   "source": [
    "# model.plot_aggregated_fit_influenza(results_areas_PR, data_for_fit, season=season)"
   ]
  },
  {
   "cell_type": "markdown",
   "metadata": {},
   "source": [
    "#### Subgraphs areas PageRank (by subdist and age)"
   ]
  },
  {
   "cell_type": "code",
   "execution_count": 20,
   "metadata": {},
   "outputs": [],
   "source": [
    "# Load page ranks - for each subdist separately\n",
    "with open('../../Data/vaccination_data/sub_graphs_areas_pageranks.pickle', 'rb') as pickle_in:\n",
    "    sub_graphs_areas_pageranks = pickle.load(pickle_in)\n",
    "\n",
    "    # Load nodes by area and age\n",
    "with open(model.nodes_by_area_age_dict_path, 'rb') as pickle_in:\n",
    "    nodes_by_area_age = pickle.load(pickle_in)\n",
    "    \n",
    "# Caculate population proportion by subdist and age\n",
    "population_by_subdist = prep_data['population_by_clinic_age'].reset_index().groupby(['subdist', 'age']).sum()[['network_population']]\n",
    "population_by_subdist['pop_prop'] = population_by_subdist.network_population / population_by_subdist.network_population.sum()\n",
    "\n",
    "# Initialize a set for the nodes to vaccinate\n",
    "subgraph_area_PR_nodes = set()\n",
    "\n",
    "# Go over subdist and age and choose top nodes by subgraph PageRank\n",
    "for subdist, age in prep_data['relevant_subdists_age']:\n",
    "    # Sort nodes groups by page rank (descending)\n",
    "    areas_by_subgraph_area_PR_with_rank = sorted(list(sub_graphs_areas_pageranks[(subdist, age)].items()), key=lambda x: x[1], reverse=True)\n",
    "    areas_by_areas_subgraph_PR = list(map(lambda x: x[0], areas_by_subgraph_area_PR_with_rank))\n",
    "    # Create a list of nodes by PageRank for current subdist and age\n",
    "    nodes_by_rank = []\n",
    "    for (area, age) in areas_by_areas_subgraph_PR:\n",
    "        nodes_by_rank += list(nodes_by_area_age[(area, age)])\n",
    "    # The number of nodes to vaccionate is according to the population proportion\n",
    "    num_of_nodes = int(population_by_subdist.loc[(subdist, age)].pop_prop * intervention_size)\n",
    "    # Get nodes to vaccinate in current subdist and age\n",
    "    nodes_to_vacc_subdist = set(nodes_by_rank[:num_of_nodes])\n",
    "    # Add to the set of nodes to vaccinate\n",
    "    subgraph_area_PR_nodes = subgraph_area_PR_nodes.union(nodes_to_vacc_subdist)\n",
    "    \n",
    "# Run simulations\n",
    "infect_rate_subgraph_area_PR, effective_vacc_cover_subgraph_area_PR = infection_rate_intervention_influenza(subgraph_area_PR_nodes,\n",
    "                                                                                                            parameters, prep_data,\n",
    "                                                                                                            data_for_fit, season=season,\n",
    "                                                                                                            num_of_simulations=m)"
   ]
  },
  {
   "cell_type": "code",
   "execution_count": 21,
   "metadata": {},
   "outputs": [
    {
     "name": "stdout",
     "output_type": "stream",
     "text": [
      "By nodes subgraph area PageRank:\n",
      "Effective vaccination coverage: 9.16%\n",
      "Effective vaccination coverage increase due to intervention: 3.72%\n",
      "Total infection rate: 7.025%\n",
      "Total infection rate decrease: 1.169%\n"
     ]
    }
   ],
   "source": [
    "print('By nodes subgraph area PageRank:')\n",
    "print(f'Effective vaccination coverage: {effective_vacc_cover_subgraph_area_PR*100:.2f}%')\n",
    "print(f'Effective vaccination coverage increase due to intervention: {(effective_vacc_cover_subgraph_area_PR-base_vacc_cover)*100:.2f}%')\n",
    "print(f'Total infection rate: {infect_rate_subgraph_area_PR[\"total\"]*100:.3f}%')\n",
    "print(f'Total infection rate decrease: {(infect_rate_no_inter[\"total\"]-infect_rate_subgraph_area_PR[\"total\"])*100:.3f}%')"
   ]
  },
  {
   "cell_type": "code",
   "execution_count": 22,
   "metadata": {},
   "outputs": [],
   "source": [
    "# model.plot_aggregated_fit_influenza(results_subgraph_area_PR, data_for_fit, season=season)"
   ]
  },
  {
   "cell_type": "markdown",
   "metadata": {},
   "source": [
    "### Node-based centrality"
   ]
  },
  {
   "cell_type": "markdown",
   "metadata": {},
   "source": [
    "#### Nodes PageRank"
   ]
  },
  {
   "cell_type": "code",
   "execution_count": 23,
   "metadata": {},
   "outputs": [],
   "source": [
    "# Load page ranks\n",
    "with open('../../Data/vaccination_data/pagerank_by_node.pickle', 'rb') as pickle_in:\n",
    "    pageranks_by_node = pickle.load(pickle_in)\n",
    "    \n",
    "# Sortnodes by page rank (descending)\n",
    "nodes_by_rank_with_rank = sorted(list(pageranks_by_node.items()), key=lambda x: x[1], reverse=True)\n",
    "nodes_by_nodes_pagerank = list(map(lambda x: x[0], nodes_by_rank_with_rank))\n",
    "\n",
    "# Get nodes to vaccinate\n",
    "nodes_PR_nodes = set(nodes_by_nodes_pagerank[:intervention_size])\n",
    "\n",
    "# Run simulations\n",
    "infect_rate_nodes_PR, effective_vacc_cover_nodes_PR = infection_rate_intervention_influenza(nodes_PR_nodes, parameters, prep_data,\n",
    "                                                                           data_for_fit, season=season, num_of_simulations=m)"
   ]
  },
  {
   "cell_type": "code",
   "execution_count": 24,
   "metadata": {},
   "outputs": [
    {
     "name": "stdout",
     "output_type": "stream",
     "text": [
      "By nodes PageRank:\n",
      "Effective vaccination coverage: 9.14%\n",
      "Effective vaccination coverage increase due to intervention: 3.70%\n",
      "Total infection rate: 1.153%\n",
      "Total infection rate decrease: 7.042%\n"
     ]
    }
   ],
   "source": [
    "print('By nodes PageRank:')\n",
    "print(f'Effective vaccination coverage: {effective_vacc_cover_nodes_PR*100:.2f}%')\n",
    "print(f'Effective vaccination coverage increase due to intervention: {(effective_vacc_cover_nodes_PR-base_vacc_cover)*100:.2f}%')\n",
    "print(f'Total infection rate: {infect_rate_nodes_PR[\"total\"]*100:.3f}%')\n",
    "print(f'Total infection rate decrease: {(infect_rate_no_inter[\"total\"]-infect_rate_nodes_PR[\"total\"])*100:.3f}%')"
   ]
  },
  {
   "cell_type": "code",
   "execution_count": 25,
   "metadata": {},
   "outputs": [],
   "source": [
    "# model.plot_aggregated_fit_influenza(results_nodes_PR, data_for_fit, season=season)"
   ]
  },
  {
   "cell_type": "markdown",
   "metadata": {},
   "source": [
    "#### Nodes degree"
   ]
  },
  {
   "cell_type": "code",
   "execution_count": 26,
   "metadata": {},
   "outputs": [],
   "source": [
    "# Sort nodes by degree (descending)\n",
    "nodes_by_dgree_with_dgree = sorted(list(dict(prep_data['network'].degree).items()), key=lambda x: x[1], reverse=True)\n",
    "nodes_by_dgree = list(map(lambda x: x[0], nodes_by_dgree_with_dgree))\n",
    "\n",
    "# Get nodes to vaccinate\n",
    "nodes_degree = set(nodes_by_dgree[:intervention_size])\n",
    "\n",
    "# Run simulations\n",
    "infect_rate_nodes_degree, effective_vacc_cover_nodes_degree = infection_rate_intervention_influenza(nodes_degree, parameters, prep_data,\n",
    "                                                                           data_for_fit, season=season, num_of_simulations=m)"
   ]
  },
  {
   "cell_type": "code",
   "execution_count": 27,
   "metadata": {},
   "outputs": [
    {
     "name": "stdout",
     "output_type": "stream",
     "text": [
      "By nodes degree:\n",
      "Effective vaccination coverage: 9.30%\n",
      "Effective vaccination coverage increase due to intervention: 3.85%\n",
      "Total infection rate: 0.997%\n",
      "Total infection rate decrease: 7.198%\n"
     ]
    }
   ],
   "source": [
    "print('By nodes degree:')\n",
    "print(f'Effective vaccination coverage: {effective_vacc_cover_nodes_degree*100:.2f}%')\n",
    "print(f'Effective vaccination coverage increase due to intervention: {(effective_vacc_cover_nodes_degree-base_vacc_cover)*100:.2f}%')\n",
    "print(f'Total infection rate: {infect_rate_nodes_degree[\"total\"]*100:.3f}%')\n",
    "print(f'Total infection rate decrease: {(infect_rate_no_inter[\"total\"]-infect_rate_nodes_degree[\"total\"])*100:.3f}%')"
   ]
  },
  {
   "cell_type": "code",
   "execution_count": 28,
   "metadata": {},
   "outputs": [],
   "source": [
    "# model.plot_aggregated_fit_influenza(results_nodes_degree, data_for_fit, season=season)"
   ]
  },
  {
   "cell_type": "markdown",
   "metadata": {},
   "source": [
    "#### Subgraphs nodes PageRank (by subdist and age)"
   ]
  },
  {
   "cell_type": "code",
   "execution_count": 29,
   "metadata": {},
   "outputs": [],
   "source": [
    "# Load page ranks - for each subdist separately\n",
    "with open('../../Data/vaccination_data/sub_graphs_pageranks.pickle', 'rb') as pickle_in:\n",
    "    sub_graphs_pageranks = pickle.load(pickle_in)\n",
    "\n",
    "# Caculate population proportion by subdist and age\n",
    "population_by_subdist = prep_data['population_by_clinic_age'].reset_index().groupby(['subdist', 'age']).sum()[['network_population']]\n",
    "population_by_subdist['pop_prop'] = population_by_subdist.network_population / population_by_subdist.network_population.sum()\n",
    "\n",
    "# Initialize a set for the nodes to vaccinate\n",
    "subgraph_PR_nodes = set()\n",
    "\n",
    "# Go over subdist and age and choose top nodes by subgraph PageRank\n",
    "for subdist, age in prep_data['relevant_subdists_age']:\n",
    "    # Sort nodes groups by page rank (descending)\n",
    "    nodes_by_subgraph_PR_with_rank = sorted(list(sub_graphs_pageranks[(subdist, age)].items()), key=lambda x: x[1], reverse=True)\n",
    "    nodes_by_nodes_subgraph_PR = list(map(lambda x: x[0], nodes_by_subgraph_PR_with_rank))\n",
    "    # The number of nodes to vaccionate is according to the population proportion\n",
    "    num_of_nodes = int(population_by_subdist.loc[(subdist, age)].pop_prop * intervention_size)\n",
    "    # Get nodes to vaccinate in current subdist and age\n",
    "    nodes_to_vacc_subdist = set(nodes_by_nodes_subgraph_PR[:num_of_nodes])\n",
    "    # Add to the set of nodes to vaccinate\n",
    "    subgraph_PR_nodes = subgraph_PR_nodes.union(nodes_to_vacc_subdist)\n",
    "    \n",
    "# Run simulations\n",
    "infect_rate_subgraph_PR_nodes, effective_vacc_cover_subgraph_PR_nodes = infection_rate_intervention_influenza(subgraph_PR_nodes, parameters, prep_data,\n",
    "                                                                           data_for_fit, season=season, num_of_simulations=m)"
   ]
  },
  {
   "cell_type": "code",
   "execution_count": 30,
   "metadata": {},
   "outputs": [
    {
     "name": "stdout",
     "output_type": "stream",
     "text": [
      "By nodes subgraph PageRank:\n",
      "Effective vaccination coverage: 9.21%\n",
      "Effective vaccination coverage increase due to intervention: 3.76%\n",
      "Total infection rate: 1.477%\n",
      "Total infection rate decrease: 6.717%\n"
     ]
    }
   ],
   "source": [
    "print('By nodes subgraph PageRank:')\n",
    "print(f'Effective vaccination coverage: {effective_vacc_cover_subgraph_PR_nodes*100:.2f}%')\n",
    "print(f'Effective vaccination coverage increase due to intervention: {(effective_vacc_cover_subgraph_PR_nodes-base_vacc_cover)*100:.2f}%')\n",
    "print(f'Total infection rate: {infect_rate_subgraph_PR_nodes[\"total\"]*100:.3f}%')\n",
    "print(f'Total infection rate decrease: {(infect_rate_no_inter[\"total\"]-infect_rate_subgraph_PR_nodes[\"total\"])*100:.3f}%')"
   ]
  },
  {
   "cell_type": "code",
   "execution_count": 31,
   "metadata": {},
   "outputs": [],
   "source": [
    "# model.plot_aggregated_fit_influenza(results_subgraph_PR_nodes, data_for_fit, season=season)"
   ]
  },
  {
   "cell_type": "markdown",
   "metadata": {},
   "source": [
    "## Intervention summary"
   ]
  },
  {
   "cell_type": "code",
   "execution_count": 32,
   "metadata": {},
   "outputs": [],
   "source": [
    "intervention_infection_rates_list = [infect_rate_no_inter, infect_rate_random, infect_rate_areas_PR,\n",
    "                                     infect_rate_subgraph_area_PR, infect_rate_nodes_PR, infect_rate_nodes_degree,\n",
    "                                     infect_rate_subgraph_PR_nodes]\n",
    "\n",
    "intervention_vacc_coverage = [base_vacc_cover, effective_vacc_cover_random, effective_vacc_cover_areas_PR,\n",
    "                              effective_vacc_cover_subgraph_area_PR, effective_vacc_cover_nodes_PR,\n",
    "                              effective_vacc_cover_nodes_degree, effective_vacc_cover_subgraph_PR_nodes]\n",
    "names = ['no intervention', 'random', 'areas\\nPageRank', 'areas subgraph\\nPageRank',\n",
    "         'nodes\\nPageRank', 'nodes degree', 'nodes subgraph\\nPageRank']"
   ]
  },
  {
   "cell_type": "code",
   "execution_count": 33,
   "metadata": {},
   "outputs": [],
   "source": [
    "intervention_infection_rates = pd.DataFrame(index=pd.Index(['children', 'adults', 'total'], name='age'))\n",
    "for i, res in enumerate(intervention_infection_rates_list):\n",
    "    intervention_infection_rates[names[i]] = intervention_infection_rates_list[i]"
   ]
  },
  {
   "cell_type": "code",
   "execution_count": 34,
   "metadata": {},
   "outputs": [
    {
     "data": {
      "image/png": "[encoded data removed]",
      "text/plain": [
       "<Figure size 1080x504 with 1 Axes>"
      ]
     },
     "metadata": {},
     "output_type": "display_data"
    },
    {
     "data": {
      "image/png": "[encoded data removed]",
      "text/plain": [
       "<Figure size 1080x504 with 1 Axes>"
      ]
     },
     "metadata": {},
     "output_type": "display_data"
    },
    {
     "data": {
      "text/html": [
       "<div>\n",
       "<style scoped>\n",
       "    .dataframe tbody tr th:only-of-type {\n",
       "        vertical-align: middle;\n",
       "    }\n",
       "\n",
       "    .dataframe tbody tr th {\n",
       "        vertical-align: top;\n",
       "    }\n",
       "\n",
       "    .dataframe thead th {\n",
       "        text-align: right;\n",
       "    }\n",
       "</style>\n",
       "<table border=\"1\" class=\"dataframe\">\n",
       "  <thead>\n",
       "    <tr style=\"text-align: right;\">\n",
       "      <th></th>\n",
       "      <th>no intervention</th>\n",
       "      <th>random</th>\n",
       "      <th>areas\n",
       "PageRank</th>\n",
       "      <th>areas subgraph\n",
       "PageRank</th>\n",
       "      <th>nodes\n",
       "PageRank</th>\n",
       "      <th>nodes degree</th>\n",
       "      <th>nodes subgraph\n",
       "PageRank</th>\n",
       "    </tr>\n",
       "    <tr>\n",
       "      <th>age</th>\n",
       "      <th></th>\n",
       "      <th></th>\n",
       "      <th></th>\n",
       "      <th></th>\n",
       "      <th></th>\n",
       "      <th></th>\n",
       "      <th></th>\n",
       "    </tr>\n",
       "  </thead>\n",
       "  <tbody>\n",
       "    <tr>\n",
       "      <th>children</th>\n",
       "      <td>0.124638</td>\n",
       "      <td>0.087202</td>\n",
       "      <td>0.096156</td>\n",
       "      <td>0.107797</td>\n",
       "      <td>0.015877</td>\n",
       "      <td>0.012536</td>\n",
       "      <td>0.020044</td>\n",
       "    </tr>\n",
       "    <tr>\n",
       "      <th>adults</th>\n",
       "      <td>0.064132</td>\n",
       "      <td>0.044393</td>\n",
       "      <td>0.053846</td>\n",
       "      <td>0.054593</td>\n",
       "      <td>0.009712</td>\n",
       "      <td>0.008893</td>\n",
       "      <td>0.012571</td>\n",
       "    </tr>\n",
       "    <tr>\n",
       "      <th>total</th>\n",
       "      <td>0.081943</td>\n",
       "      <td>0.056994</td>\n",
       "      <td>0.066300</td>\n",
       "      <td>0.070254</td>\n",
       "      <td>0.011527</td>\n",
       "      <td>0.009965</td>\n",
       "      <td>0.014771</td>\n",
       "    </tr>\n",
       "  </tbody>\n",
       "</table>\n",
       "</div>"
      ],
      "text/plain": [
       "          no intervention    random  areas\\nPageRank  \\\n",
       "age                                                    \n",
       "children         0.124638  0.087202         0.096156   \n",
       "adults           0.064132  0.044393         0.053846   \n",
       "total            0.081943  0.056994         0.066300   \n",
       "\n",
       "          areas subgraph\\nPageRank  nodes\\nPageRank  nodes degree  \\\n",
       "age                                                                 \n",
       "children                  0.107797         0.015877      0.012536   \n",
       "adults                    0.054593         0.009712      0.008893   \n",
       "total                     0.070254         0.011527      0.009965   \n",
       "\n",
       "          nodes subgraph\\nPageRank  \n",
       "age                                 \n",
       "children                  0.020044  \n",
       "adults                    0.012571  \n",
       "total                     0.014771  "
      ]
     },
     "execution_count": 34,
     "metadata": {},
     "output_type": "execute_result"
    }
   ],
   "source": [
    "# Get only total\n",
    "intervention_total_infection_rates = intervention_infection_rates.iloc[2,1:]\n",
    "\n",
    "# Plot\n",
    "intervention_total_infection_rates.T.plot.bar(figsize=(15, 7))\n",
    "plt.title('Total Infection Rate - Intervention', size=20)\n",
    "plt.xlabel('', size=15)\n",
    "plt.ylabel('Infection rate', size=15)\n",
    "plt.xticks(np.arange(6), intervention_total_infection_rates.T.index, rotation='horizontal', size=14)\n",
    "# plt.legend(fontsize=15)\n",
    "\n",
    "# Total infection rate no intervention\n",
    "no_inter_line = plt.hlines(intervention_infection_rates.loc['total', 'no intervention'], -0.5, 6,\n",
    "           linestyle ='dotted', linewidth=3, color='r', label='no intervention')\n",
    "\n",
    "# Calculate average vaccination coverage increase\n",
    "V_increase = (np.array(intervention_vacc_coverage[1:]) - intervention_vacc_coverage[0]).mean()\n",
    "\n",
    "V_increase_line = plt.hlines(intervention_infection_rates.loc['total', 'no intervention'] - V_increase, -0.5, 6,\n",
    "           linestyle ='--', linewidth=3, color='black')\n",
    "\n",
    "plt.ylim([0, intervention_infection_rates.loc['total', 'no intervention']*1.2])\n",
    "\n",
    "plt.legend([no_inter_line, V_increase_line], ['no intervention', 'vaccination coverage increase'], fontsize=15)\n",
    "\n",
    "\n",
    "plt.show()\n",
    "\n",
    "\n",
    "# Plot infection rates by age\n",
    "intervention_infection_rates.T.plot.bar(figsize=(15, 7))\n",
    "plt.title('Infection Rate by Age - Intervention', size=20)\n",
    "plt.xlabel('', size=15)\n",
    "plt.ylabel('Infection rate', size=15)\n",
    "plt.xticks(np.arange(7), intervention_infection_rates.T.index, rotation='horizontal', size=14)\n",
    "plt.legend(fontsize=15)\n",
    "plt.show()\n",
    "\n",
    "intervention_infection_rates"
   ]
  },
  {
   "cell_type": "markdown",
   "metadata": {},
   "source": [
    "#### Marginal contribution"
   ]
  },
  {
   "cell_type": "code",
   "execution_count": 35,
   "metadata": {},
   "outputs": [
    {
     "data": {
      "image/png": "[encoded data removed]",
      "text/plain": [
       "<Figure size 1080x504 with 1 Axes>"
      ]
     },
     "metadata": {},
     "output_type": "display_data"
    }
   ],
   "source": [
    "# Get only total\n",
    "intervention_total_infection_rates_additional = intervention_infection_rates.iloc[2,1:]\n",
    "\n",
    "# Calculate average vaccination coverage increase\n",
    "V_increase = (np.array(intervention_vacc_coverage[1:]) - intervention_vacc_coverage[0]).mean()\n",
    "intervention_total_infection_rates_additional -= intervention_infection_rates.loc['total', 'no intervention'] - V_increase\n",
    "\n",
    "# Plot\n",
    "intervention_total_infection_rates_additional.T.plot.bar(figsize=(15, 7))\n",
    "plt.title('Total Infection Rate - Intervention - Marginal Contribution', size=20)\n",
    "plt.xlabel('', size=15)\n",
    "plt.ylabel('Infection rate', size=15)\n",
    "plt.xticks(np.arange(6), intervention_total_infection_rates_additional.T.index, rotation='horizontal', size=14)\n",
    "\n",
    "# zero_line\n",
    "plt.hlines(0, -0.5, 6, linewidth=1)\n",
    "\n",
    "plt.show()"
   ]
  },
  {
   "cell_type": "code",
   "execution_count": 36,
   "metadata": {},
   "outputs": [
    {
     "data": {
      "text/plain": [
       "random                      0.012302\n",
       "areas\\nPageRank             0.021608\n",
       "areas subgraph\\nPageRank    0.025562\n",
       "nodes\\nPageRank            -0.033165\n",
       "nodes degree               -0.034727\n",
       "nodes subgraph\\nPageRank   -0.029921\n",
       "Name: total, dtype: float64"
      ]
     },
     "execution_count": 36,
     "metadata": {},
     "output_type": "execute_result"
    }
   ],
   "source": [
    "intervention_total_infection_rates_additional"
   ]
  },
  {
   "cell_type": "code",
   "execution_count": null,
   "metadata": {},
   "outputs": [],
   "source": []
  },
  {
   "cell_type": "markdown",
   "metadata": {},
   "source": [
    "#### 2017"
   ]
  },
  {
   "cell_type": "code",
   "execution_count": 37,
   "metadata": {},
   "outputs": [],
   "source": [
    "# intervention_infection_rates_2017 = intervention_infection_rates.copy()"
   ]
  },
  {
   "cell_type": "code",
   "execution_count": 38,
   "metadata": {},
   "outputs": [
    {
     "ename": "NameError",
     "evalue": "name 'intervention_infection_rates_2017' is not defined",
     "output_type": "error",
     "traceback": [
      "\u001b[1;31m---------------------------------------------------------------------------\u001b[0m",
      "\u001b[1;31mNameError\u001b[0m                                 Traceback (most recent call last)",
      "\u001b[1;32m<ipython-input-38-1c478b67c038>\u001b[0m in \u001b[0;36m<module>\u001b[1;34m()\u001b[0m\n\u001b[1;32m----> 1\u001b[1;33m \u001b[0mintervention_total_infection_rates\u001b[0m \u001b[1;33m=\u001b[0m \u001b[0mintervention_infection_rates_2017\u001b[0m\u001b[1;33m.\u001b[0m\u001b[0miloc\u001b[0m\u001b[1;33m[\u001b[0m\u001b[1;36m2\u001b[0m\u001b[1;33m,\u001b[0m\u001b[1;36m1\u001b[0m\u001b[1;33m:\u001b[0m\u001b[1;33m]\u001b[0m\u001b[1;33m\u001b[0m\u001b[0m\n\u001b[0m\u001b[0;32m      2\u001b[0m \u001b[1;33m\u001b[0m\u001b[0m\n\u001b[0;32m      3\u001b[0m \u001b[1;31m# Plot\u001b[0m\u001b[1;33m\u001b[0m\u001b[1;33m\u001b[0m\u001b[0m\n\u001b[0;32m      4\u001b[0m \u001b[0mintervention_total_infection_rates\u001b[0m\u001b[1;33m.\u001b[0m\u001b[0mT\u001b[0m\u001b[1;33m.\u001b[0m\u001b[0mplot\u001b[0m\u001b[1;33m.\u001b[0m\u001b[0mbar\u001b[0m\u001b[1;33m(\u001b[0m\u001b[0mfigsize\u001b[0m\u001b[1;33m=\u001b[0m\u001b[1;33m(\u001b[0m\u001b[1;36m15\u001b[0m\u001b[1;33m,\u001b[0m \u001b[1;36m7\u001b[0m\u001b[1;33m)\u001b[0m\u001b[1;33m)\u001b[0m\u001b[1;33m\u001b[0m\u001b[0m\n\u001b[0;32m      5\u001b[0m \u001b[0mplt\u001b[0m\u001b[1;33m.\u001b[0m\u001b[0mtitle\u001b[0m\u001b[1;33m(\u001b[0m\u001b[1;34m'Total Infection Rate - Intervention'\u001b[0m\u001b[1;33m,\u001b[0m \u001b[0msize\u001b[0m\u001b[1;33m=\u001b[0m\u001b[1;36m20\u001b[0m\u001b[1;33m)\u001b[0m\u001b[1;33m\u001b[0m\u001b[0m\n",
      "\u001b[1;31mNameError\u001b[0m: name 'intervention_infection_rates_2017' is not defined"
     ]
    }
   ],
   "source": [
    "intervention_total_infection_rates = intervention_infection_rates_2017.iloc[2,1:]\n",
    "\n",
    "# Plot\n",
    "intervention_total_infection_rates.T.plot.bar(figsize=(15, 7))\n",
    "plt.title('Total Infection Rate - Intervention', size=20)\n",
    "plt.xlabel('', size=15)\n",
    "plt.ylabel('Infection rate', size=15)\n",
    "plt.xticks(np.arange(7), xx.T.index, rotation='horizontal', size=14)\n",
    "# plt.legend(fontsize=15)\n",
    "\n",
    "# Total infection rate no intervention\n",
    "no_inter_line = plt.hlines(intervention_infection_rates_2017.loc['total', 'no intervention'], -0.5, 6,\n",
    "           linestyle ='dotted', linewidth=3, color='r', label='no intervention')\n",
    "\n",
    "# V increase\n",
    "V_increase_list = []\n",
    "for res in results[1:]:\n",
    "    V_increase_list.append(len(res['V_0'] - res['R'][0]) - len(results_no_inter['V_0'] - results_no_inter['R'][0]))\n",
    "V_increase = (np.array(aa) / results_no_inter['N']).mean()\n",
    "\n",
    "V_increase_line = plt.hlines(intervention_infection_rates_2017.loc['total', 'no intervention'] - V_increase, -0.5, 6,\n",
    "           linestyle ='--', linewidth=3, color='black')\n",
    "\n",
    "plt.ylim([0, intervention_infection_rates_2017.loc['total', 'no intervention']*1.2])\n",
    "\n",
    "plt.legend([no_inter_line, V_increase_line], ['no intervention', 'vaccination coverage increase'], fontsize=15)\n",
    "\n",
    "\n",
    "plt.show()\n",
    "\n",
    "\n",
    "# Plot\n",
    "intervention_infection_rates_2017.T.plot.bar(figsize=(15, 7))\n",
    "plt.title('Infection Rate by Age - Intervention', size=20)\n",
    "plt.xlabel('', size=15)\n",
    "plt.ylabel('Infection rate', size=15)\n",
    "plt.xticks(np.arange(7), intervention_infection_rates_2017.T.index, rotation='horizontal', size=14)\n",
    "plt.legend(fontsize=15)\n",
    "plt.show()\n",
    "\n",
    "intervention_infection_rates"
   ]
  },
  {
   "cell_type": "markdown",
   "metadata": {},
   "source": [
    "# OLD"
   ]
  },
  {
   "cell_type": "code",
   "execution_count": null,
   "metadata": {},
   "outputs": [],
   "source": []
  }
 ],
 "metadata": {
  "kernelspec": {
   "display_name": "Python 3",
   "language": "python",
   "name": "python3"
  },
  "language_info": {
   "codemirror_mode": {
    "name": "ipython",
    "version": 3
   },
   "file_extension": ".py",
   "mimetype": "text/x-python",
   "name": "python",
   "nbconvert_exporter": "python",
   "pygments_lexer": "ipython3",
   "version": "3.6.5"
  }
 },
 "nbformat": 4,
 "nbformat_minor": 2
}
