{
 "cells": [
  {
   "cell_type": "markdown",
   "metadata": {},
   "source": [
    "# Correlation Fit"
   ]
  },
  {
   "cell_type": "code",
   "execution_count": 1,
   "metadata": {},
   "outputs": [],
   "source": [
    "import pandas as pd\n",
    "import numpy as np\n",
    "import pickle\n",
    "import os\n",
    "import model\n",
    "from matplotlib import pyplot as plt\n",
    "%matplotlib inline"
   ]
  },
  {
   "cell_type": "code",
   "execution_count": 2,
   "metadata": {},
   "outputs": [],
   "source": [
    "prep_data = model.data_and_network_prep()"
   ]
  },
  {
   "cell_type": "code",
   "execution_count": 3,
   "metadata": {},
   "outputs": [],
   "source": [
    "data_for_fit_i = model.create_data_for_fit_influenza()\n",
    "data_for_fit_v = model.create_data_for_fit(prep_data)"
   ]
  },
  {
   "cell_type": "markdown",
   "metadata": {},
   "source": [
    "## Vaccination model"
   ]
  },
  {
   "cell_type": "markdown",
   "metadata": {},
   "source": [
    "Load results"
   ]
  },
  {
   "cell_type": "code",
   "execution_count": 4,
   "metadata": {},
   "outputs": [],
   "source": [
    "# Get list of files\n",
    "file_names = os.listdir('L:/Dor/Data/vaccination_model/model_results')\n",
    "\n",
    "# Merge lists\n",
    "model_results_all = []\n",
    "for file_name in file_names:\n",
    "    with open(f'L:/Dor/Data/vaccination_model/model_results/{file_name}', 'rb') as pickle_in:\n",
    "        cur_res = pickle.load(pickle_in)\n",
    "    model_results_all.extend(cur_res)\n",
    "\n",
    "# Get Results and likelihood lists \n",
    "model_results_list = [res['model_results'] for res in model_results_all]\n",
    "model_res_likelihood_list = [res['likelihood'] for res in model_results_all]\n",
    "\n",
    "# Get median realization\n",
    "med = np.argsort(np.array(model_res_likelihood_list))[len(model_res_likelihood_list)//2]\n",
    "median_model_results = model_results_list[med]"
   ]
  },
  {
   "cell_type": "markdown",
   "metadata": {},
   "source": [
    "Load results homogenous"
   ]
  },
  {
   "cell_type": "code",
   "execution_count": 4,
   "metadata": {},
   "outputs": [],
   "source": [
    "# Get list of files\n",
    "file_names = os.listdir('L:/Dor/Data/vaccination_model/model_results_homo/')\n",
    "\n",
    "# Merge lists\n",
    "model_results_all_homo = []\n",
    "for file_name in file_names:\n",
    "    with open(f'L:/Dor/Data/vaccination_model/model_results_homo/{file_name}', 'rb') as pickle_in:\n",
    "        cur_res = pickle.load(pickle_in)\n",
    "    model_results_all_homo.extend(cur_res)\n",
    "\n",
    "# Get Results and likelihood lists \n",
    "model_results_list_homo = [res['model_results'] for res in model_results_all_homo][:100]\n",
    "model_res_likelihood_list_homo = [res['likelihood'] for res in model_results_all_homo][:100]\n",
    "\n",
    "# Get median realization\n",
    "med_homo = np.argsort(np.array(model_res_likelihood_list_homo))[len(model_res_likelihood_list_homo)//2]\n",
    "median_model_results_homo = model_results_list_homo[med_homo]"
   ]
  },
  {
   "cell_type": "code",
   "execution_count": 5,
   "metadata": {},
   "outputs": [
    {
     "data": {
      "text/plain": [
       "92"
      ]
     },
     "execution_count": 5,
     "metadata": {},
     "output_type": "execute_result"
    }
   ],
   "source": [
    "len(model_res_likelihood_list_homo)"
   ]
  },
  {
   "cell_type": "code",
   "execution_count": 18,
   "metadata": {},
   "outputs": [
    {
     "data": {
      "text/plain": [
       "63988.87193888805"
      ]
     },
     "execution_count": 18,
     "metadata": {},
     "output_type": "execute_result"
    }
   ],
   "source": [
    "model_res_likelihood_list[med]"
   ]
  },
  {
   "cell_type": "code",
   "execution_count": 6,
   "metadata": {},
   "outputs": [
    {
     "data": {
      "text/plain": [
       "63932.15428404272"
      ]
     },
     "execution_count": 6,
     "metadata": {},
     "output_type": "execute_result"
    }
   ],
   "source": [
    "model_res_likelihood_list_homo[med_homo]"
   ]
  },
  {
   "cell_type": "markdown",
   "metadata": {},
   "source": [
    "#### Correlation fit (not weighted)"
   ]
  },
  {
   "cell_type": "code",
   "execution_count": 5,
   "metadata": {},
   "outputs": [
    {
     "ename": "TypeError",
     "evalue": "unsupported format string passed to tuple.__format__",
     "output_type": "error",
     "traceback": [
      "\u001b[1;31m---------------------------------------------------------------------------\u001b[0m",
      "\u001b[1;31mTypeError\u001b[0m                                 Traceback (most recent call last)",
      "\u001b[1;32m<ipython-input-5-e57794308512>\u001b[0m in \u001b[0;36m<module>\u001b[1;34m()\u001b[0m\n\u001b[1;32m----> 1\u001b[1;33m \u001b[0mprint\u001b[0m\u001b[1;33m(\u001b[0m\u001b[1;34mf'correlation fit aggregated: {model.calc_correlation_fit_vacc(median_model_results, data_for_fit_v, prep_data):.2f}'\u001b[0m\u001b[1;33m)\u001b[0m\u001b[1;33m\u001b[0m\u001b[0m\n\u001b[0m\u001b[0;32m      2\u001b[0m \u001b[0mprint\u001b[0m\u001b[1;33m(\u001b[0m\u001b[1;34mf'correlation fit by subdist: {model.calc_correlation_fit_vacc(median_model_results, data_for_fit_v, prep_data, by_subdist=True):.2f}'\u001b[0m\u001b[1;33m)\u001b[0m\u001b[1;33m\u001b[0m\u001b[0m\n\u001b[0;32m      3\u001b[0m \u001b[0mprint\u001b[0m\u001b[1;33m(\u001b[0m\u001b[1;34mf'correlation fit by subdist and age: {model.calc_correlation_fit_vacc(median_model_results, data_for_fit_v, prep_data, by_subdist_age=True):.2f}'\u001b[0m\u001b[1;33m)\u001b[0m\u001b[1;33m\u001b[0m\u001b[0m\n",
      "\u001b[1;31mTypeError\u001b[0m: unsupported format string passed to tuple.__format__"
     ]
    }
   ],
   "source": [
    "print(f'correlation fit aggregated: {model.calc_correlation_fit_vacc(median_model_results, data_for_fit_v, prep_data):.2f}')\n",
    "print(f'correlation fit by subdist: {model.calc_correlation_fit_vacc(median_model_results, data_for_fit_v, prep_data, by_subdist=True):.2f}')\n",
    "print(f'correlation fit by subdist and age: {model.calc_correlation_fit_vacc(median_model_results, data_for_fit_v, prep_data, by_subdist_age=True):.2f}')"
   ]
  },
  {
   "cell_type": "markdown",
   "metadata": {},
   "source": [
    "#### Correlation fit weighted"
   ]
  },
  {
   "cell_type": "code",
   "execution_count": 6,
   "metadata": {},
   "outputs": [
    {
     "name": "stdout",
     "output_type": "stream",
     "text": [
      "correlation fit aggregated: 0.95\n",
      "correlation fit by subdist: 0.87\n",
      "correlation fit by subdist and age: 0.85\n"
     ]
    }
   ],
   "source": [
    "print(f'correlation fit aggregated: {model.calc_correlation_fit_vacc(median_model_results, data_for_fit_v, prep_data, weighted=True):.2f}')\n",
    "print(f'correlation fit by subdist: {model.calc_correlation_fit_vacc(median_model_results, data_for_fit_v, prep_data, by_subdist=True, weighted=True):.2f}')\n",
    "print(f'correlation fit by subdist and age: {model.calc_correlation_fit_vacc(median_model_results, data_for_fit_v, prep_data, by_subdist_age=True, weighted=True):.2f}')"
   ]
  },
  {
   "cell_type": "markdown",
   "metadata": {},
   "source": [
    "#### Smoothed weighted"
   ]
  },
  {
   "cell_type": "code",
   "execution_count": 10,
   "metadata": {},
   "outputs": [
    {
     "name": "stdout",
     "output_type": "stream",
     "text": [
      "correlation fit aggregated: r:0.96, p:3.395593273556636e-15\n",
      "correlation fit by subdist: r:0.88, p:0.00032279767488544337\n",
      "correlation fit by subdist and age: r:0.86, p:0.00037117001279150926\n"
     ]
    }
   ],
   "source": [
    "window = 2\n",
    "\n",
    "vacc_agg = model.calc_correlation_fit_vacc(median_model_results, data_for_fit_v, prep_data, weighted=True, smooth=True, window=window)\n",
    "vacc_subdist = model.calc_correlation_fit_vacc(median_model_results, data_for_fit_v, prep_data, by_subdist=True, weighted=True, smooth=True, window=window)\n",
    "vacc_subdist_age = model.calc_correlation_fit_vacc(median_model_results, data_for_fit_v, prep_data, by_subdist_age=True, weighted=True, smooth=True, window=window)\n",
    "print(f'correlation fit aggregated: r:{vacc_agg[0]:.2f}, p:{vacc_agg[1]}')\n",
    "print(f'correlation fit by subdist: r:{vacc_subdist[0]:.2f}, p:{vacc_subdist[1]}')\n",
    "print(f'correlation fit by subdist and age: r:{vacc_subdist_age[0]:.2f}, p:{vacc_subdist_age[1]}')"
   ]
  },
  {
   "cell_type": "markdown",
   "metadata": {},
   "source": [
    "Homogenous model"
   ]
  },
  {
   "cell_type": "code",
   "execution_count": 10,
   "metadata": {},
   "outputs": [
    {
     "name": "stdout",
     "output_type": "stream",
     "text": [
      "correlation fit aggregated: r:0.94, p:3.9604365046065027e-13\n",
      "correlation fit by subdist: r:0.93, p:1.8068421029970448e-11\n",
      "correlation fit by subdist and age: r:0.91, p:4.28535343677451e-08\n"
     ]
    }
   ],
   "source": [
    "window = 2\n",
    "\n",
    "vacc_agg_h = model.calc_correlation_fit_vacc(median_model_results_homo, data_for_fit_v, prep_data, weighted=True, smooth=True, window=window)\n",
    "vacc_subdist_h = model.calc_correlation_fit_vacc(median_model_results_homo, data_for_fit_v, prep_data, by_subdist=True, weighted=True, smooth=True, window=window)\n",
    "vacc_subdist_age_h = model.calc_correlation_fit_vacc(median_model_results_homo, data_for_fit_v, prep_data, by_subdist_age=True, weighted=True, smooth=True, window=window)\n",
    "print(f'correlation fit aggregated: r:{vacc_agg_h[0]:.2f}, p:{vacc_agg_h[1]}')\n",
    "print(f'correlation fit by subdist: r:{vacc_subdist_h[0]:.2f}, p:{vacc_subdist_h[1]}')\n",
    "print(f'correlation fit by subdist and age: r:{vacc_subdist_age_h[0]:.2f}, p:{vacc_subdist_age_h[1]}')"
   ]
  },
  {
   "cell_type": "markdown",
   "metadata": {},
   "source": [
    "## Coupled model"
   ]
  },
  {
   "cell_type": "markdown",
   "metadata": {},
   "source": [
    "Load results"
   ]
  },
  {
   "cell_type": "code",
   "execution_count": 13,
   "metadata": {},
   "outputs": [],
   "source": [
    "# Get list of files\n",
    "# path = 'L:/Dor/Data/coupled_model/model_results'\n",
    "# path = 'L:/Dor/Data/coupled_model/model_results_new'\n",
    "path = 'L:/Dor/Data/coupled_model/model_results_correction'\n",
    "file_names = os.listdir(path)#[:-1]\n",
    "\n",
    "\n",
    "# Merge lists\n",
    "model_results_all_coupled = []\n",
    "for file_name in file_names:\n",
    "    with open(f'{path}/{file_name}', 'rb') as pickle_in:\n",
    "        cur_res = pickle.load(pickle_in)\n",
    "    model_results_all_coupled.extend(cur_res)\n",
    "    \n",
    "# Get Results list \n",
    "model_results_list_coupled = [res['model_results'] for res in model_results_all_coupled]\n",
    "\n",
    "# Get likelihood list by season\n",
    "likelihood_lists = {season: [] for season in model.seasons}\n",
    "for res in model_results_all_coupled:\n",
    "    for season, likelihood in res['likelihood_by_season'].items():\n",
    "        likelihood_lists[season].append(likelihood)\n",
    "        \n",
    "# Get median realization\n",
    "meds_coupled = {season: np.argsort(np.array(likelihood_lists[season]))[len(likelihood_lists[season])//2]\n",
    "                for season in model.seasons}\n",
    "median_model_results_coupled = {season: model_results_list_coupled[meds_coupled[season]][s]\n",
    "                                for s, season in enumerate(model.seasons)}"
   ]
  },
  {
   "cell_type": "markdown",
   "metadata": {},
   "source": [
    "#### Correlation fit (not weighted)"
   ]
  },
  {
   "cell_type": "code",
   "execution_count": 14,
   "metadata": {},
   "outputs": [],
   "source": [
    "corr_agg = [model.calc_correlation_fit_flu(median_model_results_coupled[season], data_for_fit_i, prep_data, season)\n",
    "            for season in model.seasons]\n",
    "\n",
    "corr_subdist = [model.calc_correlation_fit_flu(median_model_results_coupled[season], data_for_fit_i, prep_data, season, by_subdist=True)\n",
    "                for season in model.seasons]\n",
    "\n",
    "corr_subdist_age = [model.calc_correlation_fit_flu(median_model_results_coupled[season], data_for_fit_i, prep_data, season, by_subdist_age=True)\n",
    "                    for season in model.seasons]"
   ]
  },
  {
   "cell_type": "code",
   "execution_count": 15,
   "metadata": {},
   "outputs": [
    {
     "name": "stdout",
     "output_type": "stream",
     "text": [
      "correlation fit aggregated: 0.46\n",
      "correlation fit by subdist: 0.39\n",
      "correlation fit by subdist and age: 0.36\n"
     ]
    }
   ],
   "source": [
    "print(f'correlation fit aggregated: {np.array(corr_agg).mean():.2f}')\n",
    "print(f'correlation fit by subdist: {np.array(corr_subdist).mean():.2f}')\n",
    "print(f'correlation fit by subdist and age: {np.array(corr_subdist_age).mean():.2f}')"
   ]
  },
  {
   "cell_type": "markdown",
   "metadata": {},
   "source": [
    "#### Correlation fit weighted"
   ]
  },
  {
   "cell_type": "code",
   "execution_count": 16,
   "metadata": {},
   "outputs": [],
   "source": [
    "corr_agg_w = [model.calc_correlation_fit_flu(median_model_results_coupled[season], data_for_fit_i, prep_data, season, weighted=True)\n",
    "              for season in model.seasons]\n",
    "\n",
    "corr_subdist_w = [model.calc_correlation_fit_flu(median_model_results_coupled[season], data_for_fit_i, prep_data, season, by_subdist=True, weighted=True)\n",
    "                  for season in model.seasons]\n",
    "\n",
    "corr_subdist_age_w = [model.calc_correlation_fit_flu(median_model_results_coupled[season], data_for_fit_i, prep_data, season, by_subdist_age=True, weighted=True)\n",
    "                      for season in model.seasons]"
   ]
  },
  {
   "cell_type": "code",
   "execution_count": 17,
   "metadata": {},
   "outputs": [
    {
     "name": "stdout",
     "output_type": "stream",
     "text": [
      "correlation fit aggregated: 0.46\n",
      "correlation fit by subdist: 0.41\n",
      "correlation fit by subdist and age: 0.38\n"
     ]
    }
   ],
   "source": [
    "print(f'correlation fit aggregated: {np.array(corr_agg_w).mean():.2f}')\n",
    "print(f'correlation fit by subdist: {np.array(corr_subdist_w).mean():.2f}')\n",
    "print(f'correlation fit by subdist and age: {np.array(corr_subdist_age_w)[1:].mean():.2f}')"
   ]
  },
  {
   "cell_type": "markdown",
   "metadata": {},
   "source": [
    "#### Correlation fit weighted smoothed"
   ]
  },
  {
   "cell_type": "code",
   "execution_count": 18,
   "metadata": {},
   "outputs": [],
   "source": [
    "window = 4\n",
    "\n",
    "corr_agg_ws = [model.calc_correlation_fit_flu(median_model_results_coupled[season], data_for_fit_i, prep_data, season, weighted=True, smooth=True, window=window)[0]\n",
    "               for season in model.seasons]\n",
    "\n",
    "corr_subdist_ws = [model.calc_correlation_fit_flu(median_model_results_coupled[season], data_for_fit_i, prep_data, season, by_subdist=True, weighted=True, smooth=True, window=window)[0]\n",
    "                   for season in model.seasons]\n",
    "\n",
    "corr_subdist_age_ws = [model.calc_correlation_fit_flu(median_model_results_coupled[season], data_for_fit_i, prep_data, season, by_subdist_age=True, weighted=True, smooth=True, window=window)[0]\n",
    "                       for season in model.seasons]\n",
    "\n",
    "# p-values\n",
    "corr_agg_ws_p = [model.calc_correlation_fit_flu(median_model_results_coupled[season], data_for_fit_i, prep_data, season, weighted=True, smooth=True, window=window)[1]\n",
    "                 for season in model.seasons]\n",
    "\n",
    "corr_subdist_ws_p = [model.calc_correlation_fit_flu(median_model_results_coupled[season], data_for_fit_i, prep_data, season, by_subdist=True, weighted=True, smooth=True, window=window)[1]\n",
    "                     for season in model.seasons]\n",
    "\n",
    "corr_subdist_age_ws_p = [model.calc_correlation_fit_flu(median_model_results_coupled[season], data_for_fit_i, prep_data, season, by_subdist_age=True, weighted=True, smooth=True, window=window)[1]\n",
    "                         for season in model.seasons]"
   ]
  },
  {
   "cell_type": "code",
   "execution_count": 19,
   "metadata": {},
   "outputs": [
    {
     "name": "stdout",
     "output_type": "stream",
     "text": [
      "correlation fit aggregated: r:0.95, p: 1.4840924534564043e-17\n",
      "correlation fit by subdist: r:0.89, p:1.8258565173012053e-08\n",
      "correlation fit by subdist and age: r:0.87, p:6.4388325234674e-05\n"
     ]
    }
   ],
   "source": [
    "print(f'correlation fit aggregated: r:{np.array(corr_agg_ws).mean():.2f}, p: {np.array(corr_agg_ws_p).mean()}')\n",
    "print(f'correlation fit by subdist: r:{np.array(corr_subdist_ws).mean():.2f}, p:{np.array(corr_subdist_ws_p).mean()}')\n",
    "print(f'correlation fit by subdist and age: r:{np.array(corr_subdist_age_ws)[1:].mean():.2f}, p:{np.array(corr_subdist_age_ws_p).mean()}')"
   ]
  },
  {
   "cell_type": "code",
   "execution_count": 22,
   "metadata": {},
   "outputs": [
    {
     "data": {
      "text/plain": [
       "[0.9064226587381063,\n",
       " 0.8352750813771467,\n",
       " 0.8968688700975459,\n",
       " 0.8353652783126296,\n",
       " 0.817822647417894,\n",
       " 0.9200988442912686,\n",
       " 0.8855348244134025]"
      ]
     },
     "execution_count": 22,
     "metadata": {},
     "output_type": "execute_result"
    }
   ],
   "source": [
    "corr_subdist_age_ws"
   ]
  },
  {
   "cell_type": "markdown",
   "metadata": {},
   "source": [
    "#### Correlation fit weighted"
   ]
  },
  {
   "cell_type": "code",
   "execution_count": 76,
   "metadata": {},
   "outputs": [],
   "source": [
    "corr_agg_w = [model.calc_correlation_fit_flu(median_model_results_coupled[season], data_for_fit_i, prep_data, season, weighted=True)\n",
    "              for season in model.seasons]\n",
    "\n",
    "corr_subdist_w = [model.calc_correlation_fit_flu(median_model_results_coupled[season], data_for_fit_i, prep_data, season, by_subdist=True, weighted=True)\n",
    "                  for season in model.seasons]\n",
    "\n",
    "corr_subdist_age_w = [model.calc_correlation_fit_flu(median_model_results_coupled[season], data_for_fit_i, prep_data, season, by_subdist_age=True, weighted=True)\n",
    "                      for season in model.seasons]"
   ]
  },
  {
   "cell_type": "code",
   "execution_count": 19,
   "metadata": {},
   "outputs": [
    {
     "name": "stdout",
     "output_type": "stream",
     "text": [
      "correlation fit aggregated: 0.92\n",
      "correlation fit by subdist: 0.82\n",
      "correlation fit by subdist and age: 0.76\n"
     ]
    }
   ],
   "source": [
    "print(f'correlation fit aggregated: {np.array(corr_agg_w).mean():.2f}')\n",
    "print(f'correlation fit by subdist: {np.array(corr_subdist_w).mean():.2f}')\n",
    "print(f'correlation fit by subdist and age: {np.array(corr_subdist_age_w)[1:].mean():.2f}')"
   ]
  },
  {
   "cell_type": "code",
   "execution_count": null,
   "metadata": {},
   "outputs": [],
   "source": []
  },
  {
   "cell_type": "code",
   "execution_count": null,
   "metadata": {},
   "outputs": [],
   "source": []
  },
  {
   "cell_type": "code",
   "execution_count": 21,
   "metadata": {},
   "outputs": [],
   "source": [
    "from scipy.stats import pearsonr"
   ]
  },
  {
   "cell_type": "code",
   "execution_count": 23,
   "metadata": {},
   "outputs": [
    {
     "data": {
      "text/plain": [
       "(0.9819805060619659, 0.1210377183236763)"
      ]
     },
     "execution_count": 23,
     "metadata": {},
     "output_type": "execute_result"
    }
   ],
   "source": [
    "pearsonr([1,2,3],[4,5,7])"
   ]
  },
  {
   "cell_type": "code",
   "execution_count": null,
   "metadata": {},
   "outputs": [],
   "source": []
  },
  {
   "cell_type": "code",
   "execution_count": 31,
   "metadata": {},
   "outputs": [],
   "source": [
    "x, y = calc_correlation_fit_vacc(median_model_results, data_for_fit_v, prep_data, by_subdist_age=True)"
   ]
  },
  {
   "cell_type": "code",
   "execution_count": 62,
   "metadata": {},
   "outputs": [
    {
     "data": {
      "text/plain": [
       "[<matplotlib.lines.Line2D at 0x1e26ea97240>]"
      ]
     },
     "execution_count": 62,
     "metadata": {},
     "output_type": "execute_result"
    },
    {
     "data": {
      "image/png": "[encoded data removed]",
      "text/plain": [
       "<Figure size 432x288 with 1 Axes>"
      ]
     },
     "metadata": {},
     "output_type": "display_data"
    }
   ],
   "source": [
    "plt.plot(x)\n",
    "plt.plot(y)"
   ]
  },
  {
   "cell_type": "markdown",
   "metadata": {},
   "source": [
    "smoothing"
   ]
  },
  {
   "cell_type": "code",
   "execution_count": 92,
   "metadata": {},
   "outputs": [],
   "source": [
    "window = 5"
   ]
  },
  {
   "cell_type": "code",
   "execution_count": 93,
   "metadata": {},
   "outputs": [
    {
     "data": {
      "text/plain": [
       "array([ 0. ,  0.4,  1.2,  1.8,  3.8,  4.2,  7.4,  9.4, 12.4, 15.4, 18.4,\n",
       "       17. , 16. , 14.4, 10. ,  7. ,  5.6,  3.8,  1.8,  1.2,  0.8,  0. ,\n",
       "        0. ,  0.2,  0.2,  0.2,  0.2])"
      ]
     },
     "execution_count": 93,
     "metadata": {},
     "output_type": "execute_result"
    }
   ],
   "source": [
    "xx = pd.DataFrame(np.concatenate([[0]*(window-1),x]))\n",
    "xxx = xx.rolling(window).mean()[0].values[window-1:]\n",
    "xxx"
   ]
  },
  {
   "cell_type": "code",
   "execution_count": 94,
   "metadata": {},
   "outputs": [
    {
     "data": {
      "text/plain": [
       "array([ 0.        ,  0.07951452,  0.4139889 ,  0.73098128,  1.86221452,\n",
       "        3.87025108,  6.56854001,  9.40922373, 12.927701  , 14.86851171,\n",
       "       15.07058646, 14.51416961, 12.64257235,  9.71354168,  7.33298757,\n",
       "        5.86617723,  4.44851831,  4.22876726,  3.86898173,  3.87499875,\n",
       "        3.37842464,  2.91296618,  1.98504651,  1.46499837,  0.8198126 ,\n",
       "        0.63493013,  0.36844399])"
      ]
     },
     "execution_count": 94,
     "metadata": {},
     "output_type": "execute_result"
    }
   ],
   "source": [
    "yy = pd.DataFrame(np.concatenate([[0]*(window-1),y]))\n",
    "yyy = yy.rolling(window).mean()[0].values[window-1:]\n",
    "yyy"
   ]
  },
  {
   "cell_type": "code",
   "execution_count": 95,
   "metadata": {},
   "outputs": [
    {
     "data": {
      "text/plain": [
       "[<matplotlib.lines.Line2D at 0x1e26e2b12e8>]"
      ]
     },
     "execution_count": 95,
     "metadata": {},
     "output_type": "execute_result"
    },
    {
     "data": {
      "image/png": "[encoded data removed]",
      "text/plain": [
       "<Figure size 432x288 with 1 Axes>"
      ]
     },
     "metadata": {},
     "output_type": "display_data"
    }
   ],
   "source": [
    "plt.plot(xxx)\n",
    "plt.plot(yyy)"
   ]
  },
  {
   "cell_type": "code",
   "execution_count": 74,
   "metadata": {},
   "outputs": [
    {
     "data": {
      "text/plain": [
       "0.8729318316309967"
      ]
     },
     "execution_count": 74,
     "metadata": {},
     "output_type": "execute_result"
    }
   ],
   "source": [
    "np.corrcoef(x,y)[0,1]"
   ]
  },
  {
   "cell_type": "code",
   "execution_count": 96,
   "metadata": {},
   "outputs": [
    {
     "data": {
      "text/plain": [
       "0.9629804831893652"
      ]
     },
     "execution_count": 96,
     "metadata": {},
     "output_type": "execute_result"
    }
   ],
   "source": [
    "np.corrcoef(xxx,yyy)[0,1]"
   ]
  },
  {
   "cell_type": "code",
   "execution_count": 100,
   "metadata": {},
   "outputs": [],
   "source": [
    "get_vacc_model_weekly_cases = model.get_vacc_model_weekly_cases\n",
    "\n",
    "def calc_correlation_fit_vacc(model_results, data_for_fit, prep_data, by_subdist=False, by_subdist_age=False, weighted=False, smooth=False, window=None):\n",
    "    # If aggregated correlation fit\n",
    "    if by_subdist_age:\n",
    "        # Get model weekly cases by subdist and age\n",
    "        # Initialize a dict for infected by subdist and age\n",
    "        I_by_subdist_age = {(subdist, age): np.array([0] * 181) for subdist, age in prep_data['relevant_subdists_age']}\n",
    "\n",
    "        # Go over clinic and sum the data to subdist leve\n",
    "        for (clinic, age), data in model_results['infected_by_clinic_age'].items():\n",
    "            subdist = prep_data['clinics_stat_areas'].loc[clinic].subdist\n",
    "            I_by_subdist_age[(subdist, age)] = I_by_subdist_age[(subdist, age)] + data\n",
    "\n",
    "        # Get dates for aggregation\n",
    "        dates = [pd.Timestamp(2016, 9, 1) + pd.Timedelta(i, unit='d') for i in range(181)]\n",
    "\n",
    "        # Go over subdists and age groupsand aggregate weekly\n",
    "        model_weekly_vacc_by_subdist_age = {}\n",
    "        for subdist, age in prep_data['relevant_subdists_age']:\n",
    "            # Create a DF of the cases with the dates as index\n",
    "            model_vacc_df = pd.DataFrame(I_by_subdist_age[(subdist, age)], index=np.array(dates), columns=['vacc_count'])\n",
    "            # Aggregate weekly\n",
    "            model_weekly_vacc = model_vacc_df.resample('W').sum().fillna(0).copy()\n",
    "            # Save to dict\n",
    "            model_weekly_vacc_by_subdist_age[(subdist, age)] = model_weekly_vacc.vacc_count.values\n",
    "\n",
    "        # Go over subdists and age groups and calculate correlation\n",
    "        corrs = {}\n",
    "        for subdist, age in prep_data['relevant_subdists_age']:\n",
    "            # Model weekly vaccination for current subdist and age\n",
    "            model_weekly_vacc = model_weekly_vacc_by_subdist_age[(subdist, age)]\n",
    "\n",
    "            # Data weekly vaccination for current subdsit and age\n",
    "            data_weekly_vacc = data_for_fit['data_for_fit_subdist'][(subdist, age)].vacc_count.values\n",
    "            \n",
    "            # Smooth\n",
    "            if smooth:\n",
    "                # Smooth model\n",
    "                model_weekly_vacc = pd.DataFrame(np.concatenate([[0]*(window-1), model_weekly_vacc]))\n",
    "                model_weekly_vacc = model_weekly_vacc.rolling(window).mean()[0].values[window-1:]\n",
    "                # Smooth data\n",
    "                data_weekly_vacc = pd.DataFrame(np.concatenate([[0]*(window-1), data_weekly_vacc]))\n",
    "                data_weekly_vacc = data_weekly_vacc.rolling(window).mean()[0].values[window-1:]\n",
    "                               \n",
    "            # Calculate correlation for current subdist\n",
    "            corrs[(subdist, age)] = np.corrcoef(data_weekly_vacc, model_weekly_vacc)[0, 1]\n",
    "\n",
    "        # If weighted - return weighted average of correlation fit\n",
    "        if weighted:\n",
    "            # Calculate population proportion by subdist and age\n",
    "            pop_prop_by_subdist = prep_data['population_by_clinic_age'].reset_index().groupby(['subdist', 'age']).sum().prop_network\n",
    "            return sum([pop_prop_by_subdist.loc[key]*corr for key, corr in corrs.items()])\n",
    "\n",
    "        else:  # not weighted\n",
    "            # Return average correlation\n",
    "            return sum(list(corrs.values())) / len(list(corrs.values()))\n",
    "\n",
    "    elif by_subdist:  # correlation fit by subdist\n",
    "        # Get model weekly cases by subdist\n",
    "        # Initialize a dict for infected by subdist\n",
    "        I_by_subdist = {subdist: np.array([0] * 181) for subdist in prep_data['relevant_subdists']}\n",
    "\n",
    "        # Go over clinic and sum the data to subdist leve\n",
    "        for (clinic, age), data in model_results['infected_by_clinic_age'].items():\n",
    "            subdist = prep_data['clinics_stat_areas'].loc[clinic].subdist\n",
    "            I_by_subdist[subdist] = I_by_subdist[subdist] + data\n",
    "\n",
    "        # Get dates for aggregation\n",
    "        dates = [pd.Timestamp(2016, 9, 1) + pd.Timedelta(i, unit='d') for i in range(181)]\n",
    "\n",
    "        # Go over subdist and aggregate weekly\n",
    "        model_weekly_vacc_by_subdist = {}\n",
    "        for subdist in prep_data['relevant_subdists']:\n",
    "            # Create a DF of the cases with the dates as index\n",
    "            model_vacc_df = pd.DataFrame(I_by_subdist[subdist], index=np.array(dates), columns=['vacc_count'])\n",
    "            # Aggregate weekly\n",
    "            model_weekly_vacc = model_vacc_df.resample('W').sum().fillna(0).copy()\n",
    "            # Save to dict\n",
    "            model_weekly_vacc_by_subdist[subdist] = model_weekly_vacc.vacc_count.values\n",
    "\n",
    "        # Go over subdists and calculate correlation\n",
    "        corrs = {}\n",
    "        for subdist in prep_data['relevant_subdists']:\n",
    "            # Model weekly vaccination for current subdist\n",
    "            model_weekly_vacc = model_weekly_vacc_by_subdist[subdist]\n",
    "        \n",
    "            # Data weekly vaccination for current subdsit\n",
    "            data_weekly_vacc = data_for_fit['data_for_fit_subdist'][(subdist, 0)].vacc_count.values +\\\n",
    "                               data_for_fit['data_for_fit_subdist'][(subdist, 1)].vacc_count.values\n",
    "            \n",
    "            # Smooth\n",
    "            if smooth:\n",
    "                # Smooth model\n",
    "                model_weekly_vacc = pd.DataFrame(np.concatenate([[0]*(window-1), model_weekly_vacc]))\n",
    "                model_weekly_vacc = model_weekly_vacc.rolling(window).mean()[0].values[window-1:]\n",
    "                # Smooth data\n",
    "                data_weekly_vacc = pd.DataFrame(np.concatenate([[0]*(window-1), data_weekly_vacc]))\n",
    "                data_weekly_vacc = data_weekly_vacc.rolling(window).mean()[0].values[window-1:]\n",
    "\n",
    "            # Calculate correlation for current subdist\n",
    "            corrs[subdist] = np.corrcoef(data_weekly_vacc, model_weekly_vacc)[0, 1]\n",
    "            \n",
    "        # If weighted - return weighted average of correlation\n",
    "        if weighted:\n",
    "            # Calculate population proportion by subdist and age\n",
    "            pop_prop_by_subdist = prep_data['population_by_clinic_age'].reset_index().groupby(['subdist', 'age']).sum().prop_network\n",
    "            return sum([(pop_prop_by_subdist.loc[(subdist, 0)] + pop_prop_by_subdist.loc[(subdist, 1)]) * corr\n",
    "                       for subdist, corr in corrs.items()])\n",
    "\n",
    "        else:  # not weighted\n",
    "            # Return average correlation\n",
    "            return sum(list(corrs.values())) / len(list(corrs.values()))\n",
    "\n",
    "    # If aggregated correlation fit\n",
    "    else:\n",
    "        # Get model weekly cases\n",
    "        model_weekly_vacc = get_vacc_model_weekly_cases(model_results).vacc_count.values\n",
    "\n",
    "        # Get vaccination data weekly cases\n",
    "        data_weekly_vacc = data_for_fit['infected_data_agg'].vacc_count.values\n",
    "        \n",
    "        # Smooth\n",
    "        if smooth:\n",
    "            # Smooth model\n",
    "            model_weekly_vacc = pd.DataFrame(np.concatenate([[0]*(window-1), model_weekly_vacc]))\n",
    "            model_weekly_vacc = model_weekly_vacc.rolling(window).mean()[0].values[window-1:]\n",
    "            # Smooth data\n",
    "            data_weekly_vacc = pd.DataFrame(np.concatenate([[0]*(window-1), data_weekly_vacc]))\n",
    "            data_weekly_vacc = data_weekly_vacc.rolling(window).mean()[0].values[window-1:]\n",
    "\n",
    "        # Calculate correlation\n",
    "        return np.corrcoef(data_weekly_vacc, model_weekly_vacc)[0, 1]"
   ]
  },
  {
   "cell_type": "code",
   "execution_count": null,
   "metadata": {},
   "outputs": [],
   "source": [
    "def calc_correlation_fit_flu(model_results, data_for_fit, prep_data, season, by_subdist=False, by_subdist_age=False, weighted=False, smooth=False, window=None):\n",
    "    # If aggregated correlation fit\n",
    "    if by_subdist_age:\n",
    "        # Initialize dict for weekly cases by subdist - all arrays of 0s\n",
    "        Is_by_subdist = {subdist: np.array([0] * 365) for subdist in prep_data['relevant_subdists_age']}\n",
    "\n",
    "        # Go over clinics and aggregate by subdists\n",
    "        for (clinic, age), data in model_results['Is_by_clinic_age'].items():\n",
    "            subdist = prep_data['clinics_stat_areas'].loc[clinic].subdist\n",
    "            Is_by_subdist[(subdist, age)] = Is_by_subdist[(subdist, age)] + data\n",
    "\n",
    "        # Get weekly cases for each subdist\n",
    "        model_weekly_cases_by_subdist = {}\n",
    "        for subdist, data in Is_by_subdist.items():\n",
    "            model_weekly_cases_by_subdist[subdist] = get_model_weekly_cases(data, season, short=False, by_subdist=True)\n",
    "\n",
    "        # Go over subdists and age groups and calculate correlation\n",
    "        corrs = {}\n",
    "        for subdist, age in prep_data['relevant_subdists_age']:\n",
    "            # Model weekly vaccination for current subdist and age\n",
    "            model_weekly_cases = model_weekly_cases_by_subdist[(subdist, age)].cases.values\n",
    "\n",
    "            # Data weekly vaccination for current subdsit and age\n",
    "            data_weekly_cases = data_for_fit['by_subdist'][(subdist, age)]\n",
    "\n",
    "            # Get only relevant season\n",
    "            data_weekly_cases = data_weekly_cases[data_weekly_cases.season == season].cases.values\n",
    "            \n",
    "            # Smooth\n",
    "            if smooth:\n",
    "                # Smooth model\n",
    "                model_weekly_cases = pd.DataFrame(np.concatenate([[0]*(window-1), model_weekly_vacc]))\n",
    "                model_weekly_cases = model_weekly_cases.rolling(window).mean()[0].values[window-1:]\n",
    "                # Smooth data\n",
    "                data_weekly_cases = pd.DataFrame(np.concatenate([[0]*(window-1), data_weekly_vacc]))\n",
    "                data_weekly_cases = data_weekly_cases.rolling(window).mean()[0].values[window-1:]\n",
    "\n",
    "            # Calculate correlation for current subdist\n",
    "            corrs[(subdist, age)] = np.corrcoef(data_weekly_cases, model_weekly_cases)[0, 1]\n",
    "\n",
    "        # If weighted - return weighted average of correlation fit\n",
    "        if weighted:\n",
    "            # Calculate population proportion by subdist and age\n",
    "            pop_prop_by_subdist = prep_data['population_by_clinic_age'].reset_index().groupby(['subdist', 'age']).sum().prop_network\n",
    "            return sum([pop_prop_by_subdist.loc[key]*corr for key, corr in corrs.items()])\n",
    "\n",
    "        else:  # not weighted\n",
    "            # Return average correlation\n",
    "            return sum(list(corrs.values())) / len(list(corrs.values()))\n",
    "\n",
    "    elif by_subdist:  # correlation fit by subdist\n",
    "        # Get model weekly cases by subdist\n",
    "        # Initialize dict for weekly cases by subdist - all arrays of 0s\n",
    "        Is_by_subdist = {subdist: np.array([0] * 365) for subdist in prep_data['relevant_subdists']}\n",
    "\n",
    "        # Go over clinics and aggregate by subdists\n",
    "        for (clinic, age), data in model_results['Is_by_clinic_age'].items():\n",
    "            subdist = prep_data['clinics_stat_areas'].loc[clinic].subdist\n",
    "            Is_by_subdist[subdist] = Is_by_subdist[subdist] + data\n",
    "\n",
    "        # Get weekly cases for each subdist\n",
    "        model_weekly_cases_by_subdist = {}\n",
    "        for subdist, data in Is_by_subdist.items():\n",
    "            model_weekly_cases_by_subdist[subdist] = get_model_weekly_cases(data, season, short=False, by_subdist=True)\n",
    "\n",
    "        # Go over subdists and age groups and calculate correlation\n",
    "        corrs = {}\n",
    "        for subdist, age in prep_data['relevant_subdists_age']:\n",
    "            # Model weekly vaccination for current subdist and age\n",
    "            model_weekly_cases = model_weekly_cases_by_subdist[subdist].cases.values\n",
    "\n",
    "            # Data weekly vaccination for current subdsit and age\n",
    "            data_weekly_cases = data_for_fit['by_subdist'][(subdist, 0)].copy()\n",
    "            data_weekly_cases.cases += data_for_fit['by_subdist'][(subdist, 1)].cases\n",
    "\n",
    "            # Get only relevant season\n",
    "            data_weekly_cases = data_weekly_cases[data_weekly_cases.season == season].cases.values\n",
    "            \n",
    "            # Smooth\n",
    "            if smooth:\n",
    "                # Smooth model\n",
    "                model_weekly_cases = pd.DataFrame(np.concatenate([[0]*(window-1), model_weekly_vacc]))\n",
    "                model_weekly_cases = model_weekly_cases.rolling(window).mean()[0].values[window-1:]\n",
    "                # Smooth data\n",
    "                data_weekly_cases = pd.DataFrame(np.concatenate([[0]*(window-1), data_weekly_vacc]))\n",
    "                data_weekly_cases = data_weekly_cases.rolling(window).mean()[0].values[window-1:]\n",
    "\n",
    "            # Calculate correlation for current subdist\n",
    "            corrs[subdist] = np.corrcoef(data_weekly_cases, model_weekly_cases)[0, 1]\n",
    "\n",
    "        # If weighted - return weighted average of correlation\n",
    "        if weighted:\n",
    "            # Calculate population proportion by subdist and age\n",
    "            pop_prop_by_subdist = prep_data['population_by_clinic_age'].reset_index().groupby(['subdist', 'age']).sum().prop_network\n",
    "            return sum([(pop_prop_by_subdist.loc[(subdist, 0)] + pop_prop_by_subdist.loc[(subdist, 1)]) * corr\n",
    "                       for subdist, corr in corrs.items()])\n",
    "\n",
    "        else:  # not weighted\n",
    "            # Return average correlation\n",
    "            return sum(list(corrs.values())) / len(list(corrs.values()))\n",
    "\n",
    "    # If aggregated correlation fit\n",
    "    else:\n",
    "        # Get model weekly cases\n",
    "        model_weekly_cases = get_model_weekly_cases(model_results, season).cases.values\n",
    "\n",
    "        # Get influenza data weekly cases\n",
    "        data_weekly_cases = data_for_fit['total'][data_for_fit['total'].season == season].cases.values\n",
    "        \n",
    "        # Smooth\n",
    "        if smooth:\n",
    "            # Smooth model\n",
    "            model_weekly_cases = pd.DataFrame(np.concatenate([[0]*(window-1), model_weekly_vacc]))\n",
    "            model_weekly_cases = model_weekly_cases.rolling(window).mean()[0].values[window-1:]\n",
    "            # Smooth data\n",
    "            data_weekly_cases = pd.DataFrame(np.concatenate([[0]*(window-1), data_weekly_vacc]))\n",
    "            data_weekly_cases = data_weekly_cases.rolling(window).mean()[0].values[window-1:]\n",
    "\n",
    "        # Calculate correlation\n",
    "        return np.corrcoef(data_weekly_cases, model_weekly_cases)[0, 1]"
   ]
  }
 ],
 "metadata": {
  "kernelspec": {
   "display_name": "Python 3",
   "language": "python",
   "name": "python3"
  },
  "language_info": {
   "codemirror_mode": {
    "name": "ipython",
    "version": 3
   },
   "file_extension": ".py",
   "mimetype": "text/x-python",
   "name": "python",
   "nbconvert_exporter": "python",
   "pygments_lexer": "ipython3",
   "version": "3.6.5"
  }
 },
 "nbformat": 4,
 "nbformat_minor": 2
}
