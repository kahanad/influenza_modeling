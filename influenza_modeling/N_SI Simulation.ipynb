{
 "cells": [
  {
   "cell_type": "markdown",
   "metadata": {},
   "source": [
    "# SI Simulation"
   ]
  },
  {
   "cell_type": "code",
   "execution_count": 2,
   "metadata": {},
   "outputs": [],
   "source": [
    "import pandas as pd\n",
    "import numpy as np\n",
    "import seaborn as sns\n",
    "from matplotlib import pyplot as plt\n",
    "import nafot\n",
    "from tqdm import tqdm, tqdm_notebook\n",
    "%matplotlib inline"
   ]
  },
  {
   "cell_type": "markdown",
   "metadata": {},
   "source": [
    "## Loading the data"
   ]
  },
  {
   "cell_type": "code",
   "execution_count": 2,
   "metadata": {},
   "outputs": [
    {
     "ename": "NameError",
     "evalue": "name 'pd' is not defined",
     "output_type": "error",
     "traceback": [
      "\u001b[1;31m---------------------------------------------------------------------------\u001b[0m",
      "\u001b[1;31mNameError\u001b[0m                                 Traceback (most recent call last)",
      "\u001b[1;32m<ipython-input-2-c8fe3046a4af>\u001b[0m in \u001b[0;36m<module>\u001b[1;34m()\u001b[0m\n\u001b[0;32m      1\u001b[0m \u001b[1;31m# Loading the contact matrices\u001b[0m\u001b[1;33m\u001b[0m\u001b[1;33m\u001b[0m\u001b[0m\n\u001b[1;32m----> 2\u001b[1;33m \u001b[0mcontact_matrix\u001b[0m \u001b[1;33m=\u001b[0m \u001b[0mpd\u001b[0m\u001b[1;33m.\u001b[0m\u001b[0mread_csv\u001b[0m\u001b[1;33m(\u001b[0m\u001b[1;34m'../data/matrix/contact_matrix_final_sample.csv'\u001b[0m\u001b[1;33m)\u001b[0m\u001b[1;33m\u001b[0m\u001b[0m\n\u001b[0m\u001b[0;32m      3\u001b[0m \u001b[0mcontact_matrix_yeshuv\u001b[0m \u001b[1;33m=\u001b[0m \u001b[0mpd\u001b[0m\u001b[1;33m.\u001b[0m\u001b[0mread_csv\u001b[0m\u001b[1;33m(\u001b[0m\u001b[1;34m'../data/matrix/contact_matrix_final_sample_yeshuv.csv'\u001b[0m\u001b[1;33m)\u001b[0m\u001b[1;33m\u001b[0m\u001b[0m\n\u001b[0;32m      4\u001b[0m \u001b[0mcontact_matrix_subdist\u001b[0m \u001b[1;33m=\u001b[0m \u001b[0mpd\u001b[0m\u001b[1;33m.\u001b[0m\u001b[0mread_csv\u001b[0m\u001b[1;33m(\u001b[0m\u001b[1;34m'../data/matrix/contact_matrix_final_sample_subdist.csv'\u001b[0m\u001b[1;33m)\u001b[0m\u001b[1;33m\u001b[0m\u001b[0m\n\u001b[0;32m      5\u001b[0m \u001b[1;33m\u001b[0m\u001b[0m\n",
      "\u001b[1;31mNameError\u001b[0m: name 'pd' is not defined"
     ]
    }
   ],
   "source": [
    "# Loading the contact matrices\n",
    "contact_matrix = pd.read_csv('../data/matrix/contact_matrix_final_sample.csv')\n",
    "contact_matrix_yeshuv = pd.read_csv('../data/matrix/contact_matrix_final_sample_yeshuv.csv')\n",
    "contact_matrix_subdist = pd.read_csv('../data/matrix/contact_matrix_final_sample_subdist.csv')\n",
    "\n",
    "# Setting index, dtype and replacing nan with 0\n",
    "# Stat area contact matrix\n",
    "contact_matrix.set_index(contact_matrix.columns[0], inplace=True)\n",
    "contact_matrix.columns = contact_matrix.columns.astype(int)\n",
    "contact_matrix.fillna(0, inplace=True)\n",
    "# Yeshuv contact matrix\n",
    "contact_matrix_yeshuv.set_index(contact_matrix_yeshuv.columns[0], inplace=True)\n",
    "contact_matrix_yeshuv.columns = contact_matrix_yeshuv.columns.astype(int)\n",
    "contact_matrix_yeshuv.fillna(0, inplace=True)\n",
    "# Subdist contact matrix\n",
    "contact_matrix_subdist.set_index(contact_matrix_subdist.columns[0], inplace=True)\n",
    "contact_matrix_subdist.columns = contact_matrix_subdist.columns.astype(float)\n",
    "contact_matrix_subdist.fillna(0, inplace=True)"
   ]
  },
  {
   "cell_type": "code",
   "execution_count": 4,
   "metadata": {},
   "outputs": [],
   "source": [
    "# Get a list of the relevant areas\n",
    "areas = contact_matrix.index\n",
    "\n",
    "# Get the population dictionary\n",
    "pop_dict = nafot.get_population_dict('stat_area')\n",
    "population = np.array([pop_dict[area] for area in areas])\n",
    "\n",
    "# Calculate population proportion\n",
    "total_pop = population.sum()\n",
    "pop_prop_dict = {area: pop_dict[area]/total_pop for area in areas}\n",
    "pop_prop = np.array([prop for prop in pop_prop_dict.values()])"
   ]
  },
  {
   "cell_type": "code",
   "execution_count": 5,
   "metadata": {},
   "outputs": [],
   "source": [
    "# Get a list of the relevant areas\n",
    "areas = contact_matrix_subdist.index.astype('int32')\n",
    "\n",
    "# Get the population dictionary\n",
    "pop_dict = nafot.get_population_dict('subdistrict')\n",
    "population = np.array([pop_dict[area] for area in areas])\n",
    "\n",
    "# Calculate population proportion\n",
    "total_pop = population.sum()\n",
    "pop_prop_dict = {area: pop_dict[area]/total_pop for area in areas}\n",
    "pop_prop = np.array([prop for prop in pop_prop_dict.values()])"
   ]
  },
  {
   "cell_type": "markdown",
   "metadata": {},
   "source": [
    "## SI Model\n",
    "**Initialization:**\n",
    "* $S_k(t=0)= popprop(k)$\n",
    "* $I_k(t=0) \\sim U \\quad ∀k \\quad s.t: \\sum_k{I_k(t=0)}∈[10^{-4},10^{-3}]$\n",
    "\n",
    "**Recursive equations:** \n",
    "* $S_k(t)=S_k(t-1)-\\sum_j[c_{jk} \\cdot \\beta \\cdot I_j(t-1)]\\cdot S_k(t-1)+\\gamma \\cdot I_k(t-1)$\n",
    "* $I_k(t)=I_k (t-1)+\\sum_j[c_{jk}\\cdot \\beta \\cdot I_j (t-1)]\\cdot S_k (t-1)-\\gamma \\cdot I_k(t-1)$\n",
    "\n",
    "**At each step:**\n",
    "* $\\sum_k S_k  (t)+I_k (t)=1 \\quad ∀t$\n",
    "* $S_k (t)+I_k (t)=popprop(k)$"
   ]
  },
  {
   "cell_type": "markdown",
   "metadata": {},
   "source": [
    "### Parameters"
   ]
  },
  {
   "cell_type": "code",
   "execution_count": 137,
   "metadata": {},
   "outputs": [],
   "source": [
    "np.random.seed(1)\n",
    "\n",
    "# Parameters\n",
    "gamma = 1/5\n",
    "beta =  1.1*gamma"
   ]
  },
  {
   "cell_type": "code",
   "execution_count": 148,
   "metadata": {},
   "outputs": [
    {
     "data": {
      "text/plain": [
       "0.8264462809917354"
      ]
     },
     "execution_count": 148,
     "metadata": {},
     "output_type": "execute_result"
    }
   ],
   "source": [
    "(1/(beta/gamma))/(beta/gamma)"
   ]
  },
  {
   "cell_type": "markdown",
   "metadata": {},
   "source": [
    "### Initialization"
   ]
  },
  {
   "cell_type": "code",
   "execution_count": 139,
   "metadata": {},
   "outputs": [],
   "source": [
    "np.random.seed(1)\n",
    "\n",
    "# Sampling the number of infected individuals\n",
    "I0_total = int(np.random.uniform(10**-4, 10**-3)*total_pop)\n",
    "# I0_total = int(np.random.uniform(10**-2,10**-1)*total_pop)\n",
    "\n",
    "# Number of infected individuals in each area (uniformly by area population)\n",
    "infected_0 = np.random.choice(areas, size=I0_total, replace=True, p=pop_prop) \n",
    "areas_infected_count = (np.bincount(infected_0))\n",
    "infected_areas = np.nonzero(areas_infected_count)[0]\n",
    "I0_absolute = np.array([areas_infected_count[area] if area in infected_areas else 0 for area in areas])\n",
    "\n",
    "# Converting to porportions\n",
    "I0 = I0_absolute/total_pop\n",
    "# S0 = population - I0_absolute\n",
    "S0 = pop_prop - I0"
   ]
  },
  {
   "cell_type": "code",
   "execution_count": 140,
   "metadata": {},
   "outputs": [],
   "source": [
    "contact_matrix_subdist1 = contact_matrix_subdist.copy()*0 +1"
   ]
  },
  {
   "cell_type": "code",
   "execution_count": 149,
   "metadata": {},
   "outputs": [],
   "source": [
    "S = S0.reshape((1,S0.size)).copy()\n",
    "I = I0.reshape((1,I0.size)).copy()\n",
    "new_infected_all = I0.reshape((1,I0.size)).copy() \n",
    "\n",
    "t=0\n",
    "while t<1000:\n",
    "    # Calculate S_t, I_t\n",
    "    new_infected = (np.sum((contact_matrix_subdist.values*beta*I[-1]), axis=0)*S[-1])\n",
    "    S_t  = S[-1] - new_infected + gamma*I[-1]\n",
    "    I_t = I[-1] + new_infected - gamma*I[-1]\n",
    "    \n",
    "    s = S_t + I_t\n",
    "#     if (s==0).any():\n",
    "#         print (s, t)\n",
    "#     print (s)\n",
    "#     S_t = S_t/s\n",
    "#     I_t = I_t/s\n",
    "    # Save S_t, I_t, and new_infected\n",
    "    S = np.vstack([S, S_t])\n",
    "    I = np.vstack([I, I_t])\n",
    "    new_infected_all = np.vstack([new_infected_all,new_infected])\n",
    "    \n",
    "    t+=1"
   ]
  },
  {
   "cell_type": "code",
   "execution_count": 142,
   "metadata": {},
   "outputs": [
    {
     "data": {
      "text/plain": [
       "1000.9999999999998"
      ]
     },
     "execution_count": 142,
     "metadata": {},
     "output_type": "execute_result"
    }
   ],
   "source": [
    "(S + I).sum()"
   ]
  },
  {
   "cell_type": "code",
   "execution_count": 150,
   "metadata": {},
   "outputs": [
    {
     "data": {
      "image/png": "[encoded data removed]",
      "text/plain": [
       "<matplotlib.figure.Figure at 0x163c598cb00>"
      ]
     },
     "metadata": {},
     "output_type": "display_data"
    }
   ],
   "source": [
    "plt.plot(np.arange(t+1), S.sum(1), 'b');\n",
    "plt.plot(np.arange(t+1), I.sum(1), 'r');"
   ]
  },
  {
   "cell_type": "code",
   "execution_count": 144,
   "metadata": {},
   "outputs": [
    {
     "data": {
      "image/png": "[encoded data removed]",
      "text/plain": [
       "<matplotlib.figure.Figure at 0x163c8534c88>"
      ]
     },
     "metadata": {},
     "output_type": "display_data"
    }
   ],
   "source": [
    "plt.plot(np.arange(t+1), S, 'b');\n",
    "plt.plot(np.arange(t+1), I, 'r');"
   ]
  }
 ],
 "metadata": {
  "kernelspec": {
   "display_name": "python 3",
   "language": "python",
   "name": "python3"
  },
  "language_info": {
   "codemirror_mode": {
    "name": "ipython",
    "version": 3
   },
   "file_extension": ".py",
   "mimetype": "text/x-python",
   "name": "python",
   "nbconvert_exporter": "python",
   "pygments_lexer": "ipython3",
   "version": "3.6.4"
  },
  "toc": {
   "nav_menu": {},
   "number_sections": true,
   "sideBar": true,
   "skip_h1_title": false,
   "toc_cell": false,
   "toc_position": {},
   "toc_section_display": "block",
   "toc_window_display": false
  },
  "varInspector": {
   "cols": {
    "lenName": 16,
    "lenType": 16,
    "lenVar": 40
   },
   "kernels_config": {
    "python": {
     "delete_cmd_postfix": "",
     "delete_cmd_prefix": "del ",
     "library": "var_list.py",
     "varRefreshCmd": "print(var_dic_list())"
    },
    "r": {
     "delete_cmd_postfix": ") ",
     "delete_cmd_prefix": "rm(",
     "library": "var_list.r",
     "varRefreshCmd": "cat(var_dic_list()) "
    }
   },
   "types_to_exclude": [
    "module",
    "function",
    "builtin_function_or_method",
    "instance",
    "_Feature"
   ],
   "window_display": false
  }
 },
 "nbformat": 4,
 "nbformat_minor": 2
}
