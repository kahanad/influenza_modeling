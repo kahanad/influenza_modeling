{
 "cells": [
  {
   "cell_type": "code",
   "execution_count": 1,
   "metadata": {},
   "outputs": [],
   "source": [
    "import pandas as pd\n",
    "from impala.dbapi import connect\n",
    "from impala.util import as_pandas\n",
    "from tqdm import tqdm_notebook"
   ]
  },
  {
   "cell_type": "markdown",
   "metadata": {},
   "source": [
    "### Connecting to Impala"
   ]
  },
  {
   "cell_type": "code",
   "execution_count": 12,
   "metadata": {},
   "outputs": [],
   "source": [
    "# Establishing connection\n",
    "\n",
    "# conn = connect(port = 2324, database = 'cdr')\n",
    "conn = connect(host = 'bdl3.eng.tau.ac.il', database = 'cdr')\n",
    "\n",
    "# Creating cursor\n",
    "cur = conn.cursor()"
   ]
  },
  {
   "cell_type": "code",
   "execution_count": 14,
   "metadata": {},
   "outputs": [
    {
     "data": {
      "application/vnd.jupyter.widget-view+json": {
       "model_id": "93c16980870448949722c463eaa47095",
       "version_major": 2,
       "version_minor": 0
      },
      "text/plain": [
       "A Jupyter Widget"
      ]
     },
     "metadata": {},
     "output_type": "display_data"
    },
    {
     "name": "stdout",
     "output_type": "stream",
     "text": [
      "\n"
     ]
    }
   ],
   "source": [
    "for t in tqdm_notebook(range(10,20)):\n",
    "    # Getting a sample of unchecked imsi\n",
    "    # Getting the imsi list\n",
    "    imsi_list = pd.read_csv('../data/imsi_filtered.csv')\n",
    "\n",
    "    # Getting the checked imsi list\n",
    "    checked_imsi = pd.read_csv('../data/checked_imsi.csv')\n",
    "\n",
    "    # The list of unchecked imsi\n",
    "    unchecked_imsi = imsi_list[~imsi_list.imsi.isin(checked_imsi.imsi.unique())]\n",
    "\n",
    "    # Getting a sample of unchecked imsi\n",
    "    sample_imsi = unchecked_imsi.sample(9999).imsi.values\n",
    "\n",
    "    # Creating a string of the imsi sapmle for the query\n",
    "    sample_str = str(tuple(sample_imsi))\n",
    "    \n",
    "    # Creating the query\n",
    "    query = 'SELECT imsi, date_stamp, time_stamp, halfhouridx, latitude, longtitude FROM traces WHERE imsi in ' + sample_str\n",
    "    \n",
    "    # Executing the query\n",
    "    cur.execute(query)\n",
    "    data = as_pandas(cur)\n",
    "    \n",
    "    # Save the data\n",
    "    data.to_csv(f'../data/samples/sample_{t}.csv', index=False)\n",
    "    \n",
    "    # Update the checked imsi list\n",
    "    checked_imsi = pd.concat([checked_imsi, imsi_list[imsi_list.imsi.isin(sample_imsi)]])\n",
    "    checked_imsi.to_csv('../data/checked_imsi.csv', index=False)"
   ]
  },
  {
   "cell_type": "code",
   "execution_count": 2,
   "metadata": {},
   "outputs": [],
   "source": [
    "checked_imsi = pd.read_csv('../data/checked_imsi.csv')"
   ]
  },
  {
   "cell_type": "code",
   "execution_count": 4,
   "metadata": {},
   "outputs": [
    {
     "name": "stdout",
     "output_type": "stream",
     "text": [
      "211,443\n",
      "3,184,043,431\n"
     ]
    }
   ],
   "source": [
    "print(f'{checked_imsi.shape[0]:,d}')\n",
    "print(f'{checked_imsi.total_records.sum():,d}')"
   ]
  }
 ],
 "metadata": {
  "kernelspec": {
   "display_name": "python 3",
   "language": "python",
   "name": "python3"
  },
  "language_info": {
   "codemirror_mode": {
    "name": "ipython",
    "version": 3
   },
   "file_extension": ".py",
   "mimetype": "text/x-python",
   "name": "python",
   "nbconvert_exporter": "python",
   "pygments_lexer": "ipython3",
   "version": "3.6.5"
  }
 },
 "nbformat": 4,
 "nbformat_minor": 2
}
