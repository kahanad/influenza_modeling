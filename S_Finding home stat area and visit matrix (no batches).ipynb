{
 "cells": [
  {
   "cell_type": "markdown",
   "metadata": {},
   "source": [
    "# Finding home area and calculating visit matrix"
   ]
  },
  {
   "cell_type": "code",
   "execution_count": 1,
   "metadata": {
    "ExecuteTime": {
     "end_time": "2018-01-08T14:54:15.543996Z",
     "start_time": "2018-01-08T14:54:15.537003Z"
    }
   },
   "outputs": [],
   "source": [
    "import pandas as pd\n",
    "import numpy as np\n",
    "import nafot\n",
    "import os\n",
    "from tqdm import tqdm_notebook\n",
    "import multiprocessing as mp\n",
    "import time\n",
    "import datetime\n",
    "import pickle\n",
    "%matplotlib inline"
   ]
  },
  {
   "cell_type": "markdown",
   "metadata": {},
   "source": [
    "Get the sample files list"
   ]
  },
  {
   "cell_type": "code",
   "execution_count": 2,
   "metadata": {},
   "outputs": [],
   "source": [
    "# Get the file names\n",
    "sample_files_names = os.listdir('../../data/new_samples/with_stat_area')    "
   ]
  },
  {
   "cell_type": "markdown",
   "metadata": {},
   "source": [
    "### Calculate only visit matrix - all"
   ]
  },
  {
   "cell_type": "code",
   "execution_count": 3,
   "metadata": {},
   "outputs": [
    {
     "data": {
      "application/vnd.jupyter.widget-view+json": {
       "model_id": "7a6e7ff89a1e437c9b622a6769b79565",
       "version_major": 2,
       "version_minor": 0
      },
      "text/plain": [
       "A Jupyter Widget"
      ]
     },
     "metadata": {},
     "output_type": "display_data"
    },
    {
     "name": "stdout",
     "output_type": "stream",
     "text": [
      "\n"
     ]
    }
   ],
   "source": [
    "# Load home and age data\n",
    "home_data = pd.read_csv('../../Data/new_samples/home_area/home_area_data_all_with_age.csv')\n",
    "home_data['home_stat_area'] = home_data['home_stat_area'].apply(lambda x: float(x) if x!= 'NotDetermined' else x)\n",
    "\n",
    "for file_name in tqdm_notebook(sample_files_names):\n",
    "    # Load the data\n",
    "    loc_data = pd.read_csv(f'../../data/new_samples/with_stat_area/{file_name}')\n",
    "    # Remove records without stat area\n",
    "    loc_data.dropna(inplace=True)\n",
    "    \n",
    "    # Get home data only for the relevant users\n",
    "    cur_home_data = home_data[home_data.imsi.isin(set(loc_data.imsi))]\n",
    "\n",
    "    # Calculate the visit raw matrix\n",
    "    visit_matrix_raw = nafot.calculate_visit_matrix_with_age(loc_data, cur_home_data)\n",
    "#     visit_matrix_raw = nafot.calculate_visit_matrix(loc_data, cur_home_data)\n",
    " \n",
    "    # Save\n",
    "    np.save(f'../../data/new_samples/matrix_raw/with_age_group/{file_name[:-4]}_matrix_raw.npy', visit_matrix_raw)"
   ]
  },
  {
   "cell_type": "markdown",
   "metadata": {},
   "source": [
    "Merge visit matrices - all"
   ]
  },
  {
   "cell_type": "code",
   "execution_count": 5,
   "metadata": {},
   "outputs": [],
   "source": [
    "# Visit matrices the file names\n",
    "matrix_files_names = os.listdir('../../data/new_samples/matrix_raw/with_age_group')\n",
    "\n",
    "# Initialize matrices\n",
    "matrix_raw_all = np.zeros((3070*2, 3070))\n",
    "\n",
    "# Go over and sum\n",
    "for file_name in matrix_files_names:\n",
    "    cur_mat = np.load(f'../../data/new_samples/matrix_raw/with_age_group/{file_name}')\n",
    "    matrix_raw_all += cur_mat\n",
    "\n",
    "    \n",
    "# Save merged matrices\n",
    "np.save(f'../../data/new_samples/matrix_raw/with_age_group/visit_matrix_raw_all_with_age_group.npy', matrix_raw_all)"
   ]
  },
  {
   "cell_type": "markdown",
   "metadata": {},
   "source": [
    "Adjust total matrix"
   ]
  },
  {
   "cell_type": "code",
   "execution_count": 16,
   "metadata": {},
   "outputs": [],
   "source": [
    "matrix_raw_all_adjusted = nafot.adjust_visit_matrix_with_age(matrix_raw_all)\n",
    "np.save(f'../../data/new_samples/matrix_raw/with_age_group/visit_matrix_raw_adjusted_with_age_group.npy', matrix_raw_all_adjusted)"
   ]
  },
  {
   "cell_type": "code",
   "execution_count": null,
   "metadata": {},
   "outputs": [],
   "source": []
  },
  {
   "cell_type": "markdown",
   "metadata": {},
   "source": [
    "# OLD"
   ]
  },
  {
   "cell_type": "code",
   "execution_count": 5,
   "metadata": {},
   "outputs": [],
   "source": [
    "def get_home_data_and_visit_matrix(loc_data):\n",
    "    home_data = nafot.get_home_stat_area(loc_data, False)\n",
    "    visit_matrix_raw = nafot.calculate_visit_matrix(loc_data, home_data)\n",
    "    \n",
    "    return home_data, visit_matrix_raw"
   ]
  },
  {
   "cell_type": "code",
   "execution_count": 2,
   "metadata": {},
   "outputs": [],
   "source": [
    "home_data = pd.read_csv('../../Data/new_samples/home_area/home_area_data_all_with_age.csv')\n",
    "home_data['home_stat_area'] = home_data['home_stat_area'].apply(lambda x: float(x) if x!= 'NotDetermined' else x)"
   ]
  },
  {
   "cell_type": "code",
   "execution_count": 3,
   "metadata": {},
   "outputs": [],
   "source": [
    "loc_da = pd.read_csv('../../Data/new_samples/with_stat_area/sample_00with_stat.csv')\n",
    "loc_da.dropna(inplace=True)"
   ]
  },
  {
   "cell_type": "code",
   "execution_count": 6,
   "metadata": {},
   "outputs": [],
   "source": [
    "cur_home_data = home_data[home_data.imsi.isin(set(loc_da.imsi))]"
   ]
  },
  {
   "cell_type": "code",
   "execution_count": 4,
   "metadata": {},
   "outputs": [],
   "source": [
    "sm = loc_da.sample(1000).copy()\n",
    "cur_home_data_sm = home_data[home_data.imsi.isin(set(sm.imsi))]"
   ]
  },
  {
   "cell_type": "code",
   "execution_count": 5,
   "metadata": {},
   "outputs": [],
   "source": [
    "aaa = nafot.calculate_visit_matrix_with_age(sm, cur_home_data_sm)"
   ]
  },
  {
   "cell_type": "code",
   "execution_count": 6,
   "metadata": {},
   "outputs": [
    {
     "data": {
      "text/plain": [
       "(6140, 3070)"
      ]
     },
     "execution_count": 6,
     "metadata": {},
     "output_type": "execute_result"
    }
   ],
   "source": [
    "aaa.shape"
   ]
  },
  {
   "cell_type": "code",
   "execution_count": 7,
   "metadata": {},
   "outputs": [],
   "source": [
    "bbb = nafot.adjust_visit_matrix_with_age(aaa)"
   ]
  },
  {
   "cell_type": "code",
   "execution_count": 10,
   "metadata": {},
   "outputs": [
    {
     "data": {
      "text/plain": [
       "774.0"
      ]
     },
     "execution_count": 10,
     "metadata": {},
     "output_type": "execute_result"
    }
   ],
   "source": [
    "bbb.sum()"
   ]
  },
  {
   "cell_type": "markdown",
   "metadata": {},
   "source": [
    "### Calculate only visit matrix - children and adult"
   ]
  },
  {
   "cell_type": "code",
   "execution_count": null,
   "metadata": {},
   "outputs": [
    {
     "data": {
      "application/vnd.jupyter.widget-view+json": {
       "model_id": "507b8f42dc9a4b888b30ade9425f7f29",
       "version_major": 2,
       "version_minor": 0
      },
      "text/plain": [
       "A Jupyter Widget"
      ]
     },
     "metadata": {},
     "output_type": "display_data"
    }
   ],
   "source": [
    "# Load home and age data\n",
    "home_data = pd.read_csv('../../Data/new_samples/home_area/home_area_data_all_with_age.csv')\n",
    "home_data['home_stat_area'] = home_data['home_stat_area'].apply(lambda x: float(x) if x != 'NotDetermined' else x)\n",
    "\n",
    "with open('../../data/new_samples/children_imsi/children_imsi.pickle', 'rb') as pickle_in:\n",
    "    children_imsi = pickle.load(pickle_in)\n",
    "\n",
    "for file_name in tqdm_notebook(sample_files_names):\n",
    "    # Load the data\n",
    "    loc_data = pd.read_csv(f'../../data/new_samples/with_stat_area/{file_name}')\n",
    "    # Remove records without stat area\n",
    "    loc_data.dropna(inplace=True)\n",
    "    \n",
    "    # Divide by age group\n",
    "    loc_data_children = loc_data[loc_data.imsi.isin(children_imsi)].copy()\n",
    "    loc_data_adults = loc_data[~loc_data.imsi.isin(children_imsi)].copy()\n",
    "    \n",
    "    # Get home data only for the relevant users\n",
    "    home_data_children = home_data[home_data.imsi.isin(set(loc_data_children.imsi))]\n",
    "    home_data_adult = home_data[home_data.imsi.isin(set(loc_data_adults.imsi))]\n",
    "\n",
    "    # Calculate the visit raw matrix\n",
    "    visit_matrix_raw_children = nafot.calculate_visit_matrix(loc_data_children, home_data_children)\n",
    "    visit_matrix_raw_adult = nafot.calculate_visit_matrix(loc_data_adults, home_data_adult)\n",
    "    \n",
    "    # Save\n",
    "    np.save(f'../../data/new_samples/matrix_raw/children/{file_name[:-4]}_matrix_raw_childern.npy', visit_matrix_raw_children)\n",
    "    np.save(f'../../data/new_samples/matrix_raw/adult/{file_name[:-4]}_matrix_raw_adult.npy', visit_matrix_raw_adult)"
   ]
  },
  {
   "cell_type": "markdown",
   "metadata": {},
   "source": [
    "Merge visit matrices - children and adult"
   ]
  },
  {
   "cell_type": "code",
   "execution_count": 5,
   "metadata": {},
   "outputs": [],
   "source": [
    "# Visit matrices the file names\n",
    "children_files_names = os.listdir('../../data/new_samples/matrix_raw/children')\n",
    "adult_files_names = os.listdir('../../data/new_samples/matrix_raw/adult')\n",
    "\n",
    "# Initialize matrices\n",
    "children_matrix_raw = np.zeros((3070,3070))\n",
    "adult_matrix_raw = np.zeros((3070,3070))\n",
    "\n",
    "# Go over and sum\n",
    "for children_file_name in children_files_names:\n",
    "    cur_mat_children = np.load(f'../../data/new_samples/matrix_raw/children/{children_file_name}')\n",
    "    children_matrix_raw +=cur_mat_children\n",
    "    \n",
    "for adult_file_name in children_files_names:\n",
    "    cur_mat_adult = np.load(f'../../data/new_samples/matrix_raw/adult/{adult_file_name}')\n",
    "    adult_matrix_raw +=cur_mat_adult\n",
    "    \n",
    "# Save merged matrices\n",
    "# np.save(f'../../data/new_samples/matrix_raw/children/visit_matrix_raw_children.npy', children_matrix_raw)\n",
    "# np.save(f'../../data/new_samples/matrix_raw/adult/visit_matrix_raw_adult.npy', adult_matrix_raw)"
   ]
  },
  {
   "cell_type": "markdown",
   "metadata": {},
   "source": [
    "### Update home area and visit matrix"
   ]
  },
  {
   "cell_type": "code",
   "execution_count": 3,
   "metadata": {},
   "outputs": [
    {
     "data": {
      "application/vnd.jupyter.widget-view+json": {
       "model_id": "040fd314a28145a1aa6282396b2dc9c9",
       "version_major": 2,
       "version_minor": 0
      },
      "text/plain": [
       "A Jupyter Widget"
      ]
     },
     "metadata": {},
     "output_type": "display_data"
    },
    {
     "name": "stdout",
     "output_type": "stream",
     "text": [
      "\n"
     ]
    }
   ],
   "source": [
    "for file_name in tqdm_notebook(sample_files_names):\n",
    "    # Load the data\n",
    "    loc_data = pd.read_csv(f'../data/samples/new samples/with stat area/{file_name}')\n",
    "    # Remove records without stat area\n",
    "    loc_data.dropna(inplace=True)\n",
    "    \n",
    "    # Get the home area data and the visits raw matrix\n",
    "    home_data, visit_matrix_raw = get_home_data_and_visit_matrix(loc_data)\n",
    "    \n",
    "    # Save\n",
    "    home_data.to_csv(f'../data/samples/new samples/home area/{file_name[:-4]} home_area.csv', index=False)\n",
    "    np.save(f'../data/samples/new samples/matrix raw/{file_name[:-4]} matrix_raw.npy', visit_matrix_raw)"
   ]
  },
  {
   "cell_type": "code",
   "execution_count": null,
   "metadata": {},
   "outputs": [],
   "source": []
  }
 ],
 "metadata": {
  "kernelspec": {
   "display_name": "Python 3",
   "language": "python",
   "name": "python3"
  },
  "language_info": {
   "codemirror_mode": {
    "name": "ipython",
    "version": 3
   },
   "file_extension": ".py",
   "mimetype": "text/x-python",
   "name": "python",
   "nbconvert_exporter": "python",
   "pygments_lexer": "ipython3",
   "version": "3.6.3"
  },
  "toc": {
   "nav_menu": {},
   "number_sections": true,
   "sideBar": true,
   "skip_h1_title": false,
   "toc_cell": false,
   "toc_position": {},
   "toc_section_display": "block",
   "toc_window_display": false
  },
  "varInspector": {
   "cols": {
    "lenName": 16,
    "lenType": 16,
    "lenVar": 40
   },
   "kernels_config": {
    "python": {
     "delete_cmd_postfix": "",
     "delete_cmd_prefix": "del ",
     "library": "var_list.py",
     "varRefreshCmd": "print(var_dic_list())"
    },
    "r": {
     "delete_cmd_postfix": ") ",
     "delete_cmd_prefix": "rm(",
     "library": "var_list.r",
     "varRefreshCmd": "cat(var_dic_list()) "
    }
   },
   "types_to_exclude": [
    "module",
    "function",
    "builtin_function_or_method",
    "instance",
    "_Feature"
   ],
   "window_display": false
  }
 },
 "nbformat": 4,
 "nbformat_minor": 2
}